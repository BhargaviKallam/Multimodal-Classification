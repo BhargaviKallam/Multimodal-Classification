{
  "cells": [
    {
      "cell_type": "code",
      "execution_count": null,
      "metadata": {
        "colab": {
          "base_uri": "https://localhost:8080/"
        },
        "id": "gc_OWgIV2IzK",
        "outputId": "b9a772dc-7d62-46b1-8444-dc295b669ccc"
      },
      "outputs": [
        {
          "output_type": "stream",
          "name": "stdout",
          "text": [
            "/content\n"
          ]
        }
      ],
      "source": [
        "import pandas as pd\n",
        "import numpy as np\n",
        "\n",
        "import pickle\n",
        "\n",
        "import os\n",
        "working_directory = os.getcwd()\n",
        "print(working_directory)\n",
        "\n",
        "\n",
        "import warnings\n",
        "warnings.filterwarnings('ignore')"
      ],
      "id": "gc_OWgIV2IzK"
    },
    {
      "cell_type": "code",
      "execution_count": null,
      "metadata": {
        "colab": {
          "base_uri": "https://localhost:8080/"
        },
        "id": "XvX0HHoGtlnG",
        "outputId": "f9c18206-5374-4211-9fd6-2c9085ca8a50"
      },
      "outputs": [
        {
          "output_type": "stream",
          "name": "stdout",
          "text": [
            "Mounted at /content/drive\n"
          ]
        }
      ],
      "source": [
        "from google.colab import drive\n",
        "\n",
        "drive.mount('/content/drive')"
      ],
      "id": "XvX0HHoGtlnG"
    },
    {
      "cell_type": "code",
      "execution_count": null,
      "metadata": {
        "id": "VTcoHeg0uHU0"
      },
      "outputs": [],
      "source": [
        "working_directory = '/content/drive/My Drive/project'"
      ],
      "id": "VTcoHeg0uHU0"
    },
    {
      "cell_type": "code",
      "execution_count": null,
      "metadata": {
        "id": "2zFvkkfHtnel"
      },
      "outputs": [],
      "source": [
        "path_train = working_directory + '/all_samples /all_train.tsv'\n",
        "path_test = working_directory + '/all_samples /all_test_public.tsv'\n",
        "path_validation = working_directory + '/all_samples /all_validate.tsv'\n",
        "\n",
        "\n",
        "df_train = pd.read_csv(path_train,sep='\\t',nrows=128186)\n",
        "df_test = pd.read_csv(path_test,sep='\\t',nrows=4840)\n",
        "df_validation = pd.read_csv(path_validation,sep='\\t',nrows=4840)"
      ],
      "id": "2zFvkkfHtnel"
    },
    {
      "cell_type": "code",
      "execution_count": null,
      "metadata": {
        "id": "O5jiWaNCBTOB"
      },
      "outputs": [],
      "source": [
        "# Plotting the distribution of target variable\n",
        "import seaborn as sns\n",
        "\n",
        "import matplotlib.pyplot as plt\n",
        "\n",
        "sns.set(style=\"darkgrid\")\n",
        "\n",
        "def plot(data):\n",
        "  fake = data['2_way_label'].value_counts()[1]\n",
        "  true = data['2_way_label'].value_counts()[0]\n",
        "  fake_per = fake / data.shape[0] * 100\n",
        "  true_per = true / data.shape[0] * 100\n",
        "\n",
        "  print('{} of {} No of fake  news records and it is the {:.2f}% of the training set.'.format(fake, data.shape[0], fake_per))\n",
        "  print('{} of {}  No of true news records and it is the {:.2f}% of the training set.'.format(true, data.shape[0], true_per))\n",
        "\n",
        "  plt.figure(figsize=(10, 5))\n",
        "  sns.countplot(data['2_way_label'])\n",
        "\n",
        "\n",
        "  plt.xlabel('2_way_label', size=15, labelpad=15)\n",
        "  plt.ylabel('Count', size=15, labelpad=15)\n",
        "  plt.xticks((0, 1), ['true records({0:.2f}%)'.format(true_per), 'fake records ({0:.2f}%)'.format(fake_per)])\n",
        "\n",
        "  plt.title('Target Distribution', size=15, y=1.05)\n",
        "\n",
        "  plt.show()"
      ],
      "id": "O5jiWaNCBTOB"
    },
    {
      "cell_type": "code",
      "execution_count": null,
      "metadata": {
        "id": "fOq06IR1vNKI"
      },
      "outputs": [],
      "source": [
        "# only considering the title of post. So, removing useless features\n",
        "\n",
        "def clean_text(data):\n",
        "    # As clean_title is a version of title, replacing the clean_title's missing values with corresponding values in the title feature.\n",
        "    \n",
        "    data['clean_title'] = data['title'].where(data['clean_title'].isna(), data['clean_title'])\n",
        "\n",
        "    \n",
        "    #drop unnecessary features\n",
        "\n",
        "    data = data.drop(data[data.num_comments > 50].index)\n",
        "    \n",
        "    clean_data = data[['clean_title','2_way_label']]\n",
        "\n",
        "    clean_data = clean_data.dropna()\n",
        "\n",
        "    #visualize the target class distribution\n",
        "    \n",
        "    plot(clean_data)\n",
        "\n",
        "    return clean_data\n",
        "\n",
        "\n",
        "def xydata(data):\n",
        "\n",
        "  data = clean_text(data)\n",
        "\n",
        "  X = data['clean_title']\n",
        "  y = data['2_way_label']\n",
        "\n",
        "  return X,y"
      ],
      "id": "fOq06IR1vNKI"
    },
    {
      "cell_type": "code",
      "execution_count": null,
      "metadata": {
        "colab": {
          "base_uri": "https://localhost:8080/",
          "height": 487
        },
        "id": "nzU2i901yb1U",
        "outputId": "db822637-47ea-4fbe-a451-9e356c6c910c"
      },
      "outputs": [
        {
          "output_type": "stream",
          "name": "stdout",
          "text": [
            "55796 of 113651 No of fake  news records and it is the 49.09% of the training set.\n",
            "57855 of 113651  No of true news records and it is the 50.91% of the training set.\n"
          ]
        },
        {
          "output_type": "display_data",
          "data": {
            "text/plain": [
              "<Figure size 720x360 with 1 Axes>"
            ],
            "image/png": "[encoded data removed]"
          },
          "metadata": {}
        },
        {
          "output_type": "stream",
          "name": "stdout",
          "text": [
            "\n",
            " Shape of train text data (113651,)\n",
            "\n",
            " Shape of train labels (113651,)\n"
          ]
        }
      ],
      "source": [
        "X_train,y_train = xydata(df_train)\n",
        "\n",
        "print(\"\\n Shape of train text data\", X_train.shape)\n",
        "print(\"\\n Shape of train labels\", y_train.shape)\n"
      ],
      "id": "nzU2i901yb1U"
    },
    {
      "cell_type": "code",
      "execution_count": null,
      "metadata": {
        "colab": {
          "base_uri": "https://localhost:8080/",
          "height": 487
        },
        "id": "gey-woD9Fc1t",
        "outputId": "baa40167-404a-43ce-ba1c-a69afc45f495"
      },
      "outputs": [
        {
          "output_type": "stream",
          "name": "stdout",
          "text": [
            "2132 of 4299 No of fake  news records and it is the 49.59% of the training set.\n",
            "2167 of 4299  No of true news records and it is the 50.41% of the training set.\n"
          ]
        },
        {
          "output_type": "display_data",
          "data": {
            "text/plain": [
              "<Figure size 720x360 with 1 Axes>"
            ],
            "image/png": "[encoded data removed]"
          },
          "metadata": {}
        },
        {
          "output_type": "stream",
          "name": "stdout",
          "text": [
            "\n",
            " Shape of validation text data (4299,)\n",
            "\n",
            " Shape of validation labels (4299,)\n"
          ]
        }
      ],
      "source": [
        "X_validation,y_validation = xydata(df_validation)\n",
        "\n",
        "print(\"\\n Shape of validation text data\", X_validation.shape)\n",
        "print(\"\\n Shape of validation labels\", y_validation.shape)\n"
      ],
      "id": "gey-woD9Fc1t"
    },
    {
      "cell_type": "code",
      "execution_count": null,
      "metadata": {
        "colab": {
          "base_uri": "https://localhost:8080/",
          "height": 487
        },
        "id": "8q0LVzi8F5xp",
        "outputId": "de8e3b99-6eb2-499e-ad36-81a1d8201c18"
      },
      "outputs": [
        {
          "output_type": "stream",
          "name": "stdout",
          "text": [
            "2107 of 4296 No of fake  news records and it is the 49.05% of the training set.\n",
            "2189 of 4296  No of true news records and it is the 50.95% of the training set.\n"
          ]
        },
        {
          "output_type": "display_data",
          "data": {
            "text/plain": [
              "<Figure size 720x360 with 1 Axes>"
            ],
            "image/png": "[encoded data removed]"
          },
          "metadata": {}
        },
        {
          "output_type": "stream",
          "name": "stdout",
          "text": [
            "\n",
            " Shape of test text data (4296,)\n",
            "\n",
            " Shape of test labels (4296,)\n"
          ]
        }
      ],
      "source": [
        "X_test,y_test = xydata(df_test)\n",
        "\n",
        "print(\"\\n Shape of test text data\", X_test.shape)\n",
        "print(\"\\n Shape of test labels\", y_test.shape)"
      ],
      "id": "8q0LVzi8F5xp"
    },
    {
      "cell_type": "code",
      "execution_count": null,
      "metadata": {
        "id": "gQK0PdNxGIzn"
      },
      "outputs": [],
      "source": [],
      "id": "gQK0PdNxGIzn"
    },
    {
      "cell_type": "markdown",
      "metadata": {
        "id": "TeO1LQupGWNp"
      },
      "source": [
        "# Baseline models"
      ],
      "id": "TeO1LQupGWNp"
    },
    {
      "cell_type": "code",
      "execution_count": null,
      "metadata": {
        "id": "ldxOhl7FGx9U"
      },
      "outputs": [],
      "source": [
        "# Metrics\n",
        "from sklearn.metrics import accuracy_score, f1_score, precision_score, recall_score\n",
        "from sklearn.metrics import classification_report\n",
        "from sklearn.metrics import confusion_matrix"
      ],
      "id": "ldxOhl7FGx9U"
    },
    {
      "cell_type": "code",
      "execution_count": null,
      "metadata": {
        "id": "IpIQ6Q_yGpxo"
      },
      "outputs": [],
      "source": [
        "# This function evaluate the model on Accuracy, precision, F1-Score and Recall scores\n",
        "\n",
        "def getResults(y_test, prediction):\n",
        "    accuracy = accuracy_score(y_test, prediction)\n",
        "    precision = precision_score(y_test, prediction)\n",
        "    f1 = f1_score(y_test, prediction)\n",
        "    recall = recall_score(y_test, prediction)\n",
        "    print(f'Accuracy : {accuracy}\\nPrecision : {precision}\\nF1_score : {f1}\\nRecall : {recall}\\n')\n",
        "    \n",
        "    print(\"===== CONFUSION MATRIX =====\")\n",
        "    cf_matrix = confusion_matrix(y_test, prediction)\n",
        "    print(cf_matrix)\n",
        "    \n",
        "    return accuracy, precision, f1, recall"
      ],
      "id": "IpIQ6Q_yGpxo"
    },
    {
      "cell_type": "code",
      "execution_count": null,
      "metadata": {
        "id": "Leolp4akGvwA"
      },
      "outputs": [],
      "source": [
        "# function to train the model\n",
        "\n",
        "def Model_training(model, x_train, y_train, x_test, y_test):\n",
        "    print(f'\\n==== Testing : {model.__class__}')\n",
        "    # fit the data\n",
        "    model.fit(x_train, y_train)\n",
        "    \n",
        "    # prediction\n",
        "    prediction = model.predict(x_test)\n",
        "    \n",
        "    # getResults \n",
        "    results = getResults(y_test, prediction)\n",
        "    return results"
      ],
      "id": "Leolp4akGvwA"
    },
    {
      "cell_type": "markdown",
      "metadata": {
        "id": "lUwBu-5KHDZy"
      },
      "source": [
        "Models:\n",
        "\n",
        "Multi-layer perceptron classifier (MLPClassifier)\n",
        "\n",
        "solver = SGD - Stochastic Gradient Descent a linear classifier. popularly used for sparse data problems such as text classification and NLP."
      ],
      "id": "lUwBu-5KHDZy"
    },
    {
      "cell_type": "code",
      "execution_count": null,
      "metadata": {
        "colab": {
          "base_uri": "https://localhost:8080/"
        },
        "id": "O2qBL5QcHALb",
        "outputId": "07561e89-c6bc-41f8-9680-8cf01f483136"
      },
      "outputs": [
        {
          "name": "stdout",
          "output_type": "stream",
          "text": [
            "\n",
            "==== Testing : <class 'sklearn.pipeline.Pipeline'>\n",
            "Accuracy : 0.7657594789485926\n",
            "Precision : 0.7404873877725524\n",
            "F1_score : 0.7747707447998211\n",
            "Recall : 0.8123827392120075\n",
            "\n",
            "===== CONFUSION MATRIX =====\n",
            "[[1560  607]\n",
            " [ 400 1732]]\n"
          ]
        }
      ],
      "source": [
        "from sklearn.naive_bayes import MultinomialNB\n",
        "from sklearn.pipeline import Pipeline\n",
        "from sklearn.feature_extraction.text import TfidfTransformer\n",
        "\n",
        "from sklearn.feature_extraction.text import CountVectorizer\n",
        "\n",
        "nb = Pipeline([('vect', CountVectorizer()),\n",
        "               ('tfidf', TfidfTransformer()),\n",
        "               ('clf', MultinomialNB()),\n",
        "              ])\n",
        "# Calling the Model_training to get the results\n",
        "result_mlp = Model_training(nb, X_train, y_train, X_validation, y_validation)\n",
        "\n"
      ],
      "id": "O2qBL5QcHALb"
    },
    {
      "cell_type": "code",
      "execution_count": null,
      "metadata": {
        "colab": {
          "base_uri": "https://localhost:8080/"
        },
        "id": "eOoOUbxNHcmV",
        "outputId": "4dfb4609-2a0f-4544-e5dd-bfad93a5bb48"
      },
      "outputs": [
        {
          "name": "stdout",
          "output_type": "stream",
          "text": [
            "\n",
            "==== Testing : <class 'sklearn.pipeline.Pipeline'>\n",
            "Accuracy : 0.7036520120958363\n",
            "Precision : 0.7803921568627451\n",
            "F1_score : 0.6521026761332606\n",
            "Recall : 0.5600375234521576\n",
            "\n",
            "===== CONFUSION MATRIX =====\n",
            "[[1831  336]\n",
            " [ 938 1194]]\n"
          ]
        }
      ],
      "source": [
        "from sklearn.linear_model import SGDClassifier\n",
        "\n",
        "sgd = Pipeline([('vect', CountVectorizer(stop_words='english',token_pattern=r'\\w{1,}', min_df=10)),\n",
        "                ('tfidf', TfidfTransformer()),\n",
        "                ('clf', SGDClassifier(loss='hinge', penalty='l2',alpha=1e-3, random_state=42, max_iter=5, tol=None)),\n",
        "               ])\n",
        "\n",
        "# Calling the Model_training to get the results\n",
        "result_sgd = Model_training(sgd, X_train, y_train, X_validation, y_validation)\n"
      ],
      "id": "eOoOUbxNHcmV"
    },
    {
      "cell_type": "code",
      "execution_count": null,
      "metadata": {
        "colab": {
          "base_uri": "https://localhost:8080/"
        },
        "id": "nAFqzCtTNhEG",
        "outputId": "9f261c6c-8217-4daa-ad22-33cb83eab640"
      },
      "outputs": [
        {
          "name": "stdout",
          "output_type": "stream",
          "text": [
            "\n",
            "==== Testing : <class 'sklearn.pipeline.Pipeline'>\n",
            "Accuracy : 0.7564549895324494\n",
            "Precision : 0.7587029089175011\n",
            "F1_score : 0.7524237408370773\n",
            "Recall : 0.7462476547842402\n",
            "\n",
            "===== CONFUSION MATRIX =====\n",
            "[[1661  506]\n",
            " [ 541 1591]]\n"
          ]
        }
      ],
      "source": [
        "from sklearn.linear_model import LogisticRegression\n",
        "\n",
        "logreg = Pipeline([('vect', CountVectorizer()),\n",
        "                ('tfidf', TfidfTransformer()),\n",
        "                ('clf', LogisticRegression(n_jobs=1, C=1e5)),\n",
        "               ])\n",
        "\n",
        "# Calling the Model_training to get the results\n",
        "result_logreg = Model_training(logreg, X_train, y_train, X_validation, y_validation)\n"
      ],
      "id": "nAFqzCtTNhEG"
    },
    {
      "cell_type": "code",
      "execution_count": null,
      "metadata": {
        "colab": {
          "base_uri": "https://localhost:8080/"
        },
        "id": "EhjtISB8OGq2",
        "outputId": "626abbaa-351d-405e-f40c-9459c8008ed0"
      },
      "outputs": [
        {
          "name": "stdout",
          "output_type": "stream",
          "text": [
            "\n",
            "==== Testing : <class 'sklearn.pipeline.Pipeline'>\n",
            "Iteration 1, loss = 0.69305366\n",
            "Iteration 2, loss = 0.69291086\n",
            "Iteration 3, loss = 0.69273587\n",
            "Iteration 4, loss = 0.69252244\n",
            "Iteration 5, loss = 0.69224330\n",
            "Accuracy : 0.5040707141195627\n",
            "Precision : 0.0\n",
            "F1_score : 0.0\n",
            "Recall : 0.0\n",
            "\n",
            "===== CONFUSION MATRIX =====\n",
            "[[2167    0]\n",
            " [2132    0]]\n"
          ]
        }
      ],
      "source": [
        "#model\n",
        "from sklearn.neural_network import MLPClassifier\n",
        "\n",
        "mlp = Pipeline([('vect', CountVectorizer()),\n",
        "                ('tfidf', TfidfTransformer()),\n",
        "                ('clf', MLPClassifier(hidden_layer_sizes=(100,100,100), max_iter=5,\n",
        "                     solver='sgd', verbose=10,  random_state=21)),\n",
        "               ])\n",
        "\n",
        "# Calling the Model_training to get the results\n",
        "result_mlp = Model_training(mlp, X_train, y_train, X_validation, y_validation)\n"
      ],
      "id": "EhjtISB8OGq2"
    },
    {
      "cell_type": "code",
      "execution_count": null,
      "metadata": {
        "id": "LtKGCx2bOoG3"
      },
      "outputs": [],
      "source": [],
      "id": "LtKGCx2bOoG3"
    },
    {
      "cell_type": "code",
      "execution_count": null,
      "metadata": {
        "id": "T2S71ypAVz2M"
      },
      "outputs": [],
      "source": [
        "#necessary packages\n",
        "from tensorflow.python.keras import layers\n",
        "from tensorflow.keras.models import Sequential\n",
        "from tensorflow.python.keras.layers import Conv2D, Flatten, Dense\n",
        "from keras.preprocessing.text import Tokenizer\n",
        "from keras_preprocessing.sequence import pad_sequences\n",
        "from keras.wrappers.scikit_learn import KerasClassifier\n",
        "from keras.layers import Input\n",
        "from tensorflow.keras.models import load_model\n",
        "import nltk\n",
        "\n",
        "from sklearn.metrics import accuracy_score, f1_score, precision_score, recall_score\n",
        "from sklearn.metrics import confusion_matrix\n",
        "\n",
        "import tensorflow as tf\n",
        "tf.config.run_functions_eagerly(True)"
      ],
      "id": "T2S71ypAVz2M"
    },
    {
      "cell_type": "code",
      "execution_count": null,
      "metadata": {
        "id": "VMhhjyOUnj-H"
      },
      "outputs": [],
      "source": [
        "def transformResults(predictions):\n",
        "    \n",
        "    predictions = predictions[:, 0]\n",
        "    print(f'First 5 values before conversion : {predictions[:5]}')\n",
        "    \n",
        "    predictions = [1 if val>0.5 else 0 for val in predictions]\n",
        "    print(f'First 5 values after the conversion : {predictions[:5]}')\n",
        "    return predictions\n",
        "\n",
        "# craeting lists to store results\n",
        "models =[]\n",
        "accuracy=[]\n",
        "f1_scores=[]\n",
        "\n",
        "def getResults(y_test, model_prediction,name):\n",
        "    model_prediction = transformResults(model_prediction)\n",
        "\n",
        "    print(\"\\n========== RESULTS ===========\\n\")\n",
        "    acc = accuracy_score(y_test, model_prediction)\n",
        "    precision = precision_score(y_test, model_prediction)\n",
        "    f1 = f1_score(y_test, model_prediction)\n",
        "    recall = recall_score(y_test, model_prediction)\n",
        "    \n",
        "    accuracy.append(acc)\n",
        "    models.append(name)\n",
        "    f1_scores.append(f1)\n",
        "    \n",
        "    print(f'Accuracy : {acc}\\nPrecision : {precision}\\nF1_score : {f1}\\nRecall : {recall}\\n')\n",
        "    \n",
        "    print(\"===== CONFUSION MATRIX =====\")\n",
        "    cf_matrix = confusion_matrix(y_test, model_prediction)\n",
        "    print(cf_matrix)\n",
        "    \n",
        "    return acc, precision, f1, recall"
      ],
      "id": "VMhhjyOUnj-H"
    },
    {
      "cell_type": "markdown",
      "metadata": {
        "id": "p2T6wYWbVwkH"
      },
      "source": [
        "# Text vectorization"
      ],
      "id": "p2T6wYWbVwkH"
    },
    {
      "cell_type": "markdown",
      "metadata": {
        "id": "CR8mt-nVx-9d"
      },
      "source": [
        "keras Text Vectorizer \n",
        " \n",
        " Now that the vocab layer has been created, call `adapt` on the text-only dataset to create the vocabulary."
      ],
      "id": "CR8mt-nVx-9d"
    },
    {
      "cell_type": "code",
      "execution_count": null,
      "metadata": {
        "id": "IlpHl3IUWpKS"
      },
      "outputs": [],
      "source": [
        "\n",
        "max_features = 10000\n",
        "sequence_length = 250\n",
        "\n",
        "vectorize_layer = tf.keras.layers.TextVectorization(\n",
        "    max_tokens=max_features,\n",
        "    output_mode='int',\n",
        "    output_sequence_length=sequence_length)\n"
      ],
      "id": "IlpHl3IUWpKS"
    },
    {
      "cell_type": "code",
      "execution_count": null,
      "metadata": {
        "id": "Y6Ixii7EycyB"
      },
      "outputs": [],
      "source": [
        "# each token has been replaced by an integer\n",
        "\n",
        "vectorize_layer.adapt(X_train)"
      ],
      "id": "Y6Ixii7EycyB"
    },
    {
      "cell_type": "code",
      "execution_count": null,
      "metadata": {
        "colab": {
          "base_uri": "https://localhost:8080/"
        },
        "id": "4caQLEEZzW4F",
        "outputId": "2c05f14c-e327-4944-89ed-bd82ab08f68d"
      },
      "outputs": [
        {
          "name": "stdout",
          "output_type": "stream",
          "text": [
            "1287 --->  credit\n",
            " 313 --->  hitler\n",
            "Vocabulary size: 10000\n"
          ]
        }
      ],
      "source": [
        "#lookup the token (string) that each integer corresponds to by calling .get_vocabulary() on the layer.\n",
        "\n",
        "print(\"1287 ---> \",vectorize_layer.get_vocabulary()[1287])\n",
        "print(\" 313 ---> \",vectorize_layer.get_vocabulary()[313])\n",
        "print('Vocabulary size: {}'.format(len(vectorize_layer.get_vocabulary())))"
      ],
      "id": "4caQLEEZzW4F"
    },
    {
      "cell_type": "code",
      "execution_count": null,
      "metadata": {
        "id": "RuCHtFfO1B_x"
      },
      "outputs": [],
      "source": [
        "#function to see the result of using this layer to preprocess some data.\n",
        "def vectorize_text(text):\n",
        "  text = tf.expand_dims(text, -1)\n",
        "  return vectorize_layer(text)"
      ],
      "id": "RuCHtFfO1B_x"
    },
    {
      "cell_type": "code",
      "execution_count": null,
      "metadata": {
        "id": "Ixzo6OEX0Yfk"
      },
      "outputs": [],
      "source": [
        "#Apply the TextVectorization layer to the train, validation, and test dataset.\n",
        "\n",
        "train_X = vectorize_text(X_train)\n",
        "val_X = vectorize_text(X_validation)\n",
        "test_X = vectorize_text(X_test)"
      ],
      "id": "Ixzo6OEX0Yfk"
    },
    {
      "cell_type": "markdown",
      "metadata": {
        "id": "I80zAijS4rQX"
      },
      "source": [
        "# Basic neural network with keras"
      ],
      "id": "I80zAijS4rQX"
    },
    {
      "cell_type": "code",
      "execution_count": null,
      "metadata": {
        "id": "94J5lM34V5nM"
      },
      "outputs": [],
      "source": [
        "input_dimention = train_X.shape[1]  # Number of features\n",
        "\n",
        "Kerasmodel = Sequential()\n",
        "Kerasmodel.add(layers.Dense(10, input_dim=input_dimention, activation='relu'))\n",
        "Kerasmodel.add(layers.Dense(1, activation='sigmoid'))\n",
        "Kerasmodel.compile(loss='binary_crossentropy', \n",
        "              optimizer='adam', \n",
        "              metrics=['accuracy'])"
      ],
      "id": "94J5lM34V5nM"
    },
    {
      "cell_type": "code",
      "execution_count": null,
      "metadata": {
        "colab": {
          "base_uri": "https://localhost:8080/"
        },
        "id": "yFIp01m94Jy4",
        "outputId": "b1ad720a-fef6-426b-8cb7-b40d26e74c75"
      },
      "outputs": [
        {
          "name": "stdout",
          "output_type": "stream",
          "text": [
            "Model: \"sequential_1\"\n",
            "_________________________________________________________________\n",
            " Layer (type)                Output Shape              Param #   \n",
            "=================================================================\n",
            " module_wrapper_2 (ModuleWra  (113651, 10)             2510      \n",
            " pper)                                                           \n",
            "                                                                 \n",
            " module_wrapper_3 (ModuleWra  (113651, 1)              11        \n",
            " pper)                                                           \n",
            "                                                                 \n",
            "=================================================================\n",
            "Total params: 2,521\n",
            "Trainable params: 2,521\n",
            "Non-trainable params: 0\n",
            "_________________________________________________________________\n"
          ]
        }
      ],
      "source": [
        "input_shape = train_X.shape  \n",
        "Kerasmodel.build(input_shape)\n",
        "\n",
        "Kerasmodel.summary()"
      ],
      "id": "yFIp01m94Jy4"
    },
    {
      "cell_type": "code",
      "execution_count": null,
      "metadata": {
        "colab": {
          "base_uri": "https://localhost:8080/"
        },
        "id": "-O4x7Mr14MkI",
        "outputId": "06895831-2b75-438d-f568-010b79f029c6"
      },
      "outputs": [
        {
          "name": "stdout",
          "output_type": "stream",
          "text": [
            "Epoch 1/15\n",
            "9092/9092 [==============================] - 135s 15ms/step - loss: 5.7086 - accuracy: 0.5909 - val_loss: 0.9730 - val_accuracy: 0.6259\n",
            "Epoch 2/15\n",
            "9092/9092 [==============================] - 128s 14ms/step - loss: 0.7191 - accuracy: 0.6202 - val_loss: 0.6490 - val_accuracy: 0.6315\n",
            "Epoch 3/15\n",
            "9092/9092 [==============================] - 127s 14ms/step - loss: 0.6514 - accuracy: 0.6272 - val_loss: 0.6448 - val_accuracy: 0.6438\n",
            "Epoch 4/15\n",
            "9092/9092 [==============================] - 133s 15ms/step - loss: 0.6403 - accuracy: 0.6335 - val_loss: 0.6526 - val_accuracy: 0.6366\n",
            "Epoch 5/15\n",
            "9092/9092 [==============================] - 127s 14ms/step - loss: 0.6396 - accuracy: 0.6319 - val_loss: 0.6344 - val_accuracy: 0.6405\n",
            "Epoch 6/15\n",
            "9092/9092 [==============================] - 127s 14ms/step - loss: 0.6363 - accuracy: 0.6298 - val_loss: 0.6702 - val_accuracy: 0.6254\n",
            "Epoch 7/15\n",
            "9092/9092 [==============================] - 134s 15ms/step - loss: 0.6364 - accuracy: 0.6303 - val_loss: 0.6408 - val_accuracy: 0.6200\n",
            "Epoch 8/15\n",
            "9092/9092 [==============================] - 133s 15ms/step - loss: 0.6369 - accuracy: 0.6297 - val_loss: 0.6412 - val_accuracy: 0.6322\n",
            "Epoch 9/15\n",
            "9092/9092 [==============================] - 128s 14ms/step - loss: 0.6346 - accuracy: 0.6329 - val_loss: 0.6394 - val_accuracy: 0.6313\n",
            "Epoch 10/15\n",
            "9092/9092 [==============================] - 133s 15ms/step - loss: 0.6336 - accuracy: 0.6316 - val_loss: 0.6710 - val_accuracy: 0.5137\n",
            "Epoch 11/15\n",
            "9092/9092 [==============================] - 132s 14ms/step - loss: 0.6335 - accuracy: 0.6316 - val_loss: 0.6431 - val_accuracy: 0.6416\n",
            "Epoch 12/15\n",
            "9092/9092 [==============================] - 133s 15ms/step - loss: 0.6329 - accuracy: 0.6320 - val_loss: 0.6361 - val_accuracy: 0.6128\n",
            "Epoch 13/15\n",
            "9092/9092 [==============================] - 131s 14ms/step - loss: 0.6324 - accuracy: 0.6310 - val_loss: 0.6339 - val_accuracy: 0.6302\n",
            "Epoch 14/15\n",
            "9092/9092 [==============================] - 126s 14ms/step - loss: 0.6312 - accuracy: 0.6332 - val_loss: 0.6340 - val_accuracy: 0.6324\n",
            "Epoch 15/15\n",
            "9092/9092 [==============================] - 127s 14ms/step - loss: 0.6309 - accuracy: 0.6318 - val_loss: 0.6241 - val_accuracy: 0.6444\n"
          ]
        }
      ],
      "source": [
        "#Model fit \n",
        "history = Kerasmodel.fit(train_X, y_train,\n",
        "                    epochs=15,\n",
        "                    verbose=True,\n",
        "                    validation_split=0.2,\n",
        "                    batch_size=10)"
      ],
      "id": "-O4x7Mr14MkI"
    },
    {
      "cell_type": "markdown",
      "metadata": {
        "id": "re7TPmDNJy9I"
      },
      "source": [
        "The classifier is constructed by gradually stacking the layers: \n",
        "\n",
        "An embedding layer makes up the top layer. This layer seeks for an embedding vector for each word-index using the integer-encoded reviews. As the model is trained, these vectors are learned. The output array gains a dimension thanks to the vectors. The dimensions that arise are: (batch, sequence, embedding). Visit the Word embeddings tutorial to learn more about embeddings. \n",
        "A GlobalAveragePooling1D layer then averages across the sequence dimension to produce a fixed-length output vector for each case. This makes it possible for the model to handle input of varying duration in the most straightforward manner. \n",
        "This fixed-length output vector is passed through a dense layer with 16 hidden units that is fully linked. \n",
        "The last layer has a single output node and is highly linked."
      ],
      "id": "re7TPmDNJy9I"
    },
    {
      "cell_type": "code",
      "execution_count": null,
      "metadata": {
        "colab": {
          "base_uri": "https://localhost:8080/"
        },
        "id": "_RY7LmZUIg47",
        "outputId": "7913198a-0ecb-4a83-9bb7-3fb76e5ffa1e"
      },
      "outputs": [
        {
          "name": "stdout",
          "output_type": "stream",
          "text": [
            "Model: \"sequential_7\"\n",
            "_________________________________________________________________\n",
            " Layer (type)                Output Shape              Param #   \n",
            "=================================================================\n",
            " module_wrapper_29 (ModuleWr  (113651, 250, 16)        160016    \n",
            " apper)                                                          \n",
            "                                                                 \n",
            " module_wrapper_30 (ModuleWr  (113651, 250, 16)        0         \n",
            " apper)                                                          \n",
            "                                                                 \n",
            " module_wrapper_31 (ModuleWr  (113651, 16)             0         \n",
            " apper)                                                          \n",
            "                                                                 \n",
            " module_wrapper_32 (ModuleWr  (113651, 16)             0         \n",
            " apper)                                                          \n",
            "                                                                 \n",
            " module_wrapper_33 (ModuleWr  (113651, 1)              17        \n",
            " apper)                                                          \n",
            "                                                                 \n",
            "=================================================================\n",
            "Total params: 160,033\n",
            "Trainable params: 160,033\n",
            "Non-trainable params: 0\n",
            "_________________________________________________________________\n",
            "Epoch 1/10\n",
            "9092/9092 [==============================] - 177s 19ms/step - loss: 0.6737 - binary_accuracy: 0.4929 - val_loss: 0.5941 - val_binary_accuracy: 0.4864\n",
            "Epoch 2/10\n",
            "9092/9092 [==============================] - 172s 19ms/step - loss: 0.5745 - binary_accuracy: 0.4999 - val_loss: 0.5551 - val_binary_accuracy: 0.5197\n",
            "Epoch 3/10\n",
            "9092/9092 [==============================] - 173s 19ms/step - loss: 0.5542 - binary_accuracy: 0.5255 - val_loss: 0.5648 - val_binary_accuracy: 0.5484\n",
            "Epoch 4/10\n",
            "9092/9092 [==============================] - 176s 19ms/step - loss: 0.5460 - binary_accuracy: 0.5398 - val_loss: 0.5602 - val_binary_accuracy: 0.5240\n",
            "Epoch 5/10\n",
            "9092/9092 [==============================] - 178s 20ms/step - loss: 0.5418 - binary_accuracy: 0.5422 - val_loss: 0.5233 - val_binary_accuracy: 0.5361\n",
            "Epoch 6/10\n",
            "9092/9092 [==============================] - 177s 19ms/step - loss: 0.5288 - binary_accuracy: 0.5470 - val_loss: 0.5301 - val_binary_accuracy: 0.5383\n",
            "Epoch 7/10\n",
            "9092/9092 [==============================] - 204s 22ms/step - loss: 0.5303 - binary_accuracy: 0.5493 - val_loss: 0.5604 - val_binary_accuracy: 0.5714\n",
            "Epoch 8/10\n",
            "9092/9092 [==============================] - 192s 21ms/step - loss: 0.5174 - binary_accuracy: 0.5495 - val_loss: 0.5177 - val_binary_accuracy: 0.5437\n",
            "Epoch 9/10\n",
            "9092/9092 [==============================] - 175s 19ms/step - loss: 0.5188 - binary_accuracy: 0.5576 - val_loss: 0.5306 - val_binary_accuracy: 0.5541\n",
            "Epoch 10/10\n",
            "9092/9092 [==============================] - 181s 20ms/step - loss: 0.5050 - binary_accuracy: 0.5559 - val_loss: 0.5240 - val_binary_accuracy: 0.5535\n"
          ]
        }
      ],
      "source": [
        "embedding_dim = 16\n",
        "\n",
        "#Create the model\n",
        "model = tf.keras.Sequential([\n",
        "  layers.Embedding(max_features + 1, embedding_dim),\n",
        "  layers.Dropout(0.2),\n",
        "  layers.GlobalAveragePooling1D(),\n",
        "  layers.Dropout(0.2),\n",
        "  layers.Dense(1)])\n",
        "\n",
        "model.build(input_shape)\n",
        "\n",
        "model.summary()\n",
        "\n",
        "#Loss function and optimizer\n",
        "model.compile(loss='binary_crossentropy',\n",
        "              optimizer='adam',\n",
        "              metrics=tf.metrics.BinaryAccuracy(threshold=0.0))\n",
        "\n",
        "#Train the model\n",
        "epochs = 10\n",
        "history = model.fit(train_X, y_train,\n",
        "                    epochs=epochs,\n",
        "                    verbose=True,\n",
        "                    validation_split=0.2,\n",
        "                    batch_size=10)"
      ],
      "id": "_RY7LmZUIg47"
    },
    {
      "cell_type": "code",
      "execution_count": null,
      "metadata": {
        "id": "MYc7g8y5KrtP"
      },
      "outputs": [],
      "source": [],
      "id": "MYc7g8y5KrtP"
    },
    {
      "cell_type": "markdown",
      "metadata": {
        "id": "jMQcLjjrPPIO"
      },
      "source": [
        "# Word Embedding\n",
        "\n",
        "Unlike one-hot encoding, which is hardcoded, this method represents words as dense word vectors (also known as word embeddings) that are trained. This means that word embeddings store more information in fewer dimensions."
      ],
      "id": "jMQcLjjrPPIO"
    },
    {
      "cell_type": "code",
      "execution_count": null,
      "metadata": {
        "id": "yynSIWhqPRz1"
      },
      "outputs": [],
      "source": [
        "MAX_SEQUENCE_LENGTH=500\n",
        "EMBEDDING_DIM=300 \n",
        "dropout=0.5\n",
        "\n",
        "def loadData_Tokenizer(Xtrain, Xvalidation):\n",
        "    \n",
        "    tokenizer = Tokenizer(num_words=5000, lower = False)\n",
        "\n",
        "    tokenizer.fit_on_texts(Xtrain)\n",
        "\n",
        "    train = tokenizer.texts_to_sequences(Xtrain)\n",
        "    validation = tokenizer.texts_to_sequences(Xvalidation)\n",
        "    \n",
        "    vocab_size = len(tokenizer.word_index) + 1  # Adding 1 because of reserved 0 index\n",
        "    \n",
        "    word_inndex =tokenizer.word_index\n",
        "\n",
        "    \n",
        "    return (train, validation,vocab_size,word_inndex )\n",
        "\n",
        "X_train_t,X_validation_t, vocab_size,word_inndex= loadData_Tokenizer(X_train,X_validation)"
      ],
      "id": "yynSIWhqPRz1"
    },
    {
      "cell_type": "code",
      "execution_count": null,
      "metadata": {
        "colab": {
          "base_uri": "https://localhost:8080/"
        },
        "id": "Pf3Va0fvPYtD",
        "outputId": "ea552382-052c-476a-f4b1-ad818c5023ed"
      },
      "outputs": [
        {
          "output_type": "execute_result",
          "data": {
            "text/plain": [
              "((113651, 300), (4299, 300))"
            ]
          },
          "metadata": {},
          "execution_count": 14
        }
      ],
      "source": [
        "maxlen = 300\n",
        "\n",
        "\n",
        "X_train_t = pad_sequences(X_train_t, padding='post', maxlen=maxlen)\n",
        "X_validation_t = pad_sequences(X_validation_t, padding='post', maxlen=maxlen)\n",
        "\n",
        "X_train_t.shape, X_validation_t.shape"
      ],
      "id": "Pf3Va0fvPYtD"
    },
    {
      "cell_type": "markdown",
      "metadata": {
        "id": "O6qAF60WPgj2"
      },
      "source": [
        "# Sequential model + Keras Embedding Layer Keras Embedding Layer bold text bold text"
      ],
      "id": "O6qAF60WPgj2"
    },
    {
      "cell_type": "code",
      "execution_count": null,
      "metadata": {
        "colab": {
          "base_uri": "https://localhost:8080/"
        },
        "id": "tHR4k5cGPkhf",
        "outputId": "60dfe9c9-7023-4d75-8884-546175c34b13"
      },
      "outputs": [
        {
          "output_type": "stream",
          "name": "stdout",
          "text": [
            "Model: \"sequential\"\n",
            "_________________________________________________________________\n",
            " Layer (type)                Output Shape              Param #   \n",
            "=================================================================\n",
            " module_wrapper (ModuleWrapp  (113651, 300, 50)        2665850   \n",
            " er)                                                             \n",
            "                                                                 \n",
            " module_wrapper_1 (ModuleWra  (113651, 15000)          0         \n",
            " pper)                                                           \n",
            "                                                                 \n",
            " module_wrapper_2 (ModuleWra  (113651, 10)             150010    \n",
            " pper)                                                           \n",
            "                                                                 \n",
            " module_wrapper_3 (ModuleWra  (113651, 1)              11        \n",
            " pper)                                                           \n",
            "                                                                 \n",
            "=================================================================\n",
            "Total params: 2,815,871\n",
            "Trainable params: 2,815,871\n",
            "Non-trainable params: 0\n",
            "_________________________________________________________________\n"
          ]
        }
      ],
      "source": [
        "embedding_dim = 50\n",
        "input_shape = X_train_t.shape \n",
        "\n",
        "\n",
        "model = Sequential()\n",
        "model.add(layers.Embedding(input_dim=vocab_size, \n",
        "                           output_dim=embedding_dim, \n",
        "                           input_length=maxlen))\n",
        "model.add(layers.Flatten())\n",
        "model.add(layers.Dense(10, activation='sigmoid'))\n",
        "model.add(layers.Dense(1, activation='sigmoid'))\n",
        "model.compile(optimizer='adam',\n",
        "              loss='binary_crossentropy',\n",
        "              metrics=['accuracy'])\n",
        "model.build(input_shape)\n",
        "\n",
        "model.summary()"
      ],
      "id": "tHR4k5cGPkhf"
    },
    {
      "cell_type": "code",
      "execution_count": null,
      "metadata": {
        "colab": {
          "background_save": true,
          "base_uri": "https://localhost:8080/"
        },
        "id": "MPPO5SqOPqYa",
        "outputId": "718bf1c9-248a-4012-ec12-a452fd7e4e5e"
      },
      "outputs": [
        {
          "name": "stdout",
          "output_type": "stream",
          "text": [
            "Epoch 1/5\n",
            "9092/9092 [==============================] - 572s 63ms/step - loss: 0.2370 - accuracy: 0.9035 - val_loss: 0.6101 - val_accuracy: 0.7726\n",
            "Epoch 2/5\n",
            "9092/9092 [==============================] - 581s 64ms/step - loss: 0.2116 - accuracy: 0.9135 - val_loss: 0.6631 - val_accuracy: 0.7648\n",
            "Epoch 3/5\n",
            "9092/9092 [==============================] - 605s 67ms/step - loss: 0.1913 - accuracy: 0.9212 - val_loss: 0.7642 - val_accuracy: 0.7604\n",
            "Epoch 4/5\n",
            "9092/9092 [==============================] - 613s 67ms/step - loss: 0.1741 - accuracy: 0.9292 - val_loss: 0.8113 - val_accuracy: 0.7619\n",
            "Epoch 5/5\n",
            "9092/9092 [==============================] - 602s 66ms/step - loss: 0.1598 - accuracy: 0.9358 - val_loss: 0.8867 - val_accuracy: 0.7539\n",
            "135/135 [==============================] - 1s 10ms/step - loss: 0.8804 - accuracy: 0.7579\n",
            "Validation Score: 0.8803667426109314\n",
            "Validation Accuracy: 0.7578506469726562\n",
            "135/135 [==============================] - 1s 5ms/step\n",
            "[0.00205774 0.1047484  0.00440221 ... 0.9998348  0.05832858 0.9986604 ]\n",
            "First 5 values before conversion : [0.00205774 0.1047484  0.00440221 0.00682099 0.6924972 ]\n",
            "First 5 values after the conversion : [0, 0, 0, 0, 1]\n",
            "\n",
            "========== RESULTS ===========\n",
            "\n",
            "Accuracy : 0.7578506629448709\n",
            "Precision : 0.7350280051701853\n",
            "F1_score : 0.766225016842578\n",
            "Recall : 0.800187617260788\n",
            "\n",
            "===== CONFUSION MATRIX =====\n",
            "[[1552  615]\n",
            " [ 426 1706]]\n"
          ]
        }
      ],
      "source": [
        "#model fit\n",
        "history = model.fit(X_train_t, y_train,\n",
        "                    epochs=5,\n",
        "                    verbose=True,\n",
        "                    validation_split=0.2,\n",
        "                    batch_size=10)\n",
        "\n",
        "score = model.evaluate(X_validation_t, y_validation, verbose=1)\n",
        "print(\"Validation Score:\", score[0])\n",
        "print(\"Validation Accuracy:\", score[1])\n",
        "\n",
        "predictions = model.predict(X_validation_t)\n",
        "print(predictions[:,0])\n",
        "\n",
        "name=\"Sequentialmodel + KerasEmbeddingLayer\"\n",
        "results = getResults(y_validation, predictions,name)"
      ],
      "id": "MPPO5SqOPqYa"
    },
    {
      "cell_type": "markdown",
      "metadata": {
        "id": "PNNHME5zP5Rv"
      },
      "source": [
        "# Sequential model + Keras Embedding Layer + GlobalMaxPooling1D layer + CNN"
      ],
      "id": "PNNHME5zP5Rv"
    },
    {
      "cell_type": "code",
      "execution_count": null,
      "metadata": {
        "colab": {
          "base_uri": "https://localhost:8080/"
        },
        "id": "TOzuoBNEP7FK",
        "outputId": "31d40499-04eb-4705-afbc-8c62cfad85e2"
      },
      "outputs": [
        {
          "output_type": "stream",
          "name": "stdout",
          "text": [
            "Model: \"sequential_1\"\n",
            "_________________________________________________________________\n",
            " Layer (type)                Output Shape              Param #   \n",
            "=================================================================\n",
            " module_wrapper_4 (ModuleWra  (113651, 300, 100)       5331700   \n",
            " pper)                                                           \n",
            "                                                                 \n",
            " module_wrapper_5 (ModuleWra  (113651, 296, 128)       64128     \n",
            " pper)                                                           \n",
            "                                                                 \n",
            " module_wrapper_6 (ModuleWra  (113651, 128)            0         \n",
            " pper)                                                           \n",
            "                                                                 \n",
            " module_wrapper_7 (ModuleWra  (113651, 10)             1290      \n",
            " pper)                                                           \n",
            "                                                                 \n",
            " module_wrapper_8 (ModuleWra  (113651, 1)              11        \n",
            " pper)                                                           \n",
            "                                                                 \n",
            "=================================================================\n",
            "Total params: 5,397,129\n",
            "Trainable params: 5,397,129\n",
            "Non-trainable params: 0\n",
            "_________________________________________________________________\n"
          ]
        }
      ],
      "source": [
        "embedding_dim = 100\n",
        "\n",
        "cnn_model = Sequential()\n",
        "cnn_model.add(layers.Embedding(vocab_size, embedding_dim, input_length=maxlen))\n",
        "cnn_model.add(layers.Conv1D(128, 5, activation='relu'))\n",
        "cnn_model.add(layers.GlobalMaxPooling1D())\n",
        "cnn_model.add(layers.Dense(10, activation='relu'))\n",
        "cnn_model.add(layers.Dense(1, activation='sigmoid'))\n",
        "cnn_model.compile(optimizer='adam',\n",
        "              loss='binary_crossentropy',\n",
        "              metrics=['accuracy'])\n",
        "cnn_model.build(input_shape)\n",
        "cnn_model.summary()"
      ],
      "id": "TOzuoBNEP7FK"
    },
    {
      "cell_type": "code",
      "execution_count": null,
      "metadata": {
        "colab": {
          "base_uri": "https://localhost:8080/"
        },
        "id": "qQE7TU5ZP-PK",
        "outputId": "cc4aba02-3146-4a48-95b8-5c7d309587a6"
      },
      "outputs": [
        {
          "output_type": "stream",
          "name": "stdout",
          "text": [
            "Epoch 1/5\n",
            "9092/9092 [==============================] - 905s 100ms/step - loss: 0.4656 - accuracy: 0.7821 - val_loss: 0.4438 - val_accuracy: 0.7955\n",
            "Epoch 2/5\n",
            "9092/9092 [==============================] - 913s 100ms/step - loss: 0.3802 - accuracy: 0.8315 - val_loss: 0.4394 - val_accuracy: 0.7996\n",
            "Epoch 3/5\n",
            "9092/9092 [==============================] - 913s 100ms/step - loss: 0.3044 - accuracy: 0.8717 - val_loss: 0.4754 - val_accuracy: 0.7890\n",
            "Epoch 4/5\n",
            "9092/9092 [==============================] - 895s 98ms/step - loss: 0.2267 - accuracy: 0.9088 - val_loss: 0.6138 - val_accuracy: 0.7856\n",
            "Epoch 5/5\n",
            "9092/9092 [==============================] - 931s 102ms/step - loss: 0.1675 - accuracy: 0.9332 - val_loss: 0.7361 - val_accuracy: 0.7775\n",
            "135/135 [==============================] - 4s 30ms/step - loss: 0.7427 - accuracy: 0.7739\n",
            "Validation Score: 0.7427499294281006\n",
            "Validation Accuracy: 0.7739009261131287\n",
            "135/135 [==============================] - 4s 27ms/step\n",
            "[0.2087211  0.0543826  0.01787718 ... 0.9960407  0.01639622 0.98408824]\n",
            "First 5 values before conversion : [0.2087211  0.0543826  0.01787718 0.00612578 0.99919736]\n",
            "First 5 values after the conversion : [0, 0, 0, 0, 1]\n",
            "\n",
            "========== RESULTS ===========\n",
            "\n",
            "Accuracy : 0.7739009071877181\n",
            "Precision : 0.7929292929292929\n",
            "F1_score : 0.7636186770428017\n",
            "Recall : 0.7363977485928705\n",
            "\n",
            "===== CONFUSION MATRIX =====\n",
            "[[1757  410]\n",
            " [ 562 1570]]\n"
          ]
        }
      ],
      "source": [
        "history = cnn_model.fit(X_train_t, y_train,\n",
        "                    epochs=5,\n",
        "                    verbose=True,\n",
        "                    validation_split=0.2,\n",
        "                    batch_size=10)\n",
        "\n",
        "score = cnn_model.evaluate(X_validation_t, y_validation, verbose=1)\n",
        "print(\"Validation Score:\", score[0])\n",
        "print(\"Validation Accuracy:\", score[1])\n",
        "\n",
        "predictions = cnn_model.predict(X_validation_t)\n",
        "print(predictions[:,0])\n",
        "\n",
        "name=\"Sequential model + Keras Embedding Layer + CNN\"\n",
        "results = getResults(y_validation, predictions,name)"
      ],
      "id": "qQE7TU5ZP-PK"
    },
    {
      "cell_type": "markdown",
      "metadata": {
        "id": "xRoZqamiQEA7"
      },
      "source": [
        "# Sequential model + Glove Embedding Layer + GlobalMaxPooling1D layer + CNN"
      ],
      "id": "xRoZqamiQEA7"
    },
    {
      "cell_type": "code",
      "source": [
        "cd '/content/drive/MyDrive/project'"
      ],
      "metadata": {
        "colab": {
          "base_uri": "https://localhost:8080/"
        },
        "id": "CnAdyNUUi_Tx",
        "outputId": "0c041d28-a564-42ba-8512-23e951161dc9"
      },
      "id": "CnAdyNUUi_Tx",
      "execution_count": null,
      "outputs": [
        {
          "output_type": "stream",
          "name": "stdout",
          "text": [
            "/content/drive/MyDrive/project\n"
          ]
        }
      ]
    },
    {
      "cell_type": "code",
      "execution_count": null,
      "metadata": {
        "id": "uYfKDJx6QIOv"
      },
      "outputs": [],
      "source": [
        "embeddings_dictionary = dict()\n",
        "\n",
        "glove_file = open('glove.6B.100d.txt', encoding=\"utf8\")\n",
        "\n",
        "for line in glove_file:\n",
        "    records = line.split()\n",
        "    word = records[0]\n",
        "    vector_dimensions = np.asarray(records[1:], dtype='float32')\n",
        "    embeddings_dictionary[word] = vector_dimensions\n",
        "glove_file.close()\n",
        "\n",
        "embedding_matrix = np.zeros((vocab_size, 100))\n",
        "for word, index in word_inndex.items():\n",
        "    embedding_vector = embeddings_dictionary.get(word)\n",
        "    if embedding_vector is not None:\n",
        "        embedding_matrix[index] = embedding_vector"
      ],
      "id": "uYfKDJx6QIOv"
    },
    {
      "cell_type": "code",
      "execution_count": null,
      "metadata": {
        "id": "ZJyIrgTfQMzf",
        "colab": {
          "base_uri": "https://localhost:8080/"
        },
        "outputId": "3c5cadf6-4eee-4a98-f03a-7d64fc18819b"
      },
      "outputs": [
        {
          "output_type": "stream",
          "name": "stdout",
          "text": [
            "Model: \"sequential_2\"\n",
            "_________________________________________________________________\n",
            " Layer (type)                Output Shape              Param #   \n",
            "=================================================================\n",
            " module_wrapper_9 (ModuleWra  (113651, 300, 100)       5331700   \n",
            " pper)                                                           \n",
            "                                                                 \n",
            " module_wrapper_10 (ModuleWr  (113651, 296, 128)       64128     \n",
            " apper)                                                          \n",
            "                                                                 \n",
            " module_wrapper_11 (ModuleWr  (113651, 128)            0         \n",
            " apper)                                                          \n",
            "                                                                 \n",
            " module_wrapper_12 (ModuleWr  (113651, 10)             1290      \n",
            " apper)                                                          \n",
            "                                                                 \n",
            " module_wrapper_13 (ModuleWr  (113651, 1)              11        \n",
            " apper)                                                          \n",
            "                                                                 \n",
            "=================================================================\n",
            "Total params: 5,397,129\n",
            "Trainable params: 65,429\n",
            "Non-trainable params: 5,331,700\n",
            "_________________________________________________________________\n"
          ]
        }
      ],
      "source": [
        "embedding_dim = 100\n",
        "input_shape = X_train_t.shape\n",
        "\n",
        "cnn_g_model = Sequential()\n",
        "cnn_g_model.add(layers.Embedding(vocab_size,\n",
        "                            100,\n",
        "                            weights=[embedding_matrix],\n",
        "                            trainable=False))\n",
        "cnn_g_model.add(layers.Conv1D(128, 5, activation='relu'))\n",
        "cnn_g_model.add(layers.GlobalMaxPooling1D())\n",
        "cnn_g_model.add(layers.Dense(10, activation='relu'))\n",
        "cnn_g_model.add(layers.Dense(1, activation='sigmoid'))\n",
        "cnn_g_model.compile(optimizer='adam',\n",
        "              loss='binary_crossentropy',\n",
        "              metrics=['accuracy'])\n",
        "cnn_g_model.build(input_shape)\n",
        "cnn_g_model.summary()"
      ],
      "id": "ZJyIrgTfQMzf"
    },
    {
      "cell_type": "code",
      "execution_count": null,
      "metadata": {
        "id": "_rUCj1D5QPsw",
        "colab": {
          "base_uri": "https://localhost:8080/"
        },
        "outputId": "eb5a4fb3-aef8-470a-da6f-dba8bc214c78"
      },
      "outputs": [
        {
          "output_type": "stream",
          "name": "stdout",
          "text": [
            "Epoch 1/5\n",
            "9092/9092 [==============================] - 523s 58ms/step - loss: 0.4913 - accuracy: 0.7642 - val_loss: 0.4642 - val_accuracy: 0.7795\n",
            "Epoch 2/5\n",
            "9092/9092 [==============================] - 500s 55ms/step - loss: 0.4393 - accuracy: 0.7968 - val_loss: 0.4568 - val_accuracy: 0.7875\n",
            "Epoch 3/5\n",
            "9092/9092 [==============================] - 461s 51ms/step - loss: 0.4082 - accuracy: 0.8150 - val_loss: 0.4610 - val_accuracy: 0.7833\n",
            "Epoch 4/5\n",
            "9092/9092 [==============================] - 452s 50ms/step - loss: 0.3791 - accuracy: 0.8310 - val_loss: 0.4621 - val_accuracy: 0.7880\n",
            "Epoch 5/5\n",
            "9092/9092 [==============================] - 451s 50ms/step - loss: 0.3526 - accuracy: 0.8461 - val_loss: 0.4746 - val_accuracy: 0.7881\n",
            "135/135 [==============================] - 4s 31ms/step - loss: 0.4869 - accuracy: 0.7720\n",
            "Test Score: 0.48689398169517517\n",
            "Test Accuracy: 0.7720400094985962\n",
            "135/135 [==============================] - 5s 34ms/step\n",
            "[0.7517869  0.26260784 0.02154005 ... 0.7874384  0.6192333  0.9559944 ]\n",
            "First 5 values before conversion : [0.7517869  0.26260784 0.02154005 0.06332425 0.97592586]\n",
            "First 5 values after the conversion : [1, 0, 0, 0, 1]\n",
            "\n",
            "========== RESULTS ===========\n",
            "\n",
            "Accuracy : 0.7720400093044895\n",
            "Precision : 0.7666666666666667\n",
            "F1_score : 0.7716682199440821\n",
            "Recall : 0.776735459662289\n",
            "\n",
            "===== CONFUSION MATRIX =====\n",
            "[[1663  504]\n",
            " [ 476 1656]]\n"
          ]
        }
      ],
      "source": [
        "history = cnn_g_model.fit(X_train_t, y_train,\n",
        "                    epochs=5,\n",
        "                    verbose=True,\n",
        "                    validation_split=0.2,\n",
        "                    batch_size=10)\n",
        "\n",
        "score = cnn_g_model.evaluate(X_validation_t, y_validation, verbose=1)\n",
        "print(\"Test Score:\", score[0])\n",
        "print(\"Test Accuracy:\", score[1])\n",
        "\n",
        "predictions = cnn_g_model.predict(X_validation_t)\n",
        "print(predictions[:,0])\n",
        "name = 'Sequential model + Glove Embedding Layer + CNN'\n",
        "social_results = getResults(y_validation, predictions,name)\n"
      ],
      "id": "_rUCj1D5QPsw"
    },
    {
      "cell_type": "code",
      "execution_count": null,
      "metadata": {
        "id": "ICaC-rHrXzrj"
      },
      "outputs": [],
      "source": [],
      "id": "ICaC-rHrXzrj"
    },
    {
      "cell_type": "markdown",
      "source": [
        "# Recursive Neural Networks(RNN)\n"
      ],
      "metadata": {
        "id": "D4ZHbCFbjzA3"
      },
      "id": "D4ZHbCFbjzA3"
    },
    {
      "cell_type": "code",
      "source": [
        "from numpy import array\n",
        "from keras_preprocessing.sequence import pad_sequences\n",
        "from keras.layers.core import Activation, Dropout, Dense\n",
        "from keras.layers import Flatten, LSTM\n",
        "from keras.layers import Input\n",
        "from keras.models import Model\n",
        "from keras.layers import Embedding\n",
        "from keras.models import load_model\n",
        "from keras.layers import Bidirectional\n",
        "\n",
        "from nltk.tokenize import word_tokenize\n",
        "import re\n",
        "\n",
        "\n",
        "from numpy import array\n",
        "from numpy import asarray\n",
        "from numpy import zeros"
      ],
      "metadata": {
        "id": "hyJ4gsdmj58v"
      },
      "id": "hyJ4gsdmj58v",
      "execution_count": null,
      "outputs": []
    },
    {
      "cell_type": "code",
      "source": [
        "# To get some statistical insights about the data\n",
        "import nltk\n",
        "nltk.download('punkt')\n",
        "\n",
        "import statistics\n",
        "\n",
        "\n",
        "def insights(data):\n",
        "  length = 0\n",
        "  val = \"\"\n",
        "  data_avg = []\n",
        "\n",
        "  for sentence in data:\n",
        "    sen_len = len(word_tokenize(sentence))\n",
        "    data_avg.append(sen_len)\n",
        "    if sen_len > length:\n",
        "       length = sen_len\n",
        "       val = sentence\n",
        "\n",
        "  print(f'Sentence : {val}\\nLength :{length}')\n",
        "  print(f'Average Sentence Length : {sum(data_avg) / len(data_avg)}')\n",
        "  print(f'Standard Dev : {statistics.pstdev(data_avg)}') "
      ],
      "metadata": {
        "colab": {
          "base_uri": "https://localhost:8080/"
        },
        "id": "ohiYHzjtkQR_",
        "outputId": "b9b44551-c557-47a1-f6b0-5ecfdf0344b2"
      },
      "id": "ohiYHzjtkQR_",
      "execution_count": null,
      "outputs": [
        {
          "output_type": "stream",
          "name": "stderr",
          "text": [
            "[nltk_data] Downloading package punkt to /root/nltk_data...\n",
            "[nltk_data]   Unzipping tokenizers/punkt.zip.\n"
          ]
        }
      ]
    },
    {
      "cell_type": "code",
      "source": [
        "#statistical insights about the training data\n",
        "insights(X_train)"
      ],
      "metadata": {
        "colab": {
          "base_uri": "https://localhost:8080/"
        },
        "id": "KFmaxMz3klBX",
        "outputId": "0e7aa1be-190a-4338-d1d4-1770ba9ea1f5"
      },
      "id": "KFmaxMz3klBX",
      "execution_count": null,
      "outputs": [
        {
          "output_type": "stream",
          "name": "stdout",
          "text": [
            "Sentence : i know who you are i know what you want you are looking at keith i can tell you you cant have him but what i have are a very particular set of skills gossiping skills i have acquired over a very long time skills that make me a nightmare for losers like you if you stop going near my boyfriend thatll be the end of it i will not talk about you i will not even think of you but if you dont i will talk about you i will spread lies about you and i will kill your reputation\n",
            "Length :101\n",
            "Average Sentence Length : 8.018292843881708\n",
            "Standard Dev : 5.699013499294065\n"
          ]
        }
      ]
    },
    {
      "cell_type": "code",
      "source": [
        "#statistical insights about the Validation data\n",
        "insights(X_validation)"
      ],
      "metadata": {
        "colab": {
          "base_uri": "https://localhost:8080/"
        },
        "id": "q8-Etff0koUL",
        "outputId": "840bc66f-11ec-451a-ab58-f830c701399d"
      },
      "id": "q8-Etff0koUL",
      "execution_count": null,
      "outputs": [
        {
          "output_type": "stream",
          "name": "stdout",
          "text": [
            "Sentence : alright mr president heres the situation we have several navy relief ships stationed in the gulf of mexico with reinforcements coming in from honduras and texas everyone to the south of this region can take a risk and rendezvous in colombia everybody north of this region is already dead those trapped in between will merge on this path and cross this line into the yellow area escape boats will be stationed in this region where victims will exit through the southeastern point they will then disperse into the atlantic ocean\n",
            "Length :90\n",
            "Average Sentence Length : 8.211444521981857\n",
            "Standard Dev : 6.214600553863805\n"
          ]
        }
      ]
    },
    {
      "cell_type": "code",
      "source": [
        "#Convert texts to sequence Then pad these sequences based on the max_len variable which is 100 in our case The max_len = 100 variable was choosen based on the criteria that majority of the sentences did fit under this value, which eventually enables us to have a dense matrix.\n",
        "\n",
        "tokenizer = Tokenizer()\n",
        "tokenizer.fit_on_texts(X_train)\n",
        "\n",
        "X_train = tokenizer.texts_to_sequences(X_train)\n",
        "X_validation = tokenizer.texts_to_sequences(X_validation)\n",
        "\n",
        "vocab_size = len(tokenizer.word_index) + 1\n",
        "\n",
        "maxlen = 100\n",
        "\n",
        "X_train = pad_sequences(X_train, padding='post', maxlen=maxlen)\n",
        "X_validation = pad_sequences(X_validation, padding='post', maxlen=maxlen)"
      ],
      "metadata": {
        "id": "4VwxUVm0kq0G"
      },
      "id": "4VwxUVm0kq0G",
      "execution_count": null,
      "outputs": []
    },
    {
      "cell_type": "code",
      "source": [
        "#chech the shape of tokenized data\n",
        "X_train.shape, X_validation.shape"
      ],
      "metadata": {
        "colab": {
          "base_uri": "https://localhost:8080/"
        },
        "id": "Cgt_zwQ3k2E4",
        "outputId": "029af3b6-4f5e-4d2f-c334-e149f6593fbc"
      },
      "id": "Cgt_zwQ3k2E4",
      "execution_count": null,
      "outputs": [
        {
          "output_type": "execute_result",
          "data": {
            "text/plain": [
              "((113651, 100), (4299, 100))"
            ]
          },
          "metadata": {},
          "execution_count": 37
        }
      ]
    },
    {
      "cell_type": "code",
      "source": [
        "embeddings_dictionary = dict()\n",
        "\n",
        "glove_file = open('glove.6B.100d.txt', encoding=\"utf8\")\n",
        "\n",
        "for line in glove_file:\n",
        "    records = line.split()\n",
        "    word = records[0]\n",
        "    vector_dimensions = asarray(records[1:], dtype='float32')\n",
        "    embeddings_dictionary[word] = vector_dimensions\n",
        "glove_file.close()\n",
        "\n",
        "embedding_matrix = zeros((vocab_size, 100))\n",
        "for word, index in tokenizer.word_index.items():\n",
        "    embedding_vector = embeddings_dictionary.get(word)\n",
        "    if embedding_vector is not None:\n",
        "        embedding_matrix[index] = embedding_vector"
      ],
      "metadata": {
        "id": "0dsgRKyEk4Wm"
      },
      "id": "0dsgRKyEk4Wm",
      "execution_count": null,
      "outputs": []
    },
    {
      "cell_type": "markdown",
      "source": [
        "# LSTM model"
      ],
      "metadata": {
        "id": "vMOme2QMlAnp"
      },
      "id": "vMOme2QMlAnp"
    },
    {
      "cell_type": "code",
      "source": [
        "def getLSTMModel():\n",
        "    deep_inputs = Input(shape=(maxlen,))\n",
        "    embedding_layer = Embedding(vocab_size, 100, weights=[embedding_matrix], trainable=False)(deep_inputs)\n",
        "    LSTM_Layer_1 = LSTM(128)(embedding_layer)\n",
        "    dense_layer_1 = Dense(1, activation='sigmoid')(LSTM_Layer_1)\n",
        "    model = Model(inputs=deep_inputs, outputs=dense_layer_1)\n",
        "    model.compile(loss='binary_crossentropy', optimizer='adam', metrics=['acc'])\n",
        "    print(model.summary())\n",
        "    return model\n",
        "\n",
        "model = getLSTMModel()\n",
        "\n",
        "history = model.fit(X_train, y_train, batch_size=128, epochs=5, verbose=1, validation_split=0.3)\n",
        "\n",
        "predictions = model.predict(X_validation)\n",
        "print(predictions[:,0])\n",
        "\n",
        "name = \"LSTM\"\n",
        "\n",
        "LSTM_results = getResults(y_validation, predictions,name)"
      ],
      "metadata": {
        "colab": {
          "base_uri": "https://localhost:8080/"
        },
        "id": "iwQP8alslDYi",
        "outputId": "3114b17c-c143-423f-da65-9755738c2f47"
      },
      "id": "iwQP8alslDYi",
      "execution_count": null,
      "outputs": [
        {
          "output_type": "stream",
          "name": "stdout",
          "text": [
            "Model: \"model_2\"\n",
            "_________________________________________________________________\n",
            " Layer (type)                Output Shape              Param #   \n",
            "=================================================================\n",
            " input_4 (InputLayer)        [(None, 100)]             0         \n",
            "                                                                 \n",
            " embedding_3 (Embedding)     (None, 100, 100)          5323300   \n",
            "                                                                 \n",
            " lstm_2 (LSTM)               (None, 128)               117248    \n",
            "                                                                 \n",
            " dense_2 (Dense)             (None, 1)                 129       \n",
            "                                                                 \n",
            "=================================================================\n",
            "Total params: 5,440,677\n",
            "Trainable params: 117,377\n",
            "Non-trainable params: 5,323,300\n",
            "_________________________________________________________________\n",
            "None\n",
            "Epoch 1/5\n",
            "622/622 [==============================] - 449s 721ms/step - loss: 0.6931 - acc: 0.5066 - val_loss: 0.6929 - val_acc: 0.5105\n",
            "Epoch 2/5\n",
            "622/622 [==============================] - 441s 709ms/step - loss: 0.6930 - acc: 0.5084 - val_loss: 0.6929 - val_acc: 0.5105\n",
            "Epoch 3/5\n",
            "622/622 [==============================] - 411s 661ms/step - loss: 0.6930 - acc: 0.5084 - val_loss: 0.6929 - val_acc: 0.5105\n",
            "Epoch 4/5\n",
            "622/622 [==============================] - 407s 655ms/step - loss: 0.6930 - acc: 0.5084 - val_loss: 0.6929 - val_acc: 0.5105\n",
            "Epoch 5/5\n",
            "622/622 [==============================] - 405s 652ms/step - loss: 0.6930 - acc: 0.5084 - val_loss: 0.6929 - val_acc: 0.5105\n",
            "135/135 [==============================] - 18s 135ms/step\n",
            "[0.49020705 0.49020705 0.49020705 ... 0.49020708 0.49020708 0.49020708]\n",
            "First 5 values before conversion : [0.49020705 0.49020705 0.49020705 0.49020705 0.49020705]\n",
            "First 5 values after the conversion : [0, 0, 0, 0, 0]\n",
            "\n",
            "========== RESULTS ===========\n",
            "\n",
            "Accuracy : 0.5040707141195627\n",
            "Precision : 0.0\n",
            "F1_score : 0.0\n",
            "Recall : 0.0\n",
            "\n",
            "===== CONFUSION MATRIX =====\n",
            "[[2167    0]\n",
            " [2132    0]]\n"
          ]
        }
      ]
    },
    {
      "cell_type": "markdown",
      "source": [
        "# Bi-directional LSTM"
      ],
      "metadata": {
        "id": "biMiblWLldgC"
      },
      "id": "biMiblWLldgC"
    },
    {
      "cell_type": "code",
      "source": [
        "def getBidirectionalModel():\n",
        "    # Input for variable-length sequences of integers\n",
        "    inputs = Input(shape=(maxlen,))\n",
        "    # Embedding layer\n",
        "    x = Embedding(vocab_size, 100, weights=[embedding_matrix], trainable=False)(inputs)\n",
        "    # Add bidirectional LSTMs\n",
        "    x = Bidirectional(LSTM(128, return_sequences=True))(x)\n",
        "    x = Bidirectional(LSTM(128))(x)\n",
        "    # Dense layer\n",
        "    outputs = Dense(1, activation=\"sigmoid\")(x)\n",
        "    model = Model(inputs, outputs)\n",
        "    print(model.summary())\n",
        "    model.compile(\"adam\", \"binary_crossentropy\", metrics=[\"accuracy\"])\n",
        "    return model\n",
        "\n",
        "model_LSTM_bi_di = getBidirectionalModel()\n",
        "\n",
        "history = model_LSTM_bi_di.fit(X_train, y_train, batch_size=128, epochs=3, verbose=1, validation_split=0.2)\n",
        "\n",
        "predictions_bi_LSTM = model_LSTM_bi_di.predict(X_validation)\n",
        "print(predictions_bi_LSTM[:,0])\n",
        "\n",
        "name = \"Bi-direction LSTM\"\n",
        "\n",
        "results_bi_LSTM = getResults(y_validation, predictions_bi_LSTM, name)"
      ],
      "metadata": {
        "colab": {
          "base_uri": "https://localhost:8080/"
        },
        "id": "BAPIRY7QlMCb",
        "outputId": "041eb5d0-4a20-478b-a696-0a602e79d4e7"
      },
      "id": "BAPIRY7QlMCb",
      "execution_count": null,
      "outputs": [
        {
          "output_type": "stream",
          "name": "stdout",
          "text": [
            "Model: \"model_3\"\n",
            "_________________________________________________________________\n",
            " Layer (type)                Output Shape              Param #   \n",
            "=================================================================\n",
            " input_5 (InputLayer)        [(None, 100)]             0         \n",
            "                                                                 \n",
            " embedding_4 (Embedding)     (None, 100, 100)          5323300   \n",
            "                                                                 \n",
            " bidirectional (Bidirectiona  (None, 100, 256)         234496    \n",
            " l)                                                              \n",
            "                                                                 \n",
            " bidirectional_1 (Bidirectio  (None, 256)              394240    \n",
            " nal)                                                            \n",
            "                                                                 \n",
            " dense_3 (Dense)             (None, 1)                 257       \n",
            "                                                                 \n",
            "=================================================================\n",
            "Total params: 5,952,293\n",
            "Trainable params: 628,993\n",
            "Non-trainable params: 5,323,300\n",
            "_________________________________________________________________\n",
            "None\n",
            "Epoch 1/3\n",
            "711/711 [==============================] - 2033s 3s/step - loss: 0.4673 - accuracy: 0.7807 - val_loss: 0.4329 - val_accuracy: 0.8031\n",
            "Epoch 2/3\n",
            "711/711 [==============================] - 1982s 3s/step - loss: 0.4111 - accuracy: 0.8136 - val_loss: 0.4159 - val_accuracy: 0.8141\n",
            "Epoch 3/3\n",
            "711/711 [==============================] - 1975s 3s/step - loss: 0.3875 - accuracy: 0.8270 - val_loss: 0.4208 - val_accuracy: 0.8117\n",
            "135/135 [==============================] - 76s 559ms/step\n",
            "[0.8320249  0.10808755 0.0989778  ... 0.95285594 0.559043   0.965688  ]\n",
            "First 5 values before conversion : [0.8320249  0.10808755 0.0989778  0.06127835 0.9773208 ]\n",
            "First 5 values after the conversion : [1, 0, 0, 0, 1]\n",
            "\n",
            "========== RESULTS ===========\n",
            "\n",
            "Accuracy : 0.8148406606187485\n",
            "Precision : 0.7837723024638913\n",
            "F1_score : 0.8225590726705307\n",
            "Recall : 0.8653846153846154\n",
            "\n",
            "===== CONFUSION MATRIX =====\n",
            "[[1658  509]\n",
            " [ 287 1845]]\n"
          ]
        }
      ]
    },
    {
      "cell_type": "code",
      "source": [
        "df_results = pd.DataFrame(list(zip(models, accuracy, f1_scores)), \n",
        "               columns =['model', 'accuracy','f1_score']) \n",
        "df_results"
      ],
      "metadata": {
        "colab": {
          "base_uri": "https://localhost:8080/",
          "height": 173
        },
        "id": "P_6FHN-sljPb",
        "outputId": "0ce1a0d4-45b0-4bf9-cb3d-03ee5aeb1167"
      },
      "id": "P_6FHN-sljPb",
      "execution_count": null,
      "outputs": [
        {
          "output_type": "execute_result",
          "data": {
            "text/plain": [
              "                                            model  accuracy  f1_score\n",
              "0  Sequential model + Keras Embedding Layer + CNN  0.773901  0.763619\n",
              "1  Sequential model + Glove Embedding Layer + CNN  0.772040  0.771668\n",
              "2                                            LSTM  0.504071  0.000000\n",
              "3                               Bi-direction LSTM  0.814841  0.822559"
            ],
            "text/html": [
              "\n",
              "  <div id=\"df-42af60bf-e540-4a5d-837d-f410ec703da0\">\n",
              "    <div class=\"colab-df-container\">\n",
              "      <div>\n",
              "<style scoped>\n",
              "    .dataframe tbody tr th:only-of-type {\n",
              "        vertical-align: middle;\n",
              "    }\n",
              "\n",
              "    .dataframe tbody tr th {\n",
              "        vertical-align: top;\n",
              "    }\n",
              "\n",
              "    .dataframe thead th {\n",
              "        text-align: right;\n",
              "    }\n",
              "</style>\n",
              "<table border=\"1\" class=\"dataframe\">\n",
              "  <thead>\n",
              "    <tr style=\"text-align: right;\">\n",
              "      <th></th>\n",
              "      <th>model</th>\n",
              "      <th>accuracy</th>\n",
              "      <th>f1_score</th>\n",
              "    </tr>\n",
              "  </thead>\n",
              "  <tbody>\n",
              "    <tr>\n",
              "      <th>0</th>\n",
              "      <td>Sequential model + Keras Embedding Layer + CNN</td>\n",
              "      <td>0.773901</td>\n",
              "      <td>0.763619</td>\n",
              "    </tr>\n",
              "    <tr>\n",
              "      <th>1</th>\n",
              "      <td>Sequential model + Glove Embedding Layer + CNN</td>\n",
              "      <td>0.772040</td>\n",
              "      <td>0.771668</td>\n",
              "    </tr>\n",
              "    <tr>\n",
              "      <th>2</th>\n",
              "      <td>LSTM</td>\n",
              "      <td>0.504071</td>\n",
              "      <td>0.000000</td>\n",
              "    </tr>\n",
              "    <tr>\n",
              "      <th>3</th>\n",
              "      <td>Bi-direction LSTM</td>\n",
              "      <td>0.814841</td>\n",
              "      <td>0.822559</td>\n",
              "    </tr>\n",
              "  </tbody>\n",
              "</table>\n",
              "</div>\n",
              "      <button class=\"colab-df-convert\" onclick=\"convertToInteractive('df-42af60bf-e540-4a5d-837d-f410ec703da0')\"\n",
              "              title=\"Convert this dataframe to an interactive table.\"\n",
              "              style=\"display:none;\">\n",
              "        \n",
              "  <svg xmlns=\"http://www.w3.org/2000/svg\" height=\"24px\"viewBox=\"0 0 24 24\"\n",
              "       width=\"24px\">\n",
              "    <path d=\"M0 0h24v24H0V0z\" fill=\"none\"/>\n",
              "    <path d=\"M18.56 5.44l.94 2.06.94-2.06 2.06-.94-2.06-.94-.94-2.06-.94 2.06-2.06.94zm-11 1L8.5 8.5l.94-2.06 2.06-.94-2.06-.94L8.5 2.5l-.94 2.06-2.06.94zm10 10l.94 2.06.94-2.06 2.06-.94-2.06-.94-.94-2.06-.94 2.06-2.06.94z\"/><path d=\"M17.41 7.96l-1.37-1.37c-.4-.4-.92-.59-1.43-.59-.52 0-1.04.2-1.43.59L10.3 9.45l-7.72 7.72c-.78.78-.78 2.05 0 2.83L4 21.41c.39.39.9.59 1.41.59.51 0 1.02-.2 1.41-.59l7.78-7.78 2.81-2.81c.8-.78.8-2.07 0-2.86zM5.41 20L4 18.59l7.72-7.72 1.47 1.35L5.41 20z\"/>\n",
              "  </svg>\n",
              "      </button>\n",
              "      \n",
              "  <style>\n",
              "    .colab-df-container {\n",
              "      display:flex;\n",
              "      flex-wrap:wrap;\n",
              "      gap: 12px;\n",
              "    }\n",
              "\n",
              "    .colab-df-convert {\n",
              "      background-color: #E8F0FE;\n",
              "      border: none;\n",
              "      border-radius: 50%;\n",
              "      cursor: pointer;\n",
              "      display: none;\n",
              "      fill: #1967D2;\n",
              "      height: 32px;\n",
              "      padding: 0 0 0 0;\n",
              "      width: 32px;\n",
              "    }\n",
              "\n",
              "    .colab-df-convert:hover {\n",
              "      background-color: #E2EBFA;\n",
              "      box-shadow: 0px 1px 2px rgba(60, 64, 67, 0.3), 0px 1px 3px 1px rgba(60, 64, 67, 0.15);\n",
              "      fill: #174EA6;\n",
              "    }\n",
              "\n",
              "    [theme=dark] .colab-df-convert {\n",
              "      background-color: #3B4455;\n",
              "      fill: #D2E3FC;\n",
              "    }\n",
              "\n",
              "    [theme=dark] .colab-df-convert:hover {\n",
              "      background-color: #434B5C;\n",
              "      box-shadow: 0px 1px 3px 1px rgba(0, 0, 0, 0.15);\n",
              "      filter: drop-shadow(0px 1px 2px rgba(0, 0, 0, 0.3));\n",
              "      fill: #FFFFFF;\n",
              "    }\n",
              "  </style>\n",
              "\n",
              "      <script>\n",
              "        const buttonEl =\n",
              "          document.querySelector('#df-42af60bf-e540-4a5d-837d-f410ec703da0 button.colab-df-convert');\n",
              "        buttonEl.style.display =\n",
              "          google.colab.kernel.accessAllowed ? 'block' : 'none';\n",
              "\n",
              "        async function convertToInteractive(key) {\n",
              "          const element = document.querySelector('#df-42af60bf-e540-4a5d-837d-f410ec703da0');\n",
              "          const dataTable =\n",
              "            await google.colab.kernel.invokeFunction('convertToInteractive',\n",
              "                                                     [key], {});\n",
              "          if (!dataTable) return;\n",
              "\n",
              "          const docLinkHtml = 'Like what you see? Visit the ' +\n",
              "            '<a target=\"_blank\" href=https://colab.research.google.com/notebooks/data_table.ipynb>data table notebook</a>'\n",
              "            + ' to learn more about interactive tables.';\n",
              "          element.innerHTML = '';\n",
              "          dataTable['output_type'] = 'display_data';\n",
              "          await google.colab.output.renderOutput(dataTable, element);\n",
              "          const docLink = document.createElement('div');\n",
              "          docLink.innerHTML = docLinkHtml;\n",
              "          element.appendChild(docLink);\n",
              "        }\n",
              "      </script>\n",
              "    </div>\n",
              "  </div>\n",
              "  "
            ]
          },
          "metadata": {},
          "execution_count": 46
        }
      ]
    },
    {
      "cell_type": "code",
      "source": [],
      "metadata": {
        "id": "fTfXKskqsFFu"
      },
      "id": "fTfXKskqsFFu",
      "execution_count": null,
      "outputs": []
    }
  ],
  "metadata": {
    "accelerator": "GPU",
    "colab": {
      "collapsed_sections": [
        "p2T6wYWbVwkH",
        "I80zAijS4rQX"
      ],
      "provenance": []
    },
    "gpuClass": "standard",
    "kernelspec": {
      "display_name": "Python 3 (ipykernel)",
      "language": "python",
      "name": "python3"
    },
    "language_info": {
      "codemirror_mode": {
        "name": "ipython",
        "version": 3
      },
      "file_extension": ".py",
      "mimetype": "text/x-python",
      "name": "python",
      "nbconvert_exporter": "python",
      "pygments_lexer": "ipython3",
      "version": "3.9.13"
    }
  },
  "nbformat": 4,
  "nbformat_minor": 5
}