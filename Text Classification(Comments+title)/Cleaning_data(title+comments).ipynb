{
  "cells": [
    {
      "cell_type": "code",
      "execution_count": 1,
      "metadata": {
        "colab": {
          "base_uri": "https://localhost:8080/"
        },
        "id": "f330edb0",
        "outputId": "47c9c76a-08a7-479c-d82e-9ccc8fd7f7bd"
      },
      "outputs": [
        {
          "output_type": "stream",
          "name": "stdout",
          "text": [
            "/content\n"
          ]
        }
      ],
      "source": [
        "#necessary packages\n",
        "import pandas as pd\n",
        "import numpy as np\n",
        "\n",
        "import os\n",
        "working_directory = os.getcwd()\n",
        "print(working_directory)\n",
        "\n",
        "\n",
        "import warnings\n",
        "warnings.filterwarnings('ignore')"
      ],
      "id": "f330edb0"
    },
    {
      "cell_type": "code",
      "execution_count": null,
      "metadata": {
        "colab": {
          "base_uri": "https://localhost:8080/"
        },
        "id": "3rljKG3n-W30",
        "outputId": "6efb2cc7-e79c-4786-8936-a4820a1b1404"
      },
      "outputs": [
        {
          "output_type": "stream",
          "name": "stdout",
          "text": [
            "Mounted at /content/drive\n"
          ]
        }
      ],
      "source": [
        "from google.colab import drive\n",
        "\n",
        "drive.mount('/content/drive')"
      ],
      "id": "3rljKG3n-W30"
    },
    {
      "cell_type": "code",
      "execution_count": null,
      "metadata": {
        "id": "9K11cr4x-6Yz"
      },
      "outputs": [],
      "source": [
        "working_directory = '/content/drive/My Drive/project'"
      ],
      "id": "9K11cr4x-6Yz"
    },
    {
      "cell_type": "code",
      "execution_count": null,
      "metadata": {
        "id": "59d406d0"
      },
      "outputs": [],
      "source": [
        "\n",
        "path_train = working_directory + '/all_samples /all_train.tsv'\n",
        "path_test = working_directory + '/all_samples /all_test_public.tsv'\n",
        "path_validation = working_directory + '/all_samples /all_validate.tsv'\n",
        "\n",
        "\n",
        "df_train = pd.read_csv(path_train,sep='\\t')\n",
        "df_test = pd.read_csv(path_test,sep='\\t')\n",
        "df_validation = pd.read_csv(path_validation,sep='\\t')"
      ],
      "id": "59d406d0"
    },
    {
      "cell_type": "code",
      "execution_count": null,
      "metadata": {
        "id": "465afa97"
      },
      "outputs": [],
      "source": [
        "#Loading the comments data.\n",
        "\n",
        "path_comments = working_directory + '/all_samples /all_comments.tsv'\n",
        "\n",
        "df_coments = pd.read_csv(path_comments,sep='\\t')\n"
      ],
      "id": "465afa97"
    },
    {
      "cell_type": "markdown",
      "source": [
        "Preprocessing:\n",
        "\n",
        "\n",
        "  Text preprocessing is a technique to tidy up the text data and get it ready to be fed into the model. Text data includes noise in a variety of ways, including sentiments, syntax, and words in different case. There are numerous ways to describe the same thing in human language, but this is the key issue we must solve since machines cannot comprehend words; they want numbers, thus we must effectively translate text into numbers.\n",
        "\n",
        "In fakeddit dataset, training data have only post-title's and related features but comments for each posts are located in different dataset. So, following functions helps to extract necessary information from both datasets as\n",
        "\n",
        "\n",
        "\n",
        "1.   preprocessing - each row in \"comments\" dataset records for each comment on posts and each post may have comments ranging from 0-500 . So, groups the comments based on submission id using \"inner-join\". Then checks for duplicates and removes them effectively.\n",
        "\n",
        "2.   clean - In \"posts\" dataset, clean-title is the feature that we need for model but has some missing values. As clean_title is a version of title, replacing the clean_title's missing values with corresponding values in the title feature. Then check for duplicate values.\n",
        "\n",
        "\n",
        "3.   cleaning_data - Extracts the necessary coolumns from the datasets namely 'id','clean_title','title','2_way_label','num_comments.\n",
        "\n",
        "4.   text_clean - Removes the noise such as Url's from the text, numbers and special charecters from the dataset.\n",
        "\n",
        "    \n",
        "\n"
      ],
      "metadata": {
        "id": "MHG7sHKrKPrv"
      },
      "id": "MHG7sHKrKPrv"
    },
    {
      "cell_type": "code",
      "execution_count": null,
      "metadata": {
        "id": "8976d659"
      },
      "outputs": [],
      "source": [
        "def preprocessing(data):\n",
        "    \n",
        "    \n",
        "    #grouping the all comments based on submission id\n",
        "    comments = data.dropna(subset=['body']).groupby(['submission_id'], as_index = False).agg({'body': ' '.join})\n",
        "\n",
        "    \n",
        "    #checking for duplicate values\n",
        "    duplicates = comments.duplicated().sum()\n",
        "    \n",
        "    if (duplicates==0):\n",
        "        print(\"No duplicates found\")\n",
        "    else:\n",
        "        comments = pd.DataFrame.drop_duplicates(comments)\n",
        "    \n",
        "    return comments"
      ],
      "id": "8976d659"
    },
    {
      "cell_type": "code",
      "execution_count": null,
      "metadata": {
        "id": "2f2fe297"
      },
      "outputs": [],
      "source": [
        "def clean(data):\n",
        "    \n",
        "    # As clean_title is a version of title, replacing the clean_title's missing values with corresponding values in the title feature.\n",
        "    \n",
        "    data['clean_title'] = data['title'].where(data['clean_title'].isna(), data['clean_title'])\n",
        "\n",
        "    \n",
        "    #drop unnecessary features\n",
        "\n",
        "    data = data.drop(data[data.num_comments > 50].index)\n",
        "    \n",
        "    clean_data = data[['body','clean_title','2_way_label']]\n",
        "    return clean_data\n",
        "    "
      ],
      "id": "2f2fe297"
    },
    {
      "cell_type": "code",
      "execution_count": null,
      "metadata": {
        "id": "018b6fcd"
      },
      "outputs": [],
      "source": [
        "def cleaning_data(data):\n",
        "    \n",
        "    #checking for duplicate values\n",
        "    duplicates = data.duplicated().sum()\n",
        "    \n",
        "    if (duplicates==0):\n",
        "        print(\"No duplicates found\")\n",
        "    else:\n",
        "        data = pd.DataFrame.drop_duplicates(data)\n",
        "        \n",
        "    # Dropping columns\n",
        "    data = data[['id','clean_title','title','2_way_label','num_comments']]\n",
        "    return data\n",
        "    \n",
        "    "
      ],
      "id": "018b6fcd"
    },
    {
      "cell_type": "code",
      "execution_count": null,
      "metadata": {
        "colab": {
          "base_uri": "https://localhost:8080/",
          "height": 436
        },
        "id": "94e442d3",
        "outputId": "f37bf4b6-3397-4795-e432-eda7d4eb35b9"
      },
      "outputs": [
        {
          "output_type": "stream",
          "name": "stdout",
          "text": [
            "No duplicates found\n"
          ]
        },
        {
          "output_type": "execute_result",
          "data": {
            "text/plain": [
              "       submission_id                                               body\n",
              "0             10012t  By sheer happenstance, the person who institut...\n",
              "1             10024l                                Holy Ganges Batman.\n",
              "2             1002bi  Maybe if they had been swallowing in the first...\n",
              "3             1005ae  http://i.imgur.com/70m4v.jpg http://i.imgur.co...\n",
              "4             10076s  [deleted] http://i.imgur.com/wqZDC.jpg http://...\n",
              "...              ...                                                ...\n",
              "618939         zzqvk  [Swap](http://i.imgur.com/Y3Vx1.jpg) [They're ...\n",
              "618940         zzt18  [Obligitory face swap.](http://i.imgur.com/Gwu...\n",
              "618941         zztjs  [My Halloween crop had a wonderful harvest thi...\n",
              "618942         zzvp9  [inspired by some other sub-reddit](http://i.i...\n",
              "618943         zzvqw  [deleted] a few poeple on anonymous message bo...\n",
              "\n",
              "[618944 rows x 2 columns]"
            ],
            "text/html": [
              "\n",
              "  <div id=\"df-b580b77b-765d-448b-9f0b-03ef3c0433b3\">\n",
              "    <div class=\"colab-df-container\">\n",
              "      <div>\n",
              "<style scoped>\n",
              "    .dataframe tbody tr th:only-of-type {\n",
              "        vertical-align: middle;\n",
              "    }\n",
              "\n",
              "    .dataframe tbody tr th {\n",
              "        vertical-align: top;\n",
              "    }\n",
              "\n",
              "    .dataframe thead th {\n",
              "        text-align: right;\n",
              "    }\n",
              "</style>\n",
              "<table border=\"1\" class=\"dataframe\">\n",
              "  <thead>\n",
              "    <tr style=\"text-align: right;\">\n",
              "      <th></th>\n",
              "      <th>submission_id</th>\n",
              "      <th>body</th>\n",
              "    </tr>\n",
              "  </thead>\n",
              "  <tbody>\n",
              "    <tr>\n",
              "      <th>0</th>\n",
              "      <td>10012t</td>\n",
              "      <td>By sheer happenstance, the person who institut...</td>\n",
              "    </tr>\n",
              "    <tr>\n",
              "      <th>1</th>\n",
              "      <td>10024l</td>\n",
              "      <td>Holy Ganges Batman.</td>\n",
              "    </tr>\n",
              "    <tr>\n",
              "      <th>2</th>\n",
              "      <td>1002bi</td>\n",
              "      <td>Maybe if they had been swallowing in the first...</td>\n",
              "    </tr>\n",
              "    <tr>\n",
              "      <th>3</th>\n",
              "      <td>1005ae</td>\n",
              "      <td>http://i.imgur.com/70m4v.jpg http://i.imgur.co...</td>\n",
              "    </tr>\n",
              "    <tr>\n",
              "      <th>4</th>\n",
              "      <td>10076s</td>\n",
              "      <td>[deleted] http://i.imgur.com/wqZDC.jpg http://...</td>\n",
              "    </tr>\n",
              "    <tr>\n",
              "      <th>...</th>\n",
              "      <td>...</td>\n",
              "      <td>...</td>\n",
              "    </tr>\n",
              "    <tr>\n",
              "      <th>618939</th>\n",
              "      <td>zzqvk</td>\n",
              "      <td>[Swap](http://i.imgur.com/Y3Vx1.jpg) [They're ...</td>\n",
              "    </tr>\n",
              "    <tr>\n",
              "      <th>618940</th>\n",
              "      <td>zzt18</td>\n",
              "      <td>[Obligitory face swap.](http://i.imgur.com/Gwu...</td>\n",
              "    </tr>\n",
              "    <tr>\n",
              "      <th>618941</th>\n",
              "      <td>zztjs</td>\n",
              "      <td>[My Halloween crop had a wonderful harvest thi...</td>\n",
              "    </tr>\n",
              "    <tr>\n",
              "      <th>618942</th>\n",
              "      <td>zzvp9</td>\n",
              "      <td>[inspired by some other sub-reddit](http://i.i...</td>\n",
              "    </tr>\n",
              "    <tr>\n",
              "      <th>618943</th>\n",
              "      <td>zzvqw</td>\n",
              "      <td>[deleted] a few poeple on anonymous message bo...</td>\n",
              "    </tr>\n",
              "  </tbody>\n",
              "</table>\n",
              "<p>618944 rows × 2 columns</p>\n",
              "</div>\n",
              "      <button class=\"colab-df-convert\" onclick=\"convertToInteractive('df-b580b77b-765d-448b-9f0b-03ef3c0433b3')\"\n",
              "              title=\"Convert this dataframe to an interactive table.\"\n",
              "              style=\"display:none;\">\n",
              "        \n",
              "  <svg xmlns=\"http://www.w3.org/2000/svg\" height=\"24px\"viewBox=\"0 0 24 24\"\n",
              "       width=\"24px\">\n",
              "    <path d=\"M0 0h24v24H0V0z\" fill=\"none\"/>\n",
              "    <path d=\"M18.56 5.44l.94 2.06.94-2.06 2.06-.94-2.06-.94-.94-2.06-.94 2.06-2.06.94zm-11 1L8.5 8.5l.94-2.06 2.06-.94-2.06-.94L8.5 2.5l-.94 2.06-2.06.94zm10 10l.94 2.06.94-2.06 2.06-.94-2.06-.94-.94-2.06-.94 2.06-2.06.94z\"/><path d=\"M17.41 7.96l-1.37-1.37c-.4-.4-.92-.59-1.43-.59-.52 0-1.04.2-1.43.59L10.3 9.45l-7.72 7.72c-.78.78-.78 2.05 0 2.83L4 21.41c.39.39.9.59 1.41.59.51 0 1.02-.2 1.41-.59l7.78-7.78 2.81-2.81c.8-.78.8-2.07 0-2.86zM5.41 20L4 18.59l7.72-7.72 1.47 1.35L5.41 20z\"/>\n",
              "  </svg>\n",
              "      </button>\n",
              "      \n",
              "  <style>\n",
              "    .colab-df-container {\n",
              "      display:flex;\n",
              "      flex-wrap:wrap;\n",
              "      gap: 12px;\n",
              "    }\n",
              "\n",
              "    .colab-df-convert {\n",
              "      background-color: #E8F0FE;\n",
              "      border: none;\n",
              "      border-radius: 50%;\n",
              "      cursor: pointer;\n",
              "      display: none;\n",
              "      fill: #1967D2;\n",
              "      height: 32px;\n",
              "      padding: 0 0 0 0;\n",
              "      width: 32px;\n",
              "    }\n",
              "\n",
              "    .colab-df-convert:hover {\n",
              "      background-color: #E2EBFA;\n",
              "      box-shadow: 0px 1px 2px rgba(60, 64, 67, 0.3), 0px 1px 3px 1px rgba(60, 64, 67, 0.15);\n",
              "      fill: #174EA6;\n",
              "    }\n",
              "\n",
              "    [theme=dark] .colab-df-convert {\n",
              "      background-color: #3B4455;\n",
              "      fill: #D2E3FC;\n",
              "    }\n",
              "\n",
              "    [theme=dark] .colab-df-convert:hover {\n",
              "      background-color: #434B5C;\n",
              "      box-shadow: 0px 1px 3px 1px rgba(0, 0, 0, 0.15);\n",
              "      filter: drop-shadow(0px 1px 2px rgba(0, 0, 0, 0.3));\n",
              "      fill: #FFFFFF;\n",
              "    }\n",
              "  </style>\n",
              "\n",
              "      <script>\n",
              "        const buttonEl =\n",
              "          document.querySelector('#df-b580b77b-765d-448b-9f0b-03ef3c0433b3 button.colab-df-convert');\n",
              "        buttonEl.style.display =\n",
              "          google.colab.kernel.accessAllowed ? 'block' : 'none';\n",
              "\n",
              "        async function convertToInteractive(key) {\n",
              "          const element = document.querySelector('#df-b580b77b-765d-448b-9f0b-03ef3c0433b3');\n",
              "          const dataTable =\n",
              "            await google.colab.kernel.invokeFunction('convertToInteractive',\n",
              "                                                     [key], {});\n",
              "          if (!dataTable) return;\n",
              "\n",
              "          const docLinkHtml = 'Like what you see? Visit the ' +\n",
              "            '<a target=\"_blank\" href=https://colab.research.google.com/notebooks/data_table.ipynb>data table notebook</a>'\n",
              "            + ' to learn more about interactive tables.';\n",
              "          element.innerHTML = '';\n",
              "          dataTable['output_type'] = 'display_data';\n",
              "          await google.colab.output.renderOutput(dataTable, element);\n",
              "          const docLink = document.createElement('div');\n",
              "          docLink.innerHTML = docLinkHtml;\n",
              "          element.appendChild(docLink);\n",
              "        }\n",
              "      </script>\n",
              "    </div>\n",
              "  </div>\n",
              "  "
            ]
          },
          "metadata": {},
          "execution_count": 9
        }
      ],
      "source": [
        "df_coments =preprocessing(df_coments)\n",
        "df_coments"
      ],
      "id": "94e442d3"
    },
    {
      "cell_type": "code",
      "execution_count": null,
      "metadata": {
        "id": "oOoKKwzrDUhJ"
      },
      "outputs": [],
      "source": [
        "import re\n",
        "\n",
        "\n",
        "spec_chars = [\"!\",'\"',\"#\",\"%\",\"&\",\"'\",\"(\",\")\",\n",
        "              \"*\",\"+\",\",\",\"-\",\".\",\"/\",\":\",\";\",\"<\",\n",
        "              \"=\",\">\",\"?\",\"@\",\"[\",\"\\\\\",\"]\",\"\\n\",\"^\",\"_\",\n",
        "              \"`\",\"{\",\"|\",\"}\",\"~\",\"–\"]\n",
        "\n",
        "def text_clean(data):\n",
        "    \n",
        "    #removing Url's from the body text\n",
        "    data['body'] = data['body'].str.replace(r'https?://\\S+','')\n",
        "    \n",
        "    # removing numbers from dataframe\n",
        "    data['body'] = data['body'].str.replace('\\d+', '')\n",
        "    \n",
        "    #removing special characters from the body\n",
        "    \n",
        "    for char in spec_chars:\n",
        "        data['body'] = data['body'].str.replace(char, '')\n",
        "        \n",
        "    return data"
      ],
      "id": "oOoKKwzrDUhJ"
    },
    {
      "cell_type": "code",
      "execution_count": null,
      "metadata": {
        "colab": {
          "base_uri": "https://localhost:8080/",
          "height": 367
        },
        "id": "1eaba44a",
        "outputId": "41729736-1522-4034-f3a1-cfe584a9322d"
      },
      "outputs": [
        {
          "output_type": "stream",
          "name": "stdout",
          "text": [
            "No duplicates found\n",
            "Shape of Train dataset after merging (456890, 3)\n"
          ]
        },
        {
          "output_type": "execute_result",
          "data": {
            "text/plain": [
              "                                                body  \\\n",
              "0  By sheer happenstance the person who institute...   \n",
              "1                                 Holy Ganges Batman   \n",
              "2  Maybe if they had been swallowing in the first...   \n",
              "3  deleted   Fixed Adjusted to the appropriate co...   \n",
              "4  Photoshop MagicHair is difficult She looks pre...   \n",
              "\n",
              "                                         clean_title  2_way_label  \n",
              "0  beauty pageant organizers mandate that contest...            1  \n",
              "1      morning boat traffic on the holy ganges river            1  \n",
              "2  a recent study theorizes that ingesting semen ...            1  \n",
              "3  oddball banana cross post from rmildlyinteresting            1  \n",
              "4                        a flying cheerleader now go            1  "
            ],
            "text/html": [
              "\n",
              "  <div id=\"df-fcf06187-7795-4645-85db-33e4d8efa426\">\n",
              "    <div class=\"colab-df-container\">\n",
              "      <div>\n",
              "<style scoped>\n",
              "    .dataframe tbody tr th:only-of-type {\n",
              "        vertical-align: middle;\n",
              "    }\n",
              "\n",
              "    .dataframe tbody tr th {\n",
              "        vertical-align: top;\n",
              "    }\n",
              "\n",
              "    .dataframe thead th {\n",
              "        text-align: right;\n",
              "    }\n",
              "</style>\n",
              "<table border=\"1\" class=\"dataframe\">\n",
              "  <thead>\n",
              "    <tr style=\"text-align: right;\">\n",
              "      <th></th>\n",
              "      <th>body</th>\n",
              "      <th>clean_title</th>\n",
              "      <th>2_way_label</th>\n",
              "    </tr>\n",
              "  </thead>\n",
              "  <tbody>\n",
              "    <tr>\n",
              "      <th>0</th>\n",
              "      <td>By sheer happenstance the person who institute...</td>\n",
              "      <td>beauty pageant organizers mandate that contest...</td>\n",
              "      <td>1</td>\n",
              "    </tr>\n",
              "    <tr>\n",
              "      <th>1</th>\n",
              "      <td>Holy Ganges Batman</td>\n",
              "      <td>morning boat traffic on the holy ganges river</td>\n",
              "      <td>1</td>\n",
              "    </tr>\n",
              "    <tr>\n",
              "      <th>2</th>\n",
              "      <td>Maybe if they had been swallowing in the first...</td>\n",
              "      <td>a recent study theorizes that ingesting semen ...</td>\n",
              "      <td>1</td>\n",
              "    </tr>\n",
              "    <tr>\n",
              "      <th>3</th>\n",
              "      <td>deleted   Fixed Adjusted to the appropriate co...</td>\n",
              "      <td>oddball banana cross post from rmildlyinteresting</td>\n",
              "      <td>1</td>\n",
              "    </tr>\n",
              "    <tr>\n",
              "      <th>4</th>\n",
              "      <td>Photoshop MagicHair is difficult She looks pre...</td>\n",
              "      <td>a flying cheerleader now go</td>\n",
              "      <td>1</td>\n",
              "    </tr>\n",
              "  </tbody>\n",
              "</table>\n",
              "</div>\n",
              "      <button class=\"colab-df-convert\" onclick=\"convertToInteractive('df-fcf06187-7795-4645-85db-33e4d8efa426')\"\n",
              "              title=\"Convert this dataframe to an interactive table.\"\n",
              "              style=\"display:none;\">\n",
              "        \n",
              "  <svg xmlns=\"http://www.w3.org/2000/svg\" height=\"24px\"viewBox=\"0 0 24 24\"\n",
              "       width=\"24px\">\n",
              "    <path d=\"M0 0h24v24H0V0z\" fill=\"none\"/>\n",
              "    <path d=\"M18.56 5.44l.94 2.06.94-2.06 2.06-.94-2.06-.94-.94-2.06-.94 2.06-2.06.94zm-11 1L8.5 8.5l.94-2.06 2.06-.94-2.06-.94L8.5 2.5l-.94 2.06-2.06.94zm10 10l.94 2.06.94-2.06 2.06-.94-2.06-.94-.94-2.06-.94 2.06-2.06.94z\"/><path d=\"M17.41 7.96l-1.37-1.37c-.4-.4-.92-.59-1.43-.59-.52 0-1.04.2-1.43.59L10.3 9.45l-7.72 7.72c-.78.78-.78 2.05 0 2.83L4 21.41c.39.39.9.59 1.41.59.51 0 1.02-.2 1.41-.59l7.78-7.78 2.81-2.81c.8-.78.8-2.07 0-2.86zM5.41 20L4 18.59l7.72-7.72 1.47 1.35L5.41 20z\"/>\n",
              "  </svg>\n",
              "      </button>\n",
              "      \n",
              "  <style>\n",
              "    .colab-df-container {\n",
              "      display:flex;\n",
              "      flex-wrap:wrap;\n",
              "      gap: 12px;\n",
              "    }\n",
              "\n",
              "    .colab-df-convert {\n",
              "      background-color: #E8F0FE;\n",
              "      border: none;\n",
              "      border-radius: 50%;\n",
              "      cursor: pointer;\n",
              "      display: none;\n",
              "      fill: #1967D2;\n",
              "      height: 32px;\n",
              "      padding: 0 0 0 0;\n",
              "      width: 32px;\n",
              "    }\n",
              "\n",
              "    .colab-df-convert:hover {\n",
              "      background-color: #E2EBFA;\n",
              "      box-shadow: 0px 1px 2px rgba(60, 64, 67, 0.3), 0px 1px 3px 1px rgba(60, 64, 67, 0.15);\n",
              "      fill: #174EA6;\n",
              "    }\n",
              "\n",
              "    [theme=dark] .colab-df-convert {\n",
              "      background-color: #3B4455;\n",
              "      fill: #D2E3FC;\n",
              "    }\n",
              "\n",
              "    [theme=dark] .colab-df-convert:hover {\n",
              "      background-color: #434B5C;\n",
              "      box-shadow: 0px 1px 3px 1px rgba(0, 0, 0, 0.15);\n",
              "      filter: drop-shadow(0px 1px 2px rgba(0, 0, 0, 0.3));\n",
              "      fill: #FFFFFF;\n",
              "    }\n",
              "  </style>\n",
              "\n",
              "      <script>\n",
              "        const buttonEl =\n",
              "          document.querySelector('#df-fcf06187-7795-4645-85db-33e4d8efa426 button.colab-df-convert');\n",
              "        buttonEl.style.display =\n",
              "          google.colab.kernel.accessAllowed ? 'block' : 'none';\n",
              "\n",
              "        async function convertToInteractive(key) {\n",
              "          const element = document.querySelector('#df-fcf06187-7795-4645-85db-33e4d8efa426');\n",
              "          const dataTable =\n",
              "            await google.colab.kernel.invokeFunction('convertToInteractive',\n",
              "                                                     [key], {});\n",
              "          if (!dataTable) return;\n",
              "\n",
              "          const docLinkHtml = 'Like what you see? Visit the ' +\n",
              "            '<a target=\"_blank\" href=https://colab.research.google.com/notebooks/data_table.ipynb>data table notebook</a>'\n",
              "            + ' to learn more about interactive tables.';\n",
              "          element.innerHTML = '';\n",
              "          dataTable['output_type'] = 'display_data';\n",
              "          await google.colab.output.renderOutput(dataTable, element);\n",
              "          const docLink = document.createElement('div');\n",
              "          docLink.innerHTML = docLinkHtml;\n",
              "          element.appendChild(docLink);\n",
              "        }\n",
              "      </script>\n",
              "    </div>\n",
              "  </div>\n",
              "  "
            ]
          },
          "metadata": {},
          "execution_count": 11
        }
      ],
      "source": [
        "# Merging the train and comments dataset based on \"Submission_id\" and \"id\" columns\n",
        "df_train =cleaning_data(df_train)\n",
        "\n",
        "df_train = pd.merge(df_coments, df_train, left_on=['submission_id'], right_on = ['id'])\n",
        "\n",
        "df_train = clean(df_train)\n",
        "\n",
        "df_train = text_clean(df_train)\n",
        "print(\"Shape of Train dataset after merging\", df_train.shape)\n",
        "\n",
        "df_train.head()"
      ],
      "id": "1eaba44a"
    },
    {
      "cell_type": "code",
      "execution_count": null,
      "metadata": {
        "colab": {
          "base_uri": "https://localhost:8080/",
          "height": 367
        },
        "id": "a8c5af85",
        "outputId": "d052249c-4afc-45d9-e481-e18779d490d5"
      },
      "outputs": [
        {
          "output_type": "stream",
          "name": "stdout",
          "text": [
            "No duplicates found\n",
            "Shape of Validation dataset after merging (47908, 3)\n"
          ]
        },
        {
          "output_type": "execute_result",
          "data": {
            "text/plain": [
              "                                                body  \\\n",
              "0    I stab people  four five people a dayAlso wr...   \n",
              "1  Crazy lady  Somehow this passed under my radar...   \n",
              "2  I did some facebombing I had amyotrophic later...   \n",
              "3  If you get caught by your boss watching it its...   \n",
              "5  I would gladly do this actually I mean now tha...   \n",
              "\n",
              "                                         clean_title  2_way_label  \n",
              "0        be thankful this doesnt happen in your town            1  \n",
              "1                        jubilant pepper is jubilant            0  \n",
              "2                 drunk guy at party shows potential            1  \n",
              "3                   some say nsfw i say its a carrot            0  \n",
              "5  maker of puzzle finds few wanting to try it ws...            1  "
            ],
            "text/html": [
              "\n",
              "  <div id=\"df-53476d2a-dbb2-4d0b-b490-634c1471d675\">\n",
              "    <div class=\"colab-df-container\">\n",
              "      <div>\n",
              "<style scoped>\n",
              "    .dataframe tbody tr th:only-of-type {\n",
              "        vertical-align: middle;\n",
              "    }\n",
              "\n",
              "    .dataframe tbody tr th {\n",
              "        vertical-align: top;\n",
              "    }\n",
              "\n",
              "    .dataframe thead th {\n",
              "        text-align: right;\n",
              "    }\n",
              "</style>\n",
              "<table border=\"1\" class=\"dataframe\">\n",
              "  <thead>\n",
              "    <tr style=\"text-align: right;\">\n",
              "      <th></th>\n",
              "      <th>body</th>\n",
              "      <th>clean_title</th>\n",
              "      <th>2_way_label</th>\n",
              "    </tr>\n",
              "  </thead>\n",
              "  <tbody>\n",
              "    <tr>\n",
              "      <th>0</th>\n",
              "      <td>I stab people  four five people a dayAlso wr...</td>\n",
              "      <td>be thankful this doesnt happen in your town</td>\n",
              "      <td>1</td>\n",
              "    </tr>\n",
              "    <tr>\n",
              "      <th>1</th>\n",
              "      <td>Crazy lady  Somehow this passed under my radar...</td>\n",
              "      <td>jubilant pepper is jubilant</td>\n",
              "      <td>0</td>\n",
              "    </tr>\n",
              "    <tr>\n",
              "      <th>2</th>\n",
              "      <td>I did some facebombing I had amyotrophic later...</td>\n",
              "      <td>drunk guy at party shows potential</td>\n",
              "      <td>1</td>\n",
              "    </tr>\n",
              "    <tr>\n",
              "      <th>3</th>\n",
              "      <td>If you get caught by your boss watching it its...</td>\n",
              "      <td>some say nsfw i say its a carrot</td>\n",
              "      <td>0</td>\n",
              "    </tr>\n",
              "    <tr>\n",
              "      <th>5</th>\n",
              "      <td>I would gladly do this actually I mean now tha...</td>\n",
              "      <td>maker of puzzle finds few wanting to try it ws...</td>\n",
              "      <td>1</td>\n",
              "    </tr>\n",
              "  </tbody>\n",
              "</table>\n",
              "</div>\n",
              "      <button class=\"colab-df-convert\" onclick=\"convertToInteractive('df-53476d2a-dbb2-4d0b-b490-634c1471d675')\"\n",
              "              title=\"Convert this dataframe to an interactive table.\"\n",
              "              style=\"display:none;\">\n",
              "        \n",
              "  <svg xmlns=\"http://www.w3.org/2000/svg\" height=\"24px\"viewBox=\"0 0 24 24\"\n",
              "       width=\"24px\">\n",
              "    <path d=\"M0 0h24v24H0V0z\" fill=\"none\"/>\n",
              "    <path d=\"M18.56 5.44l.94 2.06.94-2.06 2.06-.94-2.06-.94-.94-2.06-.94 2.06-2.06.94zm-11 1L8.5 8.5l.94-2.06 2.06-.94-2.06-.94L8.5 2.5l-.94 2.06-2.06.94zm10 10l.94 2.06.94-2.06 2.06-.94-2.06-.94-.94-2.06-.94 2.06-2.06.94z\"/><path d=\"M17.41 7.96l-1.37-1.37c-.4-.4-.92-.59-1.43-.59-.52 0-1.04.2-1.43.59L10.3 9.45l-7.72 7.72c-.78.78-.78 2.05 0 2.83L4 21.41c.39.39.9.59 1.41.59.51 0 1.02-.2 1.41-.59l7.78-7.78 2.81-2.81c.8-.78.8-2.07 0-2.86zM5.41 20L4 18.59l7.72-7.72 1.47 1.35L5.41 20z\"/>\n",
              "  </svg>\n",
              "      </button>\n",
              "      \n",
              "  <style>\n",
              "    .colab-df-container {\n",
              "      display:flex;\n",
              "      flex-wrap:wrap;\n",
              "      gap: 12px;\n",
              "    }\n",
              "\n",
              "    .colab-df-convert {\n",
              "      background-color: #E8F0FE;\n",
              "      border: none;\n",
              "      border-radius: 50%;\n",
              "      cursor: pointer;\n",
              "      display: none;\n",
              "      fill: #1967D2;\n",
              "      height: 32px;\n",
              "      padding: 0 0 0 0;\n",
              "      width: 32px;\n",
              "    }\n",
              "\n",
              "    .colab-df-convert:hover {\n",
              "      background-color: #E2EBFA;\n",
              "      box-shadow: 0px 1px 2px rgba(60, 64, 67, 0.3), 0px 1px 3px 1px rgba(60, 64, 67, 0.15);\n",
              "      fill: #174EA6;\n",
              "    }\n",
              "\n",
              "    [theme=dark] .colab-df-convert {\n",
              "      background-color: #3B4455;\n",
              "      fill: #D2E3FC;\n",
              "    }\n",
              "\n",
              "    [theme=dark] .colab-df-convert:hover {\n",
              "      background-color: #434B5C;\n",
              "      box-shadow: 0px 1px 3px 1px rgba(0, 0, 0, 0.15);\n",
              "      filter: drop-shadow(0px 1px 2px rgba(0, 0, 0, 0.3));\n",
              "      fill: #FFFFFF;\n",
              "    }\n",
              "  </style>\n",
              "\n",
              "      <script>\n",
              "        const buttonEl =\n",
              "          document.querySelector('#df-53476d2a-dbb2-4d0b-b490-634c1471d675 button.colab-df-convert');\n",
              "        buttonEl.style.display =\n",
              "          google.colab.kernel.accessAllowed ? 'block' : 'none';\n",
              "\n",
              "        async function convertToInteractive(key) {\n",
              "          const element = document.querySelector('#df-53476d2a-dbb2-4d0b-b490-634c1471d675');\n",
              "          const dataTable =\n",
              "            await google.colab.kernel.invokeFunction('convertToInteractive',\n",
              "                                                     [key], {});\n",
              "          if (!dataTable) return;\n",
              "\n",
              "          const docLinkHtml = 'Like what you see? Visit the ' +\n",
              "            '<a target=\"_blank\" href=https://colab.research.google.com/notebooks/data_table.ipynb>data table notebook</a>'\n",
              "            + ' to learn more about interactive tables.';\n",
              "          element.innerHTML = '';\n",
              "          dataTable['output_type'] = 'display_data';\n",
              "          await google.colab.output.renderOutput(dataTable, element);\n",
              "          const docLink = document.createElement('div');\n",
              "          docLink.innerHTML = docLinkHtml;\n",
              "          element.appendChild(docLink);\n",
              "        }\n",
              "      </script>\n",
              "    </div>\n",
              "  </div>\n",
              "  "
            ]
          },
          "metadata": {},
          "execution_count": 12
        }
      ],
      "source": [
        "# Merging the validation and comments dataset based on \"Submission_id\" and \"id\" columns\n",
        "\n",
        "df_validation = cleaning_data(df_validation)\n",
        "\n",
        "df_validation = pd.merge(df_coments, df_validation, left_on=['submission_id'], right_on = ['id'])\n",
        "\n",
        "\n",
        "df_validation = clean(df_validation)\n",
        "\n",
        "df_validation = text_clean(df_validation)\n",
        "print(\"Shape of Validation dataset after merging\", df_validation.shape)\n",
        "\n",
        "df_validation.head()"
      ],
      "id": "a8c5af85"
    },
    {
      "cell_type": "code",
      "execution_count": null,
      "metadata": {
        "colab": {
          "base_uri": "https://localhost:8080/",
          "height": 367
        },
        "id": "83a63cd2",
        "outputId": "2bd4b219-7c08-4e6c-e9c7-24bafb68122e"
      },
      "outputs": [
        {
          "output_type": "stream",
          "name": "stdout",
          "text": [
            "No duplicates found\n",
            "Shape of Test dataset after merging (48204, 3)\n"
          ]
        },
        {
          "output_type": "execute_result",
          "data": {
            "text/plain": [
              "                                                body  \\\n",
              "0  I give up I need to know What is this and what...   \n",
              "1  Apparently the billionaire has produced  cans ...   \n",
              "2  Hey man Did you just hear something The real T...   \n",
              "3  Clearly the affected parties need to take a di...   \n",
              "4  Read the title and though oh well thats probab...   \n",
              "\n",
              "                                         clean_title  2_way_label  \n",
              "0                                 my god its full of            0  \n",
              "1  starting today canned air is on sale in china ...            1  \n",
              "2                backflip off the bow of a speedboat            1  \n",
              "3  no entry for hipsters berliners unhappy with t...            1  \n",
              "4  young persons called to private grand jury for...            1  "
            ],
            "text/html": [
              "\n",
              "  <div id=\"df-70d127c0-1401-4fcd-a1b2-7ec325e91dde\">\n",
              "    <div class=\"colab-df-container\">\n",
              "      <div>\n",
              "<style scoped>\n",
              "    .dataframe tbody tr th:only-of-type {\n",
              "        vertical-align: middle;\n",
              "    }\n",
              "\n",
              "    .dataframe tbody tr th {\n",
              "        vertical-align: top;\n",
              "    }\n",
              "\n",
              "    .dataframe thead th {\n",
              "        text-align: right;\n",
              "    }\n",
              "</style>\n",
              "<table border=\"1\" class=\"dataframe\">\n",
              "  <thead>\n",
              "    <tr style=\"text-align: right;\">\n",
              "      <th></th>\n",
              "      <th>body</th>\n",
              "      <th>clean_title</th>\n",
              "      <th>2_way_label</th>\n",
              "    </tr>\n",
              "  </thead>\n",
              "  <tbody>\n",
              "    <tr>\n",
              "      <th>0</th>\n",
              "      <td>I give up I need to know What is this and what...</td>\n",
              "      <td>my god its full of</td>\n",
              "      <td>0</td>\n",
              "    </tr>\n",
              "    <tr>\n",
              "      <th>1</th>\n",
              "      <td>Apparently the billionaire has produced  cans ...</td>\n",
              "      <td>starting today canned air is on sale in china ...</td>\n",
              "      <td>1</td>\n",
              "    </tr>\n",
              "    <tr>\n",
              "      <th>2</th>\n",
              "      <td>Hey man Did you just hear something The real T...</td>\n",
              "      <td>backflip off the bow of a speedboat</td>\n",
              "      <td>1</td>\n",
              "    </tr>\n",
              "    <tr>\n",
              "      <th>3</th>\n",
              "      <td>Clearly the affected parties need to take a di...</td>\n",
              "      <td>no entry for hipsters berliners unhappy with t...</td>\n",
              "      <td>1</td>\n",
              "    </tr>\n",
              "    <tr>\n",
              "      <th>4</th>\n",
              "      <td>Read the title and though oh well thats probab...</td>\n",
              "      <td>young persons called to private grand jury for...</td>\n",
              "      <td>1</td>\n",
              "    </tr>\n",
              "  </tbody>\n",
              "</table>\n",
              "</div>\n",
              "      <button class=\"colab-df-convert\" onclick=\"convertToInteractive('df-70d127c0-1401-4fcd-a1b2-7ec325e91dde')\"\n",
              "              title=\"Convert this dataframe to an interactive table.\"\n",
              "              style=\"display:none;\">\n",
              "        \n",
              "  <svg xmlns=\"http://www.w3.org/2000/svg\" height=\"24px\"viewBox=\"0 0 24 24\"\n",
              "       width=\"24px\">\n",
              "    <path d=\"M0 0h24v24H0V0z\" fill=\"none\"/>\n",
              "    <path d=\"M18.56 5.44l.94 2.06.94-2.06 2.06-.94-2.06-.94-.94-2.06-.94 2.06-2.06.94zm-11 1L8.5 8.5l.94-2.06 2.06-.94-2.06-.94L8.5 2.5l-.94 2.06-2.06.94zm10 10l.94 2.06.94-2.06 2.06-.94-2.06-.94-.94-2.06-.94 2.06-2.06.94z\"/><path d=\"M17.41 7.96l-1.37-1.37c-.4-.4-.92-.59-1.43-.59-.52 0-1.04.2-1.43.59L10.3 9.45l-7.72 7.72c-.78.78-.78 2.05 0 2.83L4 21.41c.39.39.9.59 1.41.59.51 0 1.02-.2 1.41-.59l7.78-7.78 2.81-2.81c.8-.78.8-2.07 0-2.86zM5.41 20L4 18.59l7.72-7.72 1.47 1.35L5.41 20z\"/>\n",
              "  </svg>\n",
              "      </button>\n",
              "      \n",
              "  <style>\n",
              "    .colab-df-container {\n",
              "      display:flex;\n",
              "      flex-wrap:wrap;\n",
              "      gap: 12px;\n",
              "    }\n",
              "\n",
              "    .colab-df-convert {\n",
              "      background-color: #E8F0FE;\n",
              "      border: none;\n",
              "      border-radius: 50%;\n",
              "      cursor: pointer;\n",
              "      display: none;\n",
              "      fill: #1967D2;\n",
              "      height: 32px;\n",
              "      padding: 0 0 0 0;\n",
              "      width: 32px;\n",
              "    }\n",
              "\n",
              "    .colab-df-convert:hover {\n",
              "      background-color: #E2EBFA;\n",
              "      box-shadow: 0px 1px 2px rgba(60, 64, 67, 0.3), 0px 1px 3px 1px rgba(60, 64, 67, 0.15);\n",
              "      fill: #174EA6;\n",
              "    }\n",
              "\n",
              "    [theme=dark] .colab-df-convert {\n",
              "      background-color: #3B4455;\n",
              "      fill: #D2E3FC;\n",
              "    }\n",
              "\n",
              "    [theme=dark] .colab-df-convert:hover {\n",
              "      background-color: #434B5C;\n",
              "      box-shadow: 0px 1px 3px 1px rgba(0, 0, 0, 0.15);\n",
              "      filter: drop-shadow(0px 1px 2px rgba(0, 0, 0, 0.3));\n",
              "      fill: #FFFFFF;\n",
              "    }\n",
              "  </style>\n",
              "\n",
              "      <script>\n",
              "        const buttonEl =\n",
              "          document.querySelector('#df-70d127c0-1401-4fcd-a1b2-7ec325e91dde button.colab-df-convert');\n",
              "        buttonEl.style.display =\n",
              "          google.colab.kernel.accessAllowed ? 'block' : 'none';\n",
              "\n",
              "        async function convertToInteractive(key) {\n",
              "          const element = document.querySelector('#df-70d127c0-1401-4fcd-a1b2-7ec325e91dde');\n",
              "          const dataTable =\n",
              "            await google.colab.kernel.invokeFunction('convertToInteractive',\n",
              "                                                     [key], {});\n",
              "          if (!dataTable) return;\n",
              "\n",
              "          const docLinkHtml = 'Like what you see? Visit the ' +\n",
              "            '<a target=\"_blank\" href=https://colab.research.google.com/notebooks/data_table.ipynb>data table notebook</a>'\n",
              "            + ' to learn more about interactive tables.';\n",
              "          element.innerHTML = '';\n",
              "          dataTable['output_type'] = 'display_data';\n",
              "          await google.colab.output.renderOutput(dataTable, element);\n",
              "          const docLink = document.createElement('div');\n",
              "          docLink.innerHTML = docLinkHtml;\n",
              "          element.appendChild(docLink);\n",
              "        }\n",
              "      </script>\n",
              "    </div>\n",
              "  </div>\n",
              "  "
            ]
          },
          "metadata": {},
          "execution_count": 13
        }
      ],
      "source": [
        "# Merging the test and comments dataset based on \"Submission_id\" and \"id\" columns\n",
        "\n",
        "df_test = cleaning_data(df_test)\n",
        "\n",
        "df_test = pd.merge(df_coments, df_test, left_on=['submission_id'], right_on = ['id'])\n",
        "\n",
        "df_test = clean(df_test)\n",
        "\n",
        "df_test = text_clean(df_test)\n",
        "print(\"Shape of Test dataset after merging\", df_test.shape)\n",
        "\n",
        "df_test.head()\n"
      ],
      "id": "83a63cd2"
    },
    {
      "cell_type": "markdown",
      "source": [
        "Class Distribution - Plot the distribution of target variable on the training dataset which shows class imabalance with true news as the minority class. \n",
        "\n",
        "No of fake  news records is 68.64% of the training set.\n",
        "\n",
        "No of true news records is 31.36% of the training set."
      ],
      "metadata": {
        "id": "6w17ysDqOnmS"
      },
      "id": "6w17ysDqOnmS"
    },
    {
      "cell_type": "code",
      "execution_count": null,
      "metadata": {
        "colab": {
          "base_uri": "https://localhost:8080/",
          "height": 436
        },
        "id": "qeCsNJaNCLKP",
        "outputId": "6dcae7a3-4b30-4c32-fa62-7b58b26ef9af"
      },
      "outputs": [
        {
          "output_type": "stream",
          "name": "stdout",
          "text": [
            "313628 of 456890 No of fake  news records and it is the 68.64% of the training set.\n",
            "143262 of 456890  No of true news records and it is the 31.36% of the training set.\n"
          ]
        },
        {
          "output_type": "display_data",
          "data": {
            "text/plain": [
              "<Figure size 720x360 with 1 Axes>"
            ],
            "image/png": "[encoded data removed]"
          },
          "metadata": {}
        }
      ],
      "source": [
        "# Plotting the distribution of target variable\n",
        "import seaborn as sns\n",
        "\n",
        "import matplotlib.pyplot as plt\n",
        "\n",
        "sns.set(style=\"darkgrid\")\n",
        "\n",
        "fake = df_train['2_way_label'].value_counts()[1]\n",
        "true = df_train['2_way_label'].value_counts()[0]\n",
        "fake_per = fake / df_train.shape[0] * 100\n",
        "true_per = true / df_train.shape[0] * 100\n",
        "\n",
        "print('{} of {} No of fake  news records and it is the {:.2f}% of the training set.'.format(fake, df_train.shape[0], fake_per))\n",
        "print('{} of {}  No of true news records and it is the {:.2f}% of the training set.'.format(true, df_train.shape[0], true_per))\n",
        "\n",
        "plt.figure(figsize=(10, 5))\n",
        "sns.countplot(df_train['2_way_label'])\n",
        "\n",
        "\n",
        "plt.xlabel('2_way_label', size=15, labelpad=15)\n",
        "plt.ylabel('Count', size=15, labelpad=15)\n",
        "plt.xticks((0, 1), ['true records({0:.2f}%)'.format(true_per), 'fake records ({0:.2f}%)'.format(fake_per)])\n",
        "\n",
        "plt.title('Target Distribution', size=15, y=1.05)\n",
        "\n",
        "plt.show()"
      ],
      "id": "qeCsNJaNCLKP"
    },
    {
      "cell_type": "markdown",
      "source": [
        "Removing data -\n",
        "\n",
        "As the training data set alone has 456890 records and each record containing posts title and comments. So, to mmake data computationaly effective droping limited rows by random selection from train, validation and test datasets."
      ],
      "metadata": {
        "id": "mT_nOiNLPi5H"
      },
      "id": "mT_nOiNLPi5H"
    },
    {
      "cell_type": "code",
      "execution_count": null,
      "metadata": {
        "id": "eR_z4_duOCIS"
      },
      "outputs": [],
      "source": [
        "# Randomly droping few rows from true records\n",
        "\n",
        "def remove(data,n,m):\n",
        "    np.random.seed(10)\n",
        "\n",
        "    df_true = data[data['2_way_label']==0]\n",
        "\n",
        "    df_fake = data[data['2_way_label']==1]\n",
        "     \n",
        "    drop_indices_true = np.random.choice(df_true.index, m, replace=False)\n",
        "    df_subset_true = df_true.drop(drop_indices_true)\n",
        "    \n",
        "    drop_indices_fake = np.random.choice(df_fake.index, n, replace=False)\n",
        "    df_subset_fake = df_fake.drop(drop_indices_fake)\n",
        "    \n",
        "   \n",
        "    \n",
        "    df_train_new = pd.concat([df_subset_true, df_subset_fake],ignore_index=True)\n",
        "    \n",
        "    return df_train_new"
      ],
      "id": "eR_z4_duOCIS"
    },
    {
      "cell_type": "code",
      "source": [
        "# Randomly droping few rows from true records\n",
        "\n",
        "\n",
        "df_train_new  = remove(df_train, 291000, 110000 )\n",
        "\n",
        "df_validation_new  = remove(df_validation, 32000, 13000 )\n",
        "\n",
        "df_test_new  = remove(df_test, 32000, 13000 )\n"
      ],
      "metadata": {
        "id": "_cg9BP9zyZbZ"
      },
      "id": "_cg9BP9zyZbZ",
      "execution_count": null,
      "outputs": []
    },
    {
      "cell_type": "code",
      "source": [
        "df_train_new['2_way_label'].value_counts()"
      ],
      "metadata": {
        "colab": {
          "base_uri": "https://localhost:8080/"
        },
        "id": "_Viaepa8eYUZ",
        "outputId": "95fbd80e-961e-42ce-ae5d-a93127b1f2cf"
      },
      "id": "_Viaepa8eYUZ",
      "execution_count": null,
      "outputs": [
        {
          "output_type": "execute_result",
          "data": {
            "text/plain": [
              "0    33262\n",
              "1    22628\n",
              "Name: 2_way_label, dtype: int64"
            ]
          },
          "metadata": {},
          "execution_count": 69
        }
      ]
    },
    {
      "cell_type": "code",
      "execution_count": null,
      "metadata": {
        "colab": {
          "base_uri": "https://localhost:8080/"
        },
        "id": "fxdJwCttO8eX",
        "outputId": "64e86349-553e-45d6-9fd9-501a321434db"
      },
      "outputs": [
        {
          "output_type": "execute_result",
          "data": {
            "text/plain": [
              "0    1971\n",
              "1    1233\n",
              "Name: 2_way_label, dtype: int64"
            ]
          },
          "metadata": {},
          "execution_count": 70
        }
      ],
      "source": [
        "df_test_new['2_way_label'].value_counts()"
      ],
      "id": "fxdJwCttO8eX"
    },
    {
      "cell_type": "markdown",
      "source": [
        "Class Distribution on final data of training data. "
      ],
      "metadata": {
        "id": "HAeA7yWzQMuq"
      },
      "id": "HAeA7yWzQMuq"
    },
    {
      "cell_type": "code",
      "execution_count": null,
      "metadata": {
        "colab": {
          "base_uri": "https://localhost:8080/",
          "height": 487
        },
        "id": "df88128d",
        "outputId": "606aae8c-e6e1-450b-fc57-f504c154cd13"
      },
      "outputs": [
        {
          "output_type": "display_data",
          "data": {
            "text/plain": [
              "<Figure size 576x576 with 1 Axes>"
            ],
            "image/png": "[encoded data removed]"
          },
          "metadata": {}
        }
      ],
      "source": [
        "#Distrubution of classes \n",
        "\n",
        "df_train_new['2_way_label'].value_counts().plot.pie(figsize = (8,8), startangle = 75)\n",
        "plt.title('Types of articles', fontsize = 20)\n",
        "plt.axis('off')\n",
        "plt.show()"
      ],
      "id": "df88128d"
    },
    {
      "cell_type": "code",
      "execution_count": null,
      "metadata": {
        "id": "Zs8nSFi2TWac"
      },
      "outputs": [],
      "source": [
        "\n",
        "#pickle the dataframe for later use\n",
        "\n",
        "import pickle\n",
        "\n",
        "\n",
        "df_train_new.to_pickle(\"./drive/MyDrive/project/df_train.pkl\")\n",
        "\n",
        "df_validation_new.to_pickle(\"./drive/MyDrive/project/df_validation.pkl\")\n",
        "\n",
        "df_test_new.to_pickle(\"./drive/MyDrive/project/df_test.pkl\")"
      ],
      "id": "Zs8nSFi2TWac"
    },
    {
      "cell_type": "code",
      "source": [],
      "metadata": {
        "id": "gc_OWgIV2IzK"
      },
      "id": "gc_OWgIV2IzK",
      "execution_count": null,
      "outputs": []
    }
  ],
  "metadata": {
    "accelerator": "GPU",
    "colab": {
      "provenance": []
    },
    "gpuClass": "standard",
    "kernelspec": {
      "display_name": "Python 3 (ipykernel)",
      "language": "python",
      "name": "python3"
    },
    "language_info": {
      "codemirror_mode": {
        "name": "ipython",
        "version": 3
      },
      "file_extension": ".py",
      "mimetype": "text/x-python",
      "name": "python",
      "nbconvert_exporter": "python",
      "pygments_lexer": "ipython3",
      "version": "3.9.13"
    }
  },
  "nbformat": 4,
  "nbformat_minor": 5
}