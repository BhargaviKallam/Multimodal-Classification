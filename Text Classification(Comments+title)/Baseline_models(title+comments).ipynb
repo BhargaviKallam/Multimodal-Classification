{
  "nbformat": 4,
  "nbformat_minor": 0,
  "metadata": {
    "colab": {
      "provenance": []
    },
    "kernelspec": {
      "name": "python3",
      "display_name": "Python 3"
    },
    "language_info": {
      "name": "python"
    },
    "accelerator": "GPU",
    "gpuClass": "standard"
  },
  "cells": [
    {
      "cell_type": "code",
      "execution_count": null,
      "metadata": {
        "id": "Y_RkrX_Bw1fy"
      },
      "outputs": [],
      "source": [
        "import pandas as pd\n",
        "import numpy as np\n",
        "import matplotlib.pyplot as plt\n",
        "\n",
        "import warnings\n",
        "warnings.filterwarnings('ignore')\n"
      ]
    },
    {
      "cell_type": "code",
      "source": [
        "# classifier packages\n",
        "from sklearn.linear_model import SGDClassifier\n",
        "from sklearn.linear_model import LogisticRegression\n",
        "from sklearn.neighbors import KNeighborsClassifier\n",
        "from sklearn.svm import LinearSVC\n",
        "from sklearn.ensemble import RandomForestClassifier"
      ],
      "metadata": {
        "id": "AfWO_-XL0HTd"
      },
      "execution_count": null,
      "outputs": []
    },
    {
      "cell_type": "code",
      "source": [
        "# Metrics\n",
        "from sklearn.metrics import accuracy_score, f1_score, precision_score, recall_score\n",
        "from sklearn.metrics import classification_report\n",
        "from sklearn.metrics import confusion_matrix\n",
        "\n",
        "import joblib"
      ],
      "metadata": {
        "id": "IuNfvpJ20J_G"
      },
      "execution_count": null,
      "outputs": []
    },
    {
      "cell_type": "code",
      "source": [
        "from google.colab import drive\n",
        "\n",
        "drive.mount('/content/drive')"
      ],
      "metadata": {
        "colab": {
          "base_uri": "https://localhost:8080/"
        },
        "id": "uD69bSUkzVbA",
        "outputId": "a1a1c205-2956-4d63-c5f8-ccd5de7d7023"
      },
      "execution_count": null,
      "outputs": [
        {
          "output_type": "stream",
          "name": "stdout",
          "text": [
            "Drive already mounted at /content/drive; to attempt to forcibly remount, call drive.mount(\"/content/drive\", force_remount=True).\n"
          ]
        }
      ]
    },
    {
      "cell_type": "code",
      "source": [
        "cd '/content/drive/MyDrive/project'"
      ],
      "metadata": {
        "colab": {
          "base_uri": "https://localhost:8080/"
        },
        "id": "MR298NvZzdcn",
        "outputId": "f14051ad-a86d-476a-f30b-3793c7e57ae3"
      },
      "execution_count": null,
      "outputs": [
        {
          "output_type": "stream",
          "name": "stdout",
          "text": [
            "/content/drive/MyDrive/project\n"
          ]
        }
      ]
    },
    {
      "cell_type": "markdown",
      "source": [
        "Load data -\n",
        "\n",
        "Load the train, validation and test data from the cleaned and pickled data from previous files."
      ],
      "metadata": {
        "id": "grwM1Vn3aJGs"
      }
    },
    {
      "cell_type": "code",
      "source": [
        "import pickle\n",
        "\n",
        "\n",
        "with open('df_train.pkl', 'rb') as f:\n",
        "    df_train = pickle.load(f)\n",
        "\n",
        "with open('df_validation.pkl', 'rb') as f:\n",
        "    df_validation = pickle.load(f)"
      ],
      "metadata": {
        "id": "jQKnfP68zuXN"
      },
      "execution_count": null,
      "outputs": []
    },
    {
      "cell_type": "code",
      "source": [
        "# Split Dataset into Train and Text\n",
        "from sklearn.model_selection import train_test_split"
      ],
      "metadata": {
        "id": "M86stZv0z2xc"
      },
      "execution_count": null,
      "outputs": []
    },
    {
      "cell_type": "markdown",
      "source": [
        "Merging the comments and title of the respective posts to create single text column."
      ],
      "metadata": {
        "id": "4OFORa-JaeVD"
      }
    },
    {
      "cell_type": "code",
      "source": [
        "# seperating prediction and target features\n",
        "\n",
        "def xy_data(data):\n",
        "  \n",
        "  data.body = data.body + data.clean_title\n",
        "  data.drop(columns=[\"clean_title\"], axis = 1, inplace=True)\n",
        "\n",
        "  x_train_features = data['body']\n",
        "  display(x_train_features.head())\n",
        "\n",
        "  y_train = data['2_way_label']\n",
        "  display(y_train.head())\n",
        "\n",
        "  return x_train_features, y_train"
      ],
      "metadata": {
        "id": "1MpwOG-V0Thh"
      },
      "execution_count": null,
      "outputs": []
    },
    {
      "cell_type": "code",
      "source": [
        "X_train, Y_train = xy_data(df_train)"
      ],
      "metadata": {
        "colab": {
          "base_uri": "https://localhost:8080/",
          "height": 221
        },
        "id": "zX__YPOh4MOl",
        "outputId": "60a4fbd1-5416-4245-baac-d98c67702468"
      },
      "execution_count": null,
      "outputs": [
        {
          "output_type": "display_data",
          "data": {
            "text/plain": [
              "0    Someone clearly works deliJudging cheese thats...\n",
              "1    Isnt miter gauge Yep I dont believe Ive ever s...\n",
              "2    The shadows wall make look like buck teeth Tha...\n",
              "3    The thumbnail looks like guy blowing inflatabl...\n",
              "4    see bacon Should captioned Hello Kittynice kit...\n",
              "Name: body, dtype: object"
            ]
          },
          "metadata": {}
        },
        {
          "output_type": "display_data",
          "data": {
            "text/plain": [
              "0    0\n",
              "1    0\n",
              "2    0\n",
              "3    0\n",
              "4    0\n",
              "Name: 2_way_label, dtype: int64"
            ]
          },
          "metadata": {}
        }
      ]
    },
    {
      "cell_type": "code",
      "source": [
        "X_validation, Y_validation = xy_data(df_validation)"
      ],
      "metadata": {
        "colab": {
          "base_uri": "https://localhost:8080/",
          "height": 221
        },
        "id": "qwdvo5Cs593W",
        "outputId": "be5660f4-c274-481a-eb8b-cc6a31b4006e"
      },
      "execution_count": null,
      "outputs": [
        {
          "output_type": "display_data",
          "data": {
            "text/plain": [
              "0    Its duck I suppose look bit like duck huh Afla...\n",
              "1    Ive played bass many years never noticed D The...\n",
              "2    sub makes see faces everything bathroom work l...\n",
              "3                             Original postskull match\n",
              "4    CPO really consider face cream A droid age sho...\n",
              "Name: body, dtype: object"
            ]
          },
          "metadata": {}
        },
        {
          "output_type": "display_data",
          "data": {
            "text/plain": [
              "0    0\n",
              "1    0\n",
              "2    0\n",
              "3    0\n",
              "4    0\n",
              "Name: 2_way_label, dtype: int64"
            ]
          },
          "metadata": {}
        }
      ]
    },
    {
      "cell_type": "markdown",
      "source": [
        "Accuracy, Precision, Recall, and F1 score\n",
        "\n",
        "Accuracy - The classifier's accuracy is calculated by dividing the number of accurate predictions by the total number of predictions. In general, precision is not a good measure of performance on its own. For instance, anticipating all texts as belonging to the category with the majority will produce high accuracy levels when categories are unbalanced. Instead of focusing on accuracy, you might want to think about precision and recall to obtain a better picture of how well a classifier performs.\n",
        "\n",
        "Precision - Out of all the texts that were projected to belong to a particular tag, precision indicates how many were successfully predicted. It's important to remember that precision only provides data in instances where the classifier predicts that the text belongs to a specific tag.\n",
        "\n",
        "Recall - Out of all the texts that should have been anticipated to correspond to a particular tag, recall counts how many texts were successfully predicted. To put it another way, recall divides the total number of texts that were correctly identified as positive for a particular tag by the total number of texts that were either successfully identified as belonging to the tag or wrongly identified as not belonging to the tag.\n",
        "\n",
        "F1 score - The harmonic measure of precision and memory is the F1 score. If both precision and recall are considered equally important, it indicates how effectively your classifier works. F1 score is typically a significantly more accurate measure of classifier performance than accuracy is.\n"
      ],
      "metadata": {
        "id": "ht8t1H8rarMe"
      }
    },
    {
      "cell_type": "code",
      "source": [
        "# This function evaluate the model on Accuracy, precision, F1-Score and Recall scores\n",
        "\n",
        "def getResults(y_test, prediction):\n",
        "    accuracy = accuracy_score(y_test, prediction)\n",
        "    precision = precision_score(y_test, prediction)\n",
        "    f1 = f1_score(y_test, prediction)\n",
        "    recall = recall_score(y_test, prediction)\n",
        "    print(f'Accuracy : {accuracy}\\nPrecision : {precision}\\nF1_score : {f1}\\nRecall : {recall}\\n')\n",
        "    \n",
        "    print(\"===== CONFUSION MATRIX =====\")\n",
        "    cf_matrix = confusion_matrix(y_test, prediction)\n",
        "    print(cf_matrix)\n",
        "    \n",
        "    return accuracy, precision, f1, recall"
      ],
      "metadata": {
        "id": "bLGJLlIfvdhF"
      },
      "execution_count": null,
      "outputs": []
    },
    {
      "cell_type": "code",
      "source": [
        "# function to train the model\n",
        "\n",
        "def Model_training(model, x_train, y_train, x_test, y_test):\n",
        "    print(f'\\n==== Testing : {model.__class__}')\n",
        "    # fit the data\n",
        "    model.fit(x_train, y_train)\n",
        "    \n",
        "    # prediction\n",
        "    prediction = model.predict(x_test)\n",
        "    \n",
        "    # getResults \n",
        "    results = getResults(y_test, prediction)\n",
        "    return results"
      ],
      "metadata": {
        "id": "1bOysMqGOfag"
      },
      "execution_count": null,
      "outputs": []
    },
    {
      "cell_type": "markdown",
      "source": [
        "# Machine Learning Algorithms\n"
      ],
      "metadata": {
        "id": "b9eYCEJ5cFQb"
      }
    },
    {
      "cell_type": "markdown",
      "source": [
        "MLPClassifier -\n",
        "\n",
        "Multi-layer Perceptron classifier, or MLPClassifier, is connected to a neural network by the name itself. MLPClassifier uses an underlying Neural Network to carry out the classification task, unlike other classification methods like Support Vectors or Naive Bayes Classifier.\n",
        "\n",
        "SGD - Stochastic Gradient Descent a linear classifier. popularly used for sparse data problems such as text classification and NLP."
      ],
      "metadata": {
        "id": "9RwihwXjO9CH"
      }
    },
    {
      "cell_type": "code",
      "source": [
        "#model\n",
        "from sklearn.neural_network import MLPClassifier\n",
        "\n",
        "from sklearn.pipeline import Pipeline\n",
        "from sklearn.feature_extraction.text import TfidfTransformer\n",
        "\n",
        "from sklearn.feature_extraction.text import CountVectorizer\n",
        "\n",
        "mlp = Pipeline([('vect', CountVectorizer(stop_words='english',token_pattern=r'\\w{1,}', min_df=10)),\n",
        "                ('tfidf', TfidfTransformer()),\n",
        "                ('clf',MLPClassifier(hidden_layer_sizes=(100,100,100), max_iter=10,\n",
        "                     solver='sgd', verbose=10,  random_state=21))\n",
        "               ])\n",
        "\n",
        "\n",
        "# Calling the Model_training to get the results\n",
        "result_mlp = Model_training(mlp, X_train, Y_train, X_validation, Y_validation)\n",
        "\n"
      ],
      "metadata": {
        "colab": {
          "base_uri": "https://localhost:8080/"
        },
        "id": "XXtSU-QAN02S",
        "outputId": "ccd6151e-2e7d-402c-ecaf-b4db1b77dbf2"
      },
      "execution_count": null,
      "outputs": [
        {
          "output_type": "stream",
          "name": "stdout",
          "text": [
            "\n",
            "==== Testing : <class 'sklearn.pipeline.Pipeline'>\n",
            "Iteration 1, loss = 0.67677127\n",
            "Iteration 2, loss = 0.67358040\n",
            "Iteration 3, loss = 0.67220073\n",
            "Iteration 4, loss = 0.67046506\n",
            "Iteration 5, loss = 0.66818435\n",
            "Iteration 6, loss = 0.66508596\n",
            "Iteration 7, loss = 0.66077196\n",
            "Iteration 8, loss = 0.65460449\n",
            "Iteration 9, loss = 0.64525882\n",
            "Iteration 10, loss = 0.63181125\n",
            "Accuracy : 0.7448418156808804\n",
            "Precision : 1.0\n",
            "F1_score : 0.39379084967320266\n",
            "Recall : 0.2451678535096643\n",
            "\n",
            "===== CONFUSION MATRIX =====\n",
            "[[1925    0]\n",
            " [ 742  241]]\n"
          ]
        }
      ]
    },
    {
      "cell_type": "markdown",
      "source": [
        "Logistic Regression - \n",
        "\n",
        "Based on a given dataset of independent variables, logistic regression calculates the likelihood that an event will occur, such as voting or not voting. Given that the result is a probability, the dependent variable's range is 0 to 1."
      ],
      "metadata": {
        "id": "jx4IIKqocnqe"
      }
    },
    {
      "cell_type": "code",
      "source": [
        "# Model\n",
        "\n",
        "lr = Pipeline([('vect', CountVectorizer(stop_words='english',token_pattern=r'\\w{1,}', min_df=10)),\n",
        "                ('tfidf', TfidfTransformer()),\n",
        "                ('clf', LogisticRegression())\n",
        "               ])\n",
        "\n",
        "# Calling the Model_training to get the results\n",
        "result_lr = Model_training(lr, X_train, Y_train, X_validation, Y_validation)\n"
      ],
      "metadata": {
        "colab": {
          "base_uri": "https://localhost:8080/"
        },
        "id": "SwqxJ1ZmPAu_",
        "outputId": "a74815ff-39d0-4b30-8506-9282a2497244"
      },
      "execution_count": null,
      "outputs": [
        {
          "output_type": "stream",
          "name": "stdout",
          "text": [
            "\n",
            "==== Testing : <class 'sklearn.pipeline.Pipeline'>\n",
            "Accuracy : 0.8651994497936726\n",
            "Precision : 0.8354143019296254\n",
            "F1_score : 0.7896995708154507\n",
            "Recall : 0.7487283825025433\n",
            "\n",
            "===== CONFUSION MATRIX =====\n",
            "[[1780  145]\n",
            " [ 247  736]]\n"
          ]
        }
      ]
    },
    {
      "cell_type": "markdown",
      "source": [
        "Random Forest Classifier - \n",
        "\n",
        "Random forest is a Supervised Machine Learning algorithm that is frequently employed in Classification and Regression issues. On various samples, decision trees are built, and their majority vote is used to classify data."
      ],
      "metadata": {
        "id": "TEIor3WRctji"
      }
    },
    {
      "cell_type": "code",
      "source": [
        " # model\n",
        "\n",
        "rf = Pipeline([('vect', CountVectorizer(stop_words='english',token_pattern=r'\\w{1,}', min_df=10)),\n",
        "                ('tfidf', TfidfTransformer()),\n",
        "                ('clf',  RandomForestClassifier())\n",
        "               ])\n",
        "\n",
        "# Calling the Model_training to get the results\n",
        "result_rf = Model_training(rf, X_train, Y_train, X_validation, Y_validation)\n"
      ],
      "metadata": {
        "colab": {
          "base_uri": "https://localhost:8080/"
        },
        "id": "yCexyaJNYxQb",
        "outputId": "4f848e5c-fc4c-4ec0-eb71-2971365fd427"
      },
      "execution_count": null,
      "outputs": [
        {
          "output_type": "stream",
          "name": "stdout",
          "text": [
            "\n",
            "==== Testing : <class 'sklearn.pipeline.Pipeline'>\n",
            "Accuracy : 0.8462861072902338\n",
            "Precision : 0.8976261127596439\n",
            "F1_score : 0.7302353651176826\n",
            "Recall : 0.6154628687690743\n",
            "\n",
            "===== CONFUSION MATRIX =====\n",
            "[[1856   69]\n",
            " [ 378  605]]\n"
          ]
        }
      ]
    },
    {
      "cell_type": "markdown",
      "source": [
        "KneighborsClassifer -\n",
        "\n",
        "The K in this classifier's name stands for the k nearest neighbours, where k is an integer value that the user specifies. As a result, this classifier employs learning based on the k nearest neighbours, as the name says. Data determines what value of k should be used."
      ],
      "metadata": {
        "id": "Hvv9Xo1ddFkm"
      }
    },
    {
      "cell_type": "code",
      "source": [
        "# Model\n",
        "\n",
        "knn = Pipeline([('vect', CountVectorizer(stop_words='english',token_pattern=r'\\w{1,}', min_df=10)),\n",
        "                ('tfidf', TfidfTransformer()),\n",
        "                ('clf',  KNeighborsClassifier())\n",
        "               ])\n",
        "\n",
        "# Calling the Model_training to get the results\n",
        "result_knn = Model_training(knn, X_train, Y_train, X_validation, Y_validation)\n"
      ],
      "metadata": {
        "colab": {
          "base_uri": "https://localhost:8080/"
        },
        "id": "EcIfzIK04EiC",
        "outputId": "e4d206ef-9b03-4f9c-f860-1445811daf65"
      },
      "execution_count": null,
      "outputs": [
        {
          "output_type": "stream",
          "name": "stdout",
          "text": [
            "\n",
            "==== Testing : <class 'sklearn.pipeline.Pipeline'>\n",
            "Accuracy : 0.78060522696011\n",
            "Precision : 0.9859154929577465\n",
            "F1_score : 0.523168908819133\n",
            "Recall : 0.3560528992878942\n",
            "\n",
            "===== CONFUSION MATRIX =====\n",
            "[[1920    5]\n",
            " [ 633  350]]\n"
          ]
        }
      ]
    },
    {
      "cell_type": "markdown",
      "source": [
        "Stochastic Gradient Descent -\n",
        "\n",
        "To put it simply, the goal of gradient descent is to reduce a cost function. One of the most widely used algorithms for optimization, gradient descent is by far the most prevalent technique for optimising neural networks. \n",
        "\n"
      ],
      "metadata": {
        "id": "a9dgxfmgdaQC"
      }
    },
    {
      "cell_type": "code",
      "source": [
        "# Model\n",
        "sgd = Pipeline([('vect', CountVectorizer(stop_words='english',token_pattern=r'\\w{1,}', min_df=10)),\n",
        "                ('tfidf', TfidfTransformer()),\n",
        "                ('clf',  SGDClassifier())\n",
        "               ])\n",
        "# Calling the Model_training to get the results\n",
        "result_sgd = Model_training(sgd, X_train, Y_train, X_validation, Y_validation)\n"
      ],
      "metadata": {
        "id": "jRtDRqj44pAH",
        "colab": {
          "base_uri": "https://localhost:8080/"
        },
        "outputId": "50334316-c8cd-481b-917c-c384fadf8686"
      },
      "execution_count": null,
      "outputs": [
        {
          "output_type": "stream",
          "name": "stdout",
          "text": [
            "\n",
            "==== Testing : <class 'sklearn.pipeline.Pipeline'>\n",
            "Accuracy : 0.8548830811554333\n",
            "Precision : 0.8934081346423562\n",
            "F1_score : 0.7511792452830188\n",
            "Recall : 0.6480162767039674\n",
            "\n",
            "===== CONFUSION MATRIX =====\n",
            "[[1849   76]\n",
            " [ 346  637]]\n"
          ]
        }
      ]
    },
    {
      "cell_type": "markdown",
      "source": [
        "The Support Vector Machines (SVM) technique may separate a vector space of tagged texts into two subspaces, one of which contains the majority of the vectors that are associated with a given tag and the other of which contains the majority of the vectors that are not associated with that tag. \n",
        "\n",
        "Texts will be converted into vectors via SVM-based classification models, and these vectors will then be used to identify which side of the vector space a given tag belongs to. The model will determine whether a person belongs to a particular tag based on where they land."
      ],
      "metadata": {
        "id": "KQBKuusOeN3A"
      }
    },
    {
      "cell_type": "code",
      "source": [
        "# Model \n",
        "\n",
        "svc = Pipeline([('vect', CountVectorizer(stop_words='english',token_pattern=r'\\w{1,}', min_df=10)),\n",
        "                ('tfidf', TfidfTransformer()),\n",
        "                ('clf',  LinearSVC())\n",
        "               ])\n",
        "\n",
        "# Calling the Model_training to get the results\n",
        "result_svc = Model_training(svc, X_train, Y_train, X_validation, Y_validation)\n"
      ],
      "metadata": {
        "id": "urCWbBYI5acp",
        "colab": {
          "base_uri": "https://localhost:8080/"
        },
        "outputId": "536086f4-321f-4acc-9f02-f82caf671ec2"
      },
      "execution_count": null,
      "outputs": [
        {
          "output_type": "stream",
          "name": "stdout",
          "text": [
            "\n",
            "==== Testing : <class 'sklearn.pipeline.Pipeline'>\n",
            "Accuracy : 0.8462861072902338\n",
            "Precision : 0.7740286298568507\n",
            "F1_score : 0.7720550739418663\n",
            "Recall : 0.7700915564598169\n",
            "\n",
            "===== CONFUSION MATRIX =====\n",
            "[[1704  221]\n",
            " [ 226  757]]\n"
          ]
        }
      ]
    },
    {
      "cell_type": "markdown",
      "source": [
        "# Visualising the results from above models.\n",
        "\n",
        "We can see that Logestic regression model is giving the highest accracy of about \"87\" followed by Stochastic Gradient Descent model, Support vector machine algorithm and Random forests."
      ],
      "metadata": {
        "id": "DzEEDdIJeeom"
      }
    },
    {
      "cell_type": "code",
      "source": [
        "#Vizualising the findings\n",
        "fig = plt.figure()\n",
        "fig = plt.figure(figsize = (10, 5))\n",
        "methods = ['LR','SGD', 'SVC', 'RF', 'KNN', 'MLPClassifier' ]\n",
        "scores = [result_lr[0], result_sgd[0],  result_svc[0], result_rf[0],result_knn[0],result_mlp[0], ]\n",
        "plt.ylabel(\"ALGORITHM\")\n",
        "plt.xlabel(\"SCORES\")\n",
        "plt.barh(methods,scores)\n",
        "plt.title(\"ACCURACY SCORES FOR VARIOUS ALGORITHMS\")\n",
        "for index, value in enumerate(scores):\n",
        "    plt.text(value, index, str(round(value, 2)))\n",
        "plt.show()"
      ],
      "metadata": {
        "id": "pv5Gv4Y85HcT",
        "colab": {
          "base_uri": "https://localhost:8080/",
          "height": 367
        },
        "outputId": "890eb03a-b21c-4ac0-f73f-8fc7de4e652a"
      },
      "execution_count": null,
      "outputs": [
        {
          "output_type": "display_data",
          "data": {
            "text/plain": [
              "<Figure size 432x288 with 0 Axes>"
            ]
          },
          "metadata": {}
        },
        {
          "output_type": "display_data",
          "data": {
            "text/plain": [
              "<Figure size 720x360 with 1 Axes>"
            ],
            "image/png": "[encoded data removed]"
          },
          "metadata": {
            "needs_background": "light"
          }
        }
      ]
    },
    {
      "cell_type": "markdown",
      "source": [
        "# Fine-tuning\n",
        "\n",
        "Logistic Regression and Stochastic gradient descent were tuned further for analysis.\n",
        "\n",
        "Cross-validation-\n",
        "\n",
        "The effectiveness of text classifiers is commonly assessed through the use of cross-validation. The process is easy. The training dataset is first divided into a number of equal-length sections at random. The classifier that was trained on all but one of the subsets was then used to predict the texts in the remaining subset. Up until all of the folds have been used for testing, the procedure is repeated with a fresh testing fold."
      ],
      "metadata": {
        "id": "9Z0egls4fLfu"
      }
    },
    {
      "cell_type": "code",
      "source": [
        "from sklearn.model_selection import GridSearchCV\n"
      ],
      "metadata": {
        "id": "9ra5UQTT6Gnb"
      },
      "execution_count": null,
      "outputs": []
    },
    {
      "cell_type": "code",
      "source": [
        "# Model Selection Accuracy\n",
        "#modelLR = LogisticRegression()\n",
        "from sklearn.pipeline import make_pipeline\n",
        "\n",
        "params = [{\n",
        "   'C': [0.01, 0.1, 1, 10],\n",
        "    \"penalty\" : [\"l2\", \"l1\", \"elasticnet\"],\n",
        "    'solver': ['lbfgs', 'liblinear']  }]\n",
        "\n",
        "lr_gs = Pipeline([('vect', CountVectorizer(stop_words='english',token_pattern=r'\\w{1,}', min_df=10)),\n",
        "                ('tfidf', TfidfTransformer()),\n",
        "                ('clf',GridSearchCV(LogisticRegression(), param_grid=params, scoring= 'accuracy', cv = 2,refit=True))\n",
        "               ])\n",
        "\n",
        "\n",
        "\n",
        "lr_gs.fit(X_train, Y_train)\n",
        "\n",
        "print(lr_gs.named_steps.clf.best_score_)\n",
        "print(lr_gs.named_steps.clf.best_estimator_)\n",
        "print(lr_gs.named_steps.clf.best_params_)\n"
      ],
      "metadata": {
        "id": "B__j6Tr-QCXo",
        "colab": {
          "base_uri": "https://localhost:8080/"
        },
        "outputId": "6b2c570c-1c55-4b99-cb17-f90a377ad60b"
      },
      "execution_count": null,
      "outputs": [
        {
          "output_type": "stream",
          "name": "stdout",
          "text": [
            "0.7529611737341206\n",
            "LogisticRegression(C=1, penalty='l1', solver='liblinear')\n",
            "{'C': 1, 'penalty': 'l1', 'solver': 'liblinear'}\n"
          ]
        },
        {
          "output_type": "execute_result",
          "data": {
            "text/plain": [
              "['LR_GS_Social.pkl']"
            ]
          },
          "metadata": {},
          "execution_count": 43
        }
      ]
    },
    {
      "cell_type": "code",
      "source": [
        "lr_pred = lr_gs.predict(X_validation)\n",
        "\n",
        "result_lr_hp = getResults(Y_validation, lr_pred)"
      ],
      "metadata": {
        "id": "deayJcFyR92s",
        "colab": {
          "base_uri": "https://localhost:8080/"
        },
        "outputId": "70b1dc5c-1fd2-4cf5-c4c6-f1b4f4bd44f5"
      },
      "execution_count": null,
      "outputs": [
        {
          "output_type": "stream",
          "name": "stdout",
          "text": [
            "Accuracy : 0.8610729023383769\n",
            "Precision : 0.8220244716351501\n",
            "F1_score : 0.7853347502656749\n",
            "Recall : 0.7517802644964394\n",
            "\n",
            "===== CONFUSION MATRIX =====\n",
            "[[1765  160]\n",
            " [ 244  739]]\n"
          ]
        }
      ]
    },
    {
      "cell_type": "code",
      "source": [
        "fig = plt.figure()\n",
        "fig = plt.figure(figsize = (10, 5))\n",
        "label = ['LR', 'LR_Hypertuned']\n",
        "scores = [result_lr[0], result_lr_hp[0]]\n",
        "plt.ylabel(\"Model\")\n",
        "plt.xlabel(\"SCORES\")\n",
        "plt.barh(label,scores)\n",
        "\n",
        "plt.title(\"ACCURACY SCORES FOR THE LR AND LR_Hypertuned MODELS\")\n",
        "for index, value in enumerate(scores):\n",
        "    plt.text(value, index, str(round(value, 2)))\n",
        "plt.show()"
      ],
      "metadata": {
        "id": "6ZusC8sbW6D3",
        "colab": {
          "base_uri": "https://localhost:8080/",
          "height": 367
        },
        "outputId": "9b4532ce-3813-4013-d5e5-5310146bca8a"
      },
      "execution_count": null,
      "outputs": [
        {
          "output_type": "display_data",
          "data": {
            "text/plain": [
              "<Figure size 432x288 with 0 Axes>"
            ]
          },
          "metadata": {}
        },
        {
          "output_type": "display_data",
          "data": {
            "text/plain": [
              "<Figure size 720x360 with 1 Axes>"
            ],
            "image/png": "[encoded data removed]"
          },
          "metadata": {
            "needs_background": "light"
          }
        }
      ]
    },
    {
      "cell_type": "code",
      "source": [
        "# hypertuning sgd model\n",
        "\n",
        "params = [{\n",
        "   \"loss\" : [ \"log\", \"hinge\"],\n",
        "     \"alpha\" : [ 0.01, 0.1],\n",
        "     \"penalty\" : [\"l1\", \"elasticnet\"]\n",
        " }]\n",
        "\n",
        "sgd_gs = Pipeline([('vect', CountVectorizer(stop_words='english',token_pattern=r'\\w{1,}', min_df=10)),\n",
        "                ('tfidf', TfidfTransformer()),\n",
        "                ('clf',GridSearchCV(SGDClassifier(), param_grid=params, scoring= 'accuracy', cv = 2,refit=True))\n",
        "               ])\n",
        "\n",
        "\n",
        "\n",
        "sgd_gs.fit(X_train, Y_train)\n",
        "\n",
        "print(sgd_gs.named_steps.clf.best_score_)\n",
        "print(sgd_gs.named_steps.clf.best_estimator_)\n",
        "print(sgd_gs.named_steps.clf.best_params_)"
      ],
      "metadata": {
        "id": "nKggoZBaPcCL",
        "colab": {
          "base_uri": "https://localhost:8080/"
        },
        "outputId": "f49b9c2f-853b-4a83-b494-135beadc4447"
      },
      "execution_count": null,
      "outputs": [
        {
          "output_type": "stream",
          "name": "stdout",
          "text": [
            "0.6562712470925032\n",
            "SGDClassifier(alpha=0.01, penalty='elasticnet')\n",
            "{'alpha': 0.01, 'loss': 'hinge', 'penalty': 'elasticnet'}\n"
          ]
        }
      ]
    },
    {
      "cell_type": "code",
      "source": [
        "#  Try to predict data using this hypertuned method\n",
        "sgd_gs_pred = sgd_gs.predict(X_validation)\n",
        "\n",
        "# Print the results \n",
        "result_sgd_hp = getResults(Y_validation,sgd_gs_pred)"
      ],
      "metadata": {
        "id": "Uzvu1JnYLHX5",
        "colab": {
          "base_uri": "https://localhost:8080/"
        },
        "outputId": "63311740-07bc-4028-a91d-9e5b72ee4c25"
      },
      "execution_count": null,
      "outputs": [
        {
          "output_type": "stream",
          "name": "stdout",
          "text": [
            "Accuracy : 0.7472489683631361\n",
            "Precision : 1.0\n",
            "F1_score : 0.40292445166531277\n",
            "Recall : 0.25228891149542215\n",
            "\n",
            "===== CONFUSION MATRIX =====\n",
            "[[1925    0]\n",
            " [ 735  248]]\n"
          ]
        }
      ]
    },
    {
      "cell_type": "code",
      "source": [
        "fig = plt.figure()\n",
        "fig = plt.figure(figsize = (10, 5))\n",
        "label = ['SGD', 'SGD_Hypertuned']\n",
        "scores = [result_sgd[0], result_sgd_hp[0]]\n",
        "plt.ylabel(\"Model\")\n",
        "plt.xlabel(\"SCORES\")\n",
        "plt.barh(label,scores)\n",
        "plt.title(\"ACCURACY SCORES FOR THE SGD AND SGD_Hypertuned MODELS\")\n",
        "for index, value in enumerate(scores):\n",
        "    plt.text(value, index, str(round(value, 2)))\n",
        "plt.show()"
      ],
      "metadata": {
        "id": "Qn8hwp75LYH4",
        "colab": {
          "base_uri": "https://localhost:8080/",
          "height": 367
        },
        "outputId": "5b51ae7e-f0d6-4099-ef01-1f844faa2b6e"
      },
      "execution_count": null,
      "outputs": [
        {
          "output_type": "display_data",
          "data": {
            "text/plain": [
              "<Figure size 432x288 with 0 Axes>"
            ]
          },
          "metadata": {}
        },
        {
          "output_type": "display_data",
          "data": {
            "text/plain": [
              "<Figure size 720x360 with 1 Axes>"
            ],
            "image/png": "[encoded data removed]"
          },
          "metadata": {
            "needs_background": "light"
          }
        }
      ]
    },
    {
      "cell_type": "code",
      "source": [],
      "metadata": {
        "id": "AsSmQ3Tta1S-"
      },
      "execution_count": null,
      "outputs": []
    }
  ]
}