{
  "cells": [
    {
      "cell_type": "code",
      "execution_count": null,
      "metadata": {
        "id": "FRFF1UmOMj_z"
      },
      "outputs": [],
      "source": [
        "import pandas as pd \n",
        "import numpy as np\n",
        "\n",
        "from tensorflow.python.keras import layers\n",
        "from tensorflow.keras.models import Sequential\n",
        "from tensorflow.python.keras.layers import Conv2D, Flatten, Dense\n",
        "from keras.preprocessing.text import Tokenizer\n",
        "from keras_preprocessing.sequence import pad_sequences\n",
        "from keras.wrappers.scikit_learn import KerasClassifier\n",
        "from keras.layers import Input\n",
        "from tensorflow.keras.models import load_model\n",
        "\n",
        "from sklearn.metrics import accuracy_score, f1_score, precision_score, recall_score\n",
        "from sklearn.metrics import confusion_matrix\n",
        "\n",
        "import tensorflow as tf\n",
        "tf.config.run_functions_eagerly(True)"
      ]
    },
    {
      "cell_type": "code",
      "execution_count": null,
      "metadata": {
        "colab": {
          "base_uri": "https://localhost:8080/"
        },
        "id": "mgvwsvleMu3C",
        "outputId": "8fd38b76-ac6b-40b2-e3ae-d53ce8d8b5aa"
      },
      "outputs": [
        {
          "output_type": "stream",
          "name": "stdout",
          "text": [
            "Mounted at /content/drive\n"
          ]
        }
      ],
      "source": [
        "from google.colab import drive\n",
        "\n",
        "drive.mount('/content/drive')\n"
      ]
    },
    {
      "cell_type": "code",
      "execution_count": null,
      "metadata": {
        "colab": {
          "base_uri": "https://localhost:8080/"
        },
        "id": "8UyqQmH9Nef7",
        "outputId": "a767dc83-d7c6-40fe-a5fe-703cef5598bf"
      },
      "outputs": [
        {
          "output_type": "stream",
          "name": "stdout",
          "text": [
            "/content/drive/MyDrive/project\n"
          ]
        }
      ],
      "source": [
        "cd '/content/drive/MyDrive/project'"
      ]
    },
    {
      "cell_type": "code",
      "execution_count": null,
      "metadata": {
        "id": "O5DGCt2GNDr3"
      },
      "outputs": [],
      "source": [
        "import pickle\n",
        "\n",
        "with open('df_train.pkl', 'rb') as f:\n",
        "    df_train = pickle.load(f)\n",
        "\n",
        "with open('df_validation.pkl', 'rb') as f:\n",
        "    df_validation = pickle.load(f)"
      ]
    },
    {
      "cell_type": "code",
      "execution_count": null,
      "metadata": {
        "id": "7b6l05g7NOeS"
      },
      "outputs": [],
      "source": [
        "from sklearn.utils import shuffle\n",
        "\n",
        "def xy_data(data):\n",
        "  \n",
        "  data.body = data.body + data.clean_title\n",
        "  data.drop(columns=[\"clean_title\"], axis = 1, inplace=True)\n",
        "\n",
        "\n",
        "  data = shuffle(data)\n",
        "\n",
        "  data.reset_index(inplace=True, drop=True)\n",
        "\n",
        "  x_train_features = data['body']\n",
        "  \n",
        "  y_train = data['2_way_label']\n",
        "  \n",
        "  display(x_train_features.head())\n",
        "  display(y_train.head())\n",
        "\n",
        "  return x_train_features, y_train"
      ]
    },
    {
      "cell_type": "code",
      "execution_count": null,
      "metadata": {
        "colab": {
          "base_uri": "https://localhost:8080/",
          "height": 221
        },
        "id": "TWwSi8f8Njjo",
        "outputId": "8c952c3f-65a6-492c-9f20-51238aa2936e"
      },
      "outputs": [
        {
          "output_type": "display_data",
          "data": {
            "text/plain": [
              "0    deleted userspacecowboyPlease post comments ph...\n",
              "1    What robocall I’ve never heard term Does count...\n",
              "2    Mixed drink belongs shower Am I shit got real ...\n",
              "3    Clearly Arkenshoes returned erf capable hands ...\n",
              "4    Is satire site Seems written Greetings NEARBEE...\n",
              "Name: body, dtype: object"
            ]
          },
          "metadata": {}
        },
        {
          "output_type": "display_data",
          "data": {
            "text/plain": [
              "0    1\n",
              "1    1\n",
              "2    0\n",
              "3    1\n",
              "4    1\n",
              "Name: 2_way_label, dtype: int64"
            ]
          },
          "metadata": {}
        }
      ],
      "source": [
        "x_train, y_train = xy_data(df_train)"
      ]
    },
    {
      "cell_type": "code",
      "execution_count": null,
      "metadata": {
        "colab": {
          "base_uri": "https://localhost:8080/",
          "height": 221
        },
        "id": "lmWwAvZnNlvo",
        "outputId": "4e905c4f-0150-447a-ebbc-744eda173747"
      },
      "outputs": [
        {
          "output_type": "display_data",
          "data": {
            "text/plain": [
              "0    This poster frequently shopped like many other...\n",
              "1    Thats canceltheonionasian guy separate group a...\n",
              "2                    Oooo piece candynew gummy candies\n",
              "3    Removed Previously submitted articles articles...\n",
              "4    Thank submitting post rfakealbumcovers Please ...\n",
              "Name: body, dtype: object"
            ]
          },
          "metadata": {}
        },
        {
          "output_type": "display_data",
          "data": {
            "text/plain": [
              "0    0\n",
              "1    0\n",
              "2    0\n",
              "3    1\n",
              "4    0\n",
              "Name: 2_way_label, dtype: int64"
            ]
          },
          "metadata": {}
        }
      ],
      "source": [
        "x_validation, y_validation = xy_data(df_validation)"
      ]
    },
    {
      "cell_type": "markdown",
      "metadata": {
        "id": "ez-tNjFwN1uF"
      },
      "source": [
        "Using the CountVectorizer provided by the scikit-learn library to vectorize sentences."
      ]
    },
    {
      "cell_type": "code",
      "execution_count": null,
      "metadata": {
        "colab": {
          "base_uri": "https://localhost:8080/"
        },
        "id": "M5gl-zzzNoBs",
        "outputId": "5a160378-b9c8-4c9b-9116-1338d956d794"
      },
      "outputs": [
        {
          "output_type": "execute_result",
          "data": {
            "text/plain": [
              "CountVectorizer(min_df=10, stop_words='english', token_pattern='\\\\w{1,}')"
            ]
          },
          "metadata": {},
          "execution_count": 11
        }
      ],
      "source": [
        "#Using CountVectorizer for feature extraction\n",
        "\n",
        "from sklearn.feature_extraction.text import CountVectorizer\n",
        "\n",
        "vectorizer = CountVectorizer( stop_words='english', lowercase=True, token_pattern=r'\\w{1,}', min_df=10)\n",
        "vectorizer.fit(x_train)"
      ]
    },
    {
      "cell_type": "code",
      "execution_count": null,
      "metadata": {
        "colab": {
          "base_uri": "https://localhost:8080/"
        },
        "id": "-xnG5KyMNseM",
        "outputId": "66b42a20-c2c3-4e9e-c365-5b0c116eca64"
      },
      "outputs": [
        {
          "output_type": "execute_result",
          "data": {
            "text/plain": [
              "{'ginger': 7807,\n",
              " 'thank': 18904,\n",
              " 'posting': 14100,\n",
              " 'rfakealbumcovers': 15773,\n",
              " 'post': 14088,\n",
              " 'removed': 15427,\n",
              " 'image': 9095,\n",
              " 'square': 17778,\n",
              " 'familiarize': 6704,\n",
              " 'subreddits': 18238,\n",
              " 'rules': 16157,\n",
              " 'wish': 20871,\n",
              " 'resubmit': 15665,\n",
              " 'fixing': 7069,\n",
              " 'issueif': 9787,\n",
              " 'believe': 1627,\n",
              " 'error': 6255,\n",
              " 'reviewed': 15738,\n",
              " 'reply': 15502,\n",
              " 'notre': 12535,\n",
              " 'dame': 4498,\n",
              " 'black': 1804,\n",
              " 'metal': 11486,\n",
              " 'looking': 10847,\n",
              " 'moments': 11838,\n",
              " 'suicide': 18319,\n",
              " 'bunker': 2370,\n",
              " 'username': 20038,\n",
              " 'checks': 2940,\n",
              " 'need': 12248,\n",
              " 'know': 10234,\n",
              " 'guess': 8170,\n",
              " 'leonardo': 10556,\n",
              " 'dicaprio': 5058,\n",
              " 'madonna': 11002,\n",
              " 'chilling': 3012,\n",
              " 'hungarian': 8938,\n",
              " 'traffic': 19346,\n",
              " 'hitler': 8687,\n",
              " 'eva': 6347,\n",
              " 'braun': 2142,\n",
              " 'nsfw': 12559,\n",
              " 'mean': 11324,\n",
              " 'belongs': 1644,\n",
              " 'male': 11066,\n",
              " 'n': 12135,\n",
              " 'f': 6619,\n",
              " 'w': 20446,\n",
              " 'lets': 10568,\n",
              " 'unit': 19867,\n",
              " 'magic': 11012,\n",
              " 'moment': 11836,\n",
              " 'little': 10757,\n",
              " 'girl': 7811,\n",
              " 'right': 15840,\n",
              " 'thats': 18923,\n",
              " 'perfect': 13507,\n",
              " 'expecting': 6502,\n",
              " 'getting': 7767,\n",
              " 'held': 8530,\n",
              " 'eu': 6331,\n",
              " 'team': 18745,\n",
              " 'reason': 15084,\n",
              " 'switch': 18538,\n",
              " 'things': 18981,\n",
              " 'mid': 11542,\n",
              " 'season': 16562,\n",
              " 'assume': 1069,\n",
              " 'youre': 21140,\n",
              " 'waiting': 20468,\n",
              " 'time': 19106,\n",
              " 'going': 7901,\n",
              " 'pc': 13404,\n",
              " 'gaming': 7613,\n",
              " 'vague': 20093,\n",
              " 'dune': 5724,\n",
              " 'fantasy': 6726,\n",
              " 'space': 17570,\n",
              " 'star': 17886,\n",
              " 'wars': 20547,\n",
              " 'alternative': 545,\n",
              " 'small': 17320,\n",
              " 'number': 12584,\n",
              " 'items': 9804,\n",
              " 'bin': 1746,\n",
              " 'monk': 11867,\n",
              " 'piece': 13703,\n",
              " 'paper': 13222,\n",
              " 'hung': 8937,\n",
              " 'way': 20600,\n",
              " 'psychic': 14605,\n",
              " 'vision': 20347,\n",
              " 'violate': 20318,\n",
              " 'reddiquette': 15198,\n",
              " 'kind': 10171,\n",
              " 'fraud': 7384,\n",
              " 'alan': 433,\n",
              " 'watts': 20591,\n",
              " 'said': 16260,\n",
              " 'connection': 3751,\n",
              " 'im': 9093,\n",
              " 'trying': 19570,\n",
              " 'make': 11052,\n",
              " 'sense': 16677,\n",
              " 'quarter': 14771,\n",
              " 'better': 1693,\n",
              " 'deal': 4600,\n",
              " 'children': 3002,\n",
              " 'place': 13798,\n",
              " 'makes': 11056,\n",
              " 'consider': 3783,\n",
              " 'type': 19668,\n",
              " 'shit': 16903,\n",
              " 'communist': 3531,\n",
              " 'governments': 7965,\n",
              " 'years': 21091,\n",
              " 'life': 10638,\n",
              " 'bot': 2051,\n",
              " 'bleep': 1847,\n",
              " 'bloop': 1898,\n",
              " 'linked': 10706,\n",
              " 'thread': 19017,\n",
              " 'reddit': 15199,\n",
              " 'rsubredditsimmeta': 16111,\n",
              " 'death': 4611,\n",
              " 'huge': 8897,\n",
              " 'follow': 7228,\n",
              " 'links': 10711,\n",
              " 'respect': 15615,\n",
              " 'dont': 5495,\n",
              " 'vote': 20411,\n",
              " 'threads': 19022,\n",
              " 'infortotesmessenger': 9386,\n",
              " 'contactmessagecomposetortotesmessenger': 3840,\n",
              " 'regular': 15306,\n",
              " 'bunch': 2362,\n",
              " 'cool': 3964,\n",
              " 'stuff': 18169,\n",
              " 'pick': 13686,\n",
              " 'baseball': 1478,\n",
              " 'come': 3448,\n",
              " 'video': 20273,\n",
              " 'making': 11060,\n",
              " 'excuses': 6443,\n",
              " 'avoid': 1255,\n",
              " 'talking': 18650,\n",
              " 'men': 11425,\n",
              " 'destroying': 4958,\n",
              " 'systemic': 18588,\n",
              " 'patriarchy': 13359,\n",
              " 'year': 21086,\n",
              " 'nod': 12425,\n",
              " 'work': 20948,\n",
              " 'fully': 7511,\n",
              " 'autonomous': 1226,\n",
              " 'vehicle': 20176,\n",
              " 'really': 15072,\n",
              " 'miss': 11696,\n",
              " 'defiance': 4725,\n",
              " 'thought': 19010,\n",
              " 'got': 7948,\n",
              " 'near': 12228,\n",
              " 'end': 6090,\n",
              " 'previous': 14296,\n",
              " 'episode': 6215,\n",
              " 'japanese': 9873,\n",
              " 'minister': 11639,\n",
              " 'economy': 5835,\n",
              " 'tell': 18793,\n",
              " 'caused': 2736,\n",
              " 'issues': 9788,\n",
              " 'read': 15047,\n",
              " 'fan': 6712,\n",
              " 'allows': 512,\n",
              " 'use': 20030,\n",
              " 'model': 11774,\n",
              " 'youll': 21136,\n",
              " 'maybe': 11294,\n",
              " 'reinstall': 15334,\n",
              " 'feel': 6882,\n",
              " 'free': 7395,\n",
              " 'attempt': 1131,\n",
              " 'probably': 14359,\n",
              " 'amazon': 563,\n",
              " 'acid': 138,\n",
              " 'favorite': 6794,\n",
              " 'moisturizer': 11818,\n",
              " 'ive': 9824,\n",
              " 'tried': 19486,\n",
              " 'kids': 10157,\n",
              " 'arent': 903,\n",
              " 'cheap': 2923,\n",
              " 'enlisted': 6154,\n",
              " 'paid': 13155,\n",
              " 'tells': 18796,\n",
              " 'date': 4558,\n",
              " 'starts': 17907,\n",
              " 'liverpool': 10765,\n",
              " 'run': 16167,\n",
              " 'snot': 17412,\n",
              " 'increasing': 9271,\n",
              " 'weekly': 20647,\n",
              " 'mileage': 11574,\n",
              " 'track': 19327,\n",
              " 'speed': 17650,\n",
              " 'relative': 15358,\n",
              " 'ground': 8130,\n",
              " 'help': 8544,\n",
              " 'redness': 15216,\n",
              " 'faster': 6763,\n",
              " 'prevent': 14290,\n",
              " 'injury': 9432,\n",
              " 'actually': 178,\n",
              " 'aware': 1271,\n",
              " 'usually': 20049,\n",
              " 'older': 12778,\n",
              " 'people': 13489,\n",
              " 'fiber': 6946,\n",
              " 'mission': 11702,\n",
              " 'factual': 6653,\n",
              " 'like': 10664,\n",
              " 'amazed': 559,\n",
              " 'corporate': 4013,\n",
              " 'democrats': 4814,\n",
              " 'say': 16386,\n",
              " 'unless': 19885,\n",
              " 'crazy': 4184,\n",
              " 'happens': 8343,\n",
              " 'hillary': 8640,\n",
              " 'good': 7917,\n",
              " 'offensive': 12734,\n",
              " 'derogatory': 4902,\n",
              " 'slur': 17309,\n",
              " 'build': 2323,\n",
              " 'manually': 11138,\n",
              " 'remove': 15426,\n",
              " 'bamboo': 1398,\n",
              " 'sure': 18409,\n",
              " 'dig': 5102,\n",
              " 'tunnels': 19607,\n",
              " 'intentionally': 9572,\n",
              " 'instead': 9510,\n",
              " 'far': 6734,\n",
              " 'recommend': 15154,\n",
              " 'using': 20043,\n",
              " 'hi': 8601,\n",
              " 'doesnt': 5438,\n",
              " 'means': 11329,\n",
              " 'pain': 13156,\n",
              " 'delivery': 4791,\n",
              " 'tho': 19000,\n",
              " 'power': 14137,\n",
              " 'censor': 2790,\n",
              " 'person': 13555,\n",
              " 'dead': 4591,\n",
              " 'america': 582,\n",
              " 'value': 20110,\n",
              " 'came': 2514,\n",
              " 'didnt': 5077,\n",
              " 'look': 10843,\n",
              " 'source': 17551,\n",
              " 'inevitably': 9336,\n",
              " 'disconnected': 5219,\n",
              " 'main': 11035,\n",
              " 'series': 16720,\n",
              " 'course': 4103,\n",
              " 'worse': 20974,\n",
              " 'mistakes': 11713,\n",
              " 'lots': 10882,\n",
              " 'mins': 11649,\n",
              " 'pve': 14729,\n",
              " 'game': 7603,\n",
              " 'just': 10048,\n",
              " 'play': 13846,\n",
              " 'particular': 13295,\n",
              " 'aspect': 1015,\n",
              " 'lacks': 10314,\n",
              " 'online': 12817,\n",
              " 'gamer': 7608,\n",
              " 'kinda': 10172,\n",
              " 'action': 161,\n",
              " 'test': 18869,\n",
              " 'attentive': 1144,\n",
              " 'issue': 9785,\n",
              " 'forever': 7280,\n",
              " 'mac': 10978,\n",
              " 'think': 18983,\n",
              " 'sitting': 17146,\n",
              " 'order': 12910,\n",
              " 'kk': 10203,\n",
              " 'scenario': 16431,\n",
              " 'prefer': 14207,\n",
              " 'structure': 18148,\n",
              " 'hes': 8589,\n",
              " 'thinking': 18985,\n",
              " 'ok': 12771,\n",
              " 'abused': 60,\n",
              " 'women': 20914,\n",
              " 'check': 2933,\n",
              " 'homes': 8749,\n",
              " 'dictated': 5068,\n",
              " 'press': 14263,\n",
              " 'worked': 20950,\n",
              " 'interesting': 9586,\n",
              " 'poster': 14094,\n",
              " 'filipino': 6976,\n",
              " 'area': 897,\n",
              " 'understood': 19805,\n",
              " 'english': 6135,\n",
              " 'schedule': 16439,\n",
              " 'according': 110,\n",
              " 'weve': 20707,\n",
              " 'covered': 4118,\n",
              " 'bases': 1483,\n",
              " 'education': 5874,\n",
              " 'began': 1591,\n",
              " 'philippines': 13628,\n",
              " 'arrival': 952,\n",
              " 'teachers': 18741,\n",
              " 'language': 10357,\n",
              " 'extended': 6574,\n",
              " 'inclusion': 9246,\n",
              " 'vocabulary': 20372,\n",
              " 'local': 10794,\n",
              " 'languages': 10358,\n",
              " 'adaptation': 185,\n",
              " 'words': 20945,\n",
              " 'needs': 12255,\n",
              " 'modifications': 11799,\n",
              " 'pronunciation': 14474,\n",
              " 'grammar': 8007,\n",
              " 'adopted': 249,\n",
              " 'newspapers': 12343,\n",
              " 'magazines': 11009,\n",
              " 'media': 11357,\n",
              " 'literary': 10744,\n",
              " 'oxford': 13114,\n",
              " 'guide': 8179,\n",
              " 'world': 20962,\n",
              " 'university': 19878,\n",
              " 'decent': 4642,\n",
              " 'chance': 2858,\n",
              " 'younger': 21138,\n",
              " 'degree': 4755,\n",
              " 'speak': 17611,\n",
              " 'family': 6706,\n",
              " 'chose': 3054,\n",
              " 'wouldnt': 20986,\n",
              " 'actual': 176,\n",
              " 'demographics': 4816,\n",
              " 'soldier': 17474,\n",
              " 'standing': 17874,\n",
              " 'american': 583,\n",
              " 'occupation': 12690,\n",
              " 'wait': 20465,\n",
              " 'explain': 6526,\n",
              " 'official': 12745,\n",
              " 'explanation': 6530,\n",
              " 'cerebral': 2815,\n",
              " 'personally': 13561,\n",
              " 'quite': 14806,\n",
              " 'palm': 13189,\n",
              " 'theory': 18950,\n",
              " 'bruce': 2266,\n",
              " 'movie': 11995,\n",
              " 'topless': 19238,\n",
              " 'dripping': 5643,\n",
              " 'guys': 8220,\n",
              " 'died': 5079,\n",
              " 'sweat': 18496,\n",
              " 'case': 2675,\n",
              " 'wondering': 20921,\n",
              " 'lee': 10488,\n",
              " 'allergic': 493,\n",
              " 'reaction': 15039,\n",
              " 'medication': 11365,\n",
              " 'armpits': 933,\n",
              " 'constantly': 3808,\n",
              " 'uncovered': 19769,\n",
              " 'kept': 10117,\n",
              " 'holding': 8722,\n",
              " 'arms': 934,\n",
              " 'heads': 8458,\n",
              " 'quickly': 14796,\n",
              " 'perish': 13525,\n",
              " 'famous': 6710,\n",
              " 'persons': 13566,\n",
              " 'easy': 5811,\n",
              " 'cash': 2678,\n",
              " 'despicable': 4945,\n",
              " 'bothered': 2054,\n",
              " 'forward': 7329,\n",
              " 'new': 12330,\n",
              " 'conspiracy': 3805,\n",
              " 'major': 11049,\n",
              " 'demonstrates': 4826,\n",
              " 'lazy': 10437,\n",
              " 'scammers': 16401,\n",
              " 'audience': 1171,\n",
              " 'matters': 11283,\n",
              " 'weird': 20663,\n",
              " 'rumors': 16165,\n",
              " 'story': 18056,\n",
              " 'ended': 6098,\n",
              " 'wifes': 20794,\n",
              " 'wonder': 20917,\n",
              " 'remember': 15406,\n",
              " 'lived': 10761,\n",
              " 't': 18595,\n",
              " 'don': 5477,\n",
              " 'true': 19551,\n",
              " 's': 16221,\n",
              " 'ain': 404,\n",
              " 'friend': 7433,\n",
              " 'die': 5078,\n",
              " 'dunno': 5732,\n",
              " 'similar': 17080,\n",
              " 'bad': 1340,\n",
              " 'accidentally': 95,\n",
              " 'od': 12714,\n",
              " 'allergy': 495,\n",
              " 'clicked': 3221,\n",
              " 'sad': 16240,\n",
              " 'fighter': 6960,\n",
              " 'wrote': 21024,\n",
              " 'bullshit': 2348,\n",
              " 'book': 2002,\n",
              " 'theories': 18947,\n",
              " 'cause': 2735,\n",
              " 'scientifically': 16467,\n",
              " 'verified': 20214,\n",
              " 'aside': 1005,\n",
              " 'curse': 4404,\n",
              " 'matter': 11281,\n",
              " 'faith': 6680,\n",
              " 'hell': 8536,\n",
              " 'son': 17505,\n",
              " 'young': 21137,\n",
              " 'age': 347,\n",
              " 'prime': 14317,\n",
              " 'careers': 2621,\n",
              " 'surprisingly': 18429,\n",
              " 'yes': 21108,\n",
              " 'isnt': 9773,\n",
              " 'killed': 10160,\n",
              " 'deleted': 4772,\n",
              " 'u': 19686,\n",
              " 'doesn': 5437,\n",
              " 'strange': 18073,\n",
              " 'excuse': 6442,\n",
              " 'fuck': 7481,\n",
              " 'known': 10240,\n",
              " 'birth': 1773,\n",
              " 'duck': 5696,\n",
              " 'pound': 14123,\n",
              " 'big': 1721,\n",
              " 'cock': 3321,\n",
              " 'deeper': 4697,\n",
              " 'bones': 1989,\n",
              " 'group': 8134,\n",
              " 'fellow': 6894,\n",
              " 'human': 8911,\n",
              " 'clever': 3214,\n",
              " 'best': 1682,\n",
              " 'return': 15708,\n",
              " 'based': 1479,\n",
              " 'list': 10727,\n",
              " 'current': 4399,\n",
              " 'school': 16455,\n",
              " 'situation': 17147,\n",
              " 'guns': 8210,\n",
              " 'used': 20031,\n",
              " 'point': 13935,\n",
              " 'want': 20510,\n",
              " 'executed': 6447,\n",
              " 'watch': 20573,\n",
              " 'lot': 10879,\n",
              " 'disturbing': 5372,\n",
              " 'content': 3859,\n",
              " 'horrifying': 8831,\n",
              " 'terrifying': 18855,\n",
              " 'knowing': 10236,\n",
              " 'happened': 8341,\n",
              " 'sounds': 17545,\n",
              " 'entitled': 6192,\n",
              " 'attention': 1143,\n",
              " 'seeking': 16608,\n",
              " 'friday': 7428,\n",
              " 'write': 21012,\n",
              " 'filler': 6978,\n",
              " 'lingering': 10699,\n",
              " 'flu': 7181,\n",
              " 'minutes': 11655,\n",
              " 'coils': 3351,\n",
              " 'did': 5075,\n",
              " 'forget': 7285,\n",
              " 'turbine': 19609,\n",
              " 'possibly': 14087,\n",
              " 'parallel': 13236,\n",
              " 'packs': 13141,\n",
              " 'stick': 17998,\n",
              " 'version': 20227,\n",
              " 'okay': 12772,\n",
              " 'hour': 8863,\n",
              " 'ya': 21065,\n",
              " 'theyre': 18969,\n",
              " 'working': 20954,\n",
              " 'race': 14836,\n",
              " 'scratch': 16504,\n",
              " 'uncommon': 19761,\n",
              " 'fairly': 6675,\n",
              " 'interested': 9585,\n",
              " 'ones': 12806,\n",
              " 'different': 5092,\n",
              " 'nose': 12503,\n",
              " 'live': 10759,\n",
              " 'speaking': 17614,\n",
              " 'lucid': 10928,\n",
              " 'dreams': 5619,\n",
              " 'openly': 12842,\n",
              " 'tanking': 18674,\n",
              " 'bc': 1534,\n",
              " 'rightfully': 15843,\n",
              " 'shat': 16836,\n",
              " 'word': 20940,\n",
              " 'called': 2493,\n",
              " 'lines': 10697,\n",
              " 'funny': 7540,\n",
              " 'amd': 577,\n",
              " 'ridiculous': 15830,\n",
              " 'fee': 6837,\n",
              " 'fi': 6940,\n",
              " 'fo': 7205,\n",
              " 'quick': 14794,\n",
              " 'question': 14784,\n",
              " 'scrambled': 16497,\n",
              " 'porn': 14036,\n",
              " 'channel': 2867,\n",
              " 'tv': 19636,\n",
              " 'detectives': 4974,\n",
              " 'holes': 8726,\n",
              " 'twin': 19653,\n",
              " 'towers': 19308,\n",
              " 'clearly': 3206,\n",
              " 'shows': 16990,\n",
              " 'guy': 8219,\n",
              " 'kid': 10149,\n",
              " 'conceal': 3630,\n",
              " 'election': 5936,\n",
              " 'night': 12386,\n",
              " 'hoping': 8806,\n",
              " 'federal': 6831,\n",
              " 'government': 7963,\n",
              " 'allow': 507,\n",
              " 'tyranny': 19679,\n",
              " 'dc': 4583,\n",
              " 'wildly': 20810,\n",
              " 'proud': 14558,\n",
              " 'grateful': 8049,\n",
              " 'americans': 584,\n",
              " 'shes': 16870,\n",
              " 'bit': 1785,\n",
              " 'coffee': 3341,\n",
              " 'pushing': 14717,\n",
              " 'binding': 1749,\n",
              " 'wise': 20869,\n",
              " 'seemingly': 16610,\n",
              " 'random': 14916,\n",
              " 'adjusted': 219,\n",
              " 'scroll': 16529,\n",
              " 'document': 5422,\n",
              " 'prohibition': 14435,\n",
              " 'reinstated': 15337,\n",
              " 'stereotype': 17979,\n",
              " 'dime': 5124,\n",
              " 'short': 16950,\n",
              " 'notice': 12519,\n",
              " 'characters': 2889,\n",
              " 'butchered': 2419,\n",
              " 'movies': 11996,\n",
              " 'chris': 3057,\n",
              " 'columbus': 3429,\n",
              " 'trading': 19341,\n",
              " 'places': 13803,\n",
              " 'worth': 20978,\n",
              " 'sort': 17533,\n",
              " 'social': 17436,\n",
              " 'darwinism': 4550,\n",
              " 'embraced': 6006,\n",
              " 'totalitarian': 19273,\n",
              " 'dictators': 5071,\n",
              " 'perfectly': 13509,\n",
              " 'fine': 7005,\n",
              " 'beginning': 1598,\n",
              " 'trains': 19361,\n",
              " 'meet': 11381,\n",
              " 'cat': 2698,\n",
              " 'title': 19147,\n",
              " 'article': 971,\n",
              " 'misleading': 11682,\n",
              " 'adding': 201,\n",
              " 'seafood': 16546,\n",
              " 'dishes': 5267,\n",
              " 'removing': 15442,\n",
              " 'lobster': 10792,\n",
              " 'menu': 11441,\n",
              " 'feature': 6822,\n",
              " 'pipe': 13756,\n",
              " 'dream': 5616,\n",
              " 'agree': 371,\n",
              " 'times': 19115,\n",
              " 'multiple': 12039,\n",
              " 'devices': 5012,\n",
              " 'subscription': 18246,\n",
              " 'fees': 6886,\n",
              " 'possible': 14086,\n",
              " 'solar': 17471,\n",
              " 'systems': 18589,\n",
              " 'room': 16025,\n",
              " 'breathe': 2171,\n",
              " 'delicate': 4781,\n",
              " 'snowflakes': 17418,\n",
              " 'mechanical': 11348,\n",
              " 'skill': 17185,\n",
              " 'lower': 10908,\n",
              " 'settings': 16744,\n",
              " 'isn': 9772,\n",
              " 'statement': 17919,\n",
              " 'low': 10906,\n",
              " 'donation': 5484,\n",
              " 'amounts': 597,\n",
              " 'palestine': 13182,\n",
              " 'recognized': 15149,\n",
              " 'rights': 15846,\n",
              " 'wales': 20477,\n",
              " 'identify': 9024,\n",
              " 'welsh': 20685,\n",
              " 'weed': 20642,\n",
              " 'pushed': 14715,\n",
              " 'join': 9959,\n",
              " 'day': 4572,\n",
              " 'theres': 18958,\n",
              " 'wiv': 20894,\n",
              " 'ave': 1241,\n",
              " 'ew': 6394,\n",
              " 'kan': 10067,\n",
              " 'gifv': 7794,\n",
              " 'ye': 21083,\n",
              " 'propa': 14478,\n",
              " 'bash': 1484,\n",
              " 'neighbor': 12276,\n",
              " 'pay': 13384,\n",
              " 'hurricane': 8951,\n",
              " 'idea': 9013,\n",
              " 'set': 16740,\n",
              " 'natural': 12201,\n",
              " 'relationship': 15356,\n",
              " 'guinea': 8189,\n",
              " 'pig': 13712,\n",
              " 'flowers': 7175,\n",
              " 'flesh': 7130,\n",
              " 'blood': 1891,\n",
              " 'hear': 8474,\n",
              " 'broke': 2242,\n",
              " 'wanted': 20511,\n",
              " 'share': 16819,\n",
              " 'crush': 4323,\n",
              " 'mind': 11607,\n",
              " 'choice': 3031,\n",
              " 'trans': 19371,\n",
              " 'dog': 5439,\n",
              " 'mans': 11129,\n",
              " 'throat': 19039,\n",
              " 'throw': 19044,\n",
              " 'log': 10813,\n",
              " 'line': 10690,\n",
              " 'close': 3261,\n",
              " 'company': 3543,\n",
              " 'property': 14491,\n",
              " 'uniform': 19848,\n",
              " 'knuckle': 10242,\n",
              " 'dragging': 5588,\n",
              " 'league': 10454,\n",
              " 'playing': 13854,\n",
              " 'fanbase': 6715,\n",
              " 'original': 12945,\n",
              " 'inspiration': 9490,\n",
              " 'start': 17901,\n",
              " 'teammates': 18748,\n",
              " 'deserve': 4921,\n",
              " 'report': 15504,\n",
              " 'filed': 6972,\n",
              " 'dictate': 5067,\n",
              " 'server': 16730,\n",
              " 'whats': 20718,\n",
              " 'entirely': 6189,\n",
              " 'comments': 3496,\n",
              " 'contributions': 3913,\n",
              " 'anymore': 761,\n",
              " 'pos': 14064,\n",
              " 'exactly': 6401,\n",
              " 'told': 19196,\n",
              " 'enemy': 6114,\n",
              " 'preserve': 14256,\n",
              " 'fact': 6641,\n",
              " 'completely': 3585,\n",
              " 'history': 8683,\n",
              " 'important': 9180,\n",
              " 'interaction': 9577,\n",
              " 'stands': 17877,\n",
              " 'visit': 20349,\n",
              " 'extra': 6590,\n",
              " 'steel': 17961,\n",
              " 'plated': 13836,\n",
              " 'led': 10484,\n",
              " 'downfall': 5552,\n",
              " 'heard': 8475,\n",
              " 'latest': 10389,\n",
              " 'external': 6586,\n",
              " 'runescape': 16171,\n",
              " 'yeah': 21085,\n",
              " 'difference': 5090,\n",
              " 'pretty': 14285,\n",
              " 'annoying': 691,\n",
              " 'fucking': 7488,\n",
              " 'sabotage': 16227,\n",
              " 'car': 2603,\n",
              " 'demonstrate': 4824,\n",
              " 'structural': 18146,\n",
              " 'integrity': 9552,\n",
              " 'dirty': 5171,\n",
              " 'air': 406,\n",
              " 'sound': 17542,\n",
              " 'epa': 6212,\n",
              " 'decide': 4647,\n",
              " 'ruin': 16148,\n",
              " 'reputation': 15545,\n",
              " 'handle': 8315,\n",
              " 'friends': 7435,\n",
              " 'dwarf': 5754,\n",
              " 'emergency': 6013,\n",
              " 'trips': 19510,\n",
              " 'state': 17915,\n",
              " 'level': 10578,\n",
              " 'looked': 10845,\n",
              " 'picked': 13687,\n",
              " 'skin': 17192,\n",
              " 'center': 2798,\n",
              " 'forehead': 7269,\n",
              " 'dermatologist': 4901,\n",
              " 'referred': 15246,\n",
              " 'helping': 8549,\n",
              " 'dehydrated': 4758,\n",
              " 'country': 4088,\n",
              " 'workers': 20952,\n",
              " 'present': 14248,\n",
              " 'married': 11195,\n",
              " 'left': 10492,\n",
              " 'backwards': 1336,\n",
              " 'let': 10566,\n",
              " 'existence': 6477,\n",
              " 'character': 2883,\n",
              " 'lie': 10632,\n",
              " 'upload': 19981,\n",
              " 'middle': 11544,\n",
              " 'prefers': 14213,\n",
              " 'submit': 18216,\n",
              " 'elses': 5986,\n",
              " 'dogma': 5446,\n",
              " 'chains': 2836,\n",
              " 'quote': 14817,\n",
              " 'bought': 2069,\n",
              " 'mornings': 11918,\n",
              " 'drink': 5637,\n",
              " 'coke': 3359,\n",
              " 'sorry': 17532,\n",
              " 'pan': 13197,\n",
              " 'task': 18702,\n",
              " 'requires': 15554,\n",
              " 'measuring': 11339,\n",
              " 'rhetoric': 15791,\n",
              " 'effect': 5884,\n",
              " 'include': 9242,\n",
              " 'ignore': 9052,\n",
              " 'pun': 14666,\n",
              " 'tones': 19216,\n",
              " 'evolve': 6391,\n",
              " 'loses': 10874,\n",
              " 'unlike': 19886,\n",
              " 'verb': 20204,\n",
              " 'altered': 541,\n",
              " 'tense': 18829,\n",
              " 'allowed': 509,\n",
              " 'page': 13150,\n",
              " 'purposeful': 14705,\n",
              " 'fun': 7513,\n",
              " 'academy': 74,\n",
              " 'mental': 11433,\n",
              " 'health': 8467,\n",
              " 'provider': 14568,\n",
              " 'sharper': 16832,\n",
              " 'nicer': 12364,\n",
              " 'dumb': 5708,\n",
              " 'thing': 18979,\n",
              " 'willing': 20818,\n",
              " 'yen': 21105,\n",
              " 'drawing': 5606,\n",
              " 'turn': 19622,\n",
              " 'saying': 16388,\n",
              " 'sugar': 18308,\n",
              " 'daddy': 4473,\n",
              " 'wanting': 20512,\n",
              " 'goal': 7874,\n",
              " 'wolverine': 20909,\n",
              " 'sake': 16273,\n",
              " 'laughs': 10400,\n",
              " 'prices': 14304,\n",
              " 'higher': 8615,\n",
              " 'grinder': 8108,\n",
              " 'balance': 1371,\n",
              " 'helps': 8551,\n",
              " 'draw': 5603,\n",
              " 'm': 10975,\n",
              " 'noticing': 12524,\n",
              " 'smart': 17324,\n",
              " 'hard': 8358,\n",
              " 'prevented': 14291,\n",
              " 'merely': 11456,\n",
              " 'stupidity': 18187,\n",
              " 'realized': 15068,\n",
              " 'gotta': 7954,\n",
              " 'zoom': 21188,\n",
              " 'slightly': 17277,\n",
              " 'harder': 8363,\n",
              " 'scrolling': 16531,\n",
              " 'ask': 1007,\n",
              " 'club': 3283,\n",
              " 'taking': 18639,\n",
              " 'stance': 17867,\n",
              " 'old': 12776,\n",
              " 'fashion': 6759,\n",
              " 'ways': 20602,\n",
              " 'print': 14328,\n",
              " 'decades': 4633,\n",
              " 'form': 7297,\n",
              " 'powershell': 14144,\n",
              " 'manage': 11085,\n",
              " 'pets': 13598,\n",
              " 'looks': 10849,\n",
              " 'odd': 12715,\n",
              " 'slight': 17275,\n",
              " 'sweetness': 18514,\n",
              " 'footprint': 7252,\n",
              " 'plug': 13893,\n",
              " 'complexity': 3591,\n",
              " 'animal': 662,\n",
              " 'parts': 13307,\n",
              " 'chasing': 2918,\n",
              " 'teams': 18749,\n",
              " 'internationally': 9602,\n",
              " 'motivated': 11960,\n",
              " 'sell': 16647,\n",
              " 'tickets': 19073,\n",
              " 'fall': 6690,\n",
              " 'incentive': 9230,\n",
              " 'concerned': 3643,\n",
              " 'selfish': 16643,\n",
              " 'ruler': 16155,\n",
              " 'showing': 16988,\n",
              " 'carry': 2653,\n",
              " 'justice': 10050,\n",
              " 'deter': 4979,\n",
              " 'crime': 4231,\n",
              " 'nice': 12362,\n",
              " 'phrase': 13668,\n",
              " 'divert': 5382,\n",
              " 'discussion': 5248,\n",
              " 'topic': 19235,\n",
              " 'try': 19567,\n",
              " 'correct': 4019,\n",
              " 'inside': 9470,\n",
              " 'meeting': 11382,\n",
              " 'daily': 4483,\n",
              " 'basis': 1494,\n",
              " 'rumored': 16164,\n",
              " 'antibiotics': 722,\n",
              " 'fear': 6810,\n",
              " 'x': 21040,\n",
              " 'break': 2156,\n",
              " 'ufc': 19697,\n",
              " 'photoshop': 13660,\n",
              " 'comment': 3483,\n",
              " 'leave': 10476,\n",
              " 'nest': 12308,\n",
              " 'click': 3217,\n",
              " 'battles': 1523,\n",
              " 'resultsother': 15673,\n",
              " 'shoppers': 16945,\n",
              " 'rcutouts': 15023,\n",
              " 'rbattleshopsposting': 15005,\n",
              " 'cutout': 4432,\n",
              " 'thisrcutoutswikiindexwikiflairahelpful': 18996,\n",
              " 'discussions': 5250,\n",
              " 'karmadecay': 10083,\n",
              " 'google': 7926,\n",
              " 'search': 16556,\n",
              " 'automated': 1218,\n",
              " 'response': 15630,\n",
              " 'faq': 6730,\n",
              " 'send': 16664,\n",
              " 'feedback': 6840,\n",
              " 'thingidmessagelink': 18980,\n",
              " 'champion': 2852,\n",
              " 'johnson': 9957,\n",
              " 'winning': 20848,\n",
              " 'fight': 6959,\n",
              " 'easier': 5805,\n",
              " 'poop': 14002,\n",
              " 'position': 14071,\n",
              " 'sign': 17053,\n",
              " 'indicates': 9292,\n",
              " 'toilet': 19190,\n",
              " 'shouldnt': 16972,\n",
              " 'squat': 17784,\n",
              " 'aimed': 401,\n",
              " 'familiar': 6702,\n",
              " 'saw': 16384,\n",
              " 'gets': 7765,\n",
              " 'fair': 6673,\n",
              " 'east': 5808,\n",
              " 'asian': 1003,\n",
              " 'visitors': 20353,\n",
              " 'kinds': 10178,\n",
              " 'toilets': 19191,\n",
              " 'regions': 15295,\n",
              " 'sit': 17138,\n",
              " 'seat': 16567,\n",
              " 'attached': 1120,\n",
              " 'hurting': 8956,\n",
              " 'falling': 6694,\n",
              " 'diagram': 5041,\n",
              " 'understand': 19798,\n",
              " 'platform': 13838,\n",
              " 'wrong': 21020,\n",
              " 'supposed': 18396,\n",
              " 'face': 6627,\n",
              " 'spoke': 17721,\n",
              " 'inventor': 9680,\n",
              " 'john': 9954,\n",
              " 'cultures': 4375,\n",
              " 'telling': 18795,\n",
              " 'designed': 4928,\n",
              " 'opens': 12843,\n",
              " 'rectum': 15190,\n",
              " 'signs': 17066,\n",
              " 'nationals': 12194,\n",
              " 'pooping': 14005,\n",
              " 'lol': 10828,\n",
              " 'potty': 14120,\n",
              " 'certain': 2818,\n",
              " 'stop': 18040,\n",
              " 'giving': 7825,\n",
              " 'ideas': 9018,\n",
              " 'norway': 12498,\n",
              " 'bathrooms': 1507,\n",
              " 'rneutralnews': 15915,\n",
              " 'curated': 4387,\n",
              " 'spacein': 17574,\n",
              " 'commenting': 3492,\n",
              " 'participatecomment': 13288,\n",
              " 'ruleswe': 16159,\n",
              " 'expect': 6497,\n",
              " 'following': 7232,\n",
              " 'users': 20040,\n",
              " 'courteous': 4106,\n",
              " 'facts': 6652,\n",
              " 'address': 206,\n",
              " 'arguments': 911,\n",
              " 'personif': 13563,\n",
              " 'violates': 20320,\n",
              " 'essential': 6288,\n",
              " 'associated': 1064,\n",
              " 'link': 10704,\n",
              " 'mods': 11806,\n",
              " 'attend': 1136,\n",
              " 'ithowever': 9806,\n",
              " 'note': 12511,\n",
              " 'reported': 15505,\n",
              " 'lack': 10309,\n",
              " 'neutrality': 12323,\n",
              " 'requirement': 15552,\n",
              " 'subreddit': 18223,\n",
              " 'neutral': 12322,\n",
              " 'poor': 14008,\n",
              " 'countered': 4075,\n",
              " 'evidence': 6381,\n",
              " 'onei': 12804,\n",
              " 'performed': 13513,\n",
              " 'automatically': 1220,\n",
              " 'contact': 3837,\n",
              " ...}"
            ]
          },
          "metadata": {},
          "execution_count": 9
        }
      ],
      "source": [
        "vectorizer.vocabulary_\n"
      ]
    },
    {
      "cell_type": "code",
      "execution_count": null,
      "metadata": {
        "colab": {
          "base_uri": "https://localhost:8080/",
          "height": 136
        },
        "id": "Sf7xm6-6Nrcg",
        "outputId": "2093897d-5b05-4ba4-e0bc-6472068cb44f"
      },
      "outputs": [
        {
          "output_type": "display_data",
          "data": {
            "text/plain": [
              "array([[0, 0, 0, ..., 0, 0, 0],\n",
              "       [0, 0, 0, ..., 0, 0, 0],\n",
              "       [0, 0, 0, ..., 0, 0, 0],\n",
              "       ...,\n",
              "       [0, 0, 0, ..., 0, 0, 0],\n",
              "       [0, 0, 0, ..., 0, 0, 0],\n",
              "       [0, 0, 0, ..., 0, 0, 0]])"
            ]
          },
          "metadata": {}
        }
      ],
      "source": [
        "X_train = vectorizer.fit_transform(x_train).toarray()\n",
        "\n",
        "display(X_train)"
      ]
    },
    {
      "cell_type": "code",
      "execution_count": null,
      "metadata": {
        "colab": {
          "base_uri": "https://localhost:8080/",
          "height": 136
        },
        "id": "YAoBGE8FOK4M",
        "outputId": "335d5857-beb6-4b57-f358-db4cff746b01"
      },
      "outputs": [
        {
          "output_type": "display_data",
          "data": {
            "text/plain": [
              "array([[0, 0, 0, ..., 0, 0, 0],\n",
              "       [0, 0, 0, ..., 0, 0, 0],\n",
              "       [0, 0, 0, ..., 0, 0, 0],\n",
              "       ...,\n",
              "       [0, 0, 0, ..., 0, 0, 0],\n",
              "       [0, 0, 0, ..., 0, 0, 0],\n",
              "       [0, 0, 0, ..., 0, 0, 0]])"
            ]
          },
          "metadata": {}
        }
      ],
      "source": [
        "X_validation = vectorizer.transform(x_validation).toarray()\n",
        "\n",
        "display(X_validation)"
      ]
    },
    {
      "cell_type": "code",
      "execution_count": null,
      "metadata": {
        "id": "g2gIqiomPAzD"
      },
      "outputs": [],
      "source": [
        "def transformResults(predictions):\n",
        "    \n",
        "    predictions = predictions[:, 0]\n",
        "    print(f'First 5 values before conversion : {predictions[:5]}')\n",
        "    \n",
        "    predictions = [1 if val>0.5 else 0 for val in predictions]\n",
        "    print(f'First 5 values after the conversion : {predictions[:5]}')\n",
        "    return predictions"
      ]
    },
    {
      "cell_type": "code",
      "execution_count": null,
      "metadata": {
        "id": "_pm47jLaPFOD"
      },
      "outputs": [],
      "source": [
        "# craeting lists to store results\n",
        "models =[]\n",
        "accuracy=[]\n",
        "f1_scores=[]"
      ]
    },
    {
      "cell_type": "code",
      "execution_count": null,
      "metadata": {
        "id": "R9BG4fBsPOv0"
      },
      "outputs": [],
      "source": [
        "def getResults(y_test, model_prediction,name):\n",
        "    model_prediction = transformResults(model_prediction)\n",
        "\n",
        "    print(\"\\n========== RESULTS ===========\\n\")\n",
        "    acc = accuracy_score(y_test, model_prediction)\n",
        "    precision = precision_score(y_test, model_prediction)\n",
        "    f1 = f1_score(y_test, model_prediction)\n",
        "    recall = recall_score(y_test, model_prediction)\n",
        "    \n",
        "    accuracy.append(acc)\n",
        "    models.append(name)\n",
        "    f1_scores.append(f1)\n",
        "    \n",
        "    print(f'Accuracy : {acc}\\nPrecision : {precision}\\nF1_score : {f1}\\nRecall : {recall}\\n')\n",
        "    \n",
        "    print(\"===== CONFUSION MATRIX =====\")\n",
        "    cf_matrix = confusion_matrix(y_test, model_prediction)\n",
        "    print(cf_matrix)\n",
        "    \n",
        "    return acc, precision, f1, recall"
      ]
    },
    {
      "cell_type": "markdown",
      "metadata": {
        "id": "sccUQsVgPkXK"
      },
      "source": [
        "# **Sequential model Keras Model**\n",
        "\n",
        "Keras accepts two types of models. There are two APIs: the Sequential model API and the functional API, which can do everything the Sequential model can do but can also be used for advanced models with complex network architectures. The Sequential model is a linear stack of layers in which you can use any of the Keras layers. The Dense layer is the most common, and it is your standard densely connected neural network layer with all of the weights and biases that you are already familiar with. We need to know the input dimension of our feature vectors before we can build our model. This occurs only in the first layer, as the subsequent layers can perform automatic shape inference. You can build the Sequential model by adding layers one by one.\n",
        "\n",
        "A Sequential model is appropriate for a plain stack of layers where each layer has exactly one input tensor and one output tensor."
      ]
    },
    {
      "cell_type": "code",
      "execution_count": null,
      "metadata": {
        "id": "gI5Tqd6TPhGt"
      },
      "outputs": [],
      "source": [
        "input_dimention = X_train.shape[1]  # Number of features\n",
        "\n",
        "Kerasmodel = Sequential()\n",
        "Kerasmodel.add(layers.Dense(10, input_dim=input_dimention, activation='relu'))\n",
        "Kerasmodel.add(layers.Dense(1, activation='sigmoid'))\n",
        "Kerasmodel.compile(loss='binary_crossentropy', \n",
        "              optimizer='adam', \n",
        "              metrics=['accuracy'])\n"
      ]
    },
    {
      "cell_type": "code",
      "execution_count": null,
      "metadata": {
        "colab": {
          "base_uri": "https://localhost:8080/"
        },
        "id": "IWhM4IqVPoHN",
        "outputId": "bddece6b-ee96-4c76-b57a-3ace52181676"
      },
      "outputs": [
        {
          "output_type": "stream",
          "name": "stdout",
          "text": [
            "Model: \"sequential\"\n",
            "_________________________________________________________________\n",
            " Layer (type)                Output Shape              Param #   \n",
            "=================================================================\n",
            " module_wrapper (ModuleWrapp  (55890, 10)              212280    \n",
            " er)                                                             \n",
            "                                                                 \n",
            " module_wrapper_1 (ModuleWra  (55890, 1)               11        \n",
            " pper)                                                           \n",
            "                                                                 \n",
            "=================================================================\n",
            "Total params: 212,291\n",
            "Trainable params: 212,291\n",
            "Non-trainable params: 0\n",
            "_________________________________________________________________\n"
          ]
        }
      ],
      "source": [
        "input_shape = X_train.shape  \n",
        "Kerasmodel.build(input_shape)\n",
        "\n",
        "Kerasmodel.summary()\n"
      ]
    },
    {
      "cell_type": "code",
      "execution_count": null,
      "metadata": {
        "colab": {
          "base_uri": "https://localhost:8080/"
        },
        "id": "0mKyy1JBP1cS",
        "outputId": "50f416c2-fb15-4d3f-94f3-eedb7e4c0180"
      },
      "outputs": [
        {
          "output_type": "stream",
          "name": "stderr",
          "text": [
            "/usr/local/lib/python3.8/dist-packages/tensorflow/python/data/ops/structured_function.py:264: UserWarning: Even though the `tf.config.experimental_run_functions_eagerly` option is set, this option does not apply to tf.data functions. To force eager execution of tf.data functions, please use `tf.data.experimental.enable_debug_mode()`.\n",
            "  warnings.warn(\n"
          ]
        },
        {
          "output_type": "stream",
          "name": "stdout",
          "text": [
            "4472/4472 [==============================] - 86s 19ms/step - loss: 0.3743 - accuracy: 0.8306 - val_loss: 0.3294 - val_accuracy: 0.8549\n"
          ]
        }
      ],
      "source": [
        "#Model fit \n",
        "history = Kerasmodel.fit(X_train, y_train,\n",
        "                    epochs=1,\n",
        "                    verbose=True,\n",
        "                    validation_split=0.2,\n",
        "                    batch_size=10)"
      ]
    },
    {
      "cell_type": "code",
      "execution_count": null,
      "metadata": {
        "colab": {
          "base_uri": "https://localhost:8080/"
        },
        "id": "lOb4njI4Q4dL",
        "outputId": "09d47118-ef0b-4697-bf05-18e52892d96e"
      },
      "outputs": [
        {
          "output_type": "stream",
          "name": "stdout",
          "text": [
            "91/91 [==============================] - 1s 12ms/step - loss: 0.3182 - accuracy: 0.8717\n",
            "Validation Score: 0.3182376027107239\n",
            "Validation Accuracy: 0.8717331290245056\n"
          ]
        }
      ],
      "source": [
        "score = Kerasmodel.evaluate(X_validation, y_validation, verbose=1)\n",
        "print(\"Validation Score:\", score[0])\n",
        "print(\"Validation Accuracy:\", score[1])"
      ]
    },
    {
      "cell_type": "code",
      "execution_count": null,
      "metadata": {
        "colab": {
          "base_uri": "https://localhost:8080/"
        },
        "id": "3MszJI66TNVM",
        "outputId": "67998892-3e30-4aa6-facd-60d889664577"
      },
      "outputs": [
        {
          "output_type": "stream",
          "name": "stdout",
          "text": [
            "91/91 [==============================] - 1s 6ms/step\n",
            "[0.44661272 0.9999867  0.04047155 ... 0.97558784 0.03917297 0.9999996 ]\n",
            "First 5 values before conversion : [0.44661272 0.9999867  0.04047155 0.95581454 0.04525505]\n",
            "First 5 values after the conversion : [0, 1, 0, 1, 0]\n",
            "\n",
            "========== RESULTS ===========\n",
            "\n",
            "Accuracy : 0.8717331499312242\n",
            "Precision : 0.8613744075829384\n",
            "F1_score : 0.7958401751505199\n",
            "Recall : 0.7395727365208545\n",
            "\n",
            "===== CONFUSION MATRIX =====\n",
            "[[1808  117]\n",
            " [ 256  727]]\n"
          ]
        }
      ],
      "source": [
        "predictions = Kerasmodel.predict(X_validation)\n",
        "print(predictions[:,0])\n",
        "\n",
        "name =\"Sequential model\"\n",
        "results = getResults(y_validation, predictions,name)"
      ]
    },
    {
      "cell_type": "markdown",
      "metadata": {
        "id": "5nQRmZvkWbVp"
      },
      "source": [
        "# Word Embedding\n",
        "\n",
        "Unlike one-hot encoding, which is hardcoded, this method represents words as dense word vectors (also known as word embeddings) that are trained. This means that word embeddings store more information in fewer dimensions.\n",
        "\n",
        "It is an advance over the more conventional bag-of-word encoding techniques, in which each word was represented by a big sparse vector, or a complete vocabulary was represented by scoring each word within the vector. Due to the enormous vocabularies and the fact that most words and documents were represented by large vectors largely made up of zero values, these representations were sparse. \n",
        "\n",
        "In contrast, words are represented in an embedding by dense vectors, where a vector is the word's projection into a continuous vector space. \n",
        "\n",
        "Words that surround a word when it is used determine its position inside the vector space, which is learned through text."
      ]
    },
    {
      "cell_type": "code",
      "execution_count": null,
      "metadata": {
        "id": "18H-WYhQTiu3"
      },
      "outputs": [],
      "source": [
        "MAX_SEQUENCE_LENGTH=500\n",
        "EMBEDDING_DIM=300 \n",
        "dropout=0.5\n",
        "\n",
        "def loadData_Tokenizer(Xtrain, Xvalidation):\n",
        "    \n",
        "    tokenizer = Tokenizer(num_words=5000, lower = False)\n",
        "\n",
        "    tokenizer.fit_on_texts(Xtrain)\n",
        "\n",
        "    train = tokenizer.texts_to_sequences(Xtrain)\n",
        "    validation = tokenizer.texts_to_sequences(Xvalidation)\n",
        "    \n",
        "    vocab_size = len(tokenizer.word_index) + 1  # Adding 1 because of reserved 0 index\n",
        "    \n",
        "    word_inndex =tokenizer.word_index\n",
        "\n",
        "    \n",
        "    return (train, validation,vocab_size,word_inndex )\n",
        "\n",
        "X_train_t,X_validation_t, vocab_size,word_inndex= loadData_Tokenizer(x_train,x_validation)"
      ]
    },
    {
      "cell_type": "code",
      "execution_count": null,
      "metadata": {
        "colab": {
          "base_uri": "https://localhost:8080/"
        },
        "id": "iro1uv-WWs_1",
        "outputId": "0db57d1c-02ce-4ee1-94e1-68efbefc525f"
      },
      "outputs": [
        {
          "output_type": "execute_result",
          "data": {
            "text/plain": [
              "((55890, 300), (2908, 300))"
            ]
          },
          "metadata": {},
          "execution_count": 13
        }
      ],
      "source": [
        "maxlen = 300\n",
        "\n",
        "\n",
        "X_train_t = pad_sequences(X_train_t, padding='post', maxlen=maxlen)\n",
        "X_validation_t = pad_sequences(X_validation_t, padding='post', maxlen=maxlen)\n",
        "\n",
        "X_train_t.shape, X_validation_t.shape"
      ]
    },
    {
      "cell_type": "markdown",
      "metadata": {
        "id": "q035aLu-XnNx"
      },
      "source": [
        "## Sequential model + Keras Embedding Layer Keras Embedding Layer **bold text** bold text\n",
        "\n",
        "Now you can use Keras Embedding Layer to map the previously calculated integers to a dense vector of the embedding. The following parameters are required: input_dim: the size of the vocabulary output_dim: the size of the dense vector input_length: the length of the sequence We now have a couple of options with the Embedding layer. One approach would be to plug the embedding layers output into a Dense layer. To accomplish this, insert a Flatten layer between them that prepares the sequential input for the Dense layer."
      ]
    },
    {
      "cell_type": "code",
      "execution_count": null,
      "metadata": {
        "colab": {
          "base_uri": "https://localhost:8080/"
        },
        "id": "o3vcxYRcXgVY",
        "outputId": "77604e81-40cf-43b4-b3eb-94d8652b4048"
      },
      "outputs": [
        {
          "output_type": "stream",
          "name": "stdout",
          "text": [
            "Model: \"sequential\"\n",
            "_________________________________________________________________\n",
            " Layer (type)                Output Shape              Param #   \n",
            "=================================================================\n",
            " module_wrapper (ModuleWrapp  (55890, 300, 50)         14299800  \n",
            " er)                                                             \n",
            "                                                                 \n",
            " module_wrapper_1 (ModuleWra  (55890, 15000)           0         \n",
            " pper)                                                           \n",
            "                                                                 \n",
            " module_wrapper_2 (ModuleWra  (55890, 10)              150010    \n",
            " pper)                                                           \n",
            "                                                                 \n",
            " module_wrapper_3 (ModuleWra  (55890, 1)               11        \n",
            " pper)                                                           \n",
            "                                                                 \n",
            "=================================================================\n",
            "Total params: 14,449,821\n",
            "Trainable params: 14,449,821\n",
            "Non-trainable params: 0\n",
            "_________________________________________________________________\n"
          ]
        }
      ],
      "source": [
        "embedding_dim = 50\n",
        "input_shape = X_train_t.shape \n",
        "\n",
        "\n",
        "model = Sequential()\n",
        "model.add(layers.Embedding(input_dim=vocab_size, \n",
        "                           output_dim=embedding_dim, \n",
        "                           input_length=maxlen))\n",
        "model.add(layers.Flatten())\n",
        "model.add(layers.Dense(10, activation='sigmoid'))\n",
        "model.add(layers.Dense(1, activation='sigmoid'))\n",
        "model.compile(optimizer='adam',\n",
        "              loss='binary_crossentropy',\n",
        "              metrics=['accuracy'])\n",
        "model.build(input_shape)\n",
        "\n",
        "model.summary()"
      ]
    },
    {
      "cell_type": "code",
      "execution_count": null,
      "metadata": {
        "colab": {
          "base_uri": "https://localhost:8080/"
        },
        "id": "nw8W3UBpXvsi",
        "outputId": "6b1d922d-006d-4d35-aded-7b488795cadc"
      },
      "outputs": [
        {
          "output_type": "stream",
          "name": "stderr",
          "text": [
            "/usr/local/lib/python3.8/dist-packages/tensorflow/python/data/ops/structured_function.py:264: UserWarning: Even though the `tf.config.experimental_run_functions_eagerly` option is set, this option does not apply to tf.data functions. To force eager execution of tf.data functions, please use `tf.data.experimental.enable_debug_mode()`.\n",
            "  warnings.warn(\n"
          ]
        },
        {
          "output_type": "stream",
          "name": "stdout",
          "text": [
            "Epoch 1/5\n",
            "4472/4472 [==============================] - 1053s 235ms/step - loss: 0.3789 - accuracy: 0.8232 - val_loss: 0.3298 - val_accuracy: 0.8532\n",
            "Epoch 2/5\n",
            "4472/4472 [==============================] - 1050s 235ms/step - loss: 0.2586 - accuracy: 0.8897 - val_loss: 0.3507 - val_accuracy: 0.8417\n",
            "Epoch 3/5\n",
            "4472/4472 [==============================] - 1048s 234ms/step - loss: 0.1408 - accuracy: 0.9480 - val_loss: 0.4638 - val_accuracy: 0.8223\n",
            "Epoch 4/5\n",
            "4472/4472 [==============================] - 1045s 234ms/step - loss: 0.0687 - accuracy: 0.9778 - val_loss: 0.6335 - val_accuracy: 0.8224\n",
            "Epoch 5/5\n",
            "4472/4472 [==============================] - 1045s 234ms/step - loss: 0.0406 - accuracy: 0.9868 - val_loss: 0.7933 - val_accuracy: 0.8045\n"
          ]
        }
      ],
      "source": [
        "#model fit\n",
        "history = model.fit(X_train_t, y_train,\n",
        "                    epochs=5,\n",
        "                    verbose=True,\n",
        "                    validation_split=0.2,\n",
        "                    batch_size=10)"
      ]
    },
    {
      "cell_type": "markdown",
      "metadata": {
        "id": "am8BY16CfP-E"
      },
      "source": [
        "The result of the model shows high overfitting over epochs. Just using one epoch for model fit in the next step."
      ]
    },
    {
      "cell_type": "code",
      "execution_count": null,
      "metadata": {
        "colab": {
          "base_uri": "https://localhost:8080/"
        },
        "id": "F4V0X4GeYDq-",
        "outputId": "025ac641-b30f-43d8-bedf-dadbe36f0952"
      },
      "outputs": [
        {
          "output_type": "stream",
          "name": "stdout",
          "text": [
            "91/91 [==============================] - 1s 9ms/step - loss: 0.7502 - accuracy: 0.8095\n",
            "Validation Score: 0.7501960396766663\n",
            "Validation Accuracy: 0.8094910383224487\n",
            "91/91 [==============================] - 0s 4ms/step\n",
            "[9.9969923e-01 9.9983799e-01 6.6398137e-04 ... 9.1773475e-04 2.0504526e-03\n",
            " 9.9981153e-01]\n",
            "First 5 values before conversion : [9.9969923e-01 9.9983799e-01 6.6398137e-04 1.0312310e-02 9.9992412e-01]\n",
            "First 5 values after the conversion : [1, 1, 0, 0, 1]\n",
            "\n",
            "========== RESULTS ===========\n",
            "\n",
            "Accuracy : 0.8094910591471802\n",
            "Precision : 0.7092682926829268\n",
            "F1_score : 0.7241035856573705\n",
            "Recall : 0.7395727365208545\n",
            "\n",
            "===== CONFUSION MATRIX =====\n",
            "[[1627  298]\n",
            " [ 256  727]]\n"
          ]
        }
      ],
      "source": [
        "score = model.evaluate(X_validation_t, y_validation, verbose=1)\n",
        "print(\"Validation Score:\", score[0])\n",
        "print(\"Validation Accuracy:\", score[1])\n",
        "\n",
        "predictions = model.predict(X_validation_t)\n",
        "print(predictions[:,0])\n",
        "\n",
        "name=\"Sequentialmodel + KerasEmbeddingLayer\"\n",
        "results = getResults(y_validation, predictions,name)"
      ]
    },
    {
      "cell_type": "markdown",
      "metadata": {
        "id": "QL6rFDoN3Erc"
      },
      "source": [
        "## **Sequential model + Keras Embedding Layer + GlobalMaxPooling1D layer + CNN**\n",
        "Convolutional Neural Networks (CNN)\n",
        "\n",
        "Convolutional layers are the hidden layers in a CNN. These convolutional layers can detect edges, corners, and other types of textures, making them a unique tool. The convolutional layer is made up of multiple filters that are slid across the image to detect specific features."
      ]
    },
    {
      "cell_type": "code",
      "execution_count": null,
      "metadata": {
        "colab": {
          "base_uri": "https://localhost:8080/"
        },
        "id": "Ak0EG0_3iYoy",
        "outputId": "7a94046d-7665-431e-e1a3-c571be94e7d8"
      },
      "outputs": [
        {
          "output_type": "stream",
          "name": "stdout",
          "text": [
            "Model: \"sequential_2\"\n",
            "_________________________________________________________________\n",
            " Layer (type)                Output Shape              Param #   \n",
            "=================================================================\n",
            " module_wrapper_5 (ModuleWra  (55890, 300, 100)        28599600  \n",
            " pper)                                                           \n",
            "                                                                 \n",
            " module_wrapper_6 (ModuleWra  (55890, 296, 128)        64128     \n",
            " pper)                                                           \n",
            "                                                                 \n",
            " module_wrapper_7 (ModuleWra  (55890, 128)             0         \n",
            " pper)                                                           \n",
            "                                                                 \n",
            " module_wrapper_8 (ModuleWra  (55890, 10)              1290      \n",
            " pper)                                                           \n",
            "                                                                 \n",
            " module_wrapper_9 (ModuleWra  (55890, 1)               11        \n",
            " pper)                                                           \n",
            "                                                                 \n",
            "=================================================================\n",
            "Total params: 28,665,029\n",
            "Trainable params: 28,665,029\n",
            "Non-trainable params: 0\n",
            "_________________________________________________________________\n"
          ]
        }
      ],
      "source": [
        "embedding_dim = 100\n",
        "input_shape = X_train_t.shape \n",
        "\n",
        "cnn_model = Sequential()\n",
        "cnn_model.add(layers.Embedding(vocab_size, embedding_dim, input_length=maxlen))\n",
        "cnn_model.add(layers.Conv1D(128, 5, activation='relu'))\n",
        "cnn_model.add(layers.GlobalMaxPooling1D())\n",
        "cnn_model.add(layers.Dense(10, activation='relu'))\n",
        "cnn_model.add(layers.Dense(1, activation='sigmoid'))\n",
        "cnn_model.compile(optimizer='adam',\n",
        "              loss='binary_crossentropy',\n",
        "              metrics=['accuracy'])\n",
        "cnn_model.build(input_shape)\n",
        "cnn_model.summary()"
      ]
    },
    {
      "cell_type": "code",
      "execution_count": null,
      "metadata": {
        "colab": {
          "base_uri": "https://localhost:8080/"
        },
        "id": "_PTp4n79wBL-",
        "outputId": "bc2d1881-72da-4a8d-d14b-45531aaf248b"
      },
      "outputs": [
        {
          "output_type": "stream",
          "name": "stdout",
          "text": [
            "Epoch 1/5\n"
          ]
        },
        {
          "output_type": "stream",
          "name": "stderr",
          "text": [
            "/usr/local/lib/python3.8/dist-packages/tensorflow/python/data/ops/structured_function.py:264: UserWarning: Even though the `tf.config.experimental_run_functions_eagerly` option is set, this option does not apply to tf.data functions. To force eager execution of tf.data functions, please use `tf.data.experimental.enable_debug_mode()`.\n",
            "  warnings.warn(\n"
          ]
        },
        {
          "output_type": "stream",
          "name": "stdout",
          "text": [
            "4472/4472 [==============================] - 2057s 460ms/step - loss: 0.3564 - accuracy: 0.8313 - val_loss: 0.3336 - val_accuracy: 0.8411\n",
            "Epoch 2/5\n",
            "4472/4472 [==============================] - 2045s 457ms/step - loss: 0.2388 - accuracy: 0.8989 - val_loss: 0.3789 - val_accuracy: 0.8368\n",
            "Epoch 3/5\n",
            "4472/4472 [==============================] - 2043s 457ms/step - loss: 0.1082 - accuracy: 0.9602 - val_loss: 0.4698 - val_accuracy: 0.8353\n",
            "Epoch 4/5\n",
            "4472/4472 [==============================] - 2048s 458ms/step - loss: 0.0489 - accuracy: 0.9827 - val_loss: 0.6401 - val_accuracy: 0.8323\n",
            "Epoch 5/5\n",
            "4472/4472 [==============================] - 2049s 458ms/step - loss: 0.0370 - accuracy: 0.9864 - val_loss: 0.7904 - val_accuracy: 0.8310\n"
          ]
        }
      ],
      "source": [
        "history = cnn_model.fit(X_train_t, y_train,\n",
        "                    epochs=5,\n",
        "                    verbose=True,\n",
        "                    validation_split=0.2,\n",
        "                    batch_size=10)"
      ]
    },
    {
      "cell_type": "code",
      "execution_count": null,
      "metadata": {
        "colab": {
          "base_uri": "https://localhost:8080/"
        },
        "id": "ngDstKFa3tEQ",
        "outputId": "3c4e8ce1-d942-4a1f-d260-5baed6aaa238"
      },
      "outputs": [
        {
          "output_type": "stream",
          "name": "stdout",
          "text": [
            "91/91 [==============================] - 3s 37ms/step - loss: 0.6799 - accuracy: 0.8604\n",
            "Validation Score: 0.6799298524856567\n",
            "Validation Accuracy: 0.8603851199150085\n",
            "91/91 [==============================] - 3s 31ms/step\n",
            "[3.1274660e-06 1.9786984e-01 1.2681275e-07 ... 1.3303191e-05 2.7337816e-02\n",
            " 2.4430705e-03]\n",
            "First 5 values before conversion : [3.1274660e-06 1.9786984e-01 1.2681275e-07 3.0185636e-02 1.6995553e-08]\n",
            "First 5 values after the conversion : [0, 0, 0, 0, 0]\n",
            "\n",
            "========== RESULTS ===========\n",
            "\n",
            "Accuracy : 0.8603851444291609\n",
            "Precision : 0.8374269005847953\n",
            "F1_score : 0.7791077257889009\n",
            "Recall : 0.728382502543235\n",
            "\n",
            "===== CONFUSION MATRIX =====\n",
            "[[1786  139]\n",
            " [ 267  716]]\n"
          ]
        }
      ],
      "source": [
        "score = cnn_model.evaluate(X_validation_t, y_validation, verbose=1)\n",
        "print(\"Validation Score:\", score[0])\n",
        "print(\"Validation Accuracy:\", score[1])\n",
        "\n",
        "predictions = cnn_model.predict(X_validation_t)\n",
        "print(predictions[:,0])\n",
        "\n",
        "name=\"Sequential model + Keras Embedding Layer + CNN\"\n",
        "results = getResults(y_validation, predictions,name)"
      ]
    },
    {
      "cell_type": "markdown",
      "metadata": {
        "id": "UhvGVHxC4AQ6"
      },
      "source": [
        "# **Sequential model + Glove Embedding Layer + GlobalMaxPooling1D layer + CNN**\n",
        "\n",
        "word embedding-  \n",
        "\n",
        "A word embedding learned somewhere else can also be used by the Keras Embedding layer. \n",
        "\n",
        "In the field of natural language processing, word embeddings are frequently learned, saved, and made freely available.\n",
        "\n",
        "Use pretrained GloVe model from Stanford http://nlp.stanford.edu/data/glove.6B.zip\n",
        "\n",
        "Contains 300-dimensional vectors for 0.4 million words and phrases"
      ]
    },
    {
      "cell_type": "code",
      "execution_count": null,
      "metadata": {
        "id": "B5NIjc2c3ywB"
      },
      "outputs": [],
      "source": [
        "embeddings_dictionary = dict()\n",
        "\n",
        "glove_file = open('glove.6B.100d.txt', encoding=\"utf8\")\n",
        "\n",
        "for line in glove_file:\n",
        "    records = line.split()\n",
        "    word = records[0]\n",
        "    vector_dimensions = np.asarray(records[1:], dtype='float32')\n",
        "    embeddings_dictionary[word] = vector_dimensions\n",
        "glove_file.close()\n",
        "\n",
        "embedding_matrix = np.zeros((vocab_size, 100))\n",
        "for word, index in word_inndex.items():\n",
        "    embedding_vector = embeddings_dictionary.get(word)\n",
        "    if embedding_vector is not None:\n",
        "        embedding_matrix[index] = embedding_vector"
      ]
    },
    {
      "cell_type": "code",
      "execution_count": null,
      "metadata": {
        "colab": {
          "base_uri": "https://localhost:8080/"
        },
        "id": "1_1bGABg4yZ-",
        "outputId": "a74ea257-6c80-4317-8ee0-f0ab9511080a"
      },
      "outputs": [
        {
          "output_type": "stream",
          "name": "stdout",
          "text": [
            "Model: \"sequential\"\n",
            "_________________________________________________________________\n",
            " Layer (type)                Output Shape              Param #   \n",
            "=================================================================\n",
            " module_wrapper (ModuleWrapp  (55890, 300, 100)        28599600  \n",
            " er)                                                             \n",
            "                                                                 \n",
            " module_wrapper_1 (ModuleWra  (55890, 296, 128)        64128     \n",
            " pper)                                                           \n",
            "                                                                 \n",
            " module_wrapper_2 (ModuleWra  (55890, 128)             0         \n",
            " pper)                                                           \n",
            "                                                                 \n",
            " module_wrapper_3 (ModuleWra  (55890, 10)              1290      \n",
            " pper)                                                           \n",
            "                                                                 \n",
            " module_wrapper_4 (ModuleWra  (55890, 1)               11        \n",
            " pper)                                                           \n",
            "                                                                 \n",
            "=================================================================\n",
            "Total params: 28,665,029\n",
            "Trainable params: 65,429\n",
            "Non-trainable params: 28,599,600\n",
            "_________________________________________________________________\n"
          ]
        }
      ],
      "source": [
        "embedding_dim = 100\n",
        "input_shape = X_train_t.shape\n",
        "\n",
        "cnn_g_model = Sequential()\n",
        "cnn_g_model.add(layers.Embedding(vocab_size,\n",
        "                            100,\n",
        "                            weights=[embedding_matrix],\n",
        "                            trainable=False))\n",
        "cnn_g_model.add(layers.Conv1D(128, 5, activation='relu'))\n",
        "cnn_g_model.add(layers.GlobalMaxPooling1D())\n",
        "cnn_g_model.add(layers.Dense(10, activation='relu'))\n",
        "cnn_g_model.add(layers.Dense(1, activation='sigmoid'))\n",
        "cnn_g_model.compile(optimizer='adam',\n",
        "              loss='binary_crossentropy',\n",
        "              metrics=['accuracy'])\n",
        "cnn_g_model.build(input_shape)\n",
        "cnn_g_model.summary()"
      ]
    },
    {
      "cell_type": "code",
      "execution_count": null,
      "metadata": {
        "colab": {
          "base_uri": "https://localhost:8080/"
        },
        "id": "kD_k3JRC4-XM",
        "outputId": "03045268-6259-4198-9605-9c51a7748920"
      },
      "outputs": [
        {
          "output_type": "stream",
          "name": "stdout",
          "text": [
            "Epoch 1/3\n"
          ]
        },
        {
          "output_type": "stream",
          "name": "stderr",
          "text": [
            "/usr/local/lib/python3.8/dist-packages/tensorflow/python/data/ops/structured_function.py:264: UserWarning: Even though the `tf.config.experimental_run_functions_eagerly` option is set, this option does not apply to tf.data functions. To force eager execution of tf.data functions, please use `tf.data.experimental.enable_debug_mode()`.\n",
            "  warnings.warn(\n"
          ]
        },
        {
          "output_type": "stream",
          "name": "stdout",
          "text": [
            "4472/4472 [==============================] - 354s 79ms/step - loss: 0.3970 - accuracy: 0.8064 - val_loss: 0.3635 - val_accuracy: 0.8287\n",
            "Epoch 2/3\n",
            "4472/4472 [==============================] - 362s 81ms/step - loss: 0.3253 - accuracy: 0.8489 - val_loss: 0.3614 - val_accuracy: 0.8286\n",
            "Epoch 3/3\n",
            "4472/4472 [==============================] - 347s 78ms/step - loss: 0.2754 - accuracy: 0.8774 - val_loss: 0.3693 - val_accuracy: 0.8230\n"
          ]
        }
      ],
      "source": [
        "history = cnn_g_model.fit(X_train_t, y_train,\n",
        "                    epochs=3,\n",
        "                    verbose=True,\n",
        "                    validation_split=0.2,\n",
        "                    batch_size=10)"
      ]
    },
    {
      "cell_type": "code",
      "execution_count": null,
      "metadata": {
        "colab": {
          "base_uri": "https://localhost:8080/"
        },
        "id": "xGsGorJs5CmT",
        "outputId": "17a05873-8f76-4f46-99f0-4f9c99bdc1fc"
      },
      "outputs": [
        {
          "output_type": "stream",
          "name": "stdout",
          "text": [
            "91/91 [==============================] - 4s 42ms/step - loss: 0.3675 - accuracy: 0.8277\n",
            "Test Score: 0.36749014258384705\n",
            "Test Accuracy: 0.8277166485786438\n",
            "91/91 [==============================] - 3s 36ms/step\n",
            "[0.19762613 0.27602813 0.15953471 ... 0.22039804 0.85972637 0.02786459]\n",
            "First 5 values before conversion : [1.9762613e-01 2.7602813e-01 1.5953471e-01 9.9345404e-01 1.8120518e-05]\n",
            "First 5 values after the conversion : [0, 0, 0, 1, 0]\n",
            "\n",
            "========== RESULTS ===========\n",
            "\n",
            "Accuracy : 0.8277166437414031\n",
            "Precision : 0.7190909090909091\n",
            "F1_score : 0.7594815170427267\n",
            "Recall : 0.8046795523906409\n",
            "\n",
            "===== CONFUSION MATRIX =====\n",
            "[[1616  309]\n",
            " [ 192  791]]\n"
          ]
        }
      ],
      "source": [
        "score = cnn_g_model.evaluate(X_validation_t, y_validation, verbose=1)\n",
        "print(\"Test Score:\", score[0])\n",
        "print(\"Test Accuracy:\", score[1])\n",
        "\n",
        "predictions = cnn_g_model.predict(X_validation_t)\n",
        "print(predictions[:,0])\n",
        "name = 'Sequential model + Glove Embedding Layer + CNN'\n",
        "social_results = getResults(y_validation, predictions,name)\n"
      ]
    },
    {
      "cell_type": "code",
      "execution_count": null,
      "metadata": {
        "colab": {
          "base_uri": "https://localhost:8080/",
          "height": 80
        },
        "id": "jI69hNLR5U03",
        "outputId": "58247e27-3d10-41b2-b7a8-5f0eb1296cd6"
      },
      "outputs": [
        {
          "output_type": "execute_result",
          "data": {
            "text/plain": [
              "                                            model  accuracy  f1_score\n",
              "0  Sequential model + Glove Embedding Layer + CNN  0.827717  0.759482"
            ],
            "text/html": [
              "\n",
              "  <div id=\"df-9b5df67d-1b64-49e4-abdf-662ce2f9304e\">\n",
              "    <div class=\"colab-df-container\">\n",
              "      <div>\n",
              "<style scoped>\n",
              "    .dataframe tbody tr th:only-of-type {\n",
              "        vertical-align: middle;\n",
              "    }\n",
              "\n",
              "    .dataframe tbody tr th {\n",
              "        vertical-align: top;\n",
              "    }\n",
              "\n",
              "    .dataframe thead th {\n",
              "        text-align: right;\n",
              "    }\n",
              "</style>\n",
              "<table border=\"1\" class=\"dataframe\">\n",
              "  <thead>\n",
              "    <tr style=\"text-align: right;\">\n",
              "      <th></th>\n",
              "      <th>model</th>\n",
              "      <th>accuracy</th>\n",
              "      <th>f1_score</th>\n",
              "    </tr>\n",
              "  </thead>\n",
              "  <tbody>\n",
              "    <tr>\n",
              "      <th>0</th>\n",
              "      <td>Sequential model + Glove Embedding Layer + CNN</td>\n",
              "      <td>0.827717</td>\n",
              "      <td>0.759482</td>\n",
              "    </tr>\n",
              "  </tbody>\n",
              "</table>\n",
              "</div>\n",
              "      <button class=\"colab-df-convert\" onclick=\"convertToInteractive('df-9b5df67d-1b64-49e4-abdf-662ce2f9304e')\"\n",
              "              title=\"Convert this dataframe to an interactive table.\"\n",
              "              style=\"display:none;\">\n",
              "        \n",
              "  <svg xmlns=\"http://www.w3.org/2000/svg\" height=\"24px\"viewBox=\"0 0 24 24\"\n",
              "       width=\"24px\">\n",
              "    <path d=\"M0 0h24v24H0V0z\" fill=\"none\"/>\n",
              "    <path d=\"M18.56 5.44l.94 2.06.94-2.06 2.06-.94-2.06-.94-.94-2.06-.94 2.06-2.06.94zm-11 1L8.5 8.5l.94-2.06 2.06-.94-2.06-.94L8.5 2.5l-.94 2.06-2.06.94zm10 10l.94 2.06.94-2.06 2.06-.94-2.06-.94-.94-2.06-.94 2.06-2.06.94z\"/><path d=\"M17.41 7.96l-1.37-1.37c-.4-.4-.92-.59-1.43-.59-.52 0-1.04.2-1.43.59L10.3 9.45l-7.72 7.72c-.78.78-.78 2.05 0 2.83L4 21.41c.39.39.9.59 1.41.59.51 0 1.02-.2 1.41-.59l7.78-7.78 2.81-2.81c.8-.78.8-2.07 0-2.86zM5.41 20L4 18.59l7.72-7.72 1.47 1.35L5.41 20z\"/>\n",
              "  </svg>\n",
              "      </button>\n",
              "      \n",
              "  <style>\n",
              "    .colab-df-container {\n",
              "      display:flex;\n",
              "      flex-wrap:wrap;\n",
              "      gap: 12px;\n",
              "    }\n",
              "\n",
              "    .colab-df-convert {\n",
              "      background-color: #E8F0FE;\n",
              "      border: none;\n",
              "      border-radius: 50%;\n",
              "      cursor: pointer;\n",
              "      display: none;\n",
              "      fill: #1967D2;\n",
              "      height: 32px;\n",
              "      padding: 0 0 0 0;\n",
              "      width: 32px;\n",
              "    }\n",
              "\n",
              "    .colab-df-convert:hover {\n",
              "      background-color: #E2EBFA;\n",
              "      box-shadow: 0px 1px 2px rgba(60, 64, 67, 0.3), 0px 1px 3px 1px rgba(60, 64, 67, 0.15);\n",
              "      fill: #174EA6;\n",
              "    }\n",
              "\n",
              "    [theme=dark] .colab-df-convert {\n",
              "      background-color: #3B4455;\n",
              "      fill: #D2E3FC;\n",
              "    }\n",
              "\n",
              "    [theme=dark] .colab-df-convert:hover {\n",
              "      background-color: #434B5C;\n",
              "      box-shadow: 0px 1px 3px 1px rgba(0, 0, 0, 0.15);\n",
              "      filter: drop-shadow(0px 1px 2px rgba(0, 0, 0, 0.3));\n",
              "      fill: #FFFFFF;\n",
              "    }\n",
              "  </style>\n",
              "\n",
              "      <script>\n",
              "        const buttonEl =\n",
              "          document.querySelector('#df-9b5df67d-1b64-49e4-abdf-662ce2f9304e button.colab-df-convert');\n",
              "        buttonEl.style.display =\n",
              "          google.colab.kernel.accessAllowed ? 'block' : 'none';\n",
              "\n",
              "        async function convertToInteractive(key) {\n",
              "          const element = document.querySelector('#df-9b5df67d-1b64-49e4-abdf-662ce2f9304e');\n",
              "          const dataTable =\n",
              "            await google.colab.kernel.invokeFunction('convertToInteractive',\n",
              "                                                     [key], {});\n",
              "          if (!dataTable) return;\n",
              "\n",
              "          const docLinkHtml = 'Like what you see? Visit the ' +\n",
              "            '<a target=\"_blank\" href=https://colab.research.google.com/notebooks/data_table.ipynb>data table notebook</a>'\n",
              "            + ' to learn more about interactive tables.';\n",
              "          element.innerHTML = '';\n",
              "          dataTable['output_type'] = 'display_data';\n",
              "          await google.colab.output.renderOutput(dataTable, element);\n",
              "          const docLink = document.createElement('div');\n",
              "          docLink.innerHTML = docLinkHtml;\n",
              "          element.appendChild(docLink);\n",
              "        }\n",
              "      </script>\n",
              "    </div>\n",
              "  </div>\n",
              "  "
            ]
          },
          "metadata": {},
          "execution_count": 22
        }
      ],
      "source": [
        "df_results = pd.DataFrame(list(zip(models, accuracy, f1_scores)), \n",
        "               columns =['model', 'accuracy','f1_score']) \n",
        "df_results"
      ]
    },
    {
      "cell_type": "code",
      "execution_count": null,
      "metadata": {
        "colab": {
          "background_save": true
        },
        "id": "dJppIgI2v9FZ"
      },
      "outputs": [],
      "source": [
        "s"
      ]
    }
  ],
  "metadata": {
    "colab": {
      "provenance": []
    },
    "kernelspec": {
      "display_name": "Python 3",
      "name": "python3"
    },
    "language_info": {
      "name": "python"
    }
  },
  "nbformat": 4,
  "nbformat_minor": 0
}