{
  "cells": [
    {
      "cell_type": "code",
      "execution_count": null,
      "id": "f330edb0",
      "metadata": {
        "id": "f330edb0"
      },
      "outputs": [],
      "source": [
        "import pandas as pd\n",
        "import numpy as np\n",
        "\n",
        "import os\n",
        "\n",
        "import warnings\n",
        "warnings.filterwarnings('ignore')"
      ]
    },
    {
      "cell_type": "code",
      "execution_count": null,
      "id": "166dfce3",
      "metadata": {
        "id": "166dfce3",
        "colab": {
          "base_uri": "https://localhost:8080/"
        },
        "outputId": "4c0f4991-e8d9-4cb9-fa50-de1a30257650"
      },
      "outputs": [
        {
          "output_type": "stream",
          "name": "stdout",
          "text": [
            "Mounted at /content/drive\n"
          ]
        }
      ],
      "source": [
        "from google.colab import drive\n",
        "\n",
        "drive.mount('/content/drive')"
      ]
    },
    {
      "cell_type": "code",
      "source": [
        "cd '/content/drive/MyDrive/project'"
      ],
      "metadata": {
        "id": "_W30eGoXMeso",
        "colab": {
          "base_uri": "https://localhost:8080/"
        },
        "outputId": "4aaa816f-7ce9-4e40-99bb-ecdf91feb2ea"
      },
      "id": "_W30eGoXMeso",
      "execution_count": null,
      "outputs": [
        {
          "output_type": "stream",
          "name": "stdout",
          "text": [
            "/content/drive/MyDrive/project\n"
          ]
        }
      ]
    },
    {
      "cell_type": "code",
      "source": [
        "from numpy import array\n",
        "from keras_preprocessing.sequence import pad_sequences\n",
        "from keras.layers.core import Activation, Dropout, Dense\n",
        "from keras.layers import Flatten, LSTM\n",
        "from keras.models import Model\n",
        "from keras.layers import Embedding\n",
        "from keras.preprocessing.text import Tokenizer\n",
        "from keras.layers import Input\n",
        "from keras.models import load_model\n",
        "from keras.layers import Bidirectional\n",
        "\n",
        "from nltk.tokenize import word_tokenize\n",
        "import re\n",
        "import tensorflow as tf\n",
        "from matplotlib import pyplot as plt\n",
        "\n",
        "\n",
        "\n",
        "from sklearn.metrics import accuracy_score, f1_score, precision_score, recall_score\n",
        "from sklearn.metrics import confusion_matrix\n",
        "\n",
        "from numpy import array\n",
        "from numpy import asarray\n",
        "from numpy import zeros"
      ],
      "metadata": {
        "id": "a2ifKSWrMh3R"
      },
      "id": "a2ifKSWrMh3R",
      "execution_count": null,
      "outputs": []
    },
    {
      "cell_type": "code",
      "source": [
        "import pickle\n",
        "\n",
        "with open('df_train.pkl', 'rb') as f:\n",
        "    df_train = pickle.load(f)\n",
        "\n",
        "with open('df_validation.pkl', 'rb') as f:\n",
        "    df_validation = pickle.load(f)"
      ],
      "metadata": {
        "id": "TolDg0oDNHPK"
      },
      "id": "TolDg0oDNHPK",
      "execution_count": null,
      "outputs": []
    },
    {
      "cell_type": "code",
      "source": [
        "from sklearn.utils import shuffle\n",
        "\n",
        "def xy_data(data):\n",
        "  \n",
        "  data.body = data.body + data.clean_title\n",
        "  data.drop(columns=[\"clean_title\"], axis = 1, inplace=True)\n",
        "\n",
        "\n",
        "  data = shuffle(data)\n",
        "\n",
        "  data.reset_index(inplace=True, drop=True)\n",
        "\n",
        "  x_train_features = data['body']\n",
        "  \n",
        "  y_train = data['2_way_label']\n",
        "  \n",
        "  display(x_train_features.head())\n",
        "  display(y_train.head())\n",
        "\n",
        "  return x_train_features, y_train"
      ],
      "metadata": {
        "id": "P183nv6vYX1x"
      },
      "id": "P183nv6vYX1x",
      "execution_count": null,
      "outputs": []
    },
    {
      "cell_type": "code",
      "source": [
        "X_train, Y_train = xy_data(df_train)"
      ],
      "metadata": {
        "colab": {
          "base_uri": "https://localhost:8080/",
          "height": 221
        },
        "id": "s-nIfWvTYj6Z",
        "outputId": "91731229-cf9d-42d0-976f-95a613b528b2"
      },
      "id": "s-nIfWvTYj6Z",
      "execution_count": null,
      "outputs": [
        {
          "output_type": "display_data",
          "data": {
            "text/plain": [
              "0    Shocking Memeraichu electrical panel local lib...\n",
              "1    Weeee What happened New Jersey This repost got...\n",
              "2    Stupid sexy Trotsky Paint like one Russian rev...\n",
              "3    I dont get Im idiot help Ayy I live near Lmao ...\n",
              "4    These starting get ridiculous But isnt youd ex...\n",
              "Name: body, dtype: object"
            ]
          },
          "metadata": {}
        },
        {
          "output_type": "display_data",
          "data": {
            "text/plain": [
              "0    1\n",
              "1    0\n",
              "2    0\n",
              "3    1\n",
              "4    0\n",
              "Name: 2_way_label, dtype: int64"
            ]
          },
          "metadata": {}
        }
      ]
    },
    {
      "cell_type": "code",
      "source": [
        "X_validation, Y_validation = xy_data(df_validation)"
      ],
      "metadata": {
        "colab": {
          "base_uri": "https://localhost:8080/",
          "height": 221
        },
        "id": "a57-qD-8YpT5",
        "outputId": "65040e2a-6f06-4e20-ffa4-fb5990b2f6c2"
      },
      "id": "a57-qD-8YpT5",
      "execution_count": null,
      "outputs": [
        {
          "output_type": "display_data",
          "data": {
            "text/plain": [
              "0    someone gonna seemed like logical choice In mi...\n",
              "1    Hey man thats almost bananas gotta careful Ive...\n",
              "2    Good poemlord cardigan leads charge light brigade\n",
              "3    OK I give I cant work car Im sure I like bette...\n",
              "4    Darth Marlboro deleted Kind obvious userKkhaza...\n",
              "Name: body, dtype: object"
            ]
          },
          "metadata": {}
        },
        {
          "output_type": "display_data",
          "data": {
            "text/plain": [
              "0    1\n",
              "1    1\n",
              "2    0\n",
              "3    0\n",
              "4    1\n",
              "Name: 2_way_label, dtype: int64"
            ]
          },
          "metadata": {}
        }
      ]
    },
    {
      "cell_type": "code",
      "source": [
        "# To get some statistical insights about the data\n",
        "import nltk\n",
        "nltk.download('punkt')\n",
        "\n",
        "import statistics\n",
        "\n",
        "\n",
        "def insights(data):\n",
        "  length = 0\n",
        "  val = \"\"\n",
        "  data_avg = []\n",
        "\n",
        "  for sentence in data:\n",
        "    sen_len = len(word_tokenize(sentence))\n",
        "    data_avg.append(sen_len)\n",
        "    if sen_len > length:\n",
        "       length = sen_len\n",
        "       val = sentence\n",
        "\n",
        "  print(f'Sentence : {val}\\nLength :{length}')\n",
        "  print(f'Average Sentence Length : {sum(data_avg) / len(data_avg)}')\n",
        "  print(f'Standard Dev : {statistics.pstdev(data_avg)}') \n",
        "\n",
        "\n"
      ],
      "metadata": {
        "id": "YbnKOslDNxtS",
        "colab": {
          "base_uri": "https://localhost:8080/"
        },
        "outputId": "078baac0-c839-439e-c760-8393fbf50463"
      },
      "id": "YbnKOslDNxtS",
      "execution_count": null,
      "outputs": [
        {
          "output_type": "stream",
          "name": "stderr",
          "text": [
            "[nltk_data] Downloading package punkt to /root/nltk_data...\n",
            "[nltk_data]   Unzipping tokenizers/punkt.zip.\n"
          ]
        }
      ]
    },
    {
      "cell_type": "code",
      "source": [
        "#statistical insights about the training data\n",
        "insights(X_train)"
      ],
      "metadata": {
        "colab": {
          "base_uri": "https://localhost:8080/"
        },
        "id": "drAoJFR-4lEj",
        "outputId": "4da5fe7f-73a3-4d16-e492-671615b76e33"
      },
      "id": "drAoJFR-4lEj",
      "execution_count": null,
      "outputs": [
        {
          "output_type": "stream",
          "name": "stdout",
          "text": [
            "Sentence : First let say thank creating needamod thread I looking becoming active moderating subreddits I active Redditor already k karma Reddit gold two months What timezone located times usually active reddit would able dedicate moderating rnottheonionI Central time zone I usually log onto Reddit AM log PM I active Reddit usually hours day Give examples rnottheonion materialMan Called Repeatedly Because He Was LonelySuspect robs store bananaMan sorry throwing football full drugs prison Give examples content oniony rnottheonion material weyou would remove explain weyou would remove itemBear tied lamp post owner gets drinkThis onion material outrageously ironic moronic overall stupid even exist And old linkMiddle schooler gets detention sharing lunchThis would removed fitting rnottheonion The onion satire news source designed ridiculous subreddit shows real news articles would fitting The Onion except actually happened Plus makes sense sharing lunch friend could dangers allergies disease spreadingSt Louis man stole truck drive burglary claims god made itThis one pretty easy This something inevitably happen society something completely ridiculous stupid reason happened oblivion And something worth come fake The Onion Do moderation experience If please describe duties responsibilitiesI moderated several subreddits currently I moderate rtheforest subreddit rapidly expanding game The Forest I previously moderated roriginalprograms ripod Every single link submitted rnottheonion manually reviewed moderator Do think youd able handle workloadI worked professionally maintaining forum content websites requires lot work server work Moderating subreddit would easy much stress working professionally I definitely put effort work What think makes good mod What think makes bad modA good mod many variables depending intellectual mental capabilities I lazy I procrastinate Things I passion I love skill ferior social skills controlling discussion forum content passes typical standard designated use I good handling situations I useful field knowledge A bad mod someone blatantly procrastinates takes long breaks Reddit Only logs computer doesnt bother check phone Sometimes isnt active weeks time And eventually complains much work resigns moderator ultimately wasting everyones timeI genuinely passion Reddit I wish get helping community moderating standards succeeding sharing media content make Reddit acceptable winsome community others Thank reading applicaiton I hope prize next moderator rnottheonion What timezone located times usually active reddit would able dedicate moderating rnottheonionGMT pmpm consistently sporadically ampm Give examples rnottheonion material Are personal favorites Give examples content oniony rnottheonion material weyou would remove explain weyou would remove itemIm sure I meant find gets removed subreddit Do moderation experience If please describe duties responsibilitiesPlenty I enjoy keeping unmoderated modqueue empty following links verifying appropriateness well looking poster overviews spam I also like growing small subs thats irrelevant Every single link submitted rnottheonion manually reviewed moderator Do think youd able handle workloadEasily especially mods spread work around If I cant Ill let know What think makes good mod What think makes bad modGood mods communicative clear decisive They enforce rules create make sure rules known Bad mods lazy distant subredditSidenote I uncontactable weeks following st september What timezone located times usually active reddit would able dedicate moderating rnottheonion Central European Time currently Central European SummerSavings Time Thats ParisAmsterdamBrusselsStockholm Im active Reddit every day plenty time check submissions modmail time Give examples rnottheonion materialIm really bad finding news articles unfamiliar papers arent Washington Post Guardian British tabloids I wrote report Getting rNotTheOnion kind cheating opinion So I post Dutch articles translate titles Im sure arent found yet Yes rules I know But Im really bad finding original articles Sorry Wesley Sneijder Dutch footballsoccer player happy young Czech boy It onionny article basically mocking shortness body language including facial expression Source metropolitan newspaper Rescue operation Pelican unnecessary Bird flies tree They sent fire department rescue bird tree Thats Source regional TV news network Research reveals terrace busier sunny day Government officials conclude sound comes terraces sunny day rainy day They also note busier weekends evenings Reported way research reported Broadcaster Amsterdam based news networkIm sorry Im really bad finding stuff However I rather good judging existing stuff especially I get experienced Onionny content Give examples content oniony rnottheonion material weyou would remove explain weyou would remove item Ranger trips Boa constrictor sensationalized title Tabloid Even worse actually Daily Mail On Safari Netherlands Would funny article Do moderation experience If please describe duties responsibilitiesYes The first time Ive ever moderated something Minecraft server The last server game Ive moderated closed Duties included policing monitoring chat monitoring vandalism setting rules setting systems better administration rooting cheaters making sure environment friendly beFurthermore Ive moderated subreddits forums Duties forum included moving topics removing offtopic posts removing toxicity banning members banned server connected forum trivial things Duties subreddit involve barely anything far subreddits I moderate deserted Antarctica I CSS every subreddit I moderate A list found click name Every single link submitted rnottheonion manually reviewed moderator Do think youd able handle workloadAlone I wouldnt Im sure I able carry I need carry What think makes good mod What think makes bad modA good mod one reasonable afraid enforce rules iron fist I dont care rule bollocks I dont care I think Its still rule following watch Any violations dealt equally regardless previous conflicts andor relations anyone No I dont care brother top mod subreddit agree rule everyone follow includes However good mod machine He must still able relate live alongside rest community There golden mean iron fist enforcement overly humane moderation But importantly moderator must enjoy moderation something I It job You arent getting paid would want become moderator dont enjoy itThere four types bad moderators The moderator enforces rules iron fist believes nothing systematic enforcement The moderator doesnt enforce rules interacts community doesnt remove posts require removing This isnt moderating PR The moderator goes mad power abuses privileges This involve removing posts disagree banning users dislikes The moderator total neglect Ive seen many cases subreddits high grade moderator inactivity I wont name one I subscribed one That subreddits moderators ignore modmail duties cries community Its even worse Reddit totally ignore subreddit moderate That sign terrible moderator What timezone located times usually active reddit would able dedicate moderating rnottheonion I located CDT GMT I available normally Give examples rnottheonion material Returning Bank Robber Yells Im Back Man Makes MonthOld Take Ice Bucket Challnge Accused Smuggler Found With Turtles Beneath Clothing Give examples content oniony rnottheonion material weyou would remove explain weyou would remove item Man raised $K throwing potato salad party This weird Theres nothing satirical sounding something sounds like onion Worker charged rubbing genitals pizza Again isnt satirical sounding theme weird event happened Disney officially files lawsuit Deadmau use mauhead logo This borderline one I would end removing weird unusual lawsuits time Do moderation experience If please describe duties responsibilitiesI server moderation experience servers CounterStrike Source CounterStrike Global Offensive I Manager CSGO server deciding changes made including moderators mods use maps use final decisions punishment given I also administrator disbanded project known Manhattan Project Tekkit server Minecraft people would help recreate entirety Manhattan Island This project ended host lost data files large portion donations stopped coming lost data Every single link submitted rnottheonion manually reviewed moderator Do think youd able handle workloadYes stated Im reddit huge amount day god help trouble What think makes good mod What think makes bad modGOOD MODS A good mod knows act like someone people like lay law These people know step knowing longer performing duties best abilities enough work A good moderator also transparent comes reasoning behind decisions trying avoid flak reason thought bestBAD MODS A bad moderator little work low quality work constantly make decisions sake using power They refuse admit step always try act like theyre perfect angel These things I looked deciding whether I keep moderators server I managed What timezone located times usually active reddit would able dedicate moderating rnottheonionIm GMT I usually active reddit day And would glad moderate subreddit day Give examples rnottheonion material Give examples content oniony rnottheonion material weyou would remove explain weyou would remove item The Ig Nobel prize meant satirical also time meant practical use Sounds almost like ad YouTube link bait Do moderation experience If please describe duties responsibilitiesYes Several subreddits I helped CSS cleanup mod Every single link submitted rnottheonion manually reviewed moderator Do think youd able handle workloadYes What think makes good mod What think makes bad modI dont let emotions interfere moderating I dont think theres anything makes bad mod I live GMT EST I spend pretty much day online needed would willing spend lots time moderating Example Example Example Example This link would removed due violation Rule This straight news oniony Example This link would removed due violation Rules Not article months old isnt oniony opinion paper news article Example While come The Onion violation Rule weeks old I moderation experience forums I moderate rplanyourvacation rdigmyband raccordingtoreddit While small I moderated several forums experience field already proven extremely helpful reddit moderating I definitely think I handle load A large majority time spent moderating helping mods anyway I finding articles posts wouldnt want seen I time devotion needed position In opinion good mod simple I feel ultimate job moderator make subreddit better enjoyable place By giving users content want removing content prohibits enjoyment make successful subreddit many people enjoy thats important part modding A bad mod would someone doesnt listen others isnt devoted enough If youre willing help others youre wrong thing To good mod always open ears willing put time keep subreddit best I feel keeping involved community helping others I make subreddit much better place I feel Id exactly youre looking forThanks opportunity apply questions ask feel free PM I hope take application consideration Pacific weekdays almost weekend sounds like awful clickbait cartoonish imagine HNNNNNG clean apartment pushes top All funnyweird dont satiricalplausible angle Truth stranger fiction sometimes Yeah I approve remova stuff rnegareddit run small subs rlegionairresgonewild rwhyimantisocial How many links submitted Im passionate love interact community I get carried away sometimes Unfortunately I must withdraw application Thank opportunity Im applying I ask try get mods arent already mods subreddits AlaskarallFemalenamed hurricanes kill male hurricanes people don’t respect study finds washingtonpostcomsubmitted months ago liucid commentssharesavehidereportrallSelfieAddicted Russian Soldier Caught Ukrainian Territory Instagram GeoTagging thedrumcomsubmitted month ago runlikeameatstick commentssharesavehidereportrallMissing woman unwittingly joins search party looking torontosuncomsubmitted months ago Fazozporn r animalspornpornhorsepornyes rhorsepornnobeing mod rhorse porn mod rnottheonion What timezone located times usually active reddit would able dedicate moderating rnottheonion A Western reddit way another day I spend lot time Give examples rnottheonion materialPeyton Manning says legalized pot good pizza business Twitter’s CEO Will Respond To Whether He’s High Once He Finishes These Doritos US school districts given free machine guns grenade launchersI see onion Give examples content oniony rnottheonion material weyou would remove explain weyou would remove itemSpanking Is Great Sex Which it’s grotesque parenting Weirdkinda funny title I dont really think oniony ISIS bans math sport social studies children This isnt really surprising humorous Monroe Township discipline firefighters lewd banner flies NJ Firemens Convention This seems like regular news Not really oniony A little funny maybe unbelievable ridiculous Do moderation experience If please describe duties responsibilitiesI notEvery single link submitted rnottheonion manually reviewed moderator Do think youd able handle workloadI think I could I spend lot time reddit think I could handle What think makes good mod What think makes bad modA good mod listen community reasonable still able enforce reasonable rules work towards making subreddit better place They discourage low effort posts try keep everything civil commentsA bad mod would either hostile towards community enforce rules overall care things like low effort posts toxic users CET Im active office hours mostly Monday Friday hours per day oniony satire oniony old news Also reputation website news source somewhat questionable IMO Currently moderating rhotpeppers Its pretty quiet community I mostly check legitimate stuff caught spam filter remove spam caught spam filter I also try contribute discussions I moderator also feel responsible growing community hes part If question Could Obviously rnottheonion pretty big community one person could pull still kind joblife If question Are willing fair share moderation work answer Absolutely I wouldnt applying otherwise I think good mod enforces rules sub regardless personal opinions A good mod also needs team player responsive queries either community fellow mods Ideally good mod would also contribute sub try grow much possible Im type person go search stuff find something might worth posting I might quite fit bill But I think I twoA bad mod among possibilities person abuses power personal agenda person becomes mod feel like powerful normal users without actually real moderation workIn closing Id like point reason Im applying Im reddit relatively large amount time I free time moderate If thats need I guess Im guy job Thanks considering What timezone located times usually active reddit would able dedicate moderating rnottheonionUTC Korea Japan Indonesian Eastern DST Reddit surfing time breakdown follows Morning AM weekdays AM weekends holidays Afternoon Past PM Mondays Fridays past PM Wednesdays Thursdays afternoon Fridays weekends holidays Evening PM midnight every day Give examples rnottheonion material Give examples content oniony rnottheonion material weyou would remove explain weyou would remove item The Ig Nobel prize meant satirical also time meant practical use Sounds almost like ad YouTube link bait Do moderation experience If please describe duties responsibilitiesI Reddit mod experience though I experience moderating forums resolving online conflicts Every single link submitted rnottheonion manually reviewed moderator Do think youd able handle workloadYes definitely I impression mods subreddits well work schedule long schedule effect I ensure Im available mod What think makes good mod What think makes bad modI feel difference good bad mod communication firmness A good mod willing put hisher foot issues heshe feels detrimental sub time willing clearly explain said issues detrimental affected able understand reasoning A bad mod would merely make decisions based whim call quits UTC weekdays bit weekends Of course I dont spend time reddit I spend hours day reddit small chunks means I would able review content throughout whole day I know post subreddit hard find good content without reposting Not new article violates rule Not English violates rule Not oniony violates rule I moderate small subreddits I created wrote CSS help looked posts I also moderated fairly large subreddit rreactionpics I looked posts comments Not I wont mod I feel reddit voting system also users reporting post help I also I feel I would able check maybe posts I could also possibly write autormoderotor bot One engages community unbiased abuse hisher powers karma influence successfully looks community I think bad mod one doesnt really care hisher role ulterior motive one acts unfairly example bans users voicing opinions hishers actions cultured way Also already moderate hundreds big subreddits collect therefore dont time good job course like allCould I also ask I find decision Im GMTEST I usually spend several hours day Reddit anywhere hours day either desktop mobile Examples rNotTheOnion Material Russia cries foul Scottish independence vote Threesome With Homeless Man Turns Violent After Beef TasteTest NB Debate Gets Weird Over Hitler Parody Video Tweet Examples Material suitable rNotTheOnion Japanese Porn Star Featured On Math Book By Mistake Not interestingoniony NFL Announces Bonuses For Not Being Arrested From satire news website Heartbroken husband queues iPhone HOURS last ditch attempt save marriage Tabloid News Story Yes I wide breadth moderating experience I currently moderate rSubredditDrama rYouDontSurf rEyeBleach rMashups rXKCD rCollegeBasketball rCatsStandingUp Cat rNeuroscience rDating rNDP rRequestable Im also primary CSS moderator majority subreddits Absolutely Im extremely meticulous comes moderating submitted material I review every single item modqueueunmoderated queue make sure handled appropriately A good moderator someone respects colleagues community They must choose moderate truly care maintaining quality subreddit merely want position powerBad moderators interested moderating personal gain They dont care wellbeing subreddits moderate status moderating What timezone located times usually active reddit would able dedicate moderating rnottheonionIm EST I normally reddit ton day I lot time work I pop reddit I Im probably reddit I work Give examples rnottheonion material Russia Emerges two week drinking binge North Koreas Key Olympic Medals Refrigerators For Winners Labor Camp Threat Losers Sun round say scientists Give examples content onionynot rnottheonion material weyou would remove explain weyou would remove item This article blog goes unreliable source rule Nothing odd Its global politics onionlike This satire site rules Do moderation experience If please describe duties responsibilitiesYes I moderate smaller gaming PC subs I also promotermoderator newer sub Milsurp guns I mainly watch ensure rules upheld spam kept bay I clear modqueues plug sub relevant threads Every single link submitted rnottheonion manually reviewed moderator Do think youd able handle workloadYes I Im pretty compulsive comes getting things checked done What think makes good mod What think makes bad modI believe good mod someone job also maintaining good relations community A moderator active community likely care put effort improving within realm duties Though second mod starts become power hungry start fights mods community longer good asset subThanks reviewing app I applied lot apps I would like opportunity prove I help sub positive way Talk minutes Voip choice I answer questions Central time UTC thanks mod Whoever new mods please use ban powers rule generously Most new submissions NOT Oniony material quickly lowering quality sub I located GMT Im usually Reddit day pm Beautiful simplicity Hard believe anyone would give comment like unbelievable Absolutely perfect materialb makes chuckle bit realize shits real Then either hang head shame burst laughing I latterc Subtle way Onion known A small accident made hilarious irony funny dark way news article lacks onion Its simply serious article would find rworldnewsb A simple openandclose case The Guardian tabloidc This one tricky While bit oniony title clear cilckbait poison rnottheonion opinion Also post seems blog post rather news article I moderator rhearthstoneredditopen months I answered questions solved disagreements within community Absolutely Most time I least idly browsing reddit If I could use time improve one favourite subreddits Id thrilled A good mod community Even though enforces rules listen complaints monitor community without interferingA bad mod separates community He lead sub direction wants listen nobody Worst case scenario devolves usoccerThank time What timezone located times usually active reddit would able dedicate moderating rnottheonion TimezoneUTC I usually surf reddit PMPM Evenings pm Early mornings local time weekdays pretty much whole day weekends Give examples rnottheonion material Student put detention sharing school lunch Girl buried samadhi declared deity parents New ordinance allows police ban smelly people city buildings Give examples content oniony rnottheonion material weyou would remove explain weyou would remove item Model With Very Large Fake Breasts Wants Another Enlargement Does seem Oniony enough Man desperate iPhone rents GIRLFRIEND fund Apple handset source US schools away commas full stops replace “like” article Do moderation experience If please describe duties responsibilitiesNo never mod Every single link submitted rnottheonion manually reviewed moderator Do think youd able handle workloadIf I online reddit wouldnt problem I impression mods work schedule What think makes good mod What think makes bad modA good mod knows follows rules T hesitate punish rule breakersA bad one goes mad power abuses privileges removing postsbanning users disagree Also donot know moderation duties bad mods What timezone located times usually active reddit would able dedicate moderating rnottheonionPacific timezone I active Reddit pm weekdays occasionally check reddit mornings late evenings pm Give examples rnottheonion materialFuneral home offers drivethru visitationRobot Frets Over Moral Puzzle Humans DieRichmond restaurant mission Yelps mosthated Give examples content oniony rnottheonion material weyou would remove explain weyou would remove itemAccused Cop Shooter Eric Frein Reenacting Rambo Colleague Suggests Title satiricallike far fetched nature The Onion normally use peoples names title unless public figureTruck full frozen chicken catches fire closes I east Pendleton Title far specific location lot The Onion satireabsurdity expressed titleCNN Poll One four Americans worry getting Ebola Not satiricalabsurd nature like Onion poll results poll source CNN would title Do moderation experience If please describe duties responsibilitiesYes I mod PerfectTiming I approve remove posts communicate people moderators sub regularly I started formal discussions among mods rPerfectTimingMods private reviewing subreddit content rules sidebar css etc determining updates drafting upcoming message community Every single link submitted rnottheonion manually reviewed moderator Do think youd able handle workloadYes I would able handle work load along side mods since initially becoming mod PerfectTiming Ive wanting spend Reddit time helping curate quality content sub elsewhere Reddit What think makes good mod What think makes bad modI think good mods communicate effectively regularly community regular moderation comments They transparent humble enforce site sub rules regularly capable mediation mods andor usersMods considered bad seem communicate vaguely rarely community moderation actions approveremove They open discussions change sub enforce sites rules even subs rules feel like want toEDIT Link formatting GMT UK After PM Ice bucket challenge causes Hebridean isle Colonsay run waterDog elected Mayor MinnesotaJapanese artist arrested distributing D printer data vaginaQueen purred Scotland voteMicrosoft purchases MojangRobin Williams phoned Connolly say goodbyeI mainly moderate rfacepalm My job work unmoderated queue approveremove posts based whether content suitable subreddit contains personal information I also moderate couple large subs like rFullLengthFilms Yes I use reddit toolbox displays unmoderated posts available I also browse reddit lot loads free time I think I could handle itI think good mod Mature modmail able handle bans appropriately Active moderating Not spending every minute lives stuff least helping community Willing accept mistakes We occasionally let post slip shouldnt remove something thats perfectly fine The important part accepting learning mistakes trying constantly prove youre right Removing posts regardless opinion breaks rulesand bad mod Circlejerking modmail Being banhappy I dont mean never ban anyone always consider exercising power Power Some mods want mod position rather improve quality subredditThanks considering good luck applicants I live EST typically spend hours day Reddit around Example Example Example Removed Would remove accordance Rule satire Removed Removed accordance Rules youtube video well year old Removed Removed accordance rules oniony even article I experience mod rshutupandtakemymoney ryoudontsurf rjustneckbeardthings rPrettyGirlsUglyFaces rdoge well becoming tomorrow full time writer rsubredditoftheday I moderated everything posts comments modmail containing user uprisings Fun times Of course I cant think better way spend time reddit I good mod I good mix stern fair well sociable users I find bit law mod users ask I something dispute I always make sure listen take thoughts account A bad mod someone doesnt care reddit whole much less subreddit Being racist sexist etc Being extremely close drama time well one actually invoking The worst would listening users dictatorship subredditThanks reading I hope I help yall Been two weeks Time close apps Hi elfa Are guys still looking apps Ive seen thing like two weeks temptation killing What timezone located times usually active reddit would able dedicate moderating rnottheonionIm GMT timezone Im available pretty much day every day Give examples rnottheonion materialManeating leopard preys drunk villagers walking home booze sessionsCome back cows residents campaign restore vanishing rooftop cowsWoman Allegedly Points Rifle At Boy Playing Clarinet Outside Give examples content oniony rnottheonion material weyou would remove explain weyou would remove itemNone oniony Do moderation experience If please describe duties responsibilitiesI currently moderate defaults pics aww tifu However I feel would hinder activity rnottheonion I added I lot free time I divided appropriately subsI actually comod rtifu ughostly uagentlame I hope vouch work activity Every single link submitted rnottheonion manually reviewed moderator Do think youd able handle workloadSure We manually review every post rtifu similar size rnottheonion since defaulted around time I lot time able work well team qualities allow mod team efficiently work What think makes good mod What think makes bad modA good mod works well team dedicated moderation accepting mistakes works fix afraid speak mind feel something handled inappropriatelyA bad mod wants position popularity doesnt work talks badly fellow mods public acknowledge fix mistakes issues Please provide links real articles oniony nononiony deleted Why apply Granted mods mod subs suck others fantastic Same mods Some fantastic suck Thats works Apply k Yep Im writing thing mod sub speak What mean still We havent started looking yet Probably starting look within next week Id like put good word Kriadium Having moderated rtifu weeks rfacepalm months I say large amount work subreddits contributes lot Po po discussions running subreddit generalYou guys seriously consider Oniony sounds like awful clickbait cartoonish imagine HNNNNNG clean apartment pushes topNot All funnyweird dont satiricalplausible angle Truth stranger fiction sometimes Haha thanks Id rather someone actually rnotheonion someone wants say theyre mod another subreddit Can edit first comment please It make much easier us start look applications Thanks oh sorrynottheonion looking new mods\n",
            "Length :4072\n",
            "Average Sentence Length : 96.11697978171408\n",
            "Standard Dev : 152.94899714308158\n"
          ]
        }
      ]
    },
    {
      "cell_type": "code",
      "source": [
        "#statistical insights about the Validation data\n",
        "insights(X_validation)"
      ],
      "metadata": {
        "colab": {
          "base_uri": "https://localhost:8080/"
        },
        "id": "yuLTF4zf57yq",
        "outputId": "87529fa8-c1cd-4526-b44c-754342936e3f"
      },
      "id": "yuLTF4zf57yq",
      "execution_count": null,
      "outputs": [
        {
          "output_type": "stream",
          "name": "stdout",
          "text": [
            "Sentence : The forest beautiful peaceful place In distance saw small stream running trees They called Gobleta Creek wasnt called anymore It called River Creeks made proud The forest filled plants animals would make nature lover happyI walked trail great clearing surrounded trees At point forest temperature right I able enjoy forest natural state I able admire beauty forest without go back villageIn moment I noticed elf sitting small circle trees She looking curious lookHello She said voice full contemptHey I I want talk something important I respondedOh thats Im replied Im ask new home need know bit youWhat hell need friend move town I asked Im farmer around I family yes need know first weeks lifeOh youre new farmer arent She said Youre new town yes need know basics new home But need know thisIm writer Im trying hard write pieces rWritingPrompts But dont tell family little hometown new home I askedWell need know little life answered Your family grew forest family moved town livingWhat hell family Are bunch orphans I askedNo Im answered Were friendsWell youre friend arent I askedYes friends I alive would go hunt wild game dinner Today going go get something eat I brought husbands meat theyre readyOh thats new life huh Thats exciting I said I happy willing share much new lifeWell Im glad youre happy Im sorry youre welcome stay us saidYoure welcome I said Im happy youre happy new life I hope youre happy everythingWell I guess Im happy said I hope youre happy everythingYoure welcome stay us I saidI really said I hope youre happy everythingI I saidBut youre happy everything said Itll lot changeI hope youre happy everything I said I hope Im happyI hope said Itll lot changes Youre going kill arent elf said mask No Im human Im elves Im human I saidAre sure Im dwarf Im pretty certain Im elfYup You might elf youre even human The elf began panic The elves talking said Are sure I askedIm sure elf said How How sureIm sure I said My mom says humans dont exist Thats going die The elf shaking head No youre liar said Im sure youre mistaken Im sure youre elves Im sorry I told Im sorry Yes well thats elves always saying said Youre even human I elf I said I elfWhy think thats elf asked I think humans stupid I said They dont understand magic They dont understand death They dont understand war They dont understand world They dont understand death And dont understand death So want elf asked I want live I said I want free Okay said elf So youre human I human I said Okay said elf So dont come Im sorry miss I said I dont want elf anymore I would rather dwarf Youre even human elf said I dwarf I said I elf Okay said elf What going Im going go get clothes I said Because I dont want slave anymore I want live Okay said elf That sounds good Im sorryI looked around people trying get back forest My heart beating fast I beginning get dizzy Im sorryI slowly raised arms I felt like I starting see things around A trees leaves leaves I looked saw moon completely dark I could almost feel wind I looked back saw looking Im sorry OffTopic Discussion Reply nonstory commentsWhat thisrWritingPromptswikiofftopic • First time hererWritingPromptswikiuserguide • Special AnnouncementsrWritingPromptswikiannouncements OffTopic Discussion Reply nonstory commentsWhat thisrWritingPromptswikiofftopic • First time hererWritingPromptswikiuserguide • Special AnnouncementsrWritingPromptswikiannouncements Im sorry sir forest full dead treesI understand going let take lifeWell going notWhatHe middle forest There dead trees middle forestAh Thats peculiarWell could usWell ones hereWell sounds like pretty good case Dont kill us doesnt itWere going let kill us idea capable ofWhat meanWere going kill idea capable All specific set skillsI dont understandWell short dont lot think Our job protect forest anything everything human time comes kill things We hunt families track eat youYou evil youNo sir I want protect forest I want destroy people already deadThere dead trees forestNot even middle forest No Im going kill They still living cant killed cant harmed Were simply protecting forestI see Im going kill themNo sir kill If youre going kill us eat youHow know Im willing take lifeI dont know sirWell know Im going kill Youre one trying kill long timeI understand sir youre wrong Im going kill anyone Im going kill anyoneIll itWhyWhyWhy Why would youBecause I know Im going kill anyone Im going kill youYoure going kill youNo sir youre going kill anyone anyone What one going kill You may feel eat Im going kill Now youre going believe one thing I guarantee youre going kill Youre going kill anyone elseAnd youre going kill meNot exactly sir might think kill Ill dead He first elf met He elf forest long since abandoned human friends So forests chief sat somewhat taken aback learn taught elves forest You began first elf I came across I came across one taught speak bards You one I could trust You first friend I left I couldnt bear lose youBut could I first friend The elf asked surprised How could I one taught happy Well replied chief Im glad know And I You seem idea I continued elf Im human human Yes Im friend yes Im friend But I idea Please Im sorry I dont know face voice manner speech Who asked elf Why ask What name said chief Well continued elf long story Id like tell one time I forget For I long since forgotten What forgotten asked chief Why leave mumbled elf Because I afraid chief said Are angry asked elf Yes Im angry answered elf Why afraid Because youre elf said chief But I elf The elf asked No Im elf Im human humanI see answered chief And I asked elf I suppose answer I suppose I must find I suppose I must find chief said But answer found asked elf How found demanded chief Well said elf I told I first elf I came across I told I could trust But I wasnt sure true Well chief said youre Human Youre person You feelings You think You experience And decide Its simple think Its simple I believe would believe know The elf paused looking chief He looked back elf I see said elf But I trust I trust youre friend said chief You first friend I left I couldnt bear lose You first friend I left I couldnt bear lose I dont understand elf said Why trust asked chief Because I know said elf And I asked chief Youre elf said elf And youre elf youre elf I cant elf said elf Im friend said chief Youre elf said elf Im sorry said chief Youre elf said elf Im The elf scratched neck Youre elf Im elf I woke empty forest I knew I go back I wasnt sure I go back time And I still didnt know anyone could save My clothes seemed worst But I wasnt really sure I needed clothes I wasnt sure I needed clothesBut I woke place felt like empty cold pond The forest old tree line I able walk trees front meI got car walked around I got car walked back forest trying remember I I forest idea I Or I didnt know I wasI got car walked back forest I didnt know I anymore I idea forest But I know I go back I going killed I didnt go backI got car walked back forest I forest idea forest But I know I go back I going killed I didnt go back I going killed I didnt go backI got car walked back forest I forest idea I Or I didnt know I I idea forest I didnt know food source I didnt know wildlife I didnt know plants eat I didnt know anything I could make stronger I go back timeI got car walked around forest I forest idea I Or I didnt know I I forest idea I And I forest I afraid I afraidI forest idea I Or I didnt know I I afraidI got car walked forest I forest idea I Or I didnt know I I forest I afraid I afraidI forest idea I Or I didnt know I I forest idea I wasI walked trees looked around There trees around I walked back forest I walked edge forest looked around There trees around I walked back forest I walked edge forest looked around There trees around meI walked forest looked around There trees around I walked back forest I walked edge forest looked around There trees around I walked forest looked around There trees around I walked back forest I walked forest looked around There trees around I walked back forest I walked edge forest looked around There trees around I walked forest looked around There trees around I walked back forest I walked back forest looked around There trees around I walked back forest I walked edge forest looked around There trees around I walked back forest I walked edge forest looked around There trees around I walked back forest I walked edge forest looked around There trees around I walked back forest I walked edge forest looked around There trees around I walked back forest I walked back forest I walked edge forest looked around There trees around I looked around There trees around I walked back forest I walked edge forest looked around There trees around There trees around I looked around I walked back forest Beautiful It little jarring read first paragraph without mentioning character new I noticed second paragraph mentioned character new I dont understand would happenSILENCE Good story I like idea new life quite change old I also like idea elf one happy change Awesome story That fantastic This reminds story The Last Man Earth George R R Martin The characters elves humans Oh turned well Youve got knack making cringe Really good story Ahhh I see Really good read This prompt reminds prompt ends Harry Potter books How Harry Potter die This basically plot movie movie I havent seen years Aww good I little concerned lack details I’ve always felt like I read fiction pretty vague It’s clear person read story would react I hoping could explain better Thankwp middle forest come across group elves tell get back forest\n",
            "Length :1731\n",
            "Average Sentence Length : 100.60110041265474\n",
            "Standard Dev : 154.92693543098085\n"
          ]
        }
      ]
    },
    {
      "cell_type": "markdown",
      "source": [
        "The following code block is used to :\n",
        "\n",
        "Convert texts to sequence\n",
        "Then pad these sequences based on the max_len variable which is 900 in our case\n",
        "The max_len = 900 variable was choosen based on the criteria that majority of the sentences did fit under this value, which eventually enables us to have a dense matrix."
      ],
      "metadata": {
        "id": "OuSOA9SU7aqm"
      },
      "id": "OuSOA9SU7aqm"
    },
    {
      "cell_type": "code",
      "source": [
        "tokenizer = Tokenizer()\n",
        "tokenizer.fit_on_texts(X_train)\n",
        "\n",
        "X_train = tokenizer.texts_to_sequences(X_train)\n",
        "X_validation = tokenizer.texts_to_sequences(X_validation)\n",
        "\n",
        "vocab_size = len(tokenizer.word_index) + 1\n",
        "\n",
        "maxlen = 300\n",
        "\n",
        "X_train = pad_sequences(X_train, padding='post', maxlen=maxlen)\n",
        "X_validation = pad_sequences(X_validation, padding='post', maxlen=maxlen)"
      ],
      "metadata": {
        "id": "f-yoFBNM6w8a"
      },
      "id": "f-yoFBNM6w8a",
      "execution_count": null,
      "outputs": []
    },
    {
      "cell_type": "code",
      "source": [
        "#chech the shape of tokenized data\n",
        "X_train.shape, X_validation.shape"
      ],
      "metadata": {
        "colab": {
          "base_uri": "https://localhost:8080/"
        },
        "id": "_VrUOZNE7sM5",
        "outputId": "84df05b4-9b5d-4790-d084-967cf9edac0b"
      },
      "id": "_VrUOZNE7sM5",
      "execution_count": null,
      "outputs": [
        {
          "output_type": "execute_result",
          "data": {
            "text/plain": [
              "((55890, 300), (2908, 300))"
            ]
          },
          "metadata": {},
          "execution_count": 14
        }
      ]
    },
    {
      "cell_type": "markdown",
      "source": [
        "Printing the top rows both text and numerical\n",
        "\n",
        "This gives us an idea of how the 1st value is converted to vector of 900 dimensions"
      ],
      "metadata": {
        "id": "ezFFJZ1T7-h0"
      },
      "id": "ezFFJZ1T7-h0"
    },
    {
      "cell_type": "code",
      "source": [
        "print(df_train['body'][1])\n",
        "print(X_train[1])"
      ],
      "metadata": {
        "colab": {
          "base_uri": "https://localhost:8080/"
        },
        "id": "DhBuD-ET74vc",
        "outputId": "d254e3cd-40fc-4e4e-bc55-741636e4a87d"
      },
      "id": "DhBuD-ET74vc",
      "execution_count": null,
      "outputs": [
        {
          "output_type": "stream",
          "name": "stdout",
          "text": [
            "Isnt miter gauge Yep I dont believe Ive ever seen table saw vise Saw one vice It smoked lot I love subredditfriend called vice looks like bear\n",
            "[35332    78   397    50  4065    12   585    60  1163 18966   232 12134\n",
            "   752  7010     1    25  1622  2337    86    97   204  4750 70722  4065\n",
            " 35333    49   472     0     0     0     0     0     0     0     0     0\n",
            "     0     0     0     0     0     0     0     0     0     0     0     0\n",
            "     0     0     0     0     0     0     0     0     0     0     0     0\n",
            "     0     0     0     0     0     0     0     0     0     0     0     0\n",
            "     0     0     0     0     0     0     0     0     0     0     0     0\n",
            "     0     0     0     0     0     0     0     0     0     0     0     0\n",
            "     0     0     0     0     0     0     0     0     0     0     0     0\n",
            "     0     0     0     0     0     0     0     0     0     0     0     0\n",
            "     0     0     0     0     0     0     0     0     0     0     0     0\n",
            "     0     0     0     0     0     0     0     0     0     0     0     0\n",
            "     0     0     0     0     0     0     0     0     0     0     0     0\n",
            "     0     0     0     0     0     0     0     0     0     0     0     0\n",
            "     0     0     0     0     0     0     0     0     0     0     0     0\n",
            "     0     0     0     0     0     0     0     0     0     0     0     0\n",
            "     0     0     0     0     0     0     0     0     0     0     0     0\n",
            "     0     0     0     0     0     0     0     0     0     0     0     0\n",
            "     0     0     0     0     0     0     0     0     0     0     0     0\n",
            "     0     0     0     0     0     0     0     0     0     0     0     0\n",
            "     0     0     0     0     0     0     0     0     0     0     0     0\n",
            "     0     0     0     0     0     0     0     0     0     0     0     0\n",
            "     0     0     0     0     0     0     0     0     0     0     0     0\n",
            "     0     0     0     0     0     0     0     0     0     0     0     0\n",
            "     0     0     0     0     0     0     0     0     0     0     0     0]\n"
          ]
        }
      ]
    },
    {
      "cell_type": "markdown",
      "source": [
        "The following code block is used to build an embedding matrix with the following configuration\n",
        "\n",
        "Glove Embedding with 300 dimensions"
      ],
      "metadata": {
        "id": "e4sHdKIC9Me4"
      },
      "id": "e4sHdKIC9Me4"
    },
    {
      "cell_type": "code",
      "source": [
        "\n",
        "embeddings_dictionary = dict()\n",
        "\n",
        "glove_file = open('glove.6B.100d.txt', encoding=\"utf8\")\n",
        "\n",
        "for line in glove_file:\n",
        "    records = line.split()\n",
        "    word = records[0]\n",
        "    vector_dimensions = asarray(records[1:], dtype='float32')\n",
        "    embeddings_dictionary[word] = vector_dimensions\n",
        "glove_file.close()\n",
        "\n",
        "embedding_matrix = zeros((vocab_size, 100))\n",
        "for word, index in tokenizer.word_index.items():\n",
        "    embedding_vector = embeddings_dictionary.get(word)\n",
        "    if embedding_vector is not None:\n",
        "        embedding_matrix[index] = embedding_vector"
      ],
      "metadata": {
        "id": "mMyAbOcb8Yka"
      },
      "id": "mMyAbOcb8Yka",
      "execution_count": null,
      "outputs": []
    },
    {
      "cell_type": "markdown",
      "source": [
        "Method to test the Accuracy, Precision, Recall and F1 Score\n",
        "The following method transforms the output to binary values before calculating the scores"
      ],
      "metadata": {
        "id": "xKP-tRpIXz_M"
      },
      "id": "xKP-tRpIXz_M"
    },
    {
      "cell_type": "code",
      "source": [
        "def transformResults(predictions):\n",
        "    print(\"\"\"The output here is of the form float, thus we are converting it to binary output based on the following \n",
        "condition if a value is > .5 we assign it with 1 and if a value is <.5 we assign it with 0\"\"\")\n",
        "    \n",
        "    print(\"\\nConverting the ouput to 1D array, and then transformimg the values based on the above condition\\n\")\n",
        "    predictions = predictions[:, 0]\n",
        "    print(f'First 5 values before conversion : {predictions[:5]}')\n",
        "    \n",
        "    predictions = [1 if val>0.5 else 0 for val in predictions]\n",
        "    print(f'First 5 values after the conversion : {predictions[:5]}')\n",
        "    return predictions"
      ],
      "metadata": {
        "id": "gd3BMCSGX07D"
      },
      "id": "gd3BMCSGX07D",
      "execution_count": null,
      "outputs": []
    },
    {
      "cell_type": "code",
      "source": [
        "def getResults(y_test, prediction):\n",
        "\n",
        "    prediction = transformResults(prediction)\n",
        "\n",
        "    print(\"\\n========== RESULTS ===========\\n\")\n",
        "    accuracy = accuracy_score(y_test, prediction)\n",
        "    precision = precision_score(y_test, prediction)\n",
        "    f1 = f1_score(y_test, prediction)\n",
        "    recall = recall_score(y_test, prediction)\n",
        "\n",
        "    print(f'Accuracy : {accuracy}\\nPrecision : {precision}\\nF1_score : {f1}\\nRecall : {recall}\\n')\n",
        "    \n",
        "    print(\"===== CONFUSION MATRIX =====\")\n",
        "    cf_matrix = confusion_matrix(y_test, prediction)\n",
        "    print(cf_matrix)\n",
        "    \n",
        "    return accuracy, precision, f1, recall"
      ],
      "metadata": {
        "id": "nUEzar7-YIXi"
      },
      "id": "nUEzar7-YIXi",
      "execution_count": null,
      "outputs": []
    },
    {
      "cell_type": "markdown",
      "source": [
        "Building the LSTM model-\n",
        "\n",
        "The following notion is the source of the phrase \"long short-term memory.\" Simple recurrent neural networks have weights as long-term memory. In order to encode generic information about the data, the weights gradually change during training. Ephemeral activations, which move from one node to the next, represent their short-term memory. The memory cell in the LSTM paradigm offers a second kind of storage. A memory cell is a composite unit that is constructed from simpler nodes in a unique connectivity pattern that includes multiplicative nodes.\n",
        "\n",
        "RNN (Recurrent neural networks) - In order to create speech recognition and natural language processing models, we employ a sort of neural network called an RNN (recurrent neural network). Recurrent neural networks retain the order of the data and make predictions based on data patterns.\n",
        "\n",
        "\n",
        "with Embedding layer, LSTM layer and Dense layer with a single unit."
      ],
      "metadata": {
        "id": "wOgkBYFpYYKU"
      },
      "id": "wOgkBYFpYYKU"
    },
    {
      "cell_type": "code",
      "source": [
        "def getLSTMModel():\n",
        "    deep_inputs = Input(shape=(maxlen,))\n",
        "    embedding_layer = Embedding(vocab_size, 100, weights=[embedding_matrix], trainable=False)(deep_inputs)\n",
        "    LSTM_Layer_1 = LSTM(128)(embedding_layer)\n",
        "    dense_layer_1 = Dense(1, activation='sigmoid')(LSTM_Layer_1)\n",
        "    model = Model(inputs=deep_inputs, outputs=dense_layer_1)\n",
        "    model.compile(loss='binary_crossentropy', optimizer='adam', metrics=['acc'])\n",
        "    print(model.summary())\n",
        "    return model"
      ],
      "metadata": {
        "id": "hi-amaXUYLSl"
      },
      "id": "hi-amaXUYLSl",
      "execution_count": null,
      "outputs": []
    },
    {
      "cell_type": "code",
      "source": [
        "model = getLSTMModel()"
      ],
      "metadata": {
        "colab": {
          "base_uri": "https://localhost:8080/"
        },
        "id": "fixcL_rxYcO5",
        "outputId": "074dc5ba-4d6d-491a-81c5-66378699b5c3"
      },
      "id": "fixcL_rxYcO5",
      "execution_count": null,
      "outputs": [
        {
          "output_type": "stream",
          "name": "stdout",
          "text": [
            "Model: \"model\"\n",
            "_________________________________________________________________\n",
            " Layer (type)                Output Shape              Param #   \n",
            "=================================================================\n",
            " input_1 (InputLayer)        [(None, 300)]             0         \n",
            "                                                                 \n",
            " embedding (Embedding)       (None, 300, 100)          24548200  \n",
            "                                                                 \n",
            " lstm (LSTM)                 (None, 128)               117248    \n",
            "                                                                 \n",
            " dense (Dense)               (None, 1)                 129       \n",
            "                                                                 \n",
            "=================================================================\n",
            "Total params: 24,665,577\n",
            "Trainable params: 117,377\n",
            "Non-trainable params: 24,548,200\n",
            "_________________________________________________________________\n",
            "None\n"
          ]
        }
      ]
    },
    {
      "cell_type": "code",
      "source": [
        "history = model.fit(X_train, Y_train, batch_size=128, epochs=5, verbose=1, validation_split=0.3)"
      ],
      "metadata": {
        "colab": {
          "base_uri": "https://localhost:8080/"
        },
        "id": "tVDQlM7oYeD9",
        "outputId": "41e9403d-1e0a-4498-be8f-84cddee642eb"
      },
      "id": "tVDQlM7oYeD9",
      "execution_count": null,
      "outputs": [
        {
          "output_type": "stream",
          "name": "stdout",
          "text": [
            "Epoch 1/5\n",
            "306/306 [==============================] - 322s 1s/step - loss: 0.6497 - acc: 0.5959 - val_loss: 0.6444 - val_acc: 0.5960\n",
            "Epoch 2/5\n",
            "306/306 [==============================] - 311s 1s/step - loss: 0.6482 - acc: 0.5963 - val_loss: 0.6453 - val_acc: 0.5953\n",
            "Epoch 3/5\n",
            "306/306 [==============================] - 314s 1s/step - loss: 0.6445 - acc: 0.5975 - val_loss: 0.6820 - val_acc: 0.6049\n",
            "Epoch 4/5\n",
            "306/306 [==============================] - 311s 1s/step - loss: 0.6373 - acc: 0.6176 - val_loss: 0.6524 - val_acc: 0.5944\n",
            "Epoch 5/5\n",
            "306/306 [==============================] - 305s 996ms/step - loss: 0.6412 - acc: 0.6068 - val_loss: 0.6444 - val_acc: 0.6094\n"
          ]
        }
      ]
    },
    {
      "cell_type": "code",
      "source": [
        "predictions = model.predict(X_validation)\n",
        "print(predictions[:,0])"
      ],
      "metadata": {
        "colab": {
          "base_uri": "https://localhost:8080/"
        },
        "id": "83_xdM5ZYxcw",
        "outputId": "1c89ecee-274c-4dea-ce8a-85309e0fa01e"
      },
      "id": "83_xdM5ZYxcw",
      "execution_count": null,
      "outputs": [
        {
          "output_type": "stream",
          "name": "stdout",
          "text": [
            "91/91 [==============================] - 15s 156ms/step\n",
            "[0.4228975  0.42289758 0.42289758 ... 0.42289752 0.6713283  0.42289758]\n"
          ]
        }
      ]
    },
    {
      "cell_type": "code",
      "source": [
        "LSTM_results = getResults(Y_validation, predictions)"
      ],
      "metadata": {
        "colab": {
          "base_uri": "https://localhost:8080/"
        },
        "id": "R9S9cd8n_bIH",
        "outputId": "cf50de57-9c25-46b1-a558-954e937dd966"
      },
      "id": "R9S9cd8n_bIH",
      "execution_count": null,
      "outputs": [
        {
          "output_type": "stream",
          "name": "stdout",
          "text": [
            "The output here is of the form float, thus we are converting it to binary output based on the following \n",
            "condition if a value is > .5 we assign it with 1 and if a value is <.5 we assign it with 0\n",
            "\n",
            "Converting the ouput to 1D array, and then transformimg the values based on the above condition\n",
            "\n",
            "First 5 values before conversion : [0.4228975  0.42289758 0.42289758 0.24361905 0.42289752]\n",
            "First 5 values after the conversion : [0, 0, 0, 0, 0]\n",
            "\n",
            "========== RESULTS ===========\n",
            "\n",
            "Accuracy : 0.6691884456671252\n",
            "Precision : 0.5549738219895288\n",
            "F1_score : 0.18057921635434412\n",
            "Recall : 0.10783316378433368\n",
            "\n",
            "===== CONFUSION MATRIX =====\n",
            "[[1840   85]\n",
            " [ 877  106]]\n"
          ]
        }
      ]
    },
    {
      "cell_type": "markdown",
      "source": [
        "BI-LSTM(Bi-directional long short term memory) -\n",
        "\n",
        "Bidirectional long-short term memory (bi-lstm) is the technique of allowing any neural network to store sequence information in both directions, whether they are backwards (from future to past) or forward (past to future). \n",
        "\n",
        "A bi-lstm differs from a standard LSTM in that our input flows in two directions when it is bidirectional. We can direct input to flow in either a forward or a backward direction using the standard LSTM. To maintain both the future and the past knowledge, bi-directional input can be made to flow both ways."
      ],
      "metadata": {
        "id": "584TfjHnjm38"
      },
      "id": "584TfjHnjm38"
    },
    {
      "cell_type": "code",
      "source": [
        "def getBidirectionalModel():\n",
        "    # Input for variable-length sequences of integers\n",
        "    inputs = Input(shape=(maxlen,))\n",
        "    # Embedding layer\n",
        "    x = Embedding(vocab_size, 100, weights=[embedding_matrix], trainable=False)(inputs)\n",
        "    # Add bidirectional LSTMs\n",
        "    x = Bidirectional(LSTM(128, return_sequences=True))(x)\n",
        "    x = Bidirectional(LSTM(128))(x)\n",
        "    # Dense layer\n",
        "    outputs = Dense(1, activation=\"sigmoid\")(x)\n",
        "    model = Model(inputs, outputs)\n",
        "    print(model.summary())\n",
        "    model.compile(\"adam\", \"binary_crossentropy\", metrics=[\"accuracy\"])\n",
        "    return model"
      ],
      "metadata": {
        "id": "X-xj3EWh_q6B"
      },
      "id": "X-xj3EWh_q6B",
      "execution_count": null,
      "outputs": []
    },
    {
      "cell_type": "code",
      "source": [
        "model_LSTM_bi_di = getBidirectionalModel()"
      ],
      "metadata": {
        "colab": {
          "base_uri": "https://localhost:8080/"
        },
        "id": "e_CCfB0fElfP",
        "outputId": "f48dd4a8-d230-4310-8bea-93cc8afbb885"
      },
      "id": "e_CCfB0fElfP",
      "execution_count": null,
      "outputs": [
        {
          "output_type": "stream",
          "name": "stdout",
          "text": [
            "Model: \"model_1\"\n",
            "_________________________________________________________________\n",
            " Layer (type)                Output Shape              Param #   \n",
            "=================================================================\n",
            " input_2 (InputLayer)        [(None, 300)]             0         \n",
            "                                                                 \n",
            " embedding_1 (Embedding)     (None, 300, 100)          24548200  \n",
            "                                                                 \n",
            " bidirectional (Bidirectiona  (None, 300, 256)         234496    \n",
            " l)                                                              \n",
            "                                                                 \n",
            " bidirectional_1 (Bidirectio  (None, 256)              394240    \n",
            " nal)                                                            \n",
            "                                                                 \n",
            " dense_1 (Dense)             (None, 1)                 257       \n",
            "                                                                 \n",
            "=================================================================\n",
            "Total params: 25,177,193\n",
            "Trainable params: 628,993\n",
            "Non-trainable params: 24,548,200\n",
            "_________________________________________________________________\n",
            "None\n"
          ]
        }
      ]
    },
    {
      "cell_type": "code",
      "source": [
        "history = model_LSTM_bi_di.fit(X_train, Y_train, batch_size=128, epochs=5, verbose=1, validation_split=0.2)"
      ],
      "metadata": {
        "colab": {
          "base_uri": "https://localhost:8080/"
        },
        "id": "-3gUVqRPEoOO",
        "outputId": "12807ea4-eefb-458d-fbbc-3375984912b8"
      },
      "id": "-3gUVqRPEoOO",
      "execution_count": null,
      "outputs": [
        {
          "output_type": "stream",
          "name": "stdout",
          "text": [
            "Epoch 1/5\n",
            "350/350 [==============================] - 1720s 5s/step - loss: 0.4422 - accuracy: 0.7863 - val_loss: 0.4160 - val_accuracy: 0.8052\n",
            "Epoch 2/5\n",
            "350/350 [==============================] - 1696s 5s/step - loss: 0.4010 - accuracy: 0.8059 - val_loss: 0.3865 - val_accuracy: 0.8163\n",
            "Epoch 3/5\n",
            "350/350 [==============================] - 1675s 5s/step - loss: 0.3961 - accuracy: 0.8123 - val_loss: 0.3752 - val_accuracy: 0.8220\n",
            "Epoch 4/5\n",
            "350/350 [==============================] - 1633s 5s/step - loss: 0.3445 - accuracy: 0.8412 - val_loss: 0.3486 - val_accuracy: 0.8391\n",
            "Epoch 5/5\n",
            "350/350 [==============================] - 1652s 5s/step - loss: 0.3284 - accuracy: 0.8497 - val_loss: 0.3330 - val_accuracy: 0.8472\n"
          ]
        }
      ]
    },
    {
      "cell_type": "code",
      "source": [
        "predictions_bi_LSTM = model_LSTM_bi_di.predict(X_validation)\n",
        "print(predictions_bi_LSTM[:,0]) "
      ],
      "metadata": {
        "colab": {
          "base_uri": "https://localhost:8080/"
        },
        "id": "0_e79X2AG_Gn",
        "outputId": "85f563b1-50dc-46e8-d245-c5e6ff17b871"
      },
      "id": "0_e79X2AG_Gn",
      "execution_count": null,
      "outputs": [
        {
          "output_type": "stream",
          "name": "stdout",
          "text": [
            "91/91 [==============================] - 59s 602ms/step\n",
            "[0.9988574  0.6363843  0.06716805 ... 0.11982829 0.1282433  0.08214151]\n"
          ]
        }
      ]
    },
    {
      "cell_type": "code",
      "source": [
        "results_bi_LSTM = getResults(Y_validation, predictions_bi_LSTM)"
      ],
      "metadata": {
        "colab": {
          "base_uri": "https://localhost:8080/"
        },
        "id": "RXFNK4TZjXA4",
        "outputId": "c6e22044-b4f0-49e7-d7e2-72643cf060fb"
      },
      "id": "RXFNK4TZjXA4",
      "execution_count": null,
      "outputs": [
        {
          "output_type": "stream",
          "name": "stdout",
          "text": [
            "The output here is of the form float, thus we are converting it to binary output based on the following \n",
            "condition if a value is > .5 we assign it with 1 and if a value is <.5 we assign it with 0\n",
            "\n",
            "Converting the ouput to 1D array, and then transformimg the values based on the above condition\n",
            "\n",
            "First 5 values before conversion : [0.9988574  0.6363843  0.06716805 0.1508594  0.9998354 ]\n",
            "First 5 values after the conversion : [1, 1, 0, 0, 1]\n",
            "\n",
            "========== RESULTS ===========\n",
            "\n",
            "Accuracy : 0.859353507565337\n",
            "Precision : 0.7940573770491803\n",
            "F1_score : 0.7912200102092904\n",
            "Recall : 0.7884028484231943\n",
            "\n",
            "===== CONFUSION MATRIX =====\n",
            "[[1724  201]\n",
            " [ 208  775]]\n"
          ]
        }
      ]
    },
    {
      "cell_type": "markdown",
      "source": [
        "ACCURACY scores for LSTM and Bidirectional LSTM model with Validation data"
      ],
      "metadata": {
        "id": "jOOr8RO6jkhA"
      },
      "id": "jOOr8RO6jkhA"
    },
    {
      "cell_type": "code",
      "source": [
        "fig = plt.figure()\n",
        "fig = plt.figure(figsize = (10, 5))\n",
        "label = ['LSTM', 'Bidirectional LSTM ']\n",
        "scores = [LSTM_results[0], results_bi_LSTM[0]]\n",
        "plt.ylabel(\"MODELS\")\n",
        "plt.xlabel(\"SCORES\")\n",
        "plt.barh(label,scores)\n",
        "plt.title(\"ACCURACY SCORES FOR THE LSTM AND BIDIRECTIONAL-LSTM MODELS\")\n",
        "for index, value in enumerate(scores):\n",
        "    plt.text(value, index, str(round(value, 2)))\n",
        "plt.show()"
      ],
      "metadata": {
        "colab": {
          "base_uri": "https://localhost:8080/",
          "height": 367
        },
        "id": "9cw_Q-fMjgCg",
        "outputId": "c78f581b-087d-4e0a-a75c-e8ffd5b5a2c0"
      },
      "id": "9cw_Q-fMjgCg",
      "execution_count": null,
      "outputs": [
        {
          "output_type": "display_data",
          "data": {
            "text/plain": [
              "<Figure size 432x288 with 0 Axes>"
            ]
          },
          "metadata": {}
        },
        {
          "output_type": "display_data",
          "data": {
            "text/plain": [
              "<Figure size 720x360 with 1 Axes>"
            ],
            "image/png": "[encoded data removed]"
          },
          "metadata": {
            "needs_background": "light"
          }
        }
      ]
    },
    {
      "cell_type": "code",
      "source": [],
      "metadata": {
        "id": "tpuTTohdmP51"
      },
      "id": "tpuTTohdmP51",
      "execution_count": null,
      "outputs": []
    }
  ],
  "metadata": {
    "kernelspec": {
      "display_name": "Python 3 (ipykernel)",
      "language": "python",
      "name": "python3"
    },
    "language_info": {
      "codemirror_mode": {
        "name": "ipython",
        "version": 3
      },
      "file_extension": ".py",
      "mimetype": "text/x-python",
      "name": "python",
      "nbconvert_exporter": "python",
      "pygments_lexer": "ipython3",
      "version": "3.9.13"
    },
    "colab": {
      "provenance": []
    }
  },
  "nbformat": 4,
  "nbformat_minor": 5
}