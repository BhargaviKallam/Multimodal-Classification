{
  "nbformat": 4,
  "nbformat_minor": 0,
  "metadata": {
    "colab": {
      "provenance": []
    },
    "kernelspec": {
      "name": "python3",
      "display_name": "Python 3"
    },
    "language_info": {
      "name": "python"
    }
  },
  "cells": [
    {
      "cell_type": "code",
      "execution_count": 1,
      "metadata": {
        "id": "lvZ-5X3gob6w"
      },
      "outputs": [],
      "source": [
        "# necessary packages\n",
        "import tensorflow as tf\n",
        "import pickle\n",
        "\n",
        "import pandas as pd \n",
        "import numpy as np\n",
        "\n",
        "import os\n",
        "import sys\n",
        "\n",
        "import warnings\n",
        "warnings.filterwarnings('ignore')\n",
        "\n",
        "from skimage.io import imread\n",
        "from sklearn.model_selection import train_test_split\n",
        "from matplotlib import pyplot as plt\n",
        "%matplotlib inline\n",
        "\n",
        "import keras\n",
        "from keras import optimizers\n",
        "from keras.utils import to_categorical\n",
        "from keras.layers import Input, Dense, Flatten, Dropout, Conv2D, MaxPooling2D, Activation, concatenate\n",
        "from keras.models import Model\n",
        "from keras.callbacks import ModelCheckpoint\n",
        "\n",
        "\n",
        "from sklearn.metrics import accuracy_score, f1_score, precision_score, recall_score\n",
        "from sklearn.metrics import confusion_matrix\n"
      ]
    },
    {
      "cell_type": "code",
      "source": [
        "from google.colab import drive\n",
        "\n",
        "drive.mount('/content/drive')"
      ],
      "metadata": {
        "colab": {
          "base_uri": "https://localhost:8080/"
        },
        "id": "o3iQUWcPoh90",
        "outputId": "ca0581e0-b228-4ebd-f773-eed87087bf42"
      },
      "execution_count": 2,
      "outputs": [
        {
          "output_type": "stream",
          "name": "stdout",
          "text": [
            "Mounted at /content/drive\n"
          ]
        }
      ]
    },
    {
      "cell_type": "code",
      "source": [
        "cd '/content/drive/MyDrive/project/'"
      ],
      "metadata": {
        "colab": {
          "base_uri": "https://localhost:8080/"
        },
        "id": "XPcLmD6BGQ8X",
        "outputId": "f47aa373-4f6a-47f5-b5c5-3a18b145fc47"
      },
      "execution_count": 3,
      "outputs": [
        {
          "output_type": "stream",
          "name": "stdout",
          "text": [
            "/content/drive/MyDrive/project\n"
          ]
        }
      ]
    },
    {
      "cell_type": "markdown",
      "source": [
        "# Data:\n",
        " Creating Dataframe for with both text and image data to match final labels with images using img_name as id."
      ],
      "metadata": {
        "id": "7qOjEpf1ai0X"
      }
    },
    {
      "cell_type": "code",
      "source": [
        "import cv2\n",
        "import os\n",
        "import numpy as np\n",
        "\n",
        "def load_images_from_folder(folder):\n",
        "    images = []\n",
        "    image_name = []\n",
        "    for filename in os.listdir(folder):\n",
        "        img = cv2.imread(os.path.join(folder,filename))\n",
        "\n",
        "        if img is not None:\n",
        "            img=cv2.resize(img,(224,224),interpolation=cv2.INTER_AREA)\n",
        "            images.append(img)\n",
        "            filename = filename.replace('.jpg', '')\n",
        "            image_name.append(filename)\n",
        "    return images, image_name\n",
        "\n",
        "images_lst, image_names = load_images_from_folder('/content/drive/MyDrive/project/images')"
      ],
      "metadata": {
        "id": "KKE-N2cMq7Qb"
      },
      "execution_count": 4,
      "outputs": []
    },
    {
      "cell_type": "code",
      "source": [
        "print(\"shape of the original data\",np.array(images_lst).shape)"
      ],
      "metadata": {
        "colab": {
          "base_uri": "https://localhost:8080/"
        },
        "id": "M9UBhHPVrtxk",
        "outputId": "18b9af0e-43af-4496-c37e-e16cbb2daf59"
      },
      "execution_count": 5,
      "outputs": [
        {
          "output_type": "stream",
          "name": "stdout",
          "text": [
            "shape of the original data (3134, 224, 224, 3)\n"
          ]
        }
      ]
    },
    {
      "cell_type": "code",
      "source": [
        "train_data = pd.read_pickle('/content/drive/MyDrive/project/multimodal_text')\n",
        "train_data"
      ],
      "metadata": {
        "colab": {
          "base_uri": "https://localhost:8080/",
          "height": 419
        },
        "id": "5mYTNCCdbmkH",
        "outputId": "c02bdac6-b6d8-4972-bc4f-dc3e996101ac"
      },
      "execution_count": 6,
      "outputs": [
        {
          "output_type": "execute_result",
          "data": {
            "text/plain": [
              "           id                                        clean_title  2_way_label\n",
              "0     cozywbv                                          stargazer            0\n",
              "1     ctk61yw                                               yeah            0\n",
              "2      c0gl7r  pd phoenix car thief gets instructions from yo...            1\n",
              "3      c0xdqy  as trump accuses iran he has one problem his o...            1\n",
              "4      7o9rmx                                believers hezbollah            0\n",
              "...       ...                                                ...          ...\n",
              "3237   1ugqlf                 toronto sunset just before a storm            1\n",
              "3238  cb1aome                                            sing it            0\n",
              "3239  cns9pd3                   time to give someone else a turn            0\n",
              "3240   bws81n                            this sleeping snowy owl            1\n",
              "3241   47lj03  mississippi governor declares confederate heri...            1\n",
              "\n",
              "[3242 rows x 3 columns]"
            ],
            "text/html": [
              "\n",
              "  <div id=\"df-75ccd2c2-eed1-4a49-a7e0-66ecfddd7393\">\n",
              "    <div class=\"colab-df-container\">\n",
              "      <div>\n",
              "<style scoped>\n",
              "    .dataframe tbody tr th:only-of-type {\n",
              "        vertical-align: middle;\n",
              "    }\n",
              "\n",
              "    .dataframe tbody tr th {\n",
              "        vertical-align: top;\n",
              "    }\n",
              "\n",
              "    .dataframe thead th {\n",
              "        text-align: right;\n",
              "    }\n",
              "</style>\n",
              "<table border=\"1\" class=\"dataframe\">\n",
              "  <thead>\n",
              "    <tr style=\"text-align: right;\">\n",
              "      <th></th>\n",
              "      <th>id</th>\n",
              "      <th>clean_title</th>\n",
              "      <th>2_way_label</th>\n",
              "    </tr>\n",
              "  </thead>\n",
              "  <tbody>\n",
              "    <tr>\n",
              "      <th>0</th>\n",
              "      <td>cozywbv</td>\n",
              "      <td>stargazer</td>\n",
              "      <td>0</td>\n",
              "    </tr>\n",
              "    <tr>\n",
              "      <th>1</th>\n",
              "      <td>ctk61yw</td>\n",
              "      <td>yeah</td>\n",
              "      <td>0</td>\n",
              "    </tr>\n",
              "    <tr>\n",
              "      <th>2</th>\n",
              "      <td>c0gl7r</td>\n",
              "      <td>pd phoenix car thief gets instructions from yo...</td>\n",
              "      <td>1</td>\n",
              "    </tr>\n",
              "    <tr>\n",
              "      <th>3</th>\n",
              "      <td>c0xdqy</td>\n",
              "      <td>as trump accuses iran he has one problem his o...</td>\n",
              "      <td>1</td>\n",
              "    </tr>\n",
              "    <tr>\n",
              "      <th>4</th>\n",
              "      <td>7o9rmx</td>\n",
              "      <td>believers hezbollah</td>\n",
              "      <td>0</td>\n",
              "    </tr>\n",
              "    <tr>\n",
              "      <th>...</th>\n",
              "      <td>...</td>\n",
              "      <td>...</td>\n",
              "      <td>...</td>\n",
              "    </tr>\n",
              "    <tr>\n",
              "      <th>3237</th>\n",
              "      <td>1ugqlf</td>\n",
              "      <td>toronto sunset just before a storm</td>\n",
              "      <td>1</td>\n",
              "    </tr>\n",
              "    <tr>\n",
              "      <th>3238</th>\n",
              "      <td>cb1aome</td>\n",
              "      <td>sing it</td>\n",
              "      <td>0</td>\n",
              "    </tr>\n",
              "    <tr>\n",
              "      <th>3239</th>\n",
              "      <td>cns9pd3</td>\n",
              "      <td>time to give someone else a turn</td>\n",
              "      <td>0</td>\n",
              "    </tr>\n",
              "    <tr>\n",
              "      <th>3240</th>\n",
              "      <td>bws81n</td>\n",
              "      <td>this sleeping snowy owl</td>\n",
              "      <td>1</td>\n",
              "    </tr>\n",
              "    <tr>\n",
              "      <th>3241</th>\n",
              "      <td>47lj03</td>\n",
              "      <td>mississippi governor declares confederate heri...</td>\n",
              "      <td>1</td>\n",
              "    </tr>\n",
              "  </tbody>\n",
              "</table>\n",
              "<p>3242 rows × 3 columns</p>\n",
              "</div>\n",
              "      <button class=\"colab-df-convert\" onclick=\"convertToInteractive('df-75ccd2c2-eed1-4a49-a7e0-66ecfddd7393')\"\n",
              "              title=\"Convert this dataframe to an interactive table.\"\n",
              "              style=\"display:none;\">\n",
              "        \n",
              "  <svg xmlns=\"http://www.w3.org/2000/svg\" height=\"24px\"viewBox=\"0 0 24 24\"\n",
              "       width=\"24px\">\n",
              "    <path d=\"M0 0h24v24H0V0z\" fill=\"none\"/>\n",
              "    <path d=\"M18.56 5.44l.94 2.06.94-2.06 2.06-.94-2.06-.94-.94-2.06-.94 2.06-2.06.94zm-11 1L8.5 8.5l.94-2.06 2.06-.94-2.06-.94L8.5 2.5l-.94 2.06-2.06.94zm10 10l.94 2.06.94-2.06 2.06-.94-2.06-.94-.94-2.06-.94 2.06-2.06.94z\"/><path d=\"M17.41 7.96l-1.37-1.37c-.4-.4-.92-.59-1.43-.59-.52 0-1.04.2-1.43.59L10.3 9.45l-7.72 7.72c-.78.78-.78 2.05 0 2.83L4 21.41c.39.39.9.59 1.41.59.51 0 1.02-.2 1.41-.59l7.78-7.78 2.81-2.81c.8-.78.8-2.07 0-2.86zM5.41 20L4 18.59l7.72-7.72 1.47 1.35L5.41 20z\"/>\n",
              "  </svg>\n",
              "      </button>\n",
              "      \n",
              "  <style>\n",
              "    .colab-df-container {\n",
              "      display:flex;\n",
              "      flex-wrap:wrap;\n",
              "      gap: 12px;\n",
              "    }\n",
              "\n",
              "    .colab-df-convert {\n",
              "      background-color: #E8F0FE;\n",
              "      border: none;\n",
              "      border-radius: 50%;\n",
              "      cursor: pointer;\n",
              "      display: none;\n",
              "      fill: #1967D2;\n",
              "      height: 32px;\n",
              "      padding: 0 0 0 0;\n",
              "      width: 32px;\n",
              "    }\n",
              "\n",
              "    .colab-df-convert:hover {\n",
              "      background-color: #E2EBFA;\n",
              "      box-shadow: 0px 1px 2px rgba(60, 64, 67, 0.3), 0px 1px 3px 1px rgba(60, 64, 67, 0.15);\n",
              "      fill: #174EA6;\n",
              "    }\n",
              "\n",
              "    [theme=dark] .colab-df-convert {\n",
              "      background-color: #3B4455;\n",
              "      fill: #D2E3FC;\n",
              "    }\n",
              "\n",
              "    [theme=dark] .colab-df-convert:hover {\n",
              "      background-color: #434B5C;\n",
              "      box-shadow: 0px 1px 3px 1px rgba(0, 0, 0, 0.15);\n",
              "      filter: drop-shadow(0px 1px 2px rgba(0, 0, 0, 0.3));\n",
              "      fill: #FFFFFF;\n",
              "    }\n",
              "  </style>\n",
              "\n",
              "      <script>\n",
              "        const buttonEl =\n",
              "          document.querySelector('#df-75ccd2c2-eed1-4a49-a7e0-66ecfddd7393 button.colab-df-convert');\n",
              "        buttonEl.style.display =\n",
              "          google.colab.kernel.accessAllowed ? 'block' : 'none';\n",
              "\n",
              "        async function convertToInteractive(key) {\n",
              "          const element = document.querySelector('#df-75ccd2c2-eed1-4a49-a7e0-66ecfddd7393');\n",
              "          const dataTable =\n",
              "            await google.colab.kernel.invokeFunction('convertToInteractive',\n",
              "                                                     [key], {});\n",
              "          if (!dataTable) return;\n",
              "\n",
              "          const docLinkHtml = 'Like what you see? Visit the ' +\n",
              "            '<a target=\"_blank\" href=https://colab.research.google.com/notebooks/data_table.ipynb>data table notebook</a>'\n",
              "            + ' to learn more about interactive tables.';\n",
              "          element.innerHTML = '';\n",
              "          dataTable['output_type'] = 'display_data';\n",
              "          await google.colab.output.renderOutput(dataTable, element);\n",
              "          const docLink = document.createElement('div');\n",
              "          docLink.innerHTML = docLinkHtml;\n",
              "          element.appendChild(docLink);\n",
              "        }\n",
              "      </script>\n",
              "    </div>\n",
              "  </div>\n",
              "  "
            ]
          },
          "metadata": {},
          "execution_count": 6
        }
      ]
    },
    {
      "cell_type": "code",
      "source": [
        "# Randomly droping few rows from true records\n",
        "\n",
        "def remove(data,n,m):\n",
        "    np.random.seed(10)\n",
        "\n",
        "    df_true = data[data['2_way_label']==0]\n",
        "\n",
        "    df_fake = data[data['2_way_label']==1]\n",
        "     \n",
        "    drop_indices_true = np.random.choice(df_true.index, m, replace=False)\n",
        "    df_subset_true = df_true.drop(drop_indices_true)\n",
        "    \n",
        "    drop_indices_fake = np.random.choice(df_fake.index, n, replace=False)\n",
        "    df_subset_fake = df_fake.drop(drop_indices_fake)\n",
        "    \n",
        "   \n",
        "    \n",
        "    df_train_new = pd.concat([df_subset_true, df_subset_fake],ignore_index=True)\n",
        "    \n",
        "    return df_train_new\n",
        "\n",
        "# Randomly droping few rows from true records\n",
        "\n",
        "\n",
        "data  = remove(data, 1, 300)\n",
        "\n",
        "# Shuffling a Pandas dataframe with .shuffle()\n",
        "data = data.sample(frac=1).reset_index()\n",
        "data"
      ],
      "metadata": {
        "colab": {
          "base_uri": "https://localhost:8080/",
          "height": 419
        },
        "id": "nkR16sG83pmq",
        "outputId": "b9d77239-4b4d-4e18-8df6-8741d7fd8ba4"
      },
      "execution_count": 8,
      "outputs": [
        {
          "output_type": "execute_result",
          "data": {
            "text/plain": [
              "      index                                             images      id  \\\n",
              "0      2571  [[[94, 87, 84], [94, 88, 82], [89, 83, 72], [6...  9ibax5   \n",
              "1      2591  [[[225, 172, 115], [250, 208, 147], [250, 212,...  7q8c01   \n",
              "2       318  [[[37, 39, 40], [37, 39, 40], [37, 39, 40], [3...   mpuur   \n",
              "3      2327  [[[10, 66, 47], [23, 63, 49], [37, 57, 50], [3...  ccuptr   \n",
              "4      2187  [[[64, 131, 210], [63, 130, 209], [61, 128, 20...  cv3ky6   \n",
              "...     ...                                                ...     ...   \n",
              "2828    337  [[[33, 36, 37], [35, 36, 38], [41, 38, 42], [4...  7wtb1p   \n",
              "2829   1715  [[[129, 51, 92], [99, 36, 67], [93, 33, 60], [...  c6ilov   \n",
              "2830    220  [[[219, 221, 222], [222, 224, 223], [223, 227,...  6fek2o   \n",
              "2831   2803  [[[45, 57, 67], [52, 63, 73], [57, 67, 77], [5...  2j9ks6   \n",
              "2832    356  [[[100, 109, 147], [65, 76, 116], [64, 78, 118...  ct6yrk   \n",
              "\n",
              "                                            clean_title  2_way_label  \n",
              "0     construction workers found another use for har...            1  \n",
              "1                        this cat hanging out of an suv            1  \n",
              "2                            cheeky monkey wireless usb            0  \n",
              "3                                    this daisys mohawk            1  \n",
              "4                                      a lizard in utah            1  \n",
              "...                                                 ...          ...  \n",
              "2828  this little robot quite content with being a g...            0  \n",
              "2829  gog galaxys subtle recruitment ad developer vi...            1  \n",
              "2830                       man thinks his job is secure            0  \n",
              "2831  thailand to invite tourists to experience mart...            1  \n",
              "2832        my girlfriends hair clip looks like a shark            0  \n",
              "\n",
              "[2833 rows x 5 columns]"
            ],
            "text/html": [
              "\n",
              "  <div id=\"df-e7b6ad0f-7546-470a-989b-1718b56cd443\">\n",
              "    <div class=\"colab-df-container\">\n",
              "      <div>\n",
              "<style scoped>\n",
              "    .dataframe tbody tr th:only-of-type {\n",
              "        vertical-align: middle;\n",
              "    }\n",
              "\n",
              "    .dataframe tbody tr th {\n",
              "        vertical-align: top;\n",
              "    }\n",
              "\n",
              "    .dataframe thead th {\n",
              "        text-align: right;\n",
              "    }\n",
              "</style>\n",
              "<table border=\"1\" class=\"dataframe\">\n",
              "  <thead>\n",
              "    <tr style=\"text-align: right;\">\n",
              "      <th></th>\n",
              "      <th>index</th>\n",
              "      <th>images</th>\n",
              "      <th>id</th>\n",
              "      <th>clean_title</th>\n",
              "      <th>2_way_label</th>\n",
              "    </tr>\n",
              "  </thead>\n",
              "  <tbody>\n",
              "    <tr>\n",
              "      <th>0</th>\n",
              "      <td>2571</td>\n",
              "      <td>[[[94, 87, 84], [94, 88, 82], [89, 83, 72], [6...</td>\n",
              "      <td>9ibax5</td>\n",
              "      <td>construction workers found another use for har...</td>\n",
              "      <td>1</td>\n",
              "    </tr>\n",
              "    <tr>\n",
              "      <th>1</th>\n",
              "      <td>2591</td>\n",
              "      <td>[[[225, 172, 115], [250, 208, 147], [250, 212,...</td>\n",
              "      <td>7q8c01</td>\n",
              "      <td>this cat hanging out of an suv</td>\n",
              "      <td>1</td>\n",
              "    </tr>\n",
              "    <tr>\n",
              "      <th>2</th>\n",
              "      <td>318</td>\n",
              "      <td>[[[37, 39, 40], [37, 39, 40], [37, 39, 40], [3...</td>\n",
              "      <td>mpuur</td>\n",
              "      <td>cheeky monkey wireless usb</td>\n",
              "      <td>0</td>\n",
              "    </tr>\n",
              "    <tr>\n",
              "      <th>3</th>\n",
              "      <td>2327</td>\n",
              "      <td>[[[10, 66, 47], [23, 63, 49], [37, 57, 50], [3...</td>\n",
              "      <td>ccuptr</td>\n",
              "      <td>this daisys mohawk</td>\n",
              "      <td>1</td>\n",
              "    </tr>\n",
              "    <tr>\n",
              "      <th>4</th>\n",
              "      <td>2187</td>\n",
              "      <td>[[[64, 131, 210], [63, 130, 209], [61, 128, 20...</td>\n",
              "      <td>cv3ky6</td>\n",
              "      <td>a lizard in utah</td>\n",
              "      <td>1</td>\n",
              "    </tr>\n",
              "    <tr>\n",
              "      <th>...</th>\n",
              "      <td>...</td>\n",
              "      <td>...</td>\n",
              "      <td>...</td>\n",
              "      <td>...</td>\n",
              "      <td>...</td>\n",
              "    </tr>\n",
              "    <tr>\n",
              "      <th>2828</th>\n",
              "      <td>337</td>\n",
              "      <td>[[[33, 36, 37], [35, 36, 38], [41, 38, 42], [4...</td>\n",
              "      <td>7wtb1p</td>\n",
              "      <td>this little robot quite content with being a g...</td>\n",
              "      <td>0</td>\n",
              "    </tr>\n",
              "    <tr>\n",
              "      <th>2829</th>\n",
              "      <td>1715</td>\n",
              "      <td>[[[129, 51, 92], [99, 36, 67], [93, 33, 60], [...</td>\n",
              "      <td>c6ilov</td>\n",
              "      <td>gog galaxys subtle recruitment ad developer vi...</td>\n",
              "      <td>1</td>\n",
              "    </tr>\n",
              "    <tr>\n",
              "      <th>2830</th>\n",
              "      <td>220</td>\n",
              "      <td>[[[219, 221, 222], [222, 224, 223], [223, 227,...</td>\n",
              "      <td>6fek2o</td>\n",
              "      <td>man thinks his job is secure</td>\n",
              "      <td>0</td>\n",
              "    </tr>\n",
              "    <tr>\n",
              "      <th>2831</th>\n",
              "      <td>2803</td>\n",
              "      <td>[[[45, 57, 67], [52, 63, 73], [57, 67, 77], [5...</td>\n",
              "      <td>2j9ks6</td>\n",
              "      <td>thailand to invite tourists to experience mart...</td>\n",
              "      <td>1</td>\n",
              "    </tr>\n",
              "    <tr>\n",
              "      <th>2832</th>\n",
              "      <td>356</td>\n",
              "      <td>[[[100, 109, 147], [65, 76, 116], [64, 78, 118...</td>\n",
              "      <td>ct6yrk</td>\n",
              "      <td>my girlfriends hair clip looks like a shark</td>\n",
              "      <td>0</td>\n",
              "    </tr>\n",
              "  </tbody>\n",
              "</table>\n",
              "<p>2833 rows × 5 columns</p>\n",
              "</div>\n",
              "      <button class=\"colab-df-convert\" onclick=\"convertToInteractive('df-e7b6ad0f-7546-470a-989b-1718b56cd443')\"\n",
              "              title=\"Convert this dataframe to an interactive table.\"\n",
              "              style=\"display:none;\">\n",
              "        \n",
              "  <svg xmlns=\"http://www.w3.org/2000/svg\" height=\"24px\"viewBox=\"0 0 24 24\"\n",
              "       width=\"24px\">\n",
              "    <path d=\"M0 0h24v24H0V0z\" fill=\"none\"/>\n",
              "    <path d=\"M18.56 5.44l.94 2.06.94-2.06 2.06-.94-2.06-.94-.94-2.06-.94 2.06-2.06.94zm-11 1L8.5 8.5l.94-2.06 2.06-.94-2.06-.94L8.5 2.5l-.94 2.06-2.06.94zm10 10l.94 2.06.94-2.06 2.06-.94-2.06-.94-.94-2.06-.94 2.06-2.06.94z\"/><path d=\"M17.41 7.96l-1.37-1.37c-.4-.4-.92-.59-1.43-.59-.52 0-1.04.2-1.43.59L10.3 9.45l-7.72 7.72c-.78.78-.78 2.05 0 2.83L4 21.41c.39.39.9.59 1.41.59.51 0 1.02-.2 1.41-.59l7.78-7.78 2.81-2.81c.8-.78.8-2.07 0-2.86zM5.41 20L4 18.59l7.72-7.72 1.47 1.35L5.41 20z\"/>\n",
              "  </svg>\n",
              "      </button>\n",
              "      \n",
              "  <style>\n",
              "    .colab-df-container {\n",
              "      display:flex;\n",
              "      flex-wrap:wrap;\n",
              "      gap: 12px;\n",
              "    }\n",
              "\n",
              "    .colab-df-convert {\n",
              "      background-color: #E8F0FE;\n",
              "      border: none;\n",
              "      border-radius: 50%;\n",
              "      cursor: pointer;\n",
              "      display: none;\n",
              "      fill: #1967D2;\n",
              "      height: 32px;\n",
              "      padding: 0 0 0 0;\n",
              "      width: 32px;\n",
              "    }\n",
              "\n",
              "    .colab-df-convert:hover {\n",
              "      background-color: #E2EBFA;\n",
              "      box-shadow: 0px 1px 2px rgba(60, 64, 67, 0.3), 0px 1px 3px 1px rgba(60, 64, 67, 0.15);\n",
              "      fill: #174EA6;\n",
              "    }\n",
              "\n",
              "    [theme=dark] .colab-df-convert {\n",
              "      background-color: #3B4455;\n",
              "      fill: #D2E3FC;\n",
              "    }\n",
              "\n",
              "    [theme=dark] .colab-df-convert:hover {\n",
              "      background-color: #434B5C;\n",
              "      box-shadow: 0px 1px 3px 1px rgba(0, 0, 0, 0.15);\n",
              "      filter: drop-shadow(0px 1px 2px rgba(0, 0, 0, 0.3));\n",
              "      fill: #FFFFFF;\n",
              "    }\n",
              "  </style>\n",
              "\n",
              "      <script>\n",
              "        const buttonEl =\n",
              "          document.querySelector('#df-e7b6ad0f-7546-470a-989b-1718b56cd443 button.colab-df-convert');\n",
              "        buttonEl.style.display =\n",
              "          google.colab.kernel.accessAllowed ? 'block' : 'none';\n",
              "\n",
              "        async function convertToInteractive(key) {\n",
              "          const element = document.querySelector('#df-e7b6ad0f-7546-470a-989b-1718b56cd443');\n",
              "          const dataTable =\n",
              "            await google.colab.kernel.invokeFunction('convertToInteractive',\n",
              "                                                     [key], {});\n",
              "          if (!dataTable) return;\n",
              "\n",
              "          const docLinkHtml = 'Like what you see? Visit the ' +\n",
              "            '<a target=\"_blank\" href=https://colab.research.google.com/notebooks/data_table.ipynb>data table notebook</a>'\n",
              "            + ' to learn more about interactive tables.';\n",
              "          element.innerHTML = '';\n",
              "          dataTable['output_type'] = 'display_data';\n",
              "          await google.colab.output.renderOutput(dataTable, element);\n",
              "          const docLink = document.createElement('div');\n",
              "          docLink.innerHTML = docLinkHtml;\n",
              "          element.appendChild(docLink);\n",
              "        }\n",
              "      </script>\n",
              "    </div>\n",
              "  </div>\n",
              "  "
            ]
          },
          "metadata": {},
          "execution_count": 8
        }
      ]
    },
    {
      "cell_type": "code",
      "source": [
        "# splitting dataframe by row index\n",
        "df_test_imgt = data.iloc[:345,:]\n",
        "df_train_imgt = data.iloc[345:,:]"
      ],
      "metadata": {
        "id": "CSX-NREncj_k"
      },
      "execution_count": 9,
      "outputs": []
    },
    {
      "cell_type": "code",
      "source": [
        "import seaborn as sns \n",
        "\n",
        "# Target distribution for training dataset\n",
        "\n",
        "print(df_train_imgt['2_way_label'].value_counts())\n",
        "\n",
        "# count plot on single categorical variable\n",
        "sns.countplot(x ='2_way_label', data = df_train_imgt)"
      ],
      "metadata": {
        "id": "BYnyaVk70ETL",
        "colab": {
          "base_uri": "https://localhost:8080/",
          "height": 348
        },
        "outputId": "53545167-65b9-4abf-db72-7d78e9b85fdb"
      },
      "execution_count": 10,
      "outputs": [
        {
          "output_type": "stream",
          "name": "stdout",
          "text": [
            "0    1395\n",
            "1    1093\n",
            "Name: 2_way_label, dtype: int64\n"
          ]
        },
        {
          "output_type": "execute_result",
          "data": {
            "text/plain": [
              "<matplotlib.axes._subplots.AxesSubplot at 0x7f4ea6d3cc10>"
            ]
          },
          "metadata": {},
          "execution_count": 10
        },
        {
          "output_type": "display_data",
          "data": {
            "text/plain": [
              "<Figure size 432x288 with 1 Axes>"
            ],
            "image/png": "[encoded data removed]"
          },
          "metadata": {
            "needs_background": "light"
          }
        }
      ]
    },
    {
      "cell_type": "code",
      "source": [
        "def transformResults(predictions):\n",
        "    print(\"\"\"The output here is of the form float, thus we are converting it to binary output based on the following \n",
        "condition if a value is > .5 we assign it with 1 and if a value is <.5 we assign it with 0\"\"\")\n",
        "    \n",
        "    print(\"\\nConverting the ouput to 1D array, and then transformimg the values based on the above condition\\n\")\n",
        "    predictions = predictions[:, 0]\n",
        "    print(f'First 5 values before conversion : {predictions[:5]}')\n",
        "    \n",
        "    predictions = [1 if val>0.5 else 0 for val in predictions]\n",
        "    print(f'First 5 values after the conversion : {predictions[:5]}')\n",
        "    return predictions"
      ],
      "metadata": {
        "id": "BRPEvcDJttfG"
      },
      "execution_count": 11,
      "outputs": []
    },
    {
      "cell_type": "code",
      "source": [
        "def getResults(y_test, prediction):\n",
        "\n",
        "    prediction = transformResults(prediction)\n",
        "\n",
        "    print(\"\\n========== RESULTS ===========\\n\")\n",
        "    accuracy = accuracy_score(y_test, prediction)\n",
        "    precision = precision_score(y_test, prediction)\n",
        "    f1 = f1_score(y_test, prediction)\n",
        "    recall = recall_score(y_test, prediction)\n",
        "\n",
        "    print(f'Accuracy : {accuracy}\\nPrecision : {precision}\\nF1_score : {f1}\\nRecall : {recall}\\n')\n",
        "    \n",
        "    print(\"===== CONFUSION MATRIX =====\")\n",
        "    cf_matrix = confusion_matrix(y_test, prediction)\n",
        "    print(cf_matrix)\n",
        "    \n",
        "    return accuracy, precision, f1, recall"
      ],
      "metadata": {
        "id": "tvfV1Qlgoecp"
      },
      "execution_count": 12,
      "outputs": []
    },
    {
      "cell_type": "markdown",
      "source": [
        "# Image Classification\n",
        "\n",
        "VGG16 is a convolutional neural network model proposed in the paper \"Very Deep Convolutional Networks for Large-Scale Image Recognition\" by K. Simonyan and A. Zisserman of the University of Oxford. This architecture has layers such as Convolutional2D +ReLU, max pooling, Fully netted + ReLU. \n",
        "\n",
        "Featuresmap of the train and test data is extracted using .predict()  from pre-trained weights of VGG16.This allows to extract as meaning data as possible from data features(images). \n",
        "\n",
        "include_top = False allows us to get features before dense layers, so output shape is 7x7x512. We use these features to train on our dataset by adding 2 Dense layers and softmax activation.\n",
        "\n"
      ],
      "metadata": {
        "id": "Cl6PXu8QcaOT"
      }
    },
    {
      "cell_type": "code",
      "source": [
        "df_train= df_train_imgt[['images','2_way_label']]\n",
        "df_test = df_test_imgt[['images','2_way_label']]\n",
        "df_train"
      ],
      "metadata": {
        "colab": {
          "base_uri": "https://localhost:8080/",
          "height": 419
        },
        "id": "amQ2LxwqbzRj",
        "outputId": "7c5f8214-595b-4960-969c-1a52a96260ef"
      },
      "execution_count": 13,
      "outputs": [
        {
          "output_type": "execute_result",
          "data": {
            "text/plain": [
              "                                                 images  2_way_label\n",
              "345   [[[150, 127, 116], [172, 155, 147], [172, 152,...            0\n",
              "346   [[[3, 22, 5], [7, 38, 18], [14, 64, 40], [8, 7...            1\n",
              "347   [[[30, 30, 30], [26, 26, 26], [20, 20, 20], [2...            0\n",
              "348   [[[154, 124, 98], [155, 124, 99], [157, 125, 1...            0\n",
              "349   [[[165, 125, 117], [151, 110, 98], [90, 82, 86...            0\n",
              "...                                                 ...          ...\n",
              "2828  [[[33, 36, 37], [35, 36, 38], [41, 38, 42], [4...            0\n",
              "2829  [[[129, 51, 92], [99, 36, 67], [93, 33, 60], [...            1\n",
              "2830  [[[219, 221, 222], [222, 224, 223], [223, 227,...            0\n",
              "2831  [[[45, 57, 67], [52, 63, 73], [57, 67, 77], [5...            1\n",
              "2832  [[[100, 109, 147], [65, 76, 116], [64, 78, 118...            0\n",
              "\n",
              "[2488 rows x 2 columns]"
            ],
            "text/html": [
              "\n",
              "  <div id=\"df-73fcb9e1-c42d-4704-b67c-70b54539b410\">\n",
              "    <div class=\"colab-df-container\">\n",
              "      <div>\n",
              "<style scoped>\n",
              "    .dataframe tbody tr th:only-of-type {\n",
              "        vertical-align: middle;\n",
              "    }\n",
              "\n",
              "    .dataframe tbody tr th {\n",
              "        vertical-align: top;\n",
              "    }\n",
              "\n",
              "    .dataframe thead th {\n",
              "        text-align: right;\n",
              "    }\n",
              "</style>\n",
              "<table border=\"1\" class=\"dataframe\">\n",
              "  <thead>\n",
              "    <tr style=\"text-align: right;\">\n",
              "      <th></th>\n",
              "      <th>images</th>\n",
              "      <th>2_way_label</th>\n",
              "    </tr>\n",
              "  </thead>\n",
              "  <tbody>\n",
              "    <tr>\n",
              "      <th>345</th>\n",
              "      <td>[[[150, 127, 116], [172, 155, 147], [172, 152,...</td>\n",
              "      <td>0</td>\n",
              "    </tr>\n",
              "    <tr>\n",
              "      <th>346</th>\n",
              "      <td>[[[3, 22, 5], [7, 38, 18], [14, 64, 40], [8, 7...</td>\n",
              "      <td>1</td>\n",
              "    </tr>\n",
              "    <tr>\n",
              "      <th>347</th>\n",
              "      <td>[[[30, 30, 30], [26, 26, 26], [20, 20, 20], [2...</td>\n",
              "      <td>0</td>\n",
              "    </tr>\n",
              "    <tr>\n",
              "      <th>348</th>\n",
              "      <td>[[[154, 124, 98], [155, 124, 99], [157, 125, 1...</td>\n",
              "      <td>0</td>\n",
              "    </tr>\n",
              "    <tr>\n",
              "      <th>349</th>\n",
              "      <td>[[[165, 125, 117], [151, 110, 98], [90, 82, 86...</td>\n",
              "      <td>0</td>\n",
              "    </tr>\n",
              "    <tr>\n",
              "      <th>...</th>\n",
              "      <td>...</td>\n",
              "      <td>...</td>\n",
              "    </tr>\n",
              "    <tr>\n",
              "      <th>2828</th>\n",
              "      <td>[[[33, 36, 37], [35, 36, 38], [41, 38, 42], [4...</td>\n",
              "      <td>0</td>\n",
              "    </tr>\n",
              "    <tr>\n",
              "      <th>2829</th>\n",
              "      <td>[[[129, 51, 92], [99, 36, 67], [93, 33, 60], [...</td>\n",
              "      <td>1</td>\n",
              "    </tr>\n",
              "    <tr>\n",
              "      <th>2830</th>\n",
              "      <td>[[[219, 221, 222], [222, 224, 223], [223, 227,...</td>\n",
              "      <td>0</td>\n",
              "    </tr>\n",
              "    <tr>\n",
              "      <th>2831</th>\n",
              "      <td>[[[45, 57, 67], [52, 63, 73], [57, 67, 77], [5...</td>\n",
              "      <td>1</td>\n",
              "    </tr>\n",
              "    <tr>\n",
              "      <th>2832</th>\n",
              "      <td>[[[100, 109, 147], [65, 76, 116], [64, 78, 118...</td>\n",
              "      <td>0</td>\n",
              "    </tr>\n",
              "  </tbody>\n",
              "</table>\n",
              "<p>2488 rows × 2 columns</p>\n",
              "</div>\n",
              "      <button class=\"colab-df-convert\" onclick=\"convertToInteractive('df-73fcb9e1-c42d-4704-b67c-70b54539b410')\"\n",
              "              title=\"Convert this dataframe to an interactive table.\"\n",
              "              style=\"display:none;\">\n",
              "        \n",
              "  <svg xmlns=\"http://www.w3.org/2000/svg\" height=\"24px\"viewBox=\"0 0 24 24\"\n",
              "       width=\"24px\">\n",
              "    <path d=\"M0 0h24v24H0V0z\" fill=\"none\"/>\n",
              "    <path d=\"M18.56 5.44l.94 2.06.94-2.06 2.06-.94-2.06-.94-.94-2.06-.94 2.06-2.06.94zm-11 1L8.5 8.5l.94-2.06 2.06-.94-2.06-.94L8.5 2.5l-.94 2.06-2.06.94zm10 10l.94 2.06.94-2.06 2.06-.94-2.06-.94-.94-2.06-.94 2.06-2.06.94z\"/><path d=\"M17.41 7.96l-1.37-1.37c-.4-.4-.92-.59-1.43-.59-.52 0-1.04.2-1.43.59L10.3 9.45l-7.72 7.72c-.78.78-.78 2.05 0 2.83L4 21.41c.39.39.9.59 1.41.59.51 0 1.02-.2 1.41-.59l7.78-7.78 2.81-2.81c.8-.78.8-2.07 0-2.86zM5.41 20L4 18.59l7.72-7.72 1.47 1.35L5.41 20z\"/>\n",
              "  </svg>\n",
              "      </button>\n",
              "      \n",
              "  <style>\n",
              "    .colab-df-container {\n",
              "      display:flex;\n",
              "      flex-wrap:wrap;\n",
              "      gap: 12px;\n",
              "    }\n",
              "\n",
              "    .colab-df-convert {\n",
              "      background-color: #E8F0FE;\n",
              "      border: none;\n",
              "      border-radius: 50%;\n",
              "      cursor: pointer;\n",
              "      display: none;\n",
              "      fill: #1967D2;\n",
              "      height: 32px;\n",
              "      padding: 0 0 0 0;\n",
              "      width: 32px;\n",
              "    }\n",
              "\n",
              "    .colab-df-convert:hover {\n",
              "      background-color: #E2EBFA;\n",
              "      box-shadow: 0px 1px 2px rgba(60, 64, 67, 0.3), 0px 1px 3px 1px rgba(60, 64, 67, 0.15);\n",
              "      fill: #174EA6;\n",
              "    }\n",
              "\n",
              "    [theme=dark] .colab-df-convert {\n",
              "      background-color: #3B4455;\n",
              "      fill: #D2E3FC;\n",
              "    }\n",
              "\n",
              "    [theme=dark] .colab-df-convert:hover {\n",
              "      background-color: #434B5C;\n",
              "      box-shadow: 0px 1px 3px 1px rgba(0, 0, 0, 0.15);\n",
              "      filter: drop-shadow(0px 1px 2px rgba(0, 0, 0, 0.3));\n",
              "      fill: #FFFFFF;\n",
              "    }\n",
              "  </style>\n",
              "\n",
              "      <script>\n",
              "        const buttonEl =\n",
              "          document.querySelector('#df-73fcb9e1-c42d-4704-b67c-70b54539b410 button.colab-df-convert');\n",
              "        buttonEl.style.display =\n",
              "          google.colab.kernel.accessAllowed ? 'block' : 'none';\n",
              "\n",
              "        async function convertToInteractive(key) {\n",
              "          const element = document.querySelector('#df-73fcb9e1-c42d-4704-b67c-70b54539b410');\n",
              "          const dataTable =\n",
              "            await google.colab.kernel.invokeFunction('convertToInteractive',\n",
              "                                                     [key], {});\n",
              "          if (!dataTable) return;\n",
              "\n",
              "          const docLinkHtml = 'Like what you see? Visit the ' +\n",
              "            '<a target=\"_blank\" href=https://colab.research.google.com/notebooks/data_table.ipynb>data table notebook</a>'\n",
              "            + ' to learn more about interactive tables.';\n",
              "          element.innerHTML = '';\n",
              "          dataTable['output_type'] = 'display_data';\n",
              "          await google.colab.output.renderOutput(dataTable, element);\n",
              "          const docLink = document.createElement('div');\n",
              "          docLink.innerHTML = docLinkHtml;\n",
              "          element.appendChild(docLink);\n",
              "        }\n",
              "      </script>\n",
              "    </div>\n",
              "  </div>\n",
              "  "
            ]
          },
          "metadata": {},
          "execution_count": 13
        }
      ]
    },
    {
      "cell_type": "code",
      "source": [
        "from sklearn.utils import shuffle\n",
        "\n",
        "    \n",
        "def datapartition(dataset,col):\n",
        "    #Split data into a test and training set\n",
        "    X = np.array(dataset[col].tolist())\n",
        "    y = np.array(dataset['2_way_label'])\n",
        "    \n",
        "    if col == 'images':\n",
        "      #scaling the features\n",
        "      X = X/255.0\n",
        "\n",
        "    return X,y\n",
        "    \n",
        "    \n",
        "\n",
        "# split the data after normalizing and reshaping using helper function\n",
        "\n",
        "X_train_img, y_train_img= datapartition(df_train,'images')\n",
        "print(\"Train data size: \", X_train_img.shape, y_train_img.shape)\n",
        "\n",
        "X_test_img, y_test_img= datapartition(df_test,'images')\n",
        "print(\"test data size: \", X_test_img.shape, y_test_img.shape)"
      ],
      "metadata": {
        "colab": {
          "base_uri": "https://localhost:8080/"
        },
        "id": "-r4pHarOcL4Q",
        "outputId": "78177330-d939-4ba3-f899-e967e18886c0"
      },
      "execution_count": 14,
      "outputs": [
        {
          "output_type": "stream",
          "name": "stdout",
          "text": [
            "Train data size:  (2488, 224, 224, 3) (2488,)\n",
            "test data size:  (345, 224, 224, 3) (345,)\n"
          ]
        }
      ]
    },
    {
      "cell_type": "code",
      "source": [
        "import random\n",
        "from keras.applications import vgg16\n",
        "\n",
        "# Pretrained convolutional layers are loaded using the Imagenet weights.\n",
        "# Include_top is set to False, in order to exclude the model's fully-connected layers.\n",
        "\n",
        "\n",
        "conv_base = vgg16.VGG16(weights='imagenet',\n",
        "                  include_top=False,\n",
        "                  input_shape=(224,224,3)\n",
        "                 )\n",
        "\n",
        "conv_base.summary()"
      ],
      "metadata": {
        "id": "Nkq1m982lK3L",
        "colab": {
          "base_uri": "https://localhost:8080/"
        },
        "outputId": "20dbef11-ccd1-4b77-f6bd-674c74216c92"
      },
      "execution_count": 15,
      "outputs": [
        {
          "output_type": "stream",
          "name": "stdout",
          "text": [
            "Downloading data from https://storage.googleapis.com/tensorflow/keras-applications/vgg16/vgg16_weights_tf_dim_ordering_tf_kernels_notop.h5\n",
            "58889256/58889256 [==============================] - 0s 0us/step\n",
            "Model: \"vgg16\"\n",
            "_________________________________________________________________\n",
            " Layer (type)                Output Shape              Param #   \n",
            "=================================================================\n",
            " input_1 (InputLayer)        [(None, 224, 224, 3)]     0         \n",
            "                                                                 \n",
            " block1_conv1 (Conv2D)       (None, 224, 224, 64)      1792      \n",
            "                                                                 \n",
            " block1_conv2 (Conv2D)       (None, 224, 224, 64)      36928     \n",
            "                                                                 \n",
            " block1_pool (MaxPooling2D)  (None, 112, 112, 64)      0         \n",
            "                                                                 \n",
            " block2_conv1 (Conv2D)       (None, 112, 112, 128)     73856     \n",
            "                                                                 \n",
            " block2_conv2 (Conv2D)       (None, 112, 112, 128)     147584    \n",
            "                                                                 \n",
            " block2_pool (MaxPooling2D)  (None, 56, 56, 128)       0         \n",
            "                                                                 \n",
            " block3_conv1 (Conv2D)       (None, 56, 56, 256)       295168    \n",
            "                                                                 \n",
            " block3_conv2 (Conv2D)       (None, 56, 56, 256)       590080    \n",
            "                                                                 \n",
            " block3_conv3 (Conv2D)       (None, 56, 56, 256)       590080    \n",
            "                                                                 \n",
            " block3_pool (MaxPooling2D)  (None, 28, 28, 256)       0         \n",
            "                                                                 \n",
            " block4_conv1 (Conv2D)       (None, 28, 28, 512)       1180160   \n",
            "                                                                 \n",
            " block4_conv2 (Conv2D)       (None, 28, 28, 512)       2359808   \n",
            "                                                                 \n",
            " block4_conv3 (Conv2D)       (None, 28, 28, 512)       2359808   \n",
            "                                                                 \n",
            " block4_pool (MaxPooling2D)  (None, 14, 14, 512)       0         \n",
            "                                                                 \n",
            " block5_conv1 (Conv2D)       (None, 14, 14, 512)       2359808   \n",
            "                                                                 \n",
            " block5_conv2 (Conv2D)       (None, 14, 14, 512)       2359808   \n",
            "                                                                 \n",
            " block5_conv3 (Conv2D)       (None, 14, 14, 512)       2359808   \n",
            "                                                                 \n",
            " block5_pool (MaxPooling2D)  (None, 7, 7, 512)         0         \n",
            "                                                                 \n",
            "=================================================================\n",
            "Total params: 14,714,688\n",
            "Trainable params: 14,714,688\n",
            "Non-trainable params: 0\n",
            "_________________________________________________________________\n"
          ]
        }
      ]
    },
    {
      "cell_type": "code",
      "source": [
        "# Extract training feature map from vgg16 conv_base\n",
        "train_featuremap = conv_base.predict(X_train_img)\n",
        "test_featuremap = conv_base.predict(X_test_img) "
      ],
      "metadata": {
        "colab": {
          "base_uri": "https://localhost:8080/"
        },
        "id": "m0ijBy_v6uWw",
        "outputId": "b265ff56-53d9-4371-a421-50ea6f98b46b"
      },
      "execution_count": 16,
      "outputs": [
        {
          "output_type": "stream",
          "name": "stdout",
          "text": [
            "78/78 [==============================] - 1128s 14s/step\n",
            "11/11 [==============================] - 156s 14s/step\n"
          ]
        }
      ]
    },
    {
      "cell_type": "code",
      "source": [
        "train_features = np.array(train_featuremap)\n",
        "train_features = train_features.reshape((-1,7,7,512))\n",
        "\n",
        "test_features = np.array(test_featuremap)\n",
        "test_features = test_features.reshape((-1,7,7,512))\n",
        "\n",
        "'''\n",
        "reshape_y = 7 * 7 * 512\n",
        "\n",
        "nb_train_samples = train_featuremap.shape[0]\n",
        "nb_test_samples = test_featuremap.shape[0] \n",
        "\n",
        "# Shape data\n",
        "reshape_y = 7 * 7 * 512\n",
        "\n",
        "train_features = np.reshape(train_featuremap, (nb_train_samples, reshape_y))\n",
        "test_features = np.reshape(test_featuremap, (nb_test_samples, reshape_y))\n",
        "'''"
      ],
      "metadata": {
        "colab": {
          "base_uri": "https://localhost:8080/",
          "height": 71
        },
        "id": "Gvwxxqs7EWNU",
        "outputId": "eddabe6c-fb21-49d0-db6f-01dd289b3df8"
      },
      "execution_count": 17,
      "outputs": [
        {
          "output_type": "execute_result",
          "data": {
            "text/plain": [
              "'\\nreshape_y = 7 * 7 * 512\\n\\nnb_train_samples = train_featuremap.shape[0]\\nnb_test_samples = test_featuremap.shape[0] \\n\\n# Shape data\\nreshape_y = 7 * 7 * 512\\n\\ntrain_features = np.reshape(train_featuremap, (nb_train_samples, reshape_y))\\ntest_features = np.reshape(test_featuremap, (nb_test_samples, reshape_y))\\n'"
            ],
            "application/vnd.google.colaboratory.intrinsic+json": {
              "type": "string"
            }
          },
          "metadata": {},
          "execution_count": 17
        }
      ]
    },
    {
      "cell_type": "code",
      "source": [
        "from keras.models import Sequential, load_model\n",
        "from keras.callbacks import EarlyStopping\n",
        "from keras.layers import Conv2D, MaxPooling2D\n",
        "from keras.layers import Activation, Dropout, Flatten, Dense\n",
        "\n",
        "def create_model(input):\n",
        "\n",
        "  # Build classifier on top of  VGG19\n",
        "  x = Flatten()(input)\n",
        "  x = Dense(128, activation='relu')(x)\n",
        "\n",
        "  return x\n",
        "\n",
        "\n"
      ],
      "metadata": {
        "id": "7lvC-SRj7AcH"
      },
      "execution_count": 18,
      "outputs": []
    },
    {
      "cell_type": "code",
      "source": [
        "\n",
        "# create image input\n",
        "from keras.layers import Input\n",
        "\n",
        "input_shape = (7,7,512)\n",
        "\n",
        "input = Input(shape=(7,7,512), name=\"vgg_input\")\n",
        "\n",
        "image_output = create_model(input)\n",
        "image_output"
      ],
      "metadata": {
        "id": "jETAX-Arm2px",
        "colab": {
          "base_uri": "https://localhost:8080/"
        },
        "outputId": "ea453e23-87f2-43a4-c87b-89d04f594c1c"
      },
      "execution_count": 19,
      "outputs": [
        {
          "output_type": "execute_result",
          "data": {
            "text/plain": [
              "<KerasTensor: shape=(None, 128) dtype=float32 (created by layer 'dense')>"
            ]
          },
          "metadata": {},
          "execution_count": 19
        }
      ]
    },
    {
      "cell_type": "code",
      "source": [
        "#evaluating model on image data\n",
        "\n",
        "image_output = Dense(16)(image_output)\n",
        "output = Dense(1, name='output_layer', activation='sigmoid')(image_output)\n",
        "\n",
        "# To define the model, pass list of input layers\n",
        "model_cnn_img = Model(inputs=input, outputs=output)\n",
        "\n",
        "model_cnn_img.compile(optimizer=optimizers.RMSprop(lr=5e-6),\n",
        "              loss='binary_crossentropy',\n",
        "              metrics=['acc'])\n",
        "\n",
        "# To fit the model, pass a list of inputs arrays\n",
        "model_cnn_img.fit(x=train_features,y=y_train_img,epochs=5,\n",
        "                    batch_size=16,\n",
        "                    validation_split=0.2)"
      ],
      "metadata": {
        "colab": {
          "base_uri": "https://localhost:8080/"
        },
        "id": "5WAmLH47pfIb",
        "outputId": "61ee1325-abb4-424d-9657-be2c1ad1b1d6"
      },
      "execution_count": 20,
      "outputs": [
        {
          "output_type": "stream",
          "name": "stdout",
          "text": [
            "Epoch 1/5\n",
            "125/125 [==============================] - 5s 32ms/step - loss: 0.6960 - acc: 0.5477 - val_loss: 0.6907 - val_acc: 0.5382\n",
            "Epoch 2/5\n",
            "125/125 [==============================] - 4s 32ms/step - loss: 0.6465 - acc: 0.6221 - val_loss: 0.6790 - val_acc: 0.5703\n",
            "Epoch 3/5\n",
            "125/125 [==============================] - 4s 30ms/step - loss: 0.6135 - acc: 0.6668 - val_loss: 0.6749 - val_acc: 0.5663\n",
            "Epoch 4/5\n",
            "125/125 [==============================] - 4s 30ms/step - loss: 0.5874 - acc: 0.6930 - val_loss: 0.6789 - val_acc: 0.5542\n",
            "Epoch 5/5\n",
            "125/125 [==============================] - 4s 31ms/step - loss: 0.5601 - acc: 0.7166 - val_loss: 0.6661 - val_acc: 0.5984\n"
          ]
        },
        {
          "output_type": "execute_result",
          "data": {
            "text/plain": [
              "<keras.callbacks.History at 0x7f4ea01fb640>"
            ]
          },
          "metadata": {},
          "execution_count": 20
        }
      ]
    },
    {
      "cell_type": "code",
      "source": [
        "#predictions on test data\n",
        "predictions = model_cnn_img.predict(test_features)\n",
        "print(predictions[:,0])\n",
        "\n",
        "CNN_image_results = getResults(y_test_img, predictions)"
      ],
      "metadata": {
        "id": "iVvVQ0Y-qCMU",
        "colab": {
          "base_uri": "https://localhost:8080/"
        },
        "outputId": "cbdecde6-79c2-47b9-cf1e-23d2d4f72131"
      },
      "execution_count": 21,
      "outputs": [
        {
          "output_type": "stream",
          "name": "stdout",
          "text": [
            "11/11 [==============================] - 0s 8ms/step\n",
            "[0.3096717  0.78853947 0.6253448  0.47557443 0.51825476 0.3376443\n",
            " 0.6026812  0.39074713 0.42151037 0.1851714  0.23284717 0.43417647\n",
            " 0.43774387 0.2110139  0.2682286  0.1139875  0.5404348  0.4326096\n",
            " 0.3932634  0.41016695 0.37996063 0.39625618 0.45009795 0.17555705\n",
            " 0.41807124 0.38206473 0.63952285 0.5538468  0.39294288 0.3126317\n",
            " 0.11745819 0.28075835 0.17668074 0.27496767 0.32599226 0.51267755\n",
            " 0.43112156 0.4441616  0.3378153  0.30952546 0.38946158 0.52949333\n",
            " 0.4015303  0.35632133 0.319533   0.6144918  0.47145998 0.57828647\n",
            " 0.19830166 0.4535248  0.42498943 0.33437848 0.3522543  0.52872413\n",
            " 0.49719307 0.54792213 0.6596728  0.36183292 0.43924737 0.42062563\n",
            " 0.4956569  0.4244626  0.5521602  0.34687075 0.27813485 0.33876196\n",
            " 0.5305701  0.39530376 0.24639694 0.7425855  0.35424933 0.08142886\n",
            " 0.36241522 0.0473098  0.6545513  0.49724028 0.06631579 0.46205983\n",
            " 0.41407737 0.4026693  0.22196823 0.1394503  0.36449972 0.27754298\n",
            " 0.37869304 0.23481439 0.49467608 0.26912123 0.44576344 0.5110223\n",
            " 0.1824214  0.649544   0.61440164 0.78597844 0.49003467 0.3084819\n",
            " 0.24968894 0.3432681  0.38224226 0.4035912  0.5011391  0.51468253\n",
            " 0.26194373 0.44472256 0.78853947 0.52521753 0.7205475  0.41460502\n",
            " 0.16243258 0.60645175 0.24853186 0.19347046 0.23277411 0.34920457\n",
            " 0.19576786 0.42749572 0.3001741  0.5972509  0.7122819  0.22096978\n",
            " 0.54327    0.178461   0.39568815 0.48933378 0.52630687 0.23381709\n",
            " 0.3094579  0.15129583 0.16884866 0.28364086 0.49590278 0.10679967\n",
            " 0.40661174 0.50272804 0.5905248  0.29998395 0.34752622 0.4064634\n",
            " 0.4681633  0.44762093 0.43568534 0.364265   0.07585388 0.5740872\n",
            " 0.5994979  0.48816922 0.21799439 0.5158349  0.57467586 0.51359904\n",
            " 0.5810657  0.17268117 0.7553464  0.28127006 0.35783616 0.6108734\n",
            " 0.48960617 0.53610206 0.56886166 0.31032673 0.4666566  0.4389197\n",
            " 0.34226876 0.69041336 0.424378   0.21927185 0.30258772 0.33546564\n",
            " 0.5183445  0.24457997 0.4081385  0.40359896 0.41113463 0.18495412\n",
            " 0.13034391 0.5549617  0.3760183  0.50229913 0.31081203 0.28859168\n",
            " 0.43271148 0.3554512  0.5058791  0.38168257 0.3385616  0.32831606\n",
            " 0.2446669  0.30437687 0.6761373  0.6758983  0.41927522 0.52691776\n",
            " 0.60340405 0.6169833  0.59537    0.6266498  0.38578364 0.5042416\n",
            " 0.64182454 0.20674017 0.34428915 0.3577923  0.49616137 0.385051\n",
            " 0.5267662  0.14802606 0.26561084 0.30033118 0.53413016 0.42488092\n",
            " 0.40472946 0.5421385  0.22231299 0.20514373 0.23481439 0.332254\n",
            " 0.47249946 0.6708016  0.407097   0.55721337 0.65468335 0.40476772\n",
            " 0.44910687 0.6509418  0.58039224 0.68785733 0.52246    0.42865795\n",
            " 0.34556553 0.38856667 0.45714873 0.2672502  0.42586374 0.3662275\n",
            " 0.34744257 0.6591634  0.18647766 0.39626276 0.24289894 0.61488014\n",
            " 0.5792173  0.3470417  0.3344026  0.47053334 0.32534242 0.54664254\n",
            " 0.29305857 0.15699355 0.5204602  0.5222343  0.35730472 0.2821\n",
            " 0.5770277  0.01771153 0.2140168  0.6875778  0.06097902 0.7057532\n",
            " 0.12353175 0.39758325 0.6649932  0.44530305 0.26142034 0.33808482\n",
            " 0.31619334 0.46667883 0.46278352 0.27979803 0.79805803 0.60895395\n",
            " 0.3407115  0.48997605 0.55691355 0.33555827 0.61671335 0.45935908\n",
            " 0.5784817  0.43434417 0.38319758 0.27297354 0.46767604 0.21211766\n",
            " 0.48746282 0.33624446 0.33120784 0.29881048 0.2579681  0.7544207\n",
            " 0.3631764  0.38254666 0.35206622 0.35514048 0.28534943 0.35286075\n",
            " 0.13262264 0.35575286 0.6100389  0.18435875 0.3968078  0.5467477\n",
            " 0.1409405  0.5500248  0.3995811  0.38204518 0.63530713 0.65504104\n",
            " 0.28000575 0.4558488  0.46171868 0.34322205 0.32102928 0.4591221\n",
            " 0.39836544 0.63940877 0.29319987 0.18124796 0.6121497  0.31030533\n",
            " 0.5323256  0.5862063  0.69410825 0.74086225 0.399174   0.64624053\n",
            " 0.541993   0.31892252 0.606103   0.30810025 0.52684146 0.32032505\n",
            " 0.34365842 0.26797625 0.16937637 0.5219702  0.38880566 0.68310326\n",
            " 0.322264   0.24653894 0.2460818  0.34784716 0.06929696 0.47327462\n",
            " 0.3320554  0.5779519  0.5825261 ]\n",
            "The output here is of the form float, thus we are converting it to binary output based on the following \n",
            "condition if a value is > .5 we assign it with 1 and if a value is <.5 we assign it with 0\n",
            "\n",
            "Converting the ouput to 1D array, and then transformimg the values based on the above condition\n",
            "\n",
            "First 5 values before conversion : [0.3096717  0.78853947 0.6253448  0.47557443 0.51825476]\n",
            "First 5 values after the conversion : [0, 1, 1, 0, 1]\n",
            "\n",
            "========== RESULTS ===========\n",
            "\n",
            "Accuracy : 0.6144927536231884\n",
            "Precision : 0.5728155339805825\n",
            "F1_score : 0.47011952191235057\n",
            "Recall : 0.39864864864864863\n",
            "\n",
            "===== CONFUSION MATRIX =====\n",
            "[[153  44]\n",
            " [ 89  59]]\n"
          ]
        }
      ]
    },
    {
      "cell_type": "markdown",
      "source": [
        "Method to test the Accuracy, Precision, Recall and F1 Score The following method transforms the output to binary values before calculating the scores"
      ],
      "metadata": {
        "id": "QZMFtNdTofn_"
      }
    },
    {
      "cell_type": "markdown",
      "source": [
        "# Text classification\n",
        "\n",
        "The most basic concept is to train textual input directly. The length of each clean title, on the other hand, may vary. As a result, using recurrent layers rather than only dense layers is preferable.Furthermore, we cannot feed words into neural networks. But, most wide-spread solution is to map each word with a number using text preprocessors.\n",
        "\n",
        "There is an Embedding layer in Keras that associates a vector with each input given vocabulary length. Then we add one LSTM and three Dense layers."
      ],
      "metadata": {
        "id": "ufV0-QpwovmZ"
      }
    },
    {
      "cell_type": "code",
      "source": [
        "df_train= df_train_imgt[['clean_title','2_way_label']]\n",
        "df_test = df_test_imgt[['clean_title','2_way_label']]\n",
        "df_train"
      ],
      "metadata": {
        "id": "FHciPU8Ko1eR",
        "colab": {
          "base_uri": "https://localhost:8080/",
          "height": 419
        },
        "outputId": "61562d1f-5d89-4707-c33c-01be4a847b72"
      },
      "execution_count": 22,
      "outputs": [
        {
          "output_type": "execute_result",
          "data": {
            "text/plain": [
              "                                            clean_title  2_way_label\n",
              "345     how to annoy four groups of fans with one image            0\n",
              "346                                this super happy cat            1\n",
              "347   film poster for kolberg the last big nazi film...            0\n",
              "348                                             cutouts            0\n",
              "349                                   she took the lead            0\n",
              "...                                                 ...          ...\n",
              "2828  this little robot quite content with being a g...            0\n",
              "2829  gog galaxys subtle recruitment ad developer vi...            1\n",
              "2830                       man thinks his job is secure            0\n",
              "2831  thailand to invite tourists to experience mart...            1\n",
              "2832        my girlfriends hair clip looks like a shark            0\n",
              "\n",
              "[2488 rows x 2 columns]"
            ],
            "text/html": [
              "\n",
              "  <div id=\"df-b7b879ec-e7b8-4208-a3e6-625dde8be846\">\n",
              "    <div class=\"colab-df-container\">\n",
              "      <div>\n",
              "<style scoped>\n",
              "    .dataframe tbody tr th:only-of-type {\n",
              "        vertical-align: middle;\n",
              "    }\n",
              "\n",
              "    .dataframe tbody tr th {\n",
              "        vertical-align: top;\n",
              "    }\n",
              "\n",
              "    .dataframe thead th {\n",
              "        text-align: right;\n",
              "    }\n",
              "</style>\n",
              "<table border=\"1\" class=\"dataframe\">\n",
              "  <thead>\n",
              "    <tr style=\"text-align: right;\">\n",
              "      <th></th>\n",
              "      <th>clean_title</th>\n",
              "      <th>2_way_label</th>\n",
              "    </tr>\n",
              "  </thead>\n",
              "  <tbody>\n",
              "    <tr>\n",
              "      <th>345</th>\n",
              "      <td>how to annoy four groups of fans with one image</td>\n",
              "      <td>0</td>\n",
              "    </tr>\n",
              "    <tr>\n",
              "      <th>346</th>\n",
              "      <td>this super happy cat</td>\n",
              "      <td>1</td>\n",
              "    </tr>\n",
              "    <tr>\n",
              "      <th>347</th>\n",
              "      <td>film poster for kolberg the last big nazi film...</td>\n",
              "      <td>0</td>\n",
              "    </tr>\n",
              "    <tr>\n",
              "      <th>348</th>\n",
              "      <td>cutouts</td>\n",
              "      <td>0</td>\n",
              "    </tr>\n",
              "    <tr>\n",
              "      <th>349</th>\n",
              "      <td>she took the lead</td>\n",
              "      <td>0</td>\n",
              "    </tr>\n",
              "    <tr>\n",
              "      <th>...</th>\n",
              "      <td>...</td>\n",
              "      <td>...</td>\n",
              "    </tr>\n",
              "    <tr>\n",
              "      <th>2828</th>\n",
              "      <td>this little robot quite content with being a g...</td>\n",
              "      <td>0</td>\n",
              "    </tr>\n",
              "    <tr>\n",
              "      <th>2829</th>\n",
              "      <td>gog galaxys subtle recruitment ad developer vi...</td>\n",
              "      <td>1</td>\n",
              "    </tr>\n",
              "    <tr>\n",
              "      <th>2830</th>\n",
              "      <td>man thinks his job is secure</td>\n",
              "      <td>0</td>\n",
              "    </tr>\n",
              "    <tr>\n",
              "      <th>2831</th>\n",
              "      <td>thailand to invite tourists to experience mart...</td>\n",
              "      <td>1</td>\n",
              "    </tr>\n",
              "    <tr>\n",
              "      <th>2832</th>\n",
              "      <td>my girlfriends hair clip looks like a shark</td>\n",
              "      <td>0</td>\n",
              "    </tr>\n",
              "  </tbody>\n",
              "</table>\n",
              "<p>2488 rows × 2 columns</p>\n",
              "</div>\n",
              "      <button class=\"colab-df-convert\" onclick=\"convertToInteractive('df-b7b879ec-e7b8-4208-a3e6-625dde8be846')\"\n",
              "              title=\"Convert this dataframe to an interactive table.\"\n",
              "              style=\"display:none;\">\n",
              "        \n",
              "  <svg xmlns=\"http://www.w3.org/2000/svg\" height=\"24px\"viewBox=\"0 0 24 24\"\n",
              "       width=\"24px\">\n",
              "    <path d=\"M0 0h24v24H0V0z\" fill=\"none\"/>\n",
              "    <path d=\"M18.56 5.44l.94 2.06.94-2.06 2.06-.94-2.06-.94-.94-2.06-.94 2.06-2.06.94zm-11 1L8.5 8.5l.94-2.06 2.06-.94-2.06-.94L8.5 2.5l-.94 2.06-2.06.94zm10 10l.94 2.06.94-2.06 2.06-.94-2.06-.94-.94-2.06-.94 2.06-2.06.94z\"/><path d=\"M17.41 7.96l-1.37-1.37c-.4-.4-.92-.59-1.43-.59-.52 0-1.04.2-1.43.59L10.3 9.45l-7.72 7.72c-.78.78-.78 2.05 0 2.83L4 21.41c.39.39.9.59 1.41.59.51 0 1.02-.2 1.41-.59l7.78-7.78 2.81-2.81c.8-.78.8-2.07 0-2.86zM5.41 20L4 18.59l7.72-7.72 1.47 1.35L5.41 20z\"/>\n",
              "  </svg>\n",
              "      </button>\n",
              "      \n",
              "  <style>\n",
              "    .colab-df-container {\n",
              "      display:flex;\n",
              "      flex-wrap:wrap;\n",
              "      gap: 12px;\n",
              "    }\n",
              "\n",
              "    .colab-df-convert {\n",
              "      background-color: #E8F0FE;\n",
              "      border: none;\n",
              "      border-radius: 50%;\n",
              "      cursor: pointer;\n",
              "      display: none;\n",
              "      fill: #1967D2;\n",
              "      height: 32px;\n",
              "      padding: 0 0 0 0;\n",
              "      width: 32px;\n",
              "    }\n",
              "\n",
              "    .colab-df-convert:hover {\n",
              "      background-color: #E2EBFA;\n",
              "      box-shadow: 0px 1px 2px rgba(60, 64, 67, 0.3), 0px 1px 3px 1px rgba(60, 64, 67, 0.15);\n",
              "      fill: #174EA6;\n",
              "    }\n",
              "\n",
              "    [theme=dark] .colab-df-convert {\n",
              "      background-color: #3B4455;\n",
              "      fill: #D2E3FC;\n",
              "    }\n",
              "\n",
              "    [theme=dark] .colab-df-convert:hover {\n",
              "      background-color: #434B5C;\n",
              "      box-shadow: 0px 1px 3px 1px rgba(0, 0, 0, 0.15);\n",
              "      filter: drop-shadow(0px 1px 2px rgba(0, 0, 0, 0.3));\n",
              "      fill: #FFFFFF;\n",
              "    }\n",
              "  </style>\n",
              "\n",
              "      <script>\n",
              "        const buttonEl =\n",
              "          document.querySelector('#df-b7b879ec-e7b8-4208-a3e6-625dde8be846 button.colab-df-convert');\n",
              "        buttonEl.style.display =\n",
              "          google.colab.kernel.accessAllowed ? 'block' : 'none';\n",
              "\n",
              "        async function convertToInteractive(key) {\n",
              "          const element = document.querySelector('#df-b7b879ec-e7b8-4208-a3e6-625dde8be846');\n",
              "          const dataTable =\n",
              "            await google.colab.kernel.invokeFunction('convertToInteractive',\n",
              "                                                     [key], {});\n",
              "          if (!dataTable) return;\n",
              "\n",
              "          const docLinkHtml = 'Like what you see? Visit the ' +\n",
              "            '<a target=\"_blank\" href=https://colab.research.google.com/notebooks/data_table.ipynb>data table notebook</a>'\n",
              "            + ' to learn more about interactive tables.';\n",
              "          element.innerHTML = '';\n",
              "          dataTable['output_type'] = 'display_data';\n",
              "          await google.colab.output.renderOutput(dataTable, element);\n",
              "          const docLink = document.createElement('div');\n",
              "          docLink.innerHTML = docLinkHtml;\n",
              "          element.appendChild(docLink);\n",
              "        }\n",
              "      </script>\n",
              "    </div>\n",
              "  </div>\n",
              "  "
            ]
          },
          "metadata": {},
          "execution_count": 22
        }
      ]
    },
    {
      "cell_type": "code",
      "source": [
        "from sklearn.utils import shuffle\n",
        "\n",
        "def xy_data(data):\n",
        "\n",
        "  data = shuffle(data)\n",
        "\n",
        "  data.reset_index(inplace=True, drop=True)\n",
        "\n",
        "  x_features = data['clean_title']\n",
        "  \n",
        "  y = data['2_way_label']\n",
        "  \n",
        "  display(x_features.head())\n",
        "  display(y.head())\n",
        "\n",
        "  return x_features, y\n",
        "\n",
        "X_train_t, y_train_t = xy_data(df_train)\n",
        " \n",
        "X_test_t, y_test_t = xy_data(df_test)"
      ],
      "metadata": {
        "id": "Iq-3oJ9vogFj",
        "colab": {
          "base_uri": "https://localhost:8080/",
          "height": 425
        },
        "outputId": "f06ae6de-40d1-4f6d-bd37-eae9e7427947"
      },
      "execution_count": 23,
      "outputs": [
        {
          "output_type": "display_data",
          "data": {
            "text/plain": [
              "0    can marxist theory predict the end of game of ...\n",
              "1                                     wild stawberries\n",
              "2                                      this car hauler\n",
              "3    even using another router as a joke but after ...\n",
              "4            dr grant always said they came from birds\n",
              "Name: clean_title, dtype: object"
            ]
          },
          "metadata": {}
        },
        {
          "output_type": "display_data",
          "data": {
            "text/plain": [
              "0    1\n",
              "1    1\n",
              "2    1\n",
              "3    0\n",
              "4    0\n",
              "Name: 2_way_label, dtype: int64"
            ]
          },
          "metadata": {}
        },
        {
          "output_type": "display_data",
          "data": {
            "text/plain": [
              "0    old candle separated and leaked onto a pack of...\n",
              "1    this chart in the hotel room that shows when a...\n",
              "2    yuri alekseyevich gagarin becomes the first ma...\n",
              "3         elk foundation rebuked over antiwolf remarks\n",
              "4    kentucky gov matt bevin says bloodshed be need...\n",
              "Name: clean_title, dtype: object"
            ]
          },
          "metadata": {}
        },
        {
          "output_type": "display_data",
          "data": {
            "text/plain": [
              "0    1\n",
              "1    1\n",
              "2    0\n",
              "3    1\n",
              "4    1\n",
              "Name: 2_way_label, dtype: int64"
            ]
          },
          "metadata": {}
        }
      ]
    },
    {
      "cell_type": "code",
      "source": [
        "from keras.preprocessing.text import Tokenizer\n",
        "\n",
        "from keras_preprocessing.sequence import pad_sequences\n",
        "\n",
        "tokenizer = Tokenizer()\n",
        "tokenizer.fit_on_texts(X_train_t)\n",
        "\n",
        "X_train_t = tokenizer.texts_to_sequences(X_train_t)\n",
        "X_test_t = tokenizer.texts_to_sequences(X_test_t)\n",
        "\n",
        "vocab_size = len(tokenizer.word_index) + 1\n",
        "\n",
        "maxlen = 300\n",
        "\n",
        "X_train_t = pad_sequences(X_train_t, padding='post', maxlen=maxlen)\n",
        "X_test_t= pad_sequences(X_test_t, padding='post', maxlen=maxlen)"
      ],
      "metadata": {
        "id": "UcIX-Lx0o_hP"
      },
      "execution_count": 24,
      "outputs": []
    },
    {
      "cell_type": "code",
      "source": [
        "cd '/content/drive/MyDrive/project/'"
      ],
      "metadata": {
        "id": "aplHTtkXClKr",
        "colab": {
          "base_uri": "https://localhost:8080/"
        },
        "outputId": "a10fbc4e-cc11-426f-c4cf-b74fc6940968"
      },
      "execution_count": 25,
      "outputs": [
        {
          "output_type": "stream",
          "name": "stdout",
          "text": [
            "/content/drive/MyDrive/project\n"
          ]
        }
      ]
    },
    {
      "cell_type": "code",
      "source": [
        "\n",
        "embeddings_dictionary = dict()\n",
        "\n",
        "glove_file = open('glove.6B.100d.txt', encoding=\"utf8\")\n",
        "\n",
        "for line in glove_file:\n",
        "    records = line.split()\n",
        "    word = records[0]\n",
        "    vector_dimensions = np.asarray(records[1:], dtype='float32')\n",
        "    embeddings_dictionary[word] = vector_dimensions\n",
        "glove_file.close()\n",
        "\n",
        "embedding_matrix = np.zeros((vocab_size, 100))\n",
        "for word, index in tokenizer.word_index.items():\n",
        "    embedding_vector = embeddings_dictionary.get(word)\n",
        "    if embedding_vector is not None:\n",
        "        embedding_matrix[index] = embedding_vector"
      ],
      "metadata": {
        "id": "evkG3yJb_HS1"
      },
      "execution_count": 26,
      "outputs": []
    },
    {
      "cell_type": "code",
      "source": [
        "from keras.layers import Flatten, LSTM\n",
        "from keras.layers import Embedding\n",
        "from keras.layers import Bidirectional\n",
        "\n",
        "def getBidirectionalModel(text_input):\n",
        "    # Input for variable-length sequences of integers\n",
        "    # Embedding layer\n",
        "    x = Embedding(vocab_size, 100, weights=[embedding_matrix], trainable=False)(text_input)\n",
        "    # Add bidirectional LSTMs\n",
        "    x = Bidirectional(LSTM(128, return_sequences=True))(x)\n",
        "    x = Bidirectional(LSTM(128))(x)\n",
        "\n",
        "    return x\n",
        "# create image input\n",
        "from keras.layers import Input\n",
        "\n",
        "text_input = Input(shape=(maxlen,))\n",
        "\n",
        "text_output = getBidirectionalModel(text_input)"
      ],
      "metadata": {
        "id": "tAGuUyIjC7fV"
      },
      "execution_count": 27,
      "outputs": []
    },
    {
      "cell_type": "code",
      "source": [
        "from keras.layers import Dense\n",
        "\n",
        "dense = Dense(16)(text_output)\n",
        "output = Dense(1, name='output_layer', activation='sigmoid')(dense)\n",
        "\n",
        "# To define the model, pass list of input layers\n",
        "model_cnn_text = Model(inputs=text_input, outputs=output)\n",
        "model_cnn_text.compile(optimizer='adam',\n",
        "              loss='binary_crossentropy',\n",
        "              metrics=['acc'])\n",
        "\n",
        "# To fit the model, pass a list of inputs arrays\n",
        "model_cnn_text.fit(x=X_train_t,y=y_train_t,epochs=5,\n",
        "                    batch_size=16,\n",
        "                    validation_split=0.2)"
      ],
      "metadata": {
        "id": "vqUUi38IpCgz",
        "colab": {
          "base_uri": "https://localhost:8080/"
        },
        "outputId": "f05face1-4dd4-48cb-88c8-9b2c21a5bb87"
      },
      "execution_count": 28,
      "outputs": [
        {
          "output_type": "stream",
          "name": "stdout",
          "text": [
            "Epoch 1/5\n",
            "125/125 [==============================] - 166s 1s/step - loss: 0.5823 - acc: 0.6960 - val_loss: 0.5357 - val_acc: 0.7410\n",
            "Epoch 2/5\n",
            "125/125 [==============================] - 161s 1s/step - loss: 0.4836 - acc: 0.7734 - val_loss: 0.4110 - val_acc: 0.8253\n",
            "Epoch 3/5\n",
            "125/125 [==============================] - 159s 1s/step - loss: 0.4296 - acc: 0.8136 - val_loss: 0.3943 - val_acc: 0.8373\n",
            "Epoch 4/5\n",
            "125/125 [==============================] - 156s 1s/step - loss: 0.3689 - acc: 0.8382 - val_loss: 0.3918 - val_acc: 0.8293\n",
            "Epoch 5/5\n",
            "125/125 [==============================] - 157s 1s/step - loss: 0.3119 - acc: 0.8668 - val_loss: 0.4447 - val_acc: 0.8052\n"
          ]
        },
        {
          "output_type": "execute_result",
          "data": {
            "text/plain": [
              "<keras.callbacks.History at 0x7f4e98fd8100>"
            ]
          },
          "metadata": {},
          "execution_count": 28
        }
      ]
    },
    {
      "cell_type": "code",
      "source": [
        "#predictions on test data\n",
        "predictions = model_cnn_text.predict(X_test_t)\n",
        "print(predictions[:,0])\n",
        "\n",
        "CNN_text_results = getResults(y_test_t, predictions)"
      ],
      "metadata": {
        "id": "9rawce4aq-nL",
        "colab": {
          "base_uri": "https://localhost:8080/"
        },
        "outputId": "b47f7fda-744b-4767-ecd9-b7965f4fa554"
      },
      "execution_count": 29,
      "outputs": [
        {
          "output_type": "stream",
          "name": "stdout",
          "text": [
            "11/11 [==============================] - 8s 595ms/step\n",
            "[9.54381764e-01 9.22405303e-01 1.59479186e-01 8.95666406e-02\n",
            " 9.02360141e-01 1.51991129e-01 1.33361056e-01 3.23869549e-02\n",
            " 7.00950846e-02 3.54891688e-01 8.99210572e-03 5.08153345e-03\n",
            " 6.60764351e-02 4.49951626e-02 2.03796461e-01 5.08153345e-03\n",
            " 6.60764351e-02 8.79168510e-01 3.49192396e-02 9.69828572e-03\n",
            " 1.27555849e-02 1.31588310e-01 3.48298132e-01 1.50672898e-01\n",
            " 1.16802745e-01 4.10112321e-01 2.37580270e-01 9.53551114e-01\n",
            " 6.66566193e-01 5.23106694e-01 7.15107769e-02 4.47708443e-02\n",
            " 3.41539413e-01 9.41110551e-02 2.36883014e-01 7.46664107e-02\n",
            " 1.82040170e-01 3.69831532e-01 3.69118392e-01 3.97612603e-04\n",
            " 6.69889033e-01 2.83228636e-01 1.85914069e-01 7.22120404e-02\n",
            " 2.03578457e-01 9.65068400e-01 6.57306135e-01 7.16546237e-01\n",
            " 1.02138288e-01 1.04814366e-01 6.18322287e-04 8.00269619e-02\n",
            " 3.82562466e-02 5.68894088e-01 5.93593437e-03 6.59473706e-03\n",
            " 9.35873866e-01 4.05963277e-03 4.44081008e-01 3.33348960e-01\n",
            " 1.73294973e-02 5.85099638e-01 1.34573609e-01 7.33248949e-01\n",
            " 1.80087984e-01 7.64167681e-02 1.36237130e-01 6.85387999e-02\n",
            " 4.84124497e-02 5.74448481e-02 1.80564094e-02 1.53555349e-01\n",
            " 7.71721482e-01 3.43341799e-03 1.88913327e-02 3.66364390e-01\n",
            " 1.75311357e-01 1.88942980e-02 2.82090884e-02 1.24178536e-01\n",
            " 7.97829211e-01 6.80766767e-04 5.31539142e-01 3.09197754e-01\n",
            " 7.99385533e-02 3.93961510e-03 7.84887671e-01 6.60764351e-02\n",
            " 5.08665740e-01 1.46015108e-01 6.42777130e-04 1.60464972e-01\n",
            " 3.56835842e-01 2.86344369e-03 9.06057119e-01 7.15982988e-02\n",
            " 5.78275882e-02 2.64077485e-01 5.20896614e-01 3.69362235e-01\n",
            " 8.77190009e-02 2.61753630e-02 8.73225257e-02 1.20857865e-01\n",
            " 4.51043099e-01 4.78626639e-02 6.60764351e-02 1.00374594e-01\n",
            " 2.80362040e-01 2.45456249e-02 6.39488548e-02 8.83036911e-01\n",
            " 1.15125417e-03 2.34403908e-01 3.32814127e-01 3.38042915e-01\n",
            " 1.40360966e-02 1.29188597e-01 7.02968061e-01 8.84372532e-01\n",
            " 1.78295486e-02 8.79546441e-03 1.52146397e-02 8.47173989e-01\n",
            " 1.87398478e-01 1.27874389e-01 6.35658979e-01 2.52754055e-02\n",
            " 1.39503181e-02 5.58688462e-01 8.41436982e-01 7.64044344e-01\n",
            " 1.55160829e-01 3.56332868e-01 8.35334837e-01 8.61822516e-02\n",
            " 3.47496688e-01 1.28703177e-01 9.04585719e-01 6.60764351e-02\n",
            " 8.65138136e-03 1.15994392e-02 7.73700029e-02 7.77847052e-01\n",
            " 5.65946475e-02 7.85004318e-01 2.26423759e-02 1.64071947e-01\n",
            " 5.81491701e-02 6.30969107e-02 3.43946740e-02 5.85041761e-01\n",
            " 3.45658213e-01 1.83626972e-02 6.60764351e-02 9.42923486e-01\n",
            " 9.27216351e-01 1.02632478e-01 8.11597109e-01 3.35661583e-02\n",
            " 1.67626143e-02 6.60764351e-02 2.83212006e-01 8.59670341e-01\n",
            " 6.92222297e-01 3.53877187e-01 4.68875188e-03 6.58386648e-01\n",
            " 5.78095727e-02 1.34259963e-03 9.51881170e-01 6.11504734e-01\n",
            " 7.46389329e-01 8.47310424e-01 4.96246785e-01 3.81055586e-02\n",
            " 9.48190570e-01 1.27148803e-03 5.08153345e-03 8.78957193e-03\n",
            " 6.94033146e-01 9.12013888e-01 4.96124476e-01 9.39330518e-01\n",
            " 2.09438894e-02 6.67228281e-01 2.89378762e-01 2.59152234e-01\n",
            " 7.18857527e-01 7.08539709e-02 3.29362065e-01 6.36759698e-01\n",
            " 6.61037266e-02 6.60764351e-02 3.36334735e-01 9.76236239e-02\n",
            " 9.02125120e-01 5.69438696e-01 5.68120122e-01 6.22475743e-01\n",
            " 3.85981537e-02 5.20339841e-03 6.60764351e-02 4.03704196e-02\n",
            " 1.16207436e-01 8.72100413e-01 4.05079946e-02 6.19279481e-02\n",
            " 3.32625285e-02 8.03951085e-01 6.60764351e-02 3.90702218e-01\n",
            " 2.83983916e-01 4.61989403e-01 3.38470072e-01 7.51517713e-02\n",
            " 3.99136879e-02 1.66713580e-01 2.07450807e-01 1.72851700e-02\n",
            " 6.41325533e-01 5.59839129e-01 1.63134009e-01 3.48726332e-01\n",
            " 1.44570783e-01 1.69643819e-01 2.96541099e-02 5.86390309e-02\n",
            " 5.12918830e-01 9.05696392e-01 2.79297262e-01 8.18800554e-02\n",
            " 2.83185355e-02 4.71330481e-03 6.90488471e-03 4.32231814e-01\n",
            " 4.81681585e-01 7.78776407e-02 6.60764351e-02 1.26096591e-01\n",
            " 8.94196890e-03 2.10742489e-01 1.67702705e-01 2.96424925e-02\n",
            " 6.10579625e-02 9.31380033e-01 9.53017950e-01 5.81138954e-02\n",
            " 2.11695194e-01 1.24567807e-01 2.32345834e-01 6.60764351e-02\n",
            " 1.53228664e-03 3.24341847e-04 5.43423593e-01 3.13957222e-04\n",
            " 8.77813611e-04 6.02484047e-01 9.79393303e-01 4.44779359e-02\n",
            " 6.60764351e-02 9.31198716e-01 4.37289894e-01 2.58107204e-02\n",
            " 3.29362124e-01 1.94925368e-02 8.87046576e-01 4.67159338e-02\n",
            " 7.26690218e-02 2.53587849e-02 6.60764351e-02 9.02974486e-01\n",
            " 7.63788402e-01 4.17591691e-01 3.80811770e-03 9.03357625e-01\n",
            " 8.97374213e-01 1.69657189e-02 1.26155451e-01 7.66986012e-01\n",
            " 1.76584627e-02 9.69642401e-01 1.11957435e-02 4.92031798e-02\n",
            " 7.17430636e-02 2.01524839e-01 1.21007502e-01 5.96928060e-01\n",
            " 7.21371733e-03 1.03794113e-02 6.40622899e-02 1.75935268e-01\n",
            " 9.05219186e-03 9.19797778e-01 3.97557653e-02 6.60764351e-02\n",
            " 5.01787245e-01 9.96130751e-04 2.57993937e-01 6.60764351e-02\n",
            " 4.71330481e-03 1.41035870e-01 1.10327624e-01 7.60981500e-01\n",
            " 1.54038221e-01 6.60764351e-02 2.67615169e-01 9.19213057e-01\n",
            " 8.00522268e-01 6.18742704e-02 8.81519198e-01 4.49951626e-02\n",
            " 2.41418015e-02 1.82567328e-01 9.55711380e-02 7.50613213e-01\n",
            " 3.52410614e-01 6.43638894e-02 3.80235821e-01 1.36318684e-01\n",
            " 3.96537259e-02 6.60192817e-02 7.61405453e-02 4.79865491e-01\n",
            " 4.14487831e-02 8.88064951e-02 8.10272515e-01 8.65533948e-01\n",
            " 2.48992682e-01 9.18616235e-01 2.20475215e-02 2.05590520e-02\n",
            " 2.09842950e-01 2.31384411e-01 9.11218584e-01 2.94498354e-01\n",
            " 2.95702189e-01 5.93252927e-02 1.37941763e-01 7.44466484e-01\n",
            " 4.46523994e-01 2.88267387e-04 1.18807033e-01 5.10719597e-01\n",
            " 3.54032815e-01]\n",
            "The output here is of the form float, thus we are converting it to binary output based on the following \n",
            "condition if a value is > .5 we assign it with 1 and if a value is <.5 we assign it with 0\n",
            "\n",
            "Converting the ouput to 1D array, and then transformimg the values based on the above condition\n",
            "\n",
            "First 5 values before conversion : [0.95438176 0.9224053  0.15947919 0.08956664 0.90236014]\n",
            "First 5 values after the conversion : [1, 1, 0, 0, 1]\n",
            "\n",
            "========== RESULTS ===========\n",
            "\n",
            "Accuracy : 0.7420289855072464\n",
            "Precision : 0.8314606741573034\n",
            "F1_score : 0.6244725738396625\n",
            "Recall : 0.5\n",
            "\n",
            "===== CONFUSION MATRIX =====\n",
            "[[182  15]\n",
            " [ 74  74]]\n"
          ]
        }
      ]
    },
    {
      "cell_type": "markdown",
      "source": [
        "\n",
        "# Multimodal Classification\n",
        "\n",
        "Finally, the results of VGG16 show that images alone are insufficient for news classification. This is due to the image content. When we look at images, we notice that there aren't enough features to identify the respective category.\n",
        "\n",
        "Pre-trained embeddings and CNN models perform better than our base learner approaches. As a result, CNN + VGG16 and GLoVe+BI-LSTM multimodal architectures were trained."
      ],
      "metadata": {
        "id": "djatSTlro9p1"
      }
    },
    {
      "cell_type": "code",
      "source": [
        "from keras.layers import Dense, Concatenate\n",
        "\n",
        "# Concatenate the features\n",
        "concatenate_layer = Concatenate(name='concatenation')([text_output, image_output]) \n",
        "\n",
        "dense = Dense(16)(concatenate_layer)\n",
        "output = Dense(1, name='output_layer', activation='sigmoid')(dense)\n",
        "\n",
        "# To define the model, pass list of input layers\n",
        "model_cnn = Model(inputs=[ text_input, input], outputs=output)\n",
        "model_cnn.compile(optimizer=\"adam\",\n",
        "              loss='binary_crossentropy',\n",
        "              metrics=['acc'])\n",
        "\n",
        "# To fit the model, pass a list of inputs arrays\n",
        "model_cnn.fit(x=[ X_train_t, train_features], y=y_train_t,epochs=1,\n",
        "                    batch_size=16,\n",
        "                    validation_split=0.2)"
      ],
      "metadata": {
        "id": "cSfhlKXWEAc1",
        "colab": {
          "base_uri": "https://localhost:8080/"
        },
        "outputId": "bff839db-9b1e-4624-8dd0-36452c63f79d"
      },
      "execution_count": 34,
      "outputs": [
        {
          "output_type": "stream",
          "name": "stdout",
          "text": [
            "125/125 [==============================] - 166s 1s/step - loss: 0.2250 - acc: 0.9186 - val_loss: 0.6086 - val_acc: 0.8012\n"
          ]
        },
        {
          "output_type": "execute_result",
          "data": {
            "text/plain": [
              "<keras.callbacks.History at 0x7f4e93f45b80>"
            ]
          },
          "metadata": {},
          "execution_count": 34
        }
      ]
    },
    {
      "cell_type": "code",
      "source": [
        "\n",
        "#predictions on test data\n",
        "predictions = model_cnn.predict([ X_test_t, test_features])\n",
        "\n",
        "CNN_multimodal_results = getResults(y_test_t, predictions)"
      ],
      "metadata": {
        "id": "L49QafRZuWY8",
        "colab": {
          "base_uri": "https://localhost:8080/"
        },
        "outputId": "d736a3ad-0d20-488a-a3d1-1fd983b8f09d"
      },
      "execution_count": 35,
      "outputs": [
        {
          "output_type": "stream",
          "name": "stdout",
          "text": [
            "11/11 [==============================] - 8s 590ms/step\n",
            "The output here is of the form float, thus we are converting it to binary output based on the following \n",
            "condition if a value is > .5 we assign it with 1 and if a value is <.5 we assign it with 0\n",
            "\n",
            "Converting the ouput to 1D array, and then transformimg the values based on the above condition\n",
            "\n",
            "First 5 values before conversion : [0.9969937  0.9966341  0.01084068 0.00424604 0.99840546]\n",
            "First 5 values after the conversion : [1, 1, 0, 0, 1]\n",
            "\n",
            "========== RESULTS ===========\n",
            "\n",
            "Accuracy : 0.7681159420289855\n",
            "Precision : 0.7236842105263158\n",
            "F1_score : 0.7333333333333334\n",
            "Recall : 0.7432432432432432\n",
            "\n",
            "===== CONFUSION MATRIX =====\n",
            "[[155  42]\n",
            " [ 38 110]]\n"
          ]
        }
      ]
    },
    {
      "cell_type": "code",
      "source": [
        "# create dataframe with results from above models\n",
        "\n",
        "columns = ['Modality','Accuracy','Precision','F1-score','Recall']\n",
        "\n",
        "df_results = pd.DataFrame(columns =columns)\n",
        "\n",
        "def results_data(scores, df, modality):\n",
        "\n",
        "  # generating data to tabulate results\n",
        "  scores =list(scores) \n",
        "  scores.insert(0,modality)\n",
        "\n",
        "  #append the score to dataframe\n",
        "  df = df.append(pd.DataFrame(np.array(scores).reshape(1,-1), columns=list(df)), ignore_index=True)\n",
        "\n",
        "  return df\n",
        "\n",
        "\n",
        "df_results = results_data(CNN_image_results, df_results, 'visual modality' )\n",
        "\n",
        "df_results = results_data(CNN_text_results, df_results, 'textual modality' )\n",
        "\n",
        "df_results = results_data(CNN_multimodal_results, df_results, 'visual + textual modality' )\n"
      ],
      "metadata": {
        "id": "3YXQMEwTadyw"
      },
      "execution_count": 74,
      "outputs": []
    },
    {
      "cell_type": "markdown",
      "source": [
        "**Discussion**\n",
        "\n",
        "Although we obtained good results, the performance is 90% because of the inconsistent data source. Furthermore, due to a lack of computational resources, more advanced models such as ResNet could not be used for image processing. However, it is clear that image features degrade the performance of the better performing text models.\n",
        "\n",
        "But it is clearly seen that the multimodal classification is performing far better than image or text classification models."
      ],
      "metadata": {
        "id": "Npi4t6HijsfY"
      }
    },
    {
      "cell_type": "code",
      "source": [
        "df_results"
      ],
      "metadata": {
        "colab": {
          "base_uri": "https://localhost:8080/",
          "height": 142
        },
        "id": "bxDBuPdkfhtG",
        "outputId": "fd6d1db4-c62b-482c-9e3b-270eca308fd0"
      },
      "execution_count": 76,
      "outputs": [
        {
          "output_type": "execute_result",
          "data": {
            "text/plain": [
              "                    Modality Accuracy Precision F1-score Recall\n",
              "0            visual modality    0.614     0.572    0.470  0.398\n",
              "1           textual modality    0.742     0.831    0.624  0.500\n",
              "2  visual + textual modality    0.768     0.723    0.733  0.743"
            ],
            "text/html": [
              "\n",
              "  <div id=\"df-01c73c15-f602-45cd-99bd-30768c40c1fd\">\n",
              "    <div class=\"colab-df-container\">\n",
              "      <div>\n",
              "<style scoped>\n",
              "    .dataframe tbody tr th:only-of-type {\n",
              "        vertical-align: middle;\n",
              "    }\n",
              "\n",
              "    .dataframe tbody tr th {\n",
              "        vertical-align: top;\n",
              "    }\n",
              "\n",
              "    .dataframe thead th {\n",
              "        text-align: right;\n",
              "    }\n",
              "</style>\n",
              "<table border=\"1\" class=\"dataframe\">\n",
              "  <thead>\n",
              "    <tr style=\"text-align: right;\">\n",
              "      <th></th>\n",
              "      <th>Modality</th>\n",
              "      <th>Accuracy</th>\n",
              "      <th>Precision</th>\n",
              "      <th>F1-score</th>\n",
              "      <th>Recall</th>\n",
              "    </tr>\n",
              "  </thead>\n",
              "  <tbody>\n",
              "    <tr>\n",
              "      <th>0</th>\n",
              "      <td>visual modality</td>\n",
              "      <td>0.614</td>\n",
              "      <td>0.572</td>\n",
              "      <td>0.470</td>\n",
              "      <td>0.398</td>\n",
              "    </tr>\n",
              "    <tr>\n",
              "      <th>1</th>\n",
              "      <td>textual modality</td>\n",
              "      <td>0.742</td>\n",
              "      <td>0.831</td>\n",
              "      <td>0.624</td>\n",
              "      <td>0.500</td>\n",
              "    </tr>\n",
              "    <tr>\n",
              "      <th>2</th>\n",
              "      <td>visual + textual modality</td>\n",
              "      <td>0.768</td>\n",
              "      <td>0.723</td>\n",
              "      <td>0.733</td>\n",
              "      <td>0.743</td>\n",
              "    </tr>\n",
              "  </tbody>\n",
              "</table>\n",
              "</div>\n",
              "      <button class=\"colab-df-convert\" onclick=\"convertToInteractive('df-01c73c15-f602-45cd-99bd-30768c40c1fd')\"\n",
              "              title=\"Convert this dataframe to an interactive table.\"\n",
              "              style=\"display:none;\">\n",
              "        \n",
              "  <svg xmlns=\"http://www.w3.org/2000/svg\" height=\"24px\"viewBox=\"0 0 24 24\"\n",
              "       width=\"24px\">\n",
              "    <path d=\"M0 0h24v24H0V0z\" fill=\"none\"/>\n",
              "    <path d=\"M18.56 5.44l.94 2.06.94-2.06 2.06-.94-2.06-.94-.94-2.06-.94 2.06-2.06.94zm-11 1L8.5 8.5l.94-2.06 2.06-.94-2.06-.94L8.5 2.5l-.94 2.06-2.06.94zm10 10l.94 2.06.94-2.06 2.06-.94-2.06-.94-.94-2.06-.94 2.06-2.06.94z\"/><path d=\"M17.41 7.96l-1.37-1.37c-.4-.4-.92-.59-1.43-.59-.52 0-1.04.2-1.43.59L10.3 9.45l-7.72 7.72c-.78.78-.78 2.05 0 2.83L4 21.41c.39.39.9.59 1.41.59.51 0 1.02-.2 1.41-.59l7.78-7.78 2.81-2.81c.8-.78.8-2.07 0-2.86zM5.41 20L4 18.59l7.72-7.72 1.47 1.35L5.41 20z\"/>\n",
              "  </svg>\n",
              "      </button>\n",
              "      \n",
              "  <style>\n",
              "    .colab-df-container {\n",
              "      display:flex;\n",
              "      flex-wrap:wrap;\n",
              "      gap: 12px;\n",
              "    }\n",
              "\n",
              "    .colab-df-convert {\n",
              "      background-color: #E8F0FE;\n",
              "      border: none;\n",
              "      border-radius: 50%;\n",
              "      cursor: pointer;\n",
              "      display: none;\n",
              "      fill: #1967D2;\n",
              "      height: 32px;\n",
              "      padding: 0 0 0 0;\n",
              "      width: 32px;\n",
              "    }\n",
              "\n",
              "    .colab-df-convert:hover {\n",
              "      background-color: #E2EBFA;\n",
              "      box-shadow: 0px 1px 2px rgba(60, 64, 67, 0.3), 0px 1px 3px 1px rgba(60, 64, 67, 0.15);\n",
              "      fill: #174EA6;\n",
              "    }\n",
              "\n",
              "    [theme=dark] .colab-df-convert {\n",
              "      background-color: #3B4455;\n",
              "      fill: #D2E3FC;\n",
              "    }\n",
              "\n",
              "    [theme=dark] .colab-df-convert:hover {\n",
              "      background-color: #434B5C;\n",
              "      box-shadow: 0px 1px 3px 1px rgba(0, 0, 0, 0.15);\n",
              "      filter: drop-shadow(0px 1px 2px rgba(0, 0, 0, 0.3));\n",
              "      fill: #FFFFFF;\n",
              "    }\n",
              "  </style>\n",
              "\n",
              "      <script>\n",
              "        const buttonEl =\n",
              "          document.querySelector('#df-01c73c15-f602-45cd-99bd-30768c40c1fd button.colab-df-convert');\n",
              "        buttonEl.style.display =\n",
              "          google.colab.kernel.accessAllowed ? 'block' : 'none';\n",
              "\n",
              "        async function convertToInteractive(key) {\n",
              "          const element = document.querySelector('#df-01c73c15-f602-45cd-99bd-30768c40c1fd');\n",
              "          const dataTable =\n",
              "            await google.colab.kernel.invokeFunction('convertToInteractive',\n",
              "                                                     [key], {});\n",
              "          if (!dataTable) return;\n",
              "\n",
              "          const docLinkHtml = 'Like what you see? Visit the ' +\n",
              "            '<a target=\"_blank\" href=https://colab.research.google.com/notebooks/data_table.ipynb>data table notebook</a>'\n",
              "            + ' to learn more about interactive tables.';\n",
              "          element.innerHTML = '';\n",
              "          dataTable['output_type'] = 'display_data';\n",
              "          await google.colab.output.renderOutput(dataTable, element);\n",
              "          const docLink = document.createElement('div');\n",
              "          docLink.innerHTML = docLinkHtml;\n",
              "          element.appendChild(docLink);\n",
              "        }\n",
              "      </script>\n",
              "    </div>\n",
              "  </div>\n",
              "  "
            ]
          },
          "metadata": {},
          "execution_count": 76
        }
      ]
    },
    {
      "cell_type": "code",
      "source": [],
      "metadata": {
        "id": "iMyoqSFxg7qV"
      },
      "execution_count": null,
      "outputs": []
    }
  ]
}