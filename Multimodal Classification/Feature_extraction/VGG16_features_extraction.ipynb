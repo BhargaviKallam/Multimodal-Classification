{
  "nbformat": 4,
  "nbformat_minor": 0,
  "metadata": {
    "colab": {
      "provenance": []
    },
    "kernelspec": {
      "name": "python3",
      "display_name": "Python 3"
    },
    "language_info": {
      "name": "python"
    }
  },
  "cells": [
    {
      "cell_type": "code",
      "source": [
        "# necessary packages\n",
        "import tensorflow as tf\n",
        "import pickle\n",
        "\n",
        "import pandas as pd \n",
        "import numpy as np\n",
        "\n",
        "import os\n",
        "import sys\n",
        "\n",
        "import warnings\n",
        "warnings.filterwarnings('ignore')\n",
        "\n",
        "from skimage.io import imread\n",
        "from sklearn.model_selection import train_test_split\n",
        "from matplotlib import pyplot as plt\n",
        "%matplotlib inline\n"
      ],
      "metadata": {
        "id": "Y8bhjHjjM5tL"
      },
      "execution_count": 1,
      "outputs": []
    },
    {
      "cell_type": "code",
      "source": [
        "from google.colab import drive\n",
        "\n",
        "drive.mount('/content/drive')"
      ],
      "metadata": {
        "colab": {
          "base_uri": "https://localhost:8080/"
        },
        "id": "xVKN43HHM7Se",
        "outputId": "c30fb05a-7404-42e6-c281-6f66bd9007c6"
      },
      "execution_count": 2,
      "outputs": [
        {
          "output_type": "stream",
          "name": "stdout",
          "text": [
            "Mounted at /content/drive\n"
          ]
        }
      ]
    },
    {
      "cell_type": "code",
      "source": [
        "cd '/content/drive/MyDrive/project/'"
      ],
      "metadata": {
        "colab": {
          "base_uri": "https://localhost:8080/"
        },
        "id": "tMHdUjIPM9M3",
        "outputId": "380a1ff3-b527-4c85-84a7-4d697db6dffd"
      },
      "execution_count": 3,
      "outputs": [
        {
          "output_type": "stream",
          "name": "stdout",
          "text": [
            "/content/drive/MyDrive/project\n"
          ]
        }
      ]
    },
    {
      "cell_type": "code",
      "source": [
        "#Reading images from the multimodal datset that are extracted from \"Url's\" using image_downloader.py\n",
        "\n",
        "import cv2\n",
        "import os\n",
        "import numpy as np\n",
        "\n",
        "def load_images_from_folder(folder):\n",
        "    images = []\n",
        "    image_name = []\n",
        "    for filename in os.listdir(folder):\n",
        "        img = cv2.imread(os.path.join(folder,filename))\n",
        "\n",
        "        if img is not None:\n",
        "            img=cv2.resize(img,(224,224),interpolation=cv2.INTER_AREA)\n",
        "            images.append(img)\n",
        "            filename = filename.replace('.jpg', '')\n",
        "            image_name.append(filename)\n",
        "    return images, image_name\n",
        "\n",
        "images_lst, image_names = load_images_from_folder('/content/drive/MyDrive/project/images_train')"
      ],
      "metadata": {
        "id": "1Bwzj3LINBUj"
      },
      "execution_count": 4,
      "outputs": []
    },
    {
      "cell_type": "code",
      "source": [
        "print(\"shape of the original data\",np.array(images_lst).shape)"
      ],
      "metadata": {
        "colab": {
          "base_uri": "https://localhost:8080/"
        },
        "id": "klF3RKHJNE2M",
        "outputId": "2b9eeaa0-0816-40cd-defe-4f5f72c2ada6"
      },
      "execution_count": 5,
      "outputs": [
        {
          "output_type": "stream",
          "name": "stdout",
          "text": [
            "shape of the original data (5082, 224, 224, 3)\n"
          ]
        }
      ]
    },
    {
      "cell_type": "markdown",
      "source": [
        "#Data\n",
        "Loading the multimodal train dataframe to match the text set as few url's are working to download imgaes with lead to skip such data records. So, it is importtant to merge the text and image data to create a consistant dataset with appropriate images and their respective labels."
      ],
      "metadata": {
        "id": "8-coJITHcBfO"
      }
    },
    {
      "cell_type": "code",
      "source": [
        "# Merging text and image data to create new dataframe\n",
        "train_data = pd.read_pickle('/content/drive/MyDrive/project/multimodal_text_train')\n",
        "train_data"
      ],
      "metadata": {
        "colab": {
          "base_uri": "https://localhost:8080/",
          "height": 419
        },
        "id": "INNuL1EWNHIU",
        "outputId": "8b3a99ee-8293-401a-ea82-03e7430cf923"
      },
      "execution_count": 6,
      "outputs": [
        {
          "output_type": "execute_result",
          "data": {
            "text/plain": [
              "           id                                        clean_title  2_way_label\n",
              "0      awxhir  my walgreens offbrand mucinex was engraved wit...            1\n",
              "1      98pbid                this concerned sink with a tiny hat            0\n",
              "2      6f2cy5      hackers leak emails from uae ambassador to us            1\n",
              "3      4xypkv                           puppy taking in the view            1\n",
              "4      8gnet9               i found a face in my sheet music too            0\n",
              "...       ...                                                ...          ...\n",
              "5232   83x4h8  captured taliban soldier taken to an undisclos...            0\n",
              "5233   b2e0iz  jacob collier djesse vol reimagined as a class...            0\n",
              "5234  d9ag36x                                     gave it a shot            0\n",
              "5235   6z63f9    ready to smoke up got my grinder and a few nugs            0\n",
              "5236   9h1c07                   interesting sky in florida today            1\n",
              "\n",
              "[5237 rows x 3 columns]"
            ],
            "text/html": [
              "\n",
              "  <div id=\"df-8f0ebc0c-2929-43f1-a7dc-f09a6130c52c\">\n",
              "    <div class=\"colab-df-container\">\n",
              "      <div>\n",
              "<style scoped>\n",
              "    .dataframe tbody tr th:only-of-type {\n",
              "        vertical-align: middle;\n",
              "    }\n",
              "\n",
              "    .dataframe tbody tr th {\n",
              "        vertical-align: top;\n",
              "    }\n",
              "\n",
              "    .dataframe thead th {\n",
              "        text-align: right;\n",
              "    }\n",
              "</style>\n",
              "<table border=\"1\" class=\"dataframe\">\n",
              "  <thead>\n",
              "    <tr style=\"text-align: right;\">\n",
              "      <th></th>\n",
              "      <th>id</th>\n",
              "      <th>clean_title</th>\n",
              "      <th>2_way_label</th>\n",
              "    </tr>\n",
              "  </thead>\n",
              "  <tbody>\n",
              "    <tr>\n",
              "      <th>0</th>\n",
              "      <td>awxhir</td>\n",
              "      <td>my walgreens offbrand mucinex was engraved wit...</td>\n",
              "      <td>1</td>\n",
              "    </tr>\n",
              "    <tr>\n",
              "      <th>1</th>\n",
              "      <td>98pbid</td>\n",
              "      <td>this concerned sink with a tiny hat</td>\n",
              "      <td>0</td>\n",
              "    </tr>\n",
              "    <tr>\n",
              "      <th>2</th>\n",
              "      <td>6f2cy5</td>\n",
              "      <td>hackers leak emails from uae ambassador to us</td>\n",
              "      <td>1</td>\n",
              "    </tr>\n",
              "    <tr>\n",
              "      <th>3</th>\n",
              "      <td>4xypkv</td>\n",
              "      <td>puppy taking in the view</td>\n",
              "      <td>1</td>\n",
              "    </tr>\n",
              "    <tr>\n",
              "      <th>4</th>\n",
              "      <td>8gnet9</td>\n",
              "      <td>i found a face in my sheet music too</td>\n",
              "      <td>0</td>\n",
              "    </tr>\n",
              "    <tr>\n",
              "      <th>...</th>\n",
              "      <td>...</td>\n",
              "      <td>...</td>\n",
              "      <td>...</td>\n",
              "    </tr>\n",
              "    <tr>\n",
              "      <th>5232</th>\n",
              "      <td>83x4h8</td>\n",
              "      <td>captured taliban soldier taken to an undisclos...</td>\n",
              "      <td>0</td>\n",
              "    </tr>\n",
              "    <tr>\n",
              "      <th>5233</th>\n",
              "      <td>b2e0iz</td>\n",
              "      <td>jacob collier djesse vol reimagined as a class...</td>\n",
              "      <td>0</td>\n",
              "    </tr>\n",
              "    <tr>\n",
              "      <th>5234</th>\n",
              "      <td>d9ag36x</td>\n",
              "      <td>gave it a shot</td>\n",
              "      <td>0</td>\n",
              "    </tr>\n",
              "    <tr>\n",
              "      <th>5235</th>\n",
              "      <td>6z63f9</td>\n",
              "      <td>ready to smoke up got my grinder and a few nugs</td>\n",
              "      <td>0</td>\n",
              "    </tr>\n",
              "    <tr>\n",
              "      <th>5236</th>\n",
              "      <td>9h1c07</td>\n",
              "      <td>interesting sky in florida today</td>\n",
              "      <td>1</td>\n",
              "    </tr>\n",
              "  </tbody>\n",
              "</table>\n",
              "<p>5237 rows × 3 columns</p>\n",
              "</div>\n",
              "      <button class=\"colab-df-convert\" onclick=\"convertToInteractive('df-8f0ebc0c-2929-43f1-a7dc-f09a6130c52c')\"\n",
              "              title=\"Convert this dataframe to an interactive table.\"\n",
              "              style=\"display:none;\">\n",
              "        \n",
              "  <svg xmlns=\"http://www.w3.org/2000/svg\" height=\"24px\"viewBox=\"0 0 24 24\"\n",
              "       width=\"24px\">\n",
              "    <path d=\"M0 0h24v24H0V0z\" fill=\"none\"/>\n",
              "    <path d=\"M18.56 5.44l.94 2.06.94-2.06 2.06-.94-2.06-.94-.94-2.06-.94 2.06-2.06.94zm-11 1L8.5 8.5l.94-2.06 2.06-.94-2.06-.94L8.5 2.5l-.94 2.06-2.06.94zm10 10l.94 2.06.94-2.06 2.06-.94-2.06-.94-.94-2.06-.94 2.06-2.06.94z\"/><path d=\"M17.41 7.96l-1.37-1.37c-.4-.4-.92-.59-1.43-.59-.52 0-1.04.2-1.43.59L10.3 9.45l-7.72 7.72c-.78.78-.78 2.05 0 2.83L4 21.41c.39.39.9.59 1.41.59.51 0 1.02-.2 1.41-.59l7.78-7.78 2.81-2.81c.8-.78.8-2.07 0-2.86zM5.41 20L4 18.59l7.72-7.72 1.47 1.35L5.41 20z\"/>\n",
              "  </svg>\n",
              "      </button>\n",
              "      \n",
              "  <style>\n",
              "    .colab-df-container {\n",
              "      display:flex;\n",
              "      flex-wrap:wrap;\n",
              "      gap: 12px;\n",
              "    }\n",
              "\n",
              "    .colab-df-convert {\n",
              "      background-color: #E8F0FE;\n",
              "      border: none;\n",
              "      border-radius: 50%;\n",
              "      cursor: pointer;\n",
              "      display: none;\n",
              "      fill: #1967D2;\n",
              "      height: 32px;\n",
              "      padding: 0 0 0 0;\n",
              "      width: 32px;\n",
              "    }\n",
              "\n",
              "    .colab-df-convert:hover {\n",
              "      background-color: #E2EBFA;\n",
              "      box-shadow: 0px 1px 2px rgba(60, 64, 67, 0.3), 0px 1px 3px 1px rgba(60, 64, 67, 0.15);\n",
              "      fill: #174EA6;\n",
              "    }\n",
              "\n",
              "    [theme=dark] .colab-df-convert {\n",
              "      background-color: #3B4455;\n",
              "      fill: #D2E3FC;\n",
              "    }\n",
              "\n",
              "    [theme=dark] .colab-df-convert:hover {\n",
              "      background-color: #434B5C;\n",
              "      box-shadow: 0px 1px 3px 1px rgba(0, 0, 0, 0.15);\n",
              "      filter: drop-shadow(0px 1px 2px rgba(0, 0, 0, 0.3));\n",
              "      fill: #FFFFFF;\n",
              "    }\n",
              "  </style>\n",
              "\n",
              "      <script>\n",
              "        const buttonEl =\n",
              "          document.querySelector('#df-8f0ebc0c-2929-43f1-a7dc-f09a6130c52c button.colab-df-convert');\n",
              "        buttonEl.style.display =\n",
              "          google.colab.kernel.accessAllowed ? 'block' : 'none';\n",
              "\n",
              "        async function convertToInteractive(key) {\n",
              "          const element = document.querySelector('#df-8f0ebc0c-2929-43f1-a7dc-f09a6130c52c');\n",
              "          const dataTable =\n",
              "            await google.colab.kernel.invokeFunction('convertToInteractive',\n",
              "                                                     [key], {});\n",
              "          if (!dataTable) return;\n",
              "\n",
              "          const docLinkHtml = 'Like what you see? Visit the ' +\n",
              "            '<a target=\"_blank\" href=https://colab.research.google.com/notebooks/data_table.ipynb>data table notebook</a>'\n",
              "            + ' to learn more about interactive tables.';\n",
              "          element.innerHTML = '';\n",
              "          dataTable['output_type'] = 'display_data';\n",
              "          await google.colab.output.renderOutput(dataTable, element);\n",
              "          const docLink = document.createElement('div');\n",
              "          docLink.innerHTML = docLinkHtml;\n",
              "          element.appendChild(docLink);\n",
              "        }\n",
              "      </script>\n",
              "    </div>\n",
              "  </div>\n",
              "  "
            ]
          },
          "metadata": {},
          "execution_count": 6
        }
      ]
    },
    {
      "cell_type": "code",
      "source": [
        "import pandas as pd\n",
        "\n",
        "data = pd.DataFrame ({ 'images': images_lst, 'id': image_names}, columns = ['images','id'])\n",
        "\n",
        "from operator import index\n",
        "\n",
        "data = pd.merge(data, train_data , on='id')\n",
        "data"
      ],
      "metadata": {
        "colab": {
          "base_uri": "https://localhost:8080/",
          "height": 419
        },
        "id": "SVfati5uNVX1",
        "outputId": "3d07851e-ff21-46ff-fa05-0c6efeee4c2e"
      },
      "execution_count": 7,
      "outputs": [
        {
          "output_type": "execute_result",
          "data": {
            "text/plain": [
              "                                                 images       id  \\\n",
              "0     [[[18, 24, 19], [19, 24, 22], [25, 30, 29], [3...  cds1cls   \n",
              "1     [[[255, 255, 255], [255, 255, 255], [255, 255,...  cob0dcf   \n",
              "2     [[[254, 220, 134], [255, 223, 140], [255, 222,...   csl85z   \n",
              "3     [[[196, 196, 196], [196, 196, 196], [196, 196,...   dcqujt   \n",
              "4     [[[216, 197, 159], [209, 190, 150], [216, 198,...   b0gc3d   \n",
              "...                                                 ...      ...   \n",
              "5077  [[[105, 114, 128], [113, 122, 136], [113, 122,...   c7dobn   \n",
              "5078  [[[13, 5, 6], [15, 6, 7], [15, 7, 8], [14, 7, ...   crczvy   \n",
              "5079  [[[117, 116, 208], [103, 103, 201], [106, 107,...   byh5dw   \n",
              "5080  [[[255, 255, 255], [255, 254, 254], [255, 255,...   9fb69a   \n",
              "5081  [[[7, 9, 10], [7, 9, 10], [6, 8, 9], [5, 7, 8]...   blqg9q   \n",
              "\n",
              "                                            clean_title  2_way_label  \n",
              "0                                             body slam            0  \n",
              "1                            im not really good at this            0  \n",
              "2     bureau of prisons chief removed in wake of jef...            1  \n",
              "3     nasa news an incredible black hole appeared on...            0  \n",
              "4     this loadbearing piece of wood eaten by termit...            1  \n",
              "...                                                 ...          ...  \n",
              "5077  the reinforcement on these identical pieces of...            1  \n",
              "5078  at halftime of sdsus basketball game they auct...            1  \n",
              "5079                                   revolution syria            0  \n",
              "5080  this spider on my back porch disguises itself ...            1  \n",
              "5081  in just over two years the copper in my iems h...            1  \n",
              "\n",
              "[5082 rows x 4 columns]"
            ],
            "text/html": [
              "\n",
              "  <div id=\"df-ecbdb6e3-48f3-4da4-930e-2f6af7406799\">\n",
              "    <div class=\"colab-df-container\">\n",
              "      <div>\n",
              "<style scoped>\n",
              "    .dataframe tbody tr th:only-of-type {\n",
              "        vertical-align: middle;\n",
              "    }\n",
              "\n",
              "    .dataframe tbody tr th {\n",
              "        vertical-align: top;\n",
              "    }\n",
              "\n",
              "    .dataframe thead th {\n",
              "        text-align: right;\n",
              "    }\n",
              "</style>\n",
              "<table border=\"1\" class=\"dataframe\">\n",
              "  <thead>\n",
              "    <tr style=\"text-align: right;\">\n",
              "      <th></th>\n",
              "      <th>images</th>\n",
              "      <th>id</th>\n",
              "      <th>clean_title</th>\n",
              "      <th>2_way_label</th>\n",
              "    </tr>\n",
              "  </thead>\n",
              "  <tbody>\n",
              "    <tr>\n",
              "      <th>0</th>\n",
              "      <td>[[[18, 24, 19], [19, 24, 22], [25, 30, 29], [3...</td>\n",
              "      <td>cds1cls</td>\n",
              "      <td>body slam</td>\n",
              "      <td>0</td>\n",
              "    </tr>\n",
              "    <tr>\n",
              "      <th>1</th>\n",
              "      <td>[[[255, 255, 255], [255, 255, 255], [255, 255,...</td>\n",
              "      <td>cob0dcf</td>\n",
              "      <td>im not really good at this</td>\n",
              "      <td>0</td>\n",
              "    </tr>\n",
              "    <tr>\n",
              "      <th>2</th>\n",
              "      <td>[[[254, 220, 134], [255, 223, 140], [255, 222,...</td>\n",
              "      <td>csl85z</td>\n",
              "      <td>bureau of prisons chief removed in wake of jef...</td>\n",
              "      <td>1</td>\n",
              "    </tr>\n",
              "    <tr>\n",
              "      <th>3</th>\n",
              "      <td>[[[196, 196, 196], [196, 196, 196], [196, 196,...</td>\n",
              "      <td>dcqujt</td>\n",
              "      <td>nasa news an incredible black hole appeared on...</td>\n",
              "      <td>0</td>\n",
              "    </tr>\n",
              "    <tr>\n",
              "      <th>4</th>\n",
              "      <td>[[[216, 197, 159], [209, 190, 150], [216, 198,...</td>\n",
              "      <td>b0gc3d</td>\n",
              "      <td>this loadbearing piece of wood eaten by termit...</td>\n",
              "      <td>1</td>\n",
              "    </tr>\n",
              "    <tr>\n",
              "      <th>...</th>\n",
              "      <td>...</td>\n",
              "      <td>...</td>\n",
              "      <td>...</td>\n",
              "      <td>...</td>\n",
              "    </tr>\n",
              "    <tr>\n",
              "      <th>5077</th>\n",
              "      <td>[[[105, 114, 128], [113, 122, 136], [113, 122,...</td>\n",
              "      <td>c7dobn</td>\n",
              "      <td>the reinforcement on these identical pieces of...</td>\n",
              "      <td>1</td>\n",
              "    </tr>\n",
              "    <tr>\n",
              "      <th>5078</th>\n",
              "      <td>[[[13, 5, 6], [15, 6, 7], [15, 7, 8], [14, 7, ...</td>\n",
              "      <td>crczvy</td>\n",
              "      <td>at halftime of sdsus basketball game they auct...</td>\n",
              "      <td>1</td>\n",
              "    </tr>\n",
              "    <tr>\n",
              "      <th>5079</th>\n",
              "      <td>[[[117, 116, 208], [103, 103, 201], [106, 107,...</td>\n",
              "      <td>byh5dw</td>\n",
              "      <td>revolution syria</td>\n",
              "      <td>0</td>\n",
              "    </tr>\n",
              "    <tr>\n",
              "      <th>5080</th>\n",
              "      <td>[[[255, 255, 255], [255, 254, 254], [255, 255,...</td>\n",
              "      <td>9fb69a</td>\n",
              "      <td>this spider on my back porch disguises itself ...</td>\n",
              "      <td>1</td>\n",
              "    </tr>\n",
              "    <tr>\n",
              "      <th>5081</th>\n",
              "      <td>[[[7, 9, 10], [7, 9, 10], [6, 8, 9], [5, 7, 8]...</td>\n",
              "      <td>blqg9q</td>\n",
              "      <td>in just over two years the copper in my iems h...</td>\n",
              "      <td>1</td>\n",
              "    </tr>\n",
              "  </tbody>\n",
              "</table>\n",
              "<p>5082 rows × 4 columns</p>\n",
              "</div>\n",
              "      <button class=\"colab-df-convert\" onclick=\"convertToInteractive('df-ecbdb6e3-48f3-4da4-930e-2f6af7406799')\"\n",
              "              title=\"Convert this dataframe to an interactive table.\"\n",
              "              style=\"display:none;\">\n",
              "        \n",
              "  <svg xmlns=\"http://www.w3.org/2000/svg\" height=\"24px\"viewBox=\"0 0 24 24\"\n",
              "       width=\"24px\">\n",
              "    <path d=\"M0 0h24v24H0V0z\" fill=\"none\"/>\n",
              "    <path d=\"M18.56 5.44l.94 2.06.94-2.06 2.06-.94-2.06-.94-.94-2.06-.94 2.06-2.06.94zm-11 1L8.5 8.5l.94-2.06 2.06-.94-2.06-.94L8.5 2.5l-.94 2.06-2.06.94zm10 10l.94 2.06.94-2.06 2.06-.94-2.06-.94-.94-2.06-.94 2.06-2.06.94z\"/><path d=\"M17.41 7.96l-1.37-1.37c-.4-.4-.92-.59-1.43-.59-.52 0-1.04.2-1.43.59L10.3 9.45l-7.72 7.72c-.78.78-.78 2.05 0 2.83L4 21.41c.39.39.9.59 1.41.59.51 0 1.02-.2 1.41-.59l7.78-7.78 2.81-2.81c.8-.78.8-2.07 0-2.86zM5.41 20L4 18.59l7.72-7.72 1.47 1.35L5.41 20z\"/>\n",
              "  </svg>\n",
              "      </button>\n",
              "      \n",
              "  <style>\n",
              "    .colab-df-container {\n",
              "      display:flex;\n",
              "      flex-wrap:wrap;\n",
              "      gap: 12px;\n",
              "    }\n",
              "\n",
              "    .colab-df-convert {\n",
              "      background-color: #E8F0FE;\n",
              "      border: none;\n",
              "      border-radius: 50%;\n",
              "      cursor: pointer;\n",
              "      display: none;\n",
              "      fill: #1967D2;\n",
              "      height: 32px;\n",
              "      padding: 0 0 0 0;\n",
              "      width: 32px;\n",
              "    }\n",
              "\n",
              "    .colab-df-convert:hover {\n",
              "      background-color: #E2EBFA;\n",
              "      box-shadow: 0px 1px 2px rgba(60, 64, 67, 0.3), 0px 1px 3px 1px rgba(60, 64, 67, 0.15);\n",
              "      fill: #174EA6;\n",
              "    }\n",
              "\n",
              "    [theme=dark] .colab-df-convert {\n",
              "      background-color: #3B4455;\n",
              "      fill: #D2E3FC;\n",
              "    }\n",
              "\n",
              "    [theme=dark] .colab-df-convert:hover {\n",
              "      background-color: #434B5C;\n",
              "      box-shadow: 0px 1px 3px 1px rgba(0, 0, 0, 0.15);\n",
              "      filter: drop-shadow(0px 1px 2px rgba(0, 0, 0, 0.3));\n",
              "      fill: #FFFFFF;\n",
              "    }\n",
              "  </style>\n",
              "\n",
              "      <script>\n",
              "        const buttonEl =\n",
              "          document.querySelector('#df-ecbdb6e3-48f3-4da4-930e-2f6af7406799 button.colab-df-convert');\n",
              "        buttonEl.style.display =\n",
              "          google.colab.kernel.accessAllowed ? 'block' : 'none';\n",
              "\n",
              "        async function convertToInteractive(key) {\n",
              "          const element = document.querySelector('#df-ecbdb6e3-48f3-4da4-930e-2f6af7406799');\n",
              "          const dataTable =\n",
              "            await google.colab.kernel.invokeFunction('convertToInteractive',\n",
              "                                                     [key], {});\n",
              "          if (!dataTable) return;\n",
              "\n",
              "          const docLinkHtml = 'Like what you see? Visit the ' +\n",
              "            '<a target=\"_blank\" href=https://colab.research.google.com/notebooks/data_table.ipynb>data table notebook</a>'\n",
              "            + ' to learn more about interactive tables.';\n",
              "          element.innerHTML = '';\n",
              "          dataTable['output_type'] = 'display_data';\n",
              "          await google.colab.output.renderOutput(dataTable, element);\n",
              "          const docLink = document.createElement('div');\n",
              "          docLink.innerHTML = docLinkHtml;\n",
              "          element.appendChild(docLink);\n",
              "        }\n",
              "      </script>\n",
              "    </div>\n",
              "  </div>\n",
              "  "
            ]
          },
          "metadata": {},
          "execution_count": 7
        }
      ]
    },
    {
      "cell_type": "code",
      "source": [
        "# splitting dataframe by row index\n",
        "df_test= data.iloc[:945,:]\n",
        "df_train = data.iloc[945:,:]"
      ],
      "metadata": {
        "id": "X3_Ke9OLNZJn"
      },
      "execution_count": 8,
      "outputs": []
    },
    {
      "cell_type": "code",
      "source": [
        "import seaborn as sns \n",
        "\n",
        "# Target distribution for training dataset\n",
        "\n",
        "print(df_train['2_way_label'].value_counts())\n",
        "\n",
        "# count plot on single categorical variable\n",
        "sns.countplot(x ='2_way_label', data = df_train)"
      ],
      "metadata": {
        "colab": {
          "base_uri": "https://localhost:8080/",
          "height": 348
        },
        "id": "JGHO5ZMNNoXx",
        "outputId": "48118b15-8b1b-4b93-890c-8875dd49f9a7"
      },
      "execution_count": 10,
      "outputs": [
        {
          "output_type": "stream",
          "name": "stdout",
          "text": [
            "0    2470\n",
            "1    1667\n",
            "Name: 2_way_label, dtype: int64\n"
          ]
        },
        {
          "output_type": "execute_result",
          "data": {
            "text/plain": [
              "<matplotlib.axes._subplots.AxesSubplot at 0x7fabfef37430>"
            ]
          },
          "metadata": {},
          "execution_count": 10
        },
        {
          "output_type": "display_data",
          "data": {
            "text/plain": [
              "<Figure size 432x288 with 1 Axes>"
            ],
            "image/png": "[encoded data removed]"
          },
          "metadata": {
            "needs_background": "light"
          }
        }
      ]
    },
    {
      "cell_type": "code",
      "source": [
        "df_train= df_train[['images','2_way_label']]\n",
        "df_test = df_test[['images','2_way_label']]\n",
        "df_train"
      ],
      "metadata": {
        "colab": {
          "base_uri": "https://localhost:8080/",
          "height": 419
        },
        "id": "imRvMm9PNsMH",
        "outputId": "a1741aa7-44e3-472c-9f89-c8c42f28c941"
      },
      "execution_count": 11,
      "outputs": [
        {
          "output_type": "execute_result",
          "data": {
            "text/plain": [
              "                                                 images  2_way_label\n",
              "945   [[[9, 48, 119], [0, 40, 109], [5, 52, 117], [3...            1\n",
              "946   [[[14, 116, 84], [31, 132, 102], [48, 146, 119...            1\n",
              "947   [[[251, 253, 253], [251, 253, 253], [251, 253,...            0\n",
              "948   [[[155, 180, 3], [156, 190, 29], [155, 194, 94...            0\n",
              "949   [[[57, 111, 72], [62, 113, 75], [68, 118, 80],...            0\n",
              "...                                                 ...          ...\n",
              "5077  [[[105, 114, 128], [113, 122, 136], [113, 122,...            1\n",
              "5078  [[[13, 5, 6], [15, 6, 7], [15, 7, 8], [14, 7, ...            1\n",
              "5079  [[[117, 116, 208], [103, 103, 201], [106, 107,...            0\n",
              "5080  [[[255, 255, 255], [255, 254, 254], [255, 255,...            1\n",
              "5081  [[[7, 9, 10], [7, 9, 10], [6, 8, 9], [5, 7, 8]...            1\n",
              "\n",
              "[4137 rows x 2 columns]"
            ],
            "text/html": [
              "\n",
              "  <div id=\"df-489d4e90-2223-4e1c-9702-e2fa07313af8\">\n",
              "    <div class=\"colab-df-container\">\n",
              "      <div>\n",
              "<style scoped>\n",
              "    .dataframe tbody tr th:only-of-type {\n",
              "        vertical-align: middle;\n",
              "    }\n",
              "\n",
              "    .dataframe tbody tr th {\n",
              "        vertical-align: top;\n",
              "    }\n",
              "\n",
              "    .dataframe thead th {\n",
              "        text-align: right;\n",
              "    }\n",
              "</style>\n",
              "<table border=\"1\" class=\"dataframe\">\n",
              "  <thead>\n",
              "    <tr style=\"text-align: right;\">\n",
              "      <th></th>\n",
              "      <th>images</th>\n",
              "      <th>2_way_label</th>\n",
              "    </tr>\n",
              "  </thead>\n",
              "  <tbody>\n",
              "    <tr>\n",
              "      <th>945</th>\n",
              "      <td>[[[9, 48, 119], [0, 40, 109], [5, 52, 117], [3...</td>\n",
              "      <td>1</td>\n",
              "    </tr>\n",
              "    <tr>\n",
              "      <th>946</th>\n",
              "      <td>[[[14, 116, 84], [31, 132, 102], [48, 146, 119...</td>\n",
              "      <td>1</td>\n",
              "    </tr>\n",
              "    <tr>\n",
              "      <th>947</th>\n",
              "      <td>[[[251, 253, 253], [251, 253, 253], [251, 253,...</td>\n",
              "      <td>0</td>\n",
              "    </tr>\n",
              "    <tr>\n",
              "      <th>948</th>\n",
              "      <td>[[[155, 180, 3], [156, 190, 29], [155, 194, 94...</td>\n",
              "      <td>0</td>\n",
              "    </tr>\n",
              "    <tr>\n",
              "      <th>949</th>\n",
              "      <td>[[[57, 111, 72], [62, 113, 75], [68, 118, 80],...</td>\n",
              "      <td>0</td>\n",
              "    </tr>\n",
              "    <tr>\n",
              "      <th>...</th>\n",
              "      <td>...</td>\n",
              "      <td>...</td>\n",
              "    </tr>\n",
              "    <tr>\n",
              "      <th>5077</th>\n",
              "      <td>[[[105, 114, 128], [113, 122, 136], [113, 122,...</td>\n",
              "      <td>1</td>\n",
              "    </tr>\n",
              "    <tr>\n",
              "      <th>5078</th>\n",
              "      <td>[[[13, 5, 6], [15, 6, 7], [15, 7, 8], [14, 7, ...</td>\n",
              "      <td>1</td>\n",
              "    </tr>\n",
              "    <tr>\n",
              "      <th>5079</th>\n",
              "      <td>[[[117, 116, 208], [103, 103, 201], [106, 107,...</td>\n",
              "      <td>0</td>\n",
              "    </tr>\n",
              "    <tr>\n",
              "      <th>5080</th>\n",
              "      <td>[[[255, 255, 255], [255, 254, 254], [255, 255,...</td>\n",
              "      <td>1</td>\n",
              "    </tr>\n",
              "    <tr>\n",
              "      <th>5081</th>\n",
              "      <td>[[[7, 9, 10], [7, 9, 10], [6, 8, 9], [5, 7, 8]...</td>\n",
              "      <td>1</td>\n",
              "    </tr>\n",
              "  </tbody>\n",
              "</table>\n",
              "<p>4137 rows × 2 columns</p>\n",
              "</div>\n",
              "      <button class=\"colab-df-convert\" onclick=\"convertToInteractive('df-489d4e90-2223-4e1c-9702-e2fa07313af8')\"\n",
              "              title=\"Convert this dataframe to an interactive table.\"\n",
              "              style=\"display:none;\">\n",
              "        \n",
              "  <svg xmlns=\"http://www.w3.org/2000/svg\" height=\"24px\"viewBox=\"0 0 24 24\"\n",
              "       width=\"24px\">\n",
              "    <path d=\"M0 0h24v24H0V0z\" fill=\"none\"/>\n",
              "    <path d=\"M18.56 5.44l.94 2.06.94-2.06 2.06-.94-2.06-.94-.94-2.06-.94 2.06-2.06.94zm-11 1L8.5 8.5l.94-2.06 2.06-.94-2.06-.94L8.5 2.5l-.94 2.06-2.06.94zm10 10l.94 2.06.94-2.06 2.06-.94-2.06-.94-.94-2.06-.94 2.06-2.06.94z\"/><path d=\"M17.41 7.96l-1.37-1.37c-.4-.4-.92-.59-1.43-.59-.52 0-1.04.2-1.43.59L10.3 9.45l-7.72 7.72c-.78.78-.78 2.05 0 2.83L4 21.41c.39.39.9.59 1.41.59.51 0 1.02-.2 1.41-.59l7.78-7.78 2.81-2.81c.8-.78.8-2.07 0-2.86zM5.41 20L4 18.59l7.72-7.72 1.47 1.35L5.41 20z\"/>\n",
              "  </svg>\n",
              "      </button>\n",
              "      \n",
              "  <style>\n",
              "    .colab-df-container {\n",
              "      display:flex;\n",
              "      flex-wrap:wrap;\n",
              "      gap: 12px;\n",
              "    }\n",
              "\n",
              "    .colab-df-convert {\n",
              "      background-color: #E8F0FE;\n",
              "      border: none;\n",
              "      border-radius: 50%;\n",
              "      cursor: pointer;\n",
              "      display: none;\n",
              "      fill: #1967D2;\n",
              "      height: 32px;\n",
              "      padding: 0 0 0 0;\n",
              "      width: 32px;\n",
              "    }\n",
              "\n",
              "    .colab-df-convert:hover {\n",
              "      background-color: #E2EBFA;\n",
              "      box-shadow: 0px 1px 2px rgba(60, 64, 67, 0.3), 0px 1px 3px 1px rgba(60, 64, 67, 0.15);\n",
              "      fill: #174EA6;\n",
              "    }\n",
              "\n",
              "    [theme=dark] .colab-df-convert {\n",
              "      background-color: #3B4455;\n",
              "      fill: #D2E3FC;\n",
              "    }\n",
              "\n",
              "    [theme=dark] .colab-df-convert:hover {\n",
              "      background-color: #434B5C;\n",
              "      box-shadow: 0px 1px 3px 1px rgba(0, 0, 0, 0.15);\n",
              "      filter: drop-shadow(0px 1px 2px rgba(0, 0, 0, 0.3));\n",
              "      fill: #FFFFFF;\n",
              "    }\n",
              "  </style>\n",
              "\n",
              "      <script>\n",
              "        const buttonEl =\n",
              "          document.querySelector('#df-489d4e90-2223-4e1c-9702-e2fa07313af8 button.colab-df-convert');\n",
              "        buttonEl.style.display =\n",
              "          google.colab.kernel.accessAllowed ? 'block' : 'none';\n",
              "\n",
              "        async function convertToInteractive(key) {\n",
              "          const element = document.querySelector('#df-489d4e90-2223-4e1c-9702-e2fa07313af8');\n",
              "          const dataTable =\n",
              "            await google.colab.kernel.invokeFunction('convertToInteractive',\n",
              "                                                     [key], {});\n",
              "          if (!dataTable) return;\n",
              "\n",
              "          const docLinkHtml = 'Like what you see? Visit the ' +\n",
              "            '<a target=\"_blank\" href=https://colab.research.google.com/notebooks/data_table.ipynb>data table notebook</a>'\n",
              "            + ' to learn more about interactive tables.';\n",
              "          element.innerHTML = '';\n",
              "          dataTable['output_type'] = 'display_data';\n",
              "          await google.colab.output.renderOutput(dataTable, element);\n",
              "          const docLink = document.createElement('div');\n",
              "          docLink.innerHTML = docLinkHtml;\n",
              "          element.appendChild(docLink);\n",
              "        }\n",
              "      </script>\n",
              "    </div>\n",
              "  </div>\n",
              "  "
            ]
          },
          "metadata": {},
          "execution_count": 11
        }
      ]
    },
    {
      "cell_type": "code",
      "source": [
        "from sklearn.utils import shuffle\n",
        "\n",
        "    \n",
        "def datapartition(dataset,col):\n",
        "    #Split data into a test and training set\n",
        "    X = np.array(dataset[col].tolist())\n",
        "    y = np.array(dataset['2_way_label'])\n",
        "    \n",
        "    if col == 'images':\n",
        "      #scaling the features\n",
        "      X = X/255.0\n",
        "\n",
        "    return X,y\n",
        "    \n",
        "    \n",
        "\n",
        "# split the data after normalizing and reshaping using helper function\n",
        "\n",
        "X_train_img, y_train_img= datapartition(df_train,'images')\n",
        "print(\"Train data size: \", X_train_img.shape, y_train_img.shape)\n",
        "\n",
        "X_test_img, y_test_img= datapartition(df_test,'images')\n",
        "print(\"test data size: \", X_test_img.shape, y_test_img.shape)"
      ],
      "metadata": {
        "colab": {
          "base_uri": "https://localhost:8080/"
        },
        "id": "cQNPPE7_N18B",
        "outputId": "5e698718-c037-4276-ce73-7d0bf0c1fe5f"
      },
      "execution_count": 12,
      "outputs": [
        {
          "output_type": "stream",
          "name": "stdout",
          "text": [
            "Train data size:  (4137, 224, 224, 3) (4137,)\n",
            "test data size:  (945, 224, 224, 3) (945,)\n"
          ]
        }
      ]
    },
    {
      "cell_type": "code",
      "source": [
        "import random\n",
        "from keras.applications import vgg16\n",
        "\n",
        "# Pretrained convolutional layers are loaded using the Imagenet weights.\n",
        "# Include_top is set to False, in order to exclude the model's fully-connected layers.\n",
        "\n",
        "\n",
        "conv_base = vgg16.VGG16(weights='imagenet',\n",
        "                  include_top=False,\n",
        "                  input_shape=(224,224,3)\n",
        "                 )\n",
        "\n",
        "conv_base.summary()"
      ],
      "metadata": {
        "colab": {
          "base_uri": "https://localhost:8080/"
        },
        "id": "9XOoL0QyN85K",
        "outputId": "da84a2ce-d79e-4f96-8d89-9baca107b3b3"
      },
      "execution_count": 13,
      "outputs": [
        {
          "output_type": "stream",
          "name": "stdout",
          "text": [
            "Downloading data from https://storage.googleapis.com/tensorflow/keras-applications/vgg16/vgg16_weights_tf_dim_ordering_tf_kernels_notop.h5\n",
            "58889256/58889256 [==============================] - 3s 0us/step\n",
            "Model: \"vgg16\"\n",
            "_________________________________________________________________\n",
            " Layer (type)                Output Shape              Param #   \n",
            "=================================================================\n",
            " input_1 (InputLayer)        [(None, 224, 224, 3)]     0         \n",
            "                                                                 \n",
            " block1_conv1 (Conv2D)       (None, 224, 224, 64)      1792      \n",
            "                                                                 \n",
            " block1_conv2 (Conv2D)       (None, 224, 224, 64)      36928     \n",
            "                                                                 \n",
            " block1_pool (MaxPooling2D)  (None, 112, 112, 64)      0         \n",
            "                                                                 \n",
            " block2_conv1 (Conv2D)       (None, 112, 112, 128)     73856     \n",
            "                                                                 \n",
            " block2_conv2 (Conv2D)       (None, 112, 112, 128)     147584    \n",
            "                                                                 \n",
            " block2_pool (MaxPooling2D)  (None, 56, 56, 128)       0         \n",
            "                                                                 \n",
            " block3_conv1 (Conv2D)       (None, 56, 56, 256)       295168    \n",
            "                                                                 \n",
            " block3_conv2 (Conv2D)       (None, 56, 56, 256)       590080    \n",
            "                                                                 \n",
            " block3_conv3 (Conv2D)       (None, 56, 56, 256)       590080    \n",
            "                                                                 \n",
            " block3_pool (MaxPooling2D)  (None, 28, 28, 256)       0         \n",
            "                                                                 \n",
            " block4_conv1 (Conv2D)       (None, 28, 28, 512)       1180160   \n",
            "                                                                 \n",
            " block4_conv2 (Conv2D)       (None, 28, 28, 512)       2359808   \n",
            "                                                                 \n",
            " block4_conv3 (Conv2D)       (None, 28, 28, 512)       2359808   \n",
            "                                                                 \n",
            " block4_pool (MaxPooling2D)  (None, 14, 14, 512)       0         \n",
            "                                                                 \n",
            " block5_conv1 (Conv2D)       (None, 14, 14, 512)       2359808   \n",
            "                                                                 \n",
            " block5_conv2 (Conv2D)       (None, 14, 14, 512)       2359808   \n",
            "                                                                 \n",
            " block5_conv3 (Conv2D)       (None, 14, 14, 512)       2359808   \n",
            "                                                                 \n",
            " block5_pool (MaxPooling2D)  (None, 7, 7, 512)         0         \n",
            "                                                                 \n",
            "=================================================================\n",
            "Total params: 14,714,688\n",
            "Trainable params: 14,714,688\n",
            "Non-trainable params: 0\n",
            "_________________________________________________________________\n"
          ]
        }
      ]
    },
    {
      "cell_type": "code",
      "source": [
        "# Extract training feature map from vgg16 conv_base\n",
        "\n",
        "X_train_img = conv_base.predict(X_train_img)\n",
        "X_test_img = conv_base.predict(X_test_img) "
      ],
      "metadata": {
        "colab": {
          "base_uri": "https://localhost:8080/"
        },
        "id": "sOm73gquOCJg",
        "outputId": "650ea36b-1475-4ed3-cb56-09d8fa732f7e"
      },
      "execution_count": 14,
      "outputs": [
        {
          "output_type": "stream",
          "name": "stdout",
          "text": [
            "130/130 [==============================] - 2130s 16s/step\n",
            "30/30 [==============================] - 478s 16s/step\n"
          ]
        }
      ]
    },
    {
      "cell_type": "code",
      "source": [
        "#save the train features for later use\n",
        "\n",
        "with open('train_featuremap.pkl', 'wb') as df_file:\n",
        "  pickle.dump(X_train_img, file = df_file)"
      ],
      "metadata": {
        "id": "8SNSjq_gOIlH"
      },
      "execution_count": 22,
      "outputs": []
    },
    {
      "cell_type": "code",
      "source": [
        "#save the test features for later use\n",
        "\n",
        "with open('test_featuremap.pkl', 'wb') as df_file:\n",
        "  pickle.dump(X_test_img, file = df_file)"
      ],
      "metadata": {
        "id": "_URbgs97ZY_U"
      },
      "execution_count": 16,
      "outputs": []
    },
    {
      "cell_type": "code",
      "source": [
        "#save the data for later use\n",
        "\n",
        "with open('data_multimodal.pkl', 'wb') as df_file:\n",
        "  pickle.dump(data, file = df_file)"
      ],
      "metadata": {
        "id": "Kw5BuO4zZwcH"
      },
      "execution_count": 20,
      "outputs": []
    },
    {
      "cell_type": "code",
      "source": [],
      "metadata": {
        "id": "n_hH7NiLa5Lv"
      },
      "execution_count": null,
      "outputs": []
    }
  ]
}