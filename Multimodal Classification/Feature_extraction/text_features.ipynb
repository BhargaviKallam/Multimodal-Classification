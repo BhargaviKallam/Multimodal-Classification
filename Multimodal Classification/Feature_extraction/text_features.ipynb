{
  "nbformat": 4,
  "nbformat_minor": 0,
  "metadata": {
    "colab": {
      "provenance": []
    },
    "kernelspec": {
      "name": "python3",
      "display_name": "Python 3"
    },
    "language_info": {
      "name": "python"
    }
  },
  "cells": [
    {
      "cell_type": "code",
      "execution_count": 1,
      "metadata": {
        "id": "OgB3QIFIaMS4"
      },
      "outputs": [],
      "source": [
        "# necessary packages\n",
        "import pickle\n",
        "\n",
        "import pandas as pd \n",
        "import numpy as np\n",
        "\n",
        "import warnings\n",
        "warnings.filterwarnings('ignore')\n",
        "\n",
        "from sklearn.model_selection import train_test_split\n",
        "from matplotlib import pyplot as plt\n",
        "%matplotlib inline\n"
      ]
    },
    {
      "cell_type": "code",
      "source": [
        "from google.colab import drive\n",
        "\n",
        "drive.mount('/content/drive')"
      ],
      "metadata": {
        "colab": {
          "base_uri": "https://localhost:8080/"
        },
        "id": "MoVGK-1QaYXP",
        "outputId": "90e3461e-6311-49fc-855b-77480b390935"
      },
      "execution_count": 6,
      "outputs": [
        {
          "output_type": "stream",
          "name": "stdout",
          "text": [
            "Drive already mounted at /content/drive; to attempt to forcibly remount, call drive.mount(\"/content/drive\", force_remount=True).\n"
          ]
        }
      ]
    },
    {
      "cell_type": "code",
      "source": [
        "train_data = pd.read_pickle('/content/drive/MyDrive/project/data_multimodal.pkl')\n",
        "train_data"
      ],
      "metadata": {
        "colab": {
          "base_uri": "https://localhost:8080/",
          "height": 419
        },
        "id": "BdEuTkFAaawC",
        "outputId": "7de3e191-8245-42f1-fc35-4616069bc890"
      },
      "execution_count": 8,
      "outputs": [
        {
          "output_type": "execute_result",
          "data": {
            "text/plain": [
              "                                                 images       id  \\\n",
              "0     [[[18, 24, 19], [19, 24, 22], [25, 30, 29], [3...  cds1cls   \n",
              "1     [[[255, 255, 255], [255, 255, 255], [255, 255,...  cob0dcf   \n",
              "2     [[[254, 220, 134], [255, 223, 140], [255, 222,...   csl85z   \n",
              "3     [[[196, 196, 196], [196, 196, 196], [196, 196,...   dcqujt   \n",
              "4     [[[216, 197, 159], [209, 190, 150], [216, 198,...   b0gc3d   \n",
              "...                                                 ...      ...   \n",
              "5077  [[[105, 114, 128], [113, 122, 136], [113, 122,...   c7dobn   \n",
              "5078  [[[13, 5, 6], [15, 6, 7], [15, 7, 8], [14, 7, ...   crczvy   \n",
              "5079  [[[117, 116, 208], [103, 103, 201], [106, 107,...   byh5dw   \n",
              "5080  [[[255, 255, 255], [255, 254, 254], [255, 255,...   9fb69a   \n",
              "5081  [[[7, 9, 10], [7, 9, 10], [6, 8, 9], [5, 7, 8]...   blqg9q   \n",
              "\n",
              "                                            clean_title  2_way_label  \n",
              "0                                             body slam            0  \n",
              "1                            im not really good at this            0  \n",
              "2     bureau of prisons chief removed in wake of jef...            1  \n",
              "3     nasa news an incredible black hole appeared on...            0  \n",
              "4     this loadbearing piece of wood eaten by termit...            1  \n",
              "...                                                 ...          ...  \n",
              "5077  the reinforcement on these identical pieces of...            1  \n",
              "5078  at halftime of sdsus basketball game they auct...            1  \n",
              "5079                                   revolution syria            0  \n",
              "5080  this spider on my back porch disguises itself ...            1  \n",
              "5081  in just over two years the copper in my iems h...            1  \n",
              "\n",
              "[5082 rows x 4 columns]"
            ],
            "text/html": [
              "\n",
              "  <div id=\"df-03c8199a-9336-4422-93cd-e28b2ea24867\">\n",
              "    <div class=\"colab-df-container\">\n",
              "      <div>\n",
              "<style scoped>\n",
              "    .dataframe tbody tr th:only-of-type {\n",
              "        vertical-align: middle;\n",
              "    }\n",
              "\n",
              "    .dataframe tbody tr th {\n",
              "        vertical-align: top;\n",
              "    }\n",
              "\n",
              "    .dataframe thead th {\n",
              "        text-align: right;\n",
              "    }\n",
              "</style>\n",
              "<table border=\"1\" class=\"dataframe\">\n",
              "  <thead>\n",
              "    <tr style=\"text-align: right;\">\n",
              "      <th></th>\n",
              "      <th>images</th>\n",
              "      <th>id</th>\n",
              "      <th>clean_title</th>\n",
              "      <th>2_way_label</th>\n",
              "    </tr>\n",
              "  </thead>\n",
              "  <tbody>\n",
              "    <tr>\n",
              "      <th>0</th>\n",
              "      <td>[[[18, 24, 19], [19, 24, 22], [25, 30, 29], [3...</td>\n",
              "      <td>cds1cls</td>\n",
              "      <td>body slam</td>\n",
              "      <td>0</td>\n",
              "    </tr>\n",
              "    <tr>\n",
              "      <th>1</th>\n",
              "      <td>[[[255, 255, 255], [255, 255, 255], [255, 255,...</td>\n",
              "      <td>cob0dcf</td>\n",
              "      <td>im not really good at this</td>\n",
              "      <td>0</td>\n",
              "    </tr>\n",
              "    <tr>\n",
              "      <th>2</th>\n",
              "      <td>[[[254, 220, 134], [255, 223, 140], [255, 222,...</td>\n",
              "      <td>csl85z</td>\n",
              "      <td>bureau of prisons chief removed in wake of jef...</td>\n",
              "      <td>1</td>\n",
              "    </tr>\n",
              "    <tr>\n",
              "      <th>3</th>\n",
              "      <td>[[[196, 196, 196], [196, 196, 196], [196, 196,...</td>\n",
              "      <td>dcqujt</td>\n",
              "      <td>nasa news an incredible black hole appeared on...</td>\n",
              "      <td>0</td>\n",
              "    </tr>\n",
              "    <tr>\n",
              "      <th>4</th>\n",
              "      <td>[[[216, 197, 159], [209, 190, 150], [216, 198,...</td>\n",
              "      <td>b0gc3d</td>\n",
              "      <td>this loadbearing piece of wood eaten by termit...</td>\n",
              "      <td>1</td>\n",
              "    </tr>\n",
              "    <tr>\n",
              "      <th>...</th>\n",
              "      <td>...</td>\n",
              "      <td>...</td>\n",
              "      <td>...</td>\n",
              "      <td>...</td>\n",
              "    </tr>\n",
              "    <tr>\n",
              "      <th>5077</th>\n",
              "      <td>[[[105, 114, 128], [113, 122, 136], [113, 122,...</td>\n",
              "      <td>c7dobn</td>\n",
              "      <td>the reinforcement on these identical pieces of...</td>\n",
              "      <td>1</td>\n",
              "    </tr>\n",
              "    <tr>\n",
              "      <th>5078</th>\n",
              "      <td>[[[13, 5, 6], [15, 6, 7], [15, 7, 8], [14, 7, ...</td>\n",
              "      <td>crczvy</td>\n",
              "      <td>at halftime of sdsus basketball game they auct...</td>\n",
              "      <td>1</td>\n",
              "    </tr>\n",
              "    <tr>\n",
              "      <th>5079</th>\n",
              "      <td>[[[117, 116, 208], [103, 103, 201], [106, 107,...</td>\n",
              "      <td>byh5dw</td>\n",
              "      <td>revolution syria</td>\n",
              "      <td>0</td>\n",
              "    </tr>\n",
              "    <tr>\n",
              "      <th>5080</th>\n",
              "      <td>[[[255, 255, 255], [255, 254, 254], [255, 255,...</td>\n",
              "      <td>9fb69a</td>\n",
              "      <td>this spider on my back porch disguises itself ...</td>\n",
              "      <td>1</td>\n",
              "    </tr>\n",
              "    <tr>\n",
              "      <th>5081</th>\n",
              "      <td>[[[7, 9, 10], [7, 9, 10], [6, 8, 9], [5, 7, 8]...</td>\n",
              "      <td>blqg9q</td>\n",
              "      <td>in just over two years the copper in my iems h...</td>\n",
              "      <td>1</td>\n",
              "    </tr>\n",
              "  </tbody>\n",
              "</table>\n",
              "<p>5082 rows × 4 columns</p>\n",
              "</div>\n",
              "      <button class=\"colab-df-convert\" onclick=\"convertToInteractive('df-03c8199a-9336-4422-93cd-e28b2ea24867')\"\n",
              "              title=\"Convert this dataframe to an interactive table.\"\n",
              "              style=\"display:none;\">\n",
              "        \n",
              "  <svg xmlns=\"http://www.w3.org/2000/svg\" height=\"24px\"viewBox=\"0 0 24 24\"\n",
              "       width=\"24px\">\n",
              "    <path d=\"M0 0h24v24H0V0z\" fill=\"none\"/>\n",
              "    <path d=\"M18.56 5.44l.94 2.06.94-2.06 2.06-.94-2.06-.94-.94-2.06-.94 2.06-2.06.94zm-11 1L8.5 8.5l.94-2.06 2.06-.94-2.06-.94L8.5 2.5l-.94 2.06-2.06.94zm10 10l.94 2.06.94-2.06 2.06-.94-2.06-.94-.94-2.06-.94 2.06-2.06.94z\"/><path d=\"M17.41 7.96l-1.37-1.37c-.4-.4-.92-.59-1.43-.59-.52 0-1.04.2-1.43.59L10.3 9.45l-7.72 7.72c-.78.78-.78 2.05 0 2.83L4 21.41c.39.39.9.59 1.41.59.51 0 1.02-.2 1.41-.59l7.78-7.78 2.81-2.81c.8-.78.8-2.07 0-2.86zM5.41 20L4 18.59l7.72-7.72 1.47 1.35L5.41 20z\"/>\n",
              "  </svg>\n",
              "      </button>\n",
              "      \n",
              "  <style>\n",
              "    .colab-df-container {\n",
              "      display:flex;\n",
              "      flex-wrap:wrap;\n",
              "      gap: 12px;\n",
              "    }\n",
              "\n",
              "    .colab-df-convert {\n",
              "      background-color: #E8F0FE;\n",
              "      border: none;\n",
              "      border-radius: 50%;\n",
              "      cursor: pointer;\n",
              "      display: none;\n",
              "      fill: #1967D2;\n",
              "      height: 32px;\n",
              "      padding: 0 0 0 0;\n",
              "      width: 32px;\n",
              "    }\n",
              "\n",
              "    .colab-df-convert:hover {\n",
              "      background-color: #E2EBFA;\n",
              "      box-shadow: 0px 1px 2px rgba(60, 64, 67, 0.3), 0px 1px 3px 1px rgba(60, 64, 67, 0.15);\n",
              "      fill: #174EA6;\n",
              "    }\n",
              "\n",
              "    [theme=dark] .colab-df-convert {\n",
              "      background-color: #3B4455;\n",
              "      fill: #D2E3FC;\n",
              "    }\n",
              "\n",
              "    [theme=dark] .colab-df-convert:hover {\n",
              "      background-color: #434B5C;\n",
              "      box-shadow: 0px 1px 3px 1px rgba(0, 0, 0, 0.15);\n",
              "      filter: drop-shadow(0px 1px 2px rgba(0, 0, 0, 0.3));\n",
              "      fill: #FFFFFF;\n",
              "    }\n",
              "  </style>\n",
              "\n",
              "      <script>\n",
              "        const buttonEl =\n",
              "          document.querySelector('#df-03c8199a-9336-4422-93cd-e28b2ea24867 button.colab-df-convert');\n",
              "        buttonEl.style.display =\n",
              "          google.colab.kernel.accessAllowed ? 'block' : 'none';\n",
              "\n",
              "        async function convertToInteractive(key) {\n",
              "          const element = document.querySelector('#df-03c8199a-9336-4422-93cd-e28b2ea24867');\n",
              "          const dataTable =\n",
              "            await google.colab.kernel.invokeFunction('convertToInteractive',\n",
              "                                                     [key], {});\n",
              "          if (!dataTable) return;\n",
              "\n",
              "          const docLinkHtml = 'Like what you see? Visit the ' +\n",
              "            '<a target=\"_blank\" href=https://colab.research.google.com/notebooks/data_table.ipynb>data table notebook</a>'\n",
              "            + ' to learn more about interactive tables.';\n",
              "          element.innerHTML = '';\n",
              "          dataTable['output_type'] = 'display_data';\n",
              "          await google.colab.output.renderOutput(dataTable, element);\n",
              "          const docLink = document.createElement('div');\n",
              "          docLink.innerHTML = docLinkHtml;\n",
              "          element.appendChild(docLink);\n",
              "        }\n",
              "      </script>\n",
              "    </div>\n",
              "  </div>\n",
              "  "
            ]
          },
          "metadata": {},
          "execution_count": 8
        }
      ]
    },
    {
      "cell_type": "code",
      "source": [
        "# splitting dataframe by row index\n",
        "df_test= train_data.iloc[:945,:]\n",
        "df_train = train_data.iloc[945:,:]"
      ],
      "metadata": {
        "id": "udc81wH5eCT5"
      },
      "execution_count": 13,
      "outputs": []
    },
    {
      "cell_type": "code",
      "source": [
        "df_train= df_train[['clean_title','2_way_label']]\n",
        "df_test = df_test[['clean_title','2_way_label']]\n",
        "df_train"
      ],
      "metadata": {
        "colab": {
          "base_uri": "https://localhost:8080/",
          "height": 419
        },
        "id": "EWSaFN5EagNU",
        "outputId": "c1fe0f7f-dbf5-4ff4-ad39-7b7c906e83e5"
      },
      "execution_count": 14,
      "outputs": [
        {
          "output_type": "execute_result",
          "data": {
            "text/plain": [
              "                                            clean_title  2_way_label\n",
              "945   trump invites putin to washington despite us u...            1\n",
              "946   this little guy was sleeping right next to my ...            1\n",
              "947                      a lightshade or an evil entity            0\n",
              "948                move along nothing to see here folks            0\n",
              "949                                             cutouts            0\n",
              "...                                                 ...          ...\n",
              "5077  the reinforcement on these identical pieces of...            1\n",
              "5078  at halftime of sdsus basketball game they auct...            1\n",
              "5079                                   revolution syria            0\n",
              "5080  this spider on my back porch disguises itself ...            1\n",
              "5081  in just over two years the copper in my iems h...            1\n",
              "\n",
              "[4137 rows x 2 columns]"
            ],
            "text/html": [
              "\n",
              "  <div id=\"df-c7a1a6bf-cdc2-4e58-99a8-6f413577cf61\">\n",
              "    <div class=\"colab-df-container\">\n",
              "      <div>\n",
              "<style scoped>\n",
              "    .dataframe tbody tr th:only-of-type {\n",
              "        vertical-align: middle;\n",
              "    }\n",
              "\n",
              "    .dataframe tbody tr th {\n",
              "        vertical-align: top;\n",
              "    }\n",
              "\n",
              "    .dataframe thead th {\n",
              "        text-align: right;\n",
              "    }\n",
              "</style>\n",
              "<table border=\"1\" class=\"dataframe\">\n",
              "  <thead>\n",
              "    <tr style=\"text-align: right;\">\n",
              "      <th></th>\n",
              "      <th>clean_title</th>\n",
              "      <th>2_way_label</th>\n",
              "    </tr>\n",
              "  </thead>\n",
              "  <tbody>\n",
              "    <tr>\n",
              "      <th>945</th>\n",
              "      <td>trump invites putin to washington despite us u...</td>\n",
              "      <td>1</td>\n",
              "    </tr>\n",
              "    <tr>\n",
              "      <th>946</th>\n",
              "      <td>this little guy was sleeping right next to my ...</td>\n",
              "      <td>1</td>\n",
              "    </tr>\n",
              "    <tr>\n",
              "      <th>947</th>\n",
              "      <td>a lightshade or an evil entity</td>\n",
              "      <td>0</td>\n",
              "    </tr>\n",
              "    <tr>\n",
              "      <th>948</th>\n",
              "      <td>move along nothing to see here folks</td>\n",
              "      <td>0</td>\n",
              "    </tr>\n",
              "    <tr>\n",
              "      <th>949</th>\n",
              "      <td>cutouts</td>\n",
              "      <td>0</td>\n",
              "    </tr>\n",
              "    <tr>\n",
              "      <th>...</th>\n",
              "      <td>...</td>\n",
              "      <td>...</td>\n",
              "    </tr>\n",
              "    <tr>\n",
              "      <th>5077</th>\n",
              "      <td>the reinforcement on these identical pieces of...</td>\n",
              "      <td>1</td>\n",
              "    </tr>\n",
              "    <tr>\n",
              "      <th>5078</th>\n",
              "      <td>at halftime of sdsus basketball game they auct...</td>\n",
              "      <td>1</td>\n",
              "    </tr>\n",
              "    <tr>\n",
              "      <th>5079</th>\n",
              "      <td>revolution syria</td>\n",
              "      <td>0</td>\n",
              "    </tr>\n",
              "    <tr>\n",
              "      <th>5080</th>\n",
              "      <td>this spider on my back porch disguises itself ...</td>\n",
              "      <td>1</td>\n",
              "    </tr>\n",
              "    <tr>\n",
              "      <th>5081</th>\n",
              "      <td>in just over two years the copper in my iems h...</td>\n",
              "      <td>1</td>\n",
              "    </tr>\n",
              "  </tbody>\n",
              "</table>\n",
              "<p>4137 rows × 2 columns</p>\n",
              "</div>\n",
              "      <button class=\"colab-df-convert\" onclick=\"convertToInteractive('df-c7a1a6bf-cdc2-4e58-99a8-6f413577cf61')\"\n",
              "              title=\"Convert this dataframe to an interactive table.\"\n",
              "              style=\"display:none;\">\n",
              "        \n",
              "  <svg xmlns=\"http://www.w3.org/2000/svg\" height=\"24px\"viewBox=\"0 0 24 24\"\n",
              "       width=\"24px\">\n",
              "    <path d=\"M0 0h24v24H0V0z\" fill=\"none\"/>\n",
              "    <path d=\"M18.56 5.44l.94 2.06.94-2.06 2.06-.94-2.06-.94-.94-2.06-.94 2.06-2.06.94zm-11 1L8.5 8.5l.94-2.06 2.06-.94-2.06-.94L8.5 2.5l-.94 2.06-2.06.94zm10 10l.94 2.06.94-2.06 2.06-.94-2.06-.94-.94-2.06-.94 2.06-2.06.94z\"/><path d=\"M17.41 7.96l-1.37-1.37c-.4-.4-.92-.59-1.43-.59-.52 0-1.04.2-1.43.59L10.3 9.45l-7.72 7.72c-.78.78-.78 2.05 0 2.83L4 21.41c.39.39.9.59 1.41.59.51 0 1.02-.2 1.41-.59l7.78-7.78 2.81-2.81c.8-.78.8-2.07 0-2.86zM5.41 20L4 18.59l7.72-7.72 1.47 1.35L5.41 20z\"/>\n",
              "  </svg>\n",
              "      </button>\n",
              "      \n",
              "  <style>\n",
              "    .colab-df-container {\n",
              "      display:flex;\n",
              "      flex-wrap:wrap;\n",
              "      gap: 12px;\n",
              "    }\n",
              "\n",
              "    .colab-df-convert {\n",
              "      background-color: #E8F0FE;\n",
              "      border: none;\n",
              "      border-radius: 50%;\n",
              "      cursor: pointer;\n",
              "      display: none;\n",
              "      fill: #1967D2;\n",
              "      height: 32px;\n",
              "      padding: 0 0 0 0;\n",
              "      width: 32px;\n",
              "    }\n",
              "\n",
              "    .colab-df-convert:hover {\n",
              "      background-color: #E2EBFA;\n",
              "      box-shadow: 0px 1px 2px rgba(60, 64, 67, 0.3), 0px 1px 3px 1px rgba(60, 64, 67, 0.15);\n",
              "      fill: #174EA6;\n",
              "    }\n",
              "\n",
              "    [theme=dark] .colab-df-convert {\n",
              "      background-color: #3B4455;\n",
              "      fill: #D2E3FC;\n",
              "    }\n",
              "\n",
              "    [theme=dark] .colab-df-convert:hover {\n",
              "      background-color: #434B5C;\n",
              "      box-shadow: 0px 1px 3px 1px rgba(0, 0, 0, 0.15);\n",
              "      filter: drop-shadow(0px 1px 2px rgba(0, 0, 0, 0.3));\n",
              "      fill: #FFFFFF;\n",
              "    }\n",
              "  </style>\n",
              "\n",
              "      <script>\n",
              "        const buttonEl =\n",
              "          document.querySelector('#df-c7a1a6bf-cdc2-4e58-99a8-6f413577cf61 button.colab-df-convert');\n",
              "        buttonEl.style.display =\n",
              "          google.colab.kernel.accessAllowed ? 'block' : 'none';\n",
              "\n",
              "        async function convertToInteractive(key) {\n",
              "          const element = document.querySelector('#df-c7a1a6bf-cdc2-4e58-99a8-6f413577cf61');\n",
              "          const dataTable =\n",
              "            await google.colab.kernel.invokeFunction('convertToInteractive',\n",
              "                                                     [key], {});\n",
              "          if (!dataTable) return;\n",
              "\n",
              "          const docLinkHtml = 'Like what you see? Visit the ' +\n",
              "            '<a target=\"_blank\" href=https://colab.research.google.com/notebooks/data_table.ipynb>data table notebook</a>'\n",
              "            + ' to learn more about interactive tables.';\n",
              "          element.innerHTML = '';\n",
              "          dataTable['output_type'] = 'display_data';\n",
              "          await google.colab.output.renderOutput(dataTable, element);\n",
              "          const docLink = document.createElement('div');\n",
              "          docLink.innerHTML = docLinkHtml;\n",
              "          element.appendChild(docLink);\n",
              "        }\n",
              "      </script>\n",
              "    </div>\n",
              "  </div>\n",
              "  "
            ]
          },
          "metadata": {},
          "execution_count": 14
        }
      ]
    },
    {
      "cell_type": "code",
      "source": [
        "from sklearn.utils import shuffle\n",
        "\n",
        "def xy_data(data):\n",
        "\n",
        "  data.reset_index(inplace=True, drop=True)\n",
        "\n",
        "  x_features = data['clean_title']\n",
        "  \n",
        "  y = data['2_way_label']\n",
        "  \n",
        "  display(x_features.head())\n",
        "  display(y.head())\n",
        "\n",
        "  return x_features, y\n",
        "\n",
        "X_train_t, y_train_t = xy_data(df_train)\n",
        " \n",
        "X_test_t, y_test_t = xy_data(df_test)"
      ],
      "metadata": {
        "colab": {
          "base_uri": "https://localhost:8080/",
          "height": 425
        },
        "id": "HUF7jKG5c8s-",
        "outputId": "223a8654-b147-4169-e401-3af0a0e6255f"
      },
      "execution_count": 15,
      "outputs": [
        {
          "output_type": "display_data",
          "data": {
            "text/plain": [
              "0    trump invites putin to washington despite us u...\n",
              "1    this little guy was sleeping right next to my ...\n",
              "2                       a lightshade or an evil entity\n",
              "3                 move along nothing to see here folks\n",
              "4                                              cutouts\n",
              "Name: clean_title, dtype: object"
            ]
          },
          "metadata": {}
        },
        {
          "output_type": "display_data",
          "data": {
            "text/plain": [
              "0    1\n",
              "1    1\n",
              "2    0\n",
              "3    0\n",
              "4    0\n",
              "Name: 2_way_label, dtype: int64"
            ]
          },
          "metadata": {}
        },
        {
          "output_type": "display_data",
          "data": {
            "text/plain": [
              "0                                            body slam\n",
              "1                           im not really good at this\n",
              "2    bureau of prisons chief removed in wake of jef...\n",
              "3    nasa news an incredible black hole appeared on...\n",
              "4    this loadbearing piece of wood eaten by termit...\n",
              "Name: clean_title, dtype: object"
            ]
          },
          "metadata": {}
        },
        {
          "output_type": "display_data",
          "data": {
            "text/plain": [
              "0    0\n",
              "1    0\n",
              "2    1\n",
              "3    0\n",
              "4    1\n",
              "Name: 2_way_label, dtype: int64"
            ]
          },
          "metadata": {}
        }
      ]
    },
    {
      "cell_type": "markdown",
      "source": [
        "# Tokenizer \n",
        "\n",
        "fit_on_texts  - Updates internal vocabulary depending \n",
        "on a list of texts. Based on word frequency, this technique generates the vocabulary index. Every word will be assigned a distinct integer value in a dictionary that is created as a word -> index dictionary. Padding is allocated for 0. Lower integer hence indicates more frequent term (often the first few are stop words because they appear a lot).\n",
        "\n",
        "texts to sequences - Converts each text in texts into an integer sequence. Consequently, it essentially replaces each word in the text with its associated integer value from the word index dictionary."
      ],
      "metadata": {
        "id": "Ro6vzUw3f_WA"
      }
    },
    {
      "cell_type": "code",
      "source": [
        "from keras.preprocessing.text import Tokenizer\n",
        "\n",
        "from keras_preprocessing.sequence import pad_sequences\n",
        "\n",
        "tokenizer = Tokenizer()\n",
        "tokenizer.fit_on_texts(X_train_t)\n",
        "\n",
        "X_train_t = tokenizer.texts_to_sequences(X_train_t)\n",
        "X_test_t = tokenizer.texts_to_sequences(X_test_t)\n",
        "\n",
        "vocab_size = len(tokenizer.word_index) + 1\n",
        "\n",
        "maxlen = 300\n",
        "\n",
        "X_train_t = pad_sequences(X_train_t, padding='post', maxlen=maxlen)\n",
        "X_test_t= pad_sequences(X_test_t, padding='post', maxlen=maxlen)"
      ],
      "metadata": {
        "id": "dooP8TaPdb9f"
      },
      "execution_count": 16,
      "outputs": []
    },
    {
      "cell_type": "code",
      "source": [
        "#save the train features for later use\n",
        "\n",
        "with open('train_features_text.pkl', 'wb') as df_file:\n",
        "  pickle.dump(X_train_t, file = df_file)"
      ],
      "metadata": {
        "id": "qoHeyytPfRP1"
      },
      "execution_count": 19,
      "outputs": []
    },
    {
      "cell_type": "code",
      "source": [
        "#save the test features for later use\n",
        "\n",
        "with open('test_features_text.pkl', 'wb') as df_file:\n",
        "  pickle.dump(X_test_t, file = df_file)"
      ],
      "metadata": {
        "id": "BEHrFxkMffwE"
      },
      "execution_count": 20,
      "outputs": []
    },
    {
      "cell_type": "code",
      "source": [
        "#save the train labels for later use\n",
        "\n",
        "with open('train_labels.pkl', 'wb') as df_file:\n",
        "  pickle.dump(y_train_t, file = df_file)"
      ],
      "metadata": {
        "id": "NZDU0SBVfmWD"
      },
      "execution_count": 21,
      "outputs": []
    },
    {
      "cell_type": "code",
      "source": [
        "#save the test labels for later use\n",
        "\n",
        "with open('test_labels.pkl', 'wb') as df_file:\n",
        "  pickle.dump(y_test_t, file = df_file)"
      ],
      "metadata": {
        "id": "WfIbfy1ef2B1"
      },
      "execution_count": 22,
      "outputs": []
    },
    {
      "cell_type": "code",
      "source": [],
      "metadata": {
        "id": "KNKVmyyPf6te"
      },
      "execution_count": null,
      "outputs": []
    }
  ]
}