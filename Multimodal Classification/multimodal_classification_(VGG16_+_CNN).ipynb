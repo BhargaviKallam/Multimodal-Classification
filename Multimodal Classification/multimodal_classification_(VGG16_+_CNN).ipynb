{
  "nbformat": 4,
  "nbformat_minor": 0,
  "metadata": {
    "colab": {
      "provenance": []
    },
    "kernelspec": {
      "name": "python3",
      "display_name": "Python 3"
    },
    "language_info": {
      "name": "python"
    }
  },
  "cells": [
    {
      "cell_type": "code",
      "execution_count": 1,
      "metadata": {
        "id": "lvZ-5X3gob6w"
      },
      "outputs": [],
      "source": [
        "# necessary packages\n",
        "import tensorflow as tf\n",
        "import pickle\n",
        "\n",
        "import pandas as pd \n",
        "import numpy as np\n",
        "\n",
        "import os\n",
        "import sys\n",
        "\n",
        "import warnings\n",
        "warnings.filterwarnings('ignore')\n",
        "\n",
        "from skimage.io import imread\n",
        "from sklearn.model_selection import train_test_split\n",
        "from matplotlib import pyplot as plt\n",
        "%matplotlib inline\n",
        "\n",
        "import keras\n",
        "from keras import optimizers\n",
        "from keras.utils import to_categorical\n",
        "from keras.layers import Input, Dense, Flatten, Dropout, Conv2D, MaxPooling2D, Activation, concatenate\n",
        "from keras.models import Model\n",
        "from keras.callbacks import ModelCheckpoint\n",
        "\n",
        "\n",
        "from sklearn.metrics import accuracy_score, f1_score, precision_score, recall_score\n",
        "from sklearn.metrics import confusion_matrix\n"
      ]
    },
    {
      "cell_type": "code",
      "source": [
        "from google.colab import drive\n",
        "\n",
        "drive.mount('/content/drive')"
      ],
      "metadata": {
        "colab": {
          "base_uri": "https://localhost:8080/"
        },
        "id": "o3iQUWcPoh90",
        "outputId": "073093d2-991a-4459-fdef-96494ec41db5"
      },
      "execution_count": 2,
      "outputs": [
        {
          "output_type": "stream",
          "name": "stdout",
          "text": [
            "Drive already mounted at /content/drive; to attempt to forcibly remount, call drive.mount(\"/content/drive\", force_remount=True).\n"
          ]
        }
      ]
    },
    {
      "cell_type": "code",
      "source": [
        "cd '/content/drive/MyDrive/project/'"
      ],
      "metadata": {
        "colab": {
          "base_uri": "https://localhost:8080/"
        },
        "id": "XPcLmD6BGQ8X",
        "outputId": "f1217bde-a33e-48a3-b096-e40217903d5b"
      },
      "execution_count": 3,
      "outputs": [
        {
          "output_type": "stream",
          "name": "stdout",
          "text": [
            "/content/drive/MyDrive/project\n"
          ]
        }
      ]
    },
    {
      "cell_type": "markdown",
      "source": [
        "# Data:\n",
        " Creating Dataframe for with both text and image data to match final labels with images using img_name as id."
      ],
      "metadata": {
        "id": "7qOjEpf1ai0X"
      }
    },
    {
      "cell_type": "code",
      "source": [
        "import cv2\n",
        "import os\n",
        "import numpy as np\n",
        "\n",
        "def load_images_from_folder(folder):\n",
        "    images = []\n",
        "    image_name = []\n",
        "    for filename in os.listdir(folder):\n",
        "        img = cv2.imread(os.path.join(folder,filename))\n",
        "\n",
        "        if img is not None:\n",
        "            img=cv2.resize(img,(224,224),interpolation=cv2.INTER_AREA)\n",
        "            images.append(img)\n",
        "            filename = filename.replace('.jpg', '')\n",
        "            image_name.append(filename)\n",
        "    return images, image_name\n",
        "\n",
        "images_lst, image_names = load_images_from_folder('/content/drive/MyDrive/project/images')"
      ],
      "metadata": {
        "id": "KKE-N2cMq7Qb"
      },
      "execution_count": 4,
      "outputs": []
    },
    {
      "cell_type": "code",
      "source": [
        "print(\"shape of the original data\",np.array(images_lst).shape)"
      ],
      "metadata": {
        "colab": {
          "base_uri": "https://localhost:8080/"
        },
        "id": "M9UBhHPVrtxk",
        "outputId": "208bb3b9-bfe2-4b92-9908-e824adf0e827"
      },
      "execution_count": 5,
      "outputs": [
        {
          "output_type": "stream",
          "name": "stdout",
          "text": [
            "shape of the original data (3134, 224, 224, 3)\n"
          ]
        }
      ]
    },
    {
      "cell_type": "code",
      "source": [
        "train_data = pd.read_pickle('/content/drive/MyDrive/project/multimodal_text')\n",
        "train_data"
      ],
      "metadata": {
        "colab": {
          "base_uri": "https://localhost:8080/",
          "height": 419
        },
        "id": "5mYTNCCdbmkH",
        "outputId": "01d9afc2-4f60-419f-9b98-2791c941bf13"
      },
      "execution_count": 6,
      "outputs": [
        {
          "output_type": "execute_result",
          "data": {
            "text/plain": [
              "           id                                        clean_title  2_way_label\n",
              "0     cozywbv                                          stargazer            0\n",
              "1     ctk61yw                                               yeah            0\n",
              "2      c0gl7r  pd phoenix car thief gets instructions from yo...            1\n",
              "3      c0xdqy  as trump accuses iran he has one problem his o...            1\n",
              "4      7o9rmx                                believers hezbollah            0\n",
              "...       ...                                                ...          ...\n",
              "3237   1ugqlf                 toronto sunset just before a storm            1\n",
              "3238  cb1aome                                            sing it            0\n",
              "3239  cns9pd3                   time to give someone else a turn            0\n",
              "3240   bws81n                            this sleeping snowy owl            1\n",
              "3241   47lj03  mississippi governor declares confederate heri...            1\n",
              "\n",
              "[3242 rows x 3 columns]"
            ],
            "text/html": [
              "\n",
              "  <div id=\"df-89ce61cb-b662-4c0c-8844-a89130a01f5d\">\n",
              "    <div class=\"colab-df-container\">\n",
              "      <div>\n",
              "<style scoped>\n",
              "    .dataframe tbody tr th:only-of-type {\n",
              "        vertical-align: middle;\n",
              "    }\n",
              "\n",
              "    .dataframe tbody tr th {\n",
              "        vertical-align: top;\n",
              "    }\n",
              "\n",
              "    .dataframe thead th {\n",
              "        text-align: right;\n",
              "    }\n",
              "</style>\n",
              "<table border=\"1\" class=\"dataframe\">\n",
              "  <thead>\n",
              "    <tr style=\"text-align: right;\">\n",
              "      <th></th>\n",
              "      <th>id</th>\n",
              "      <th>clean_title</th>\n",
              "      <th>2_way_label</th>\n",
              "    </tr>\n",
              "  </thead>\n",
              "  <tbody>\n",
              "    <tr>\n",
              "      <th>0</th>\n",
              "      <td>cozywbv</td>\n",
              "      <td>stargazer</td>\n",
              "      <td>0</td>\n",
              "    </tr>\n",
              "    <tr>\n",
              "      <th>1</th>\n",
              "      <td>ctk61yw</td>\n",
              "      <td>yeah</td>\n",
              "      <td>0</td>\n",
              "    </tr>\n",
              "    <tr>\n",
              "      <th>2</th>\n",
              "      <td>c0gl7r</td>\n",
              "      <td>pd phoenix car thief gets instructions from yo...</td>\n",
              "      <td>1</td>\n",
              "    </tr>\n",
              "    <tr>\n",
              "      <th>3</th>\n",
              "      <td>c0xdqy</td>\n",
              "      <td>as trump accuses iran he has one problem his o...</td>\n",
              "      <td>1</td>\n",
              "    </tr>\n",
              "    <tr>\n",
              "      <th>4</th>\n",
              "      <td>7o9rmx</td>\n",
              "      <td>believers hezbollah</td>\n",
              "      <td>0</td>\n",
              "    </tr>\n",
              "    <tr>\n",
              "      <th>...</th>\n",
              "      <td>...</td>\n",
              "      <td>...</td>\n",
              "      <td>...</td>\n",
              "    </tr>\n",
              "    <tr>\n",
              "      <th>3237</th>\n",
              "      <td>1ugqlf</td>\n",
              "      <td>toronto sunset just before a storm</td>\n",
              "      <td>1</td>\n",
              "    </tr>\n",
              "    <tr>\n",
              "      <th>3238</th>\n",
              "      <td>cb1aome</td>\n",
              "      <td>sing it</td>\n",
              "      <td>0</td>\n",
              "    </tr>\n",
              "    <tr>\n",
              "      <th>3239</th>\n",
              "      <td>cns9pd3</td>\n",
              "      <td>time to give someone else a turn</td>\n",
              "      <td>0</td>\n",
              "    </tr>\n",
              "    <tr>\n",
              "      <th>3240</th>\n",
              "      <td>bws81n</td>\n",
              "      <td>this sleeping snowy owl</td>\n",
              "      <td>1</td>\n",
              "    </tr>\n",
              "    <tr>\n",
              "      <th>3241</th>\n",
              "      <td>47lj03</td>\n",
              "      <td>mississippi governor declares confederate heri...</td>\n",
              "      <td>1</td>\n",
              "    </tr>\n",
              "  </tbody>\n",
              "</table>\n",
              "<p>3242 rows × 3 columns</p>\n",
              "</div>\n",
              "      <button class=\"colab-df-convert\" onclick=\"convertToInteractive('df-89ce61cb-b662-4c0c-8844-a89130a01f5d')\"\n",
              "              title=\"Convert this dataframe to an interactive table.\"\n",
              "              style=\"display:none;\">\n",
              "        \n",
              "  <svg xmlns=\"http://www.w3.org/2000/svg\" height=\"24px\"viewBox=\"0 0 24 24\"\n",
              "       width=\"24px\">\n",
              "    <path d=\"M0 0h24v24H0V0z\" fill=\"none\"/>\n",
              "    <path d=\"M18.56 5.44l.94 2.06.94-2.06 2.06-.94-2.06-.94-.94-2.06-.94 2.06-2.06.94zm-11 1L8.5 8.5l.94-2.06 2.06-.94-2.06-.94L8.5 2.5l-.94 2.06-2.06.94zm10 10l.94 2.06.94-2.06 2.06-.94-2.06-.94-.94-2.06-.94 2.06-2.06.94z\"/><path d=\"M17.41 7.96l-1.37-1.37c-.4-.4-.92-.59-1.43-.59-.52 0-1.04.2-1.43.59L10.3 9.45l-7.72 7.72c-.78.78-.78 2.05 0 2.83L4 21.41c.39.39.9.59 1.41.59.51 0 1.02-.2 1.41-.59l7.78-7.78 2.81-2.81c.8-.78.8-2.07 0-2.86zM5.41 20L4 18.59l7.72-7.72 1.47 1.35L5.41 20z\"/>\n",
              "  </svg>\n",
              "      </button>\n",
              "      \n",
              "  <style>\n",
              "    .colab-df-container {\n",
              "      display:flex;\n",
              "      flex-wrap:wrap;\n",
              "      gap: 12px;\n",
              "    }\n",
              "\n",
              "    .colab-df-convert {\n",
              "      background-color: #E8F0FE;\n",
              "      border: none;\n",
              "      border-radius: 50%;\n",
              "      cursor: pointer;\n",
              "      display: none;\n",
              "      fill: #1967D2;\n",
              "      height: 32px;\n",
              "      padding: 0 0 0 0;\n",
              "      width: 32px;\n",
              "    }\n",
              "\n",
              "    .colab-df-convert:hover {\n",
              "      background-color: #E2EBFA;\n",
              "      box-shadow: 0px 1px 2px rgba(60, 64, 67, 0.3), 0px 1px 3px 1px rgba(60, 64, 67, 0.15);\n",
              "      fill: #174EA6;\n",
              "    }\n",
              "\n",
              "    [theme=dark] .colab-df-convert {\n",
              "      background-color: #3B4455;\n",
              "      fill: #D2E3FC;\n",
              "    }\n",
              "\n",
              "    [theme=dark] .colab-df-convert:hover {\n",
              "      background-color: #434B5C;\n",
              "      box-shadow: 0px 1px 3px 1px rgba(0, 0, 0, 0.15);\n",
              "      filter: drop-shadow(0px 1px 2px rgba(0, 0, 0, 0.3));\n",
              "      fill: #FFFFFF;\n",
              "    }\n",
              "  </style>\n",
              "\n",
              "      <script>\n",
              "        const buttonEl =\n",
              "          document.querySelector('#df-89ce61cb-b662-4c0c-8844-a89130a01f5d button.colab-df-convert');\n",
              "        buttonEl.style.display =\n",
              "          google.colab.kernel.accessAllowed ? 'block' : 'none';\n",
              "\n",
              "        async function convertToInteractive(key) {\n",
              "          const element = document.querySelector('#df-89ce61cb-b662-4c0c-8844-a89130a01f5d');\n",
              "          const dataTable =\n",
              "            await google.colab.kernel.invokeFunction('convertToInteractive',\n",
              "                                                     [key], {});\n",
              "          if (!dataTable) return;\n",
              "\n",
              "          const docLinkHtml = 'Like what you see? Visit the ' +\n",
              "            '<a target=\"_blank\" href=https://colab.research.google.com/notebooks/data_table.ipynb>data table notebook</a>'\n",
              "            + ' to learn more about interactive tables.';\n",
              "          element.innerHTML = '';\n",
              "          dataTable['output_type'] = 'display_data';\n",
              "          await google.colab.output.renderOutput(dataTable, element);\n",
              "          const docLink = document.createElement('div');\n",
              "          docLink.innerHTML = docLinkHtml;\n",
              "          element.appendChild(docLink);\n",
              "        }\n",
              "      </script>\n",
              "    </div>\n",
              "  </div>\n",
              "  "
            ]
          },
          "metadata": {},
          "execution_count": 6
        }
      ]
    },
    {
      "cell_type": "code",
      "source": [
        "\n",
        "import pandas as pd\n",
        "\n",
        "data = pd.DataFrame ({ 'images': images_lst, 'id': image_names}, columns = ['images','id'])\n",
        "\n",
        "from operator import index\n",
        "\n",
        "data = pd.merge(data, train_data , on='id')\n",
        "data"
      ],
      "metadata": {
        "colab": {
          "base_uri": "https://localhost:8080/",
          "height": 419
        },
        "id": "tMB4vCAug_KN",
        "outputId": "376a1f67-d8be-490b-df55-b56e758e64a0"
      },
      "execution_count": 7,
      "outputs": [
        {
          "output_type": "execute_result",
          "data": {
            "text/plain": [
              "                                                 images       id  \\\n",
              "0     [[[21, 18, 20], [17, 16, 18], [20, 16, 18], [2...  d27tm6x   \n",
              "1     [[[179, 181, 84], [184, 184, 84], [182, 179, 7...  d543enw   \n",
              "2     [[[214, 207, 188], [214, 206, 183], [211, 203,...  cj7p949   \n",
              "3     [[[80, 94, 111], [84, 95, 109], [64, 73, 84], ...   5t4o7a   \n",
              "4     [[[255, 141, 147], [255, 142, 148], [255, 141,...  encwky3   \n",
              "...                                                 ...      ...   \n",
              "3129  [[[156, 178, 203], [149, 171, 196], [149, 171,...   cur52s   \n",
              "3130  [[[49, 73, 119], [47, 71, 117], [46, 70, 116],...   dag73f   \n",
              "3131  [[[30, 16, 10], [30, 16, 10], [31, 16, 10], [3...  cazalq1   \n",
              "3132  [[[35, 58, 87], [66, 81, 99], [148, 155, 160],...   7h8rtl   \n",
              "3133  [[[121, 150, 156], [133, 165, 173], [117, 157,...  czun4ey   \n",
              "\n",
              "                                            clean_title  2_way_label  \n",
              "0                                              sphteven            0  \n",
              "1                                             shipshape            0  \n",
              "2                                               cutouts            0  \n",
              "3        embarrassing this punk had of his zippers down            0  \n",
              "4                                its a me mario wahoooo            0  \n",
              "...                                                 ...          ...  \n",
              "3129  the hat i was wearing made my shadow have a pe...            1  \n",
              "3130    my bell pepper had a tiny bell pepper inside it            1  \n",
              "3131                                  other discussions            0  \n",
              "3132  children suffering from anxiety and depression...            1  \n",
              "3133                                          hows this            0  \n",
              "\n",
              "[3134 rows x 4 columns]"
            ],
            "text/html": [
              "\n",
              "  <div id=\"df-e81b19c6-41cd-479c-8951-b62301cdd367\">\n",
              "    <div class=\"colab-df-container\">\n",
              "      <div>\n",
              "<style scoped>\n",
              "    .dataframe tbody tr th:only-of-type {\n",
              "        vertical-align: middle;\n",
              "    }\n",
              "\n",
              "    .dataframe tbody tr th {\n",
              "        vertical-align: top;\n",
              "    }\n",
              "\n",
              "    .dataframe thead th {\n",
              "        text-align: right;\n",
              "    }\n",
              "</style>\n",
              "<table border=\"1\" class=\"dataframe\">\n",
              "  <thead>\n",
              "    <tr style=\"text-align: right;\">\n",
              "      <th></th>\n",
              "      <th>images</th>\n",
              "      <th>id</th>\n",
              "      <th>clean_title</th>\n",
              "      <th>2_way_label</th>\n",
              "    </tr>\n",
              "  </thead>\n",
              "  <tbody>\n",
              "    <tr>\n",
              "      <th>0</th>\n",
              "      <td>[[[21, 18, 20], [17, 16, 18], [20, 16, 18], [2...</td>\n",
              "      <td>d27tm6x</td>\n",
              "      <td>sphteven</td>\n",
              "      <td>0</td>\n",
              "    </tr>\n",
              "    <tr>\n",
              "      <th>1</th>\n",
              "      <td>[[[179, 181, 84], [184, 184, 84], [182, 179, 7...</td>\n",
              "      <td>d543enw</td>\n",
              "      <td>shipshape</td>\n",
              "      <td>0</td>\n",
              "    </tr>\n",
              "    <tr>\n",
              "      <th>2</th>\n",
              "      <td>[[[214, 207, 188], [214, 206, 183], [211, 203,...</td>\n",
              "      <td>cj7p949</td>\n",
              "      <td>cutouts</td>\n",
              "      <td>0</td>\n",
              "    </tr>\n",
              "    <tr>\n",
              "      <th>3</th>\n",
              "      <td>[[[80, 94, 111], [84, 95, 109], [64, 73, 84], ...</td>\n",
              "      <td>5t4o7a</td>\n",
              "      <td>embarrassing this punk had of his zippers down</td>\n",
              "      <td>0</td>\n",
              "    </tr>\n",
              "    <tr>\n",
              "      <th>4</th>\n",
              "      <td>[[[255, 141, 147], [255, 142, 148], [255, 141,...</td>\n",
              "      <td>encwky3</td>\n",
              "      <td>its a me mario wahoooo</td>\n",
              "      <td>0</td>\n",
              "    </tr>\n",
              "    <tr>\n",
              "      <th>...</th>\n",
              "      <td>...</td>\n",
              "      <td>...</td>\n",
              "      <td>...</td>\n",
              "      <td>...</td>\n",
              "    </tr>\n",
              "    <tr>\n",
              "      <th>3129</th>\n",
              "      <td>[[[156, 178, 203], [149, 171, 196], [149, 171,...</td>\n",
              "      <td>cur52s</td>\n",
              "      <td>the hat i was wearing made my shadow have a pe...</td>\n",
              "      <td>1</td>\n",
              "    </tr>\n",
              "    <tr>\n",
              "      <th>3130</th>\n",
              "      <td>[[[49, 73, 119], [47, 71, 117], [46, 70, 116],...</td>\n",
              "      <td>dag73f</td>\n",
              "      <td>my bell pepper had a tiny bell pepper inside it</td>\n",
              "      <td>1</td>\n",
              "    </tr>\n",
              "    <tr>\n",
              "      <th>3131</th>\n",
              "      <td>[[[30, 16, 10], [30, 16, 10], [31, 16, 10], [3...</td>\n",
              "      <td>cazalq1</td>\n",
              "      <td>other discussions</td>\n",
              "      <td>0</td>\n",
              "    </tr>\n",
              "    <tr>\n",
              "      <th>3132</th>\n",
              "      <td>[[[35, 58, 87], [66, 81, 99], [148, 155, 160],...</td>\n",
              "      <td>7h8rtl</td>\n",
              "      <td>children suffering from anxiety and depression...</td>\n",
              "      <td>1</td>\n",
              "    </tr>\n",
              "    <tr>\n",
              "      <th>3133</th>\n",
              "      <td>[[[121, 150, 156], [133, 165, 173], [117, 157,...</td>\n",
              "      <td>czun4ey</td>\n",
              "      <td>hows this</td>\n",
              "      <td>0</td>\n",
              "    </tr>\n",
              "  </tbody>\n",
              "</table>\n",
              "<p>3134 rows × 4 columns</p>\n",
              "</div>\n",
              "      <button class=\"colab-df-convert\" onclick=\"convertToInteractive('df-e81b19c6-41cd-479c-8951-b62301cdd367')\"\n",
              "              title=\"Convert this dataframe to an interactive table.\"\n",
              "              style=\"display:none;\">\n",
              "        \n",
              "  <svg xmlns=\"http://www.w3.org/2000/svg\" height=\"24px\"viewBox=\"0 0 24 24\"\n",
              "       width=\"24px\">\n",
              "    <path d=\"M0 0h24v24H0V0z\" fill=\"none\"/>\n",
              "    <path d=\"M18.56 5.44l.94 2.06.94-2.06 2.06-.94-2.06-.94-.94-2.06-.94 2.06-2.06.94zm-11 1L8.5 8.5l.94-2.06 2.06-.94-2.06-.94L8.5 2.5l-.94 2.06-2.06.94zm10 10l.94 2.06.94-2.06 2.06-.94-2.06-.94-.94-2.06-.94 2.06-2.06.94z\"/><path d=\"M17.41 7.96l-1.37-1.37c-.4-.4-.92-.59-1.43-.59-.52 0-1.04.2-1.43.59L10.3 9.45l-7.72 7.72c-.78.78-.78 2.05 0 2.83L4 21.41c.39.39.9.59 1.41.59.51 0 1.02-.2 1.41-.59l7.78-7.78 2.81-2.81c.8-.78.8-2.07 0-2.86zM5.41 20L4 18.59l7.72-7.72 1.47 1.35L5.41 20z\"/>\n",
              "  </svg>\n",
              "      </button>\n",
              "      \n",
              "  <style>\n",
              "    .colab-df-container {\n",
              "      display:flex;\n",
              "      flex-wrap:wrap;\n",
              "      gap: 12px;\n",
              "    }\n",
              "\n",
              "    .colab-df-convert {\n",
              "      background-color: #E8F0FE;\n",
              "      border: none;\n",
              "      border-radius: 50%;\n",
              "      cursor: pointer;\n",
              "      display: none;\n",
              "      fill: #1967D2;\n",
              "      height: 32px;\n",
              "      padding: 0 0 0 0;\n",
              "      width: 32px;\n",
              "    }\n",
              "\n",
              "    .colab-df-convert:hover {\n",
              "      background-color: #E2EBFA;\n",
              "      box-shadow: 0px 1px 2px rgba(60, 64, 67, 0.3), 0px 1px 3px 1px rgba(60, 64, 67, 0.15);\n",
              "      fill: #174EA6;\n",
              "    }\n",
              "\n",
              "    [theme=dark] .colab-df-convert {\n",
              "      background-color: #3B4455;\n",
              "      fill: #D2E3FC;\n",
              "    }\n",
              "\n",
              "    [theme=dark] .colab-df-convert:hover {\n",
              "      background-color: #434B5C;\n",
              "      box-shadow: 0px 1px 3px 1px rgba(0, 0, 0, 0.15);\n",
              "      filter: drop-shadow(0px 1px 2px rgba(0, 0, 0, 0.3));\n",
              "      fill: #FFFFFF;\n",
              "    }\n",
              "  </style>\n",
              "\n",
              "      <script>\n",
              "        const buttonEl =\n",
              "          document.querySelector('#df-e81b19c6-41cd-479c-8951-b62301cdd367 button.colab-df-convert');\n",
              "        buttonEl.style.display =\n",
              "          google.colab.kernel.accessAllowed ? 'block' : 'none';\n",
              "\n",
              "        async function convertToInteractive(key) {\n",
              "          const element = document.querySelector('#df-e81b19c6-41cd-479c-8951-b62301cdd367');\n",
              "          const dataTable =\n",
              "            await google.colab.kernel.invokeFunction('convertToInteractive',\n",
              "                                                     [key], {});\n",
              "          if (!dataTable) return;\n",
              "\n",
              "          const docLinkHtml = 'Like what you see? Visit the ' +\n",
              "            '<a target=\"_blank\" href=https://colab.research.google.com/notebooks/data_table.ipynb>data table notebook</a>'\n",
              "            + ' to learn more about interactive tables.';\n",
              "          element.innerHTML = '';\n",
              "          dataTable['output_type'] = 'display_data';\n",
              "          await google.colab.output.renderOutput(dataTable, element);\n",
              "          const docLink = document.createElement('div');\n",
              "          docLink.innerHTML = docLinkHtml;\n",
              "          element.appendChild(docLink);\n",
              "        }\n",
              "      </script>\n",
              "    </div>\n",
              "  </div>\n",
              "  "
            ]
          },
          "metadata": {},
          "execution_count": 7
        }
      ]
    },
    {
      "cell_type": "code",
      "source": [
        "# Randomly droping few rows from true records\n",
        "\n",
        "def remove(data,n,m):\n",
        "    np.random.seed(10)\n",
        "\n",
        "    df_true = data[data['2_way_label']==0]\n",
        "\n",
        "    df_fake = data[data['2_way_label']==1]\n",
        "     \n",
        "    drop_indices_true = np.random.choice(df_true.index, m, replace=False)\n",
        "    df_subset_true = df_true.drop(drop_indices_true)\n",
        "    \n",
        "    drop_indices_fake = np.random.choice(df_fake.index, n, replace=False)\n",
        "    df_subset_fake = df_fake.drop(drop_indices_fake)\n",
        "    \n",
        "   \n",
        "    \n",
        "    df_train_new = pd.concat([df_subset_true, df_subset_fake],ignore_index=True)\n",
        "    \n",
        "    return df_train_new\n",
        "\n",
        "# Randomly droping few rows from true records\n",
        "\n",
        "\n",
        "data  = remove(data, 1, 300)\n",
        "\n",
        "# Shuffling a Pandas dataframe with .shuffle()\n",
        "data = data.sample(frac=1).reset_index()\n",
        "data"
      ],
      "metadata": {
        "colab": {
          "base_uri": "https://localhost:8080/",
          "height": 419
        },
        "id": "nkR16sG83pmq",
        "outputId": "be3b885e-8e0c-4557-bdd9-ba4a37108221"
      },
      "execution_count": 8,
      "outputs": [
        {
          "output_type": "execute_result",
          "data": {
            "text/plain": [
              "      index                                             images      id  \\\n",
              "0      2571  [[[94, 87, 84], [94, 88, 82], [89, 83, 72], [6...  9ibax5   \n",
              "1      2591  [[[225, 172, 115], [250, 208, 147], [250, 212,...  7q8c01   \n",
              "2       318  [[[37, 39, 40], [37, 39, 40], [37, 39, 40], [3...   mpuur   \n",
              "3      2327  [[[10, 66, 47], [23, 63, 49], [37, 57, 50], [3...  ccuptr   \n",
              "4      2187  [[[64, 131, 210], [63, 130, 209], [61, 128, 20...  cv3ky6   \n",
              "...     ...                                                ...     ...   \n",
              "2828    337  [[[33, 36, 37], [35, 36, 38], [41, 38, 42], [4...  7wtb1p   \n",
              "2829   1715  [[[129, 51, 92], [99, 36, 67], [93, 33, 60], [...  c6ilov   \n",
              "2830    220  [[[219, 221, 222], [222, 224, 223], [223, 227,...  6fek2o   \n",
              "2831   2803  [[[45, 57, 67], [52, 63, 73], [57, 67, 77], [5...  2j9ks6   \n",
              "2832    356  [[[100, 109, 147], [65, 76, 116], [64, 78, 118...  ct6yrk   \n",
              "\n",
              "                                            clean_title  2_way_label  \n",
              "0     construction workers found another use for har...            1  \n",
              "1                        this cat hanging out of an suv            1  \n",
              "2                            cheeky monkey wireless usb            0  \n",
              "3                                    this daisys mohawk            1  \n",
              "4                                      a lizard in utah            1  \n",
              "...                                                 ...          ...  \n",
              "2828  this little robot quite content with being a g...            0  \n",
              "2829  gog galaxys subtle recruitment ad developer vi...            1  \n",
              "2830                       man thinks his job is secure            0  \n",
              "2831  thailand to invite tourists to experience mart...            1  \n",
              "2832        my girlfriends hair clip looks like a shark            0  \n",
              "\n",
              "[2833 rows x 5 columns]"
            ],
            "text/html": [
              "\n",
              "  <div id=\"df-df0e90c7-45f6-48b7-917c-b16181d476f4\">\n",
              "    <div class=\"colab-df-container\">\n",
              "      <div>\n",
              "<style scoped>\n",
              "    .dataframe tbody tr th:only-of-type {\n",
              "        vertical-align: middle;\n",
              "    }\n",
              "\n",
              "    .dataframe tbody tr th {\n",
              "        vertical-align: top;\n",
              "    }\n",
              "\n",
              "    .dataframe thead th {\n",
              "        text-align: right;\n",
              "    }\n",
              "</style>\n",
              "<table border=\"1\" class=\"dataframe\">\n",
              "  <thead>\n",
              "    <tr style=\"text-align: right;\">\n",
              "      <th></th>\n",
              "      <th>index</th>\n",
              "      <th>images</th>\n",
              "      <th>id</th>\n",
              "      <th>clean_title</th>\n",
              "      <th>2_way_label</th>\n",
              "    </tr>\n",
              "  </thead>\n",
              "  <tbody>\n",
              "    <tr>\n",
              "      <th>0</th>\n",
              "      <td>2571</td>\n",
              "      <td>[[[94, 87, 84], [94, 88, 82], [89, 83, 72], [6...</td>\n",
              "      <td>9ibax5</td>\n",
              "      <td>construction workers found another use for har...</td>\n",
              "      <td>1</td>\n",
              "    </tr>\n",
              "    <tr>\n",
              "      <th>1</th>\n",
              "      <td>2591</td>\n",
              "      <td>[[[225, 172, 115], [250, 208, 147], [250, 212,...</td>\n",
              "      <td>7q8c01</td>\n",
              "      <td>this cat hanging out of an suv</td>\n",
              "      <td>1</td>\n",
              "    </tr>\n",
              "    <tr>\n",
              "      <th>2</th>\n",
              "      <td>318</td>\n",
              "      <td>[[[37, 39, 40], [37, 39, 40], [37, 39, 40], [3...</td>\n",
              "      <td>mpuur</td>\n",
              "      <td>cheeky monkey wireless usb</td>\n",
              "      <td>0</td>\n",
              "    </tr>\n",
              "    <tr>\n",
              "      <th>3</th>\n",
              "      <td>2327</td>\n",
              "      <td>[[[10, 66, 47], [23, 63, 49], [37, 57, 50], [3...</td>\n",
              "      <td>ccuptr</td>\n",
              "      <td>this daisys mohawk</td>\n",
              "      <td>1</td>\n",
              "    </tr>\n",
              "    <tr>\n",
              "      <th>4</th>\n",
              "      <td>2187</td>\n",
              "      <td>[[[64, 131, 210], [63, 130, 209], [61, 128, 20...</td>\n",
              "      <td>cv3ky6</td>\n",
              "      <td>a lizard in utah</td>\n",
              "      <td>1</td>\n",
              "    </tr>\n",
              "    <tr>\n",
              "      <th>...</th>\n",
              "      <td>...</td>\n",
              "      <td>...</td>\n",
              "      <td>...</td>\n",
              "      <td>...</td>\n",
              "      <td>...</td>\n",
              "    </tr>\n",
              "    <tr>\n",
              "      <th>2828</th>\n",
              "      <td>337</td>\n",
              "      <td>[[[33, 36, 37], [35, 36, 38], [41, 38, 42], [4...</td>\n",
              "      <td>7wtb1p</td>\n",
              "      <td>this little robot quite content with being a g...</td>\n",
              "      <td>0</td>\n",
              "    </tr>\n",
              "    <tr>\n",
              "      <th>2829</th>\n",
              "      <td>1715</td>\n",
              "      <td>[[[129, 51, 92], [99, 36, 67], [93, 33, 60], [...</td>\n",
              "      <td>c6ilov</td>\n",
              "      <td>gog galaxys subtle recruitment ad developer vi...</td>\n",
              "      <td>1</td>\n",
              "    </tr>\n",
              "    <tr>\n",
              "      <th>2830</th>\n",
              "      <td>220</td>\n",
              "      <td>[[[219, 221, 222], [222, 224, 223], [223, 227,...</td>\n",
              "      <td>6fek2o</td>\n",
              "      <td>man thinks his job is secure</td>\n",
              "      <td>0</td>\n",
              "    </tr>\n",
              "    <tr>\n",
              "      <th>2831</th>\n",
              "      <td>2803</td>\n",
              "      <td>[[[45, 57, 67], [52, 63, 73], [57, 67, 77], [5...</td>\n",
              "      <td>2j9ks6</td>\n",
              "      <td>thailand to invite tourists to experience mart...</td>\n",
              "      <td>1</td>\n",
              "    </tr>\n",
              "    <tr>\n",
              "      <th>2832</th>\n",
              "      <td>356</td>\n",
              "      <td>[[[100, 109, 147], [65, 76, 116], [64, 78, 118...</td>\n",
              "      <td>ct6yrk</td>\n",
              "      <td>my girlfriends hair clip looks like a shark</td>\n",
              "      <td>0</td>\n",
              "    </tr>\n",
              "  </tbody>\n",
              "</table>\n",
              "<p>2833 rows × 5 columns</p>\n",
              "</div>\n",
              "      <button class=\"colab-df-convert\" onclick=\"convertToInteractive('df-df0e90c7-45f6-48b7-917c-b16181d476f4')\"\n",
              "              title=\"Convert this dataframe to an interactive table.\"\n",
              "              style=\"display:none;\">\n",
              "        \n",
              "  <svg xmlns=\"http://www.w3.org/2000/svg\" height=\"24px\"viewBox=\"0 0 24 24\"\n",
              "       width=\"24px\">\n",
              "    <path d=\"M0 0h24v24H0V0z\" fill=\"none\"/>\n",
              "    <path d=\"M18.56 5.44l.94 2.06.94-2.06 2.06-.94-2.06-.94-.94-2.06-.94 2.06-2.06.94zm-11 1L8.5 8.5l.94-2.06 2.06-.94-2.06-.94L8.5 2.5l-.94 2.06-2.06.94zm10 10l.94 2.06.94-2.06 2.06-.94-2.06-.94-.94-2.06-.94 2.06-2.06.94z\"/><path d=\"M17.41 7.96l-1.37-1.37c-.4-.4-.92-.59-1.43-.59-.52 0-1.04.2-1.43.59L10.3 9.45l-7.72 7.72c-.78.78-.78 2.05 0 2.83L4 21.41c.39.39.9.59 1.41.59.51 0 1.02-.2 1.41-.59l7.78-7.78 2.81-2.81c.8-.78.8-2.07 0-2.86zM5.41 20L4 18.59l7.72-7.72 1.47 1.35L5.41 20z\"/>\n",
              "  </svg>\n",
              "      </button>\n",
              "      \n",
              "  <style>\n",
              "    .colab-df-container {\n",
              "      display:flex;\n",
              "      flex-wrap:wrap;\n",
              "      gap: 12px;\n",
              "    }\n",
              "\n",
              "    .colab-df-convert {\n",
              "      background-color: #E8F0FE;\n",
              "      border: none;\n",
              "      border-radius: 50%;\n",
              "      cursor: pointer;\n",
              "      display: none;\n",
              "      fill: #1967D2;\n",
              "      height: 32px;\n",
              "      padding: 0 0 0 0;\n",
              "      width: 32px;\n",
              "    }\n",
              "\n",
              "    .colab-df-convert:hover {\n",
              "      background-color: #E2EBFA;\n",
              "      box-shadow: 0px 1px 2px rgba(60, 64, 67, 0.3), 0px 1px 3px 1px rgba(60, 64, 67, 0.15);\n",
              "      fill: #174EA6;\n",
              "    }\n",
              "\n",
              "    [theme=dark] .colab-df-convert {\n",
              "      background-color: #3B4455;\n",
              "      fill: #D2E3FC;\n",
              "    }\n",
              "\n",
              "    [theme=dark] .colab-df-convert:hover {\n",
              "      background-color: #434B5C;\n",
              "      box-shadow: 0px 1px 3px 1px rgba(0, 0, 0, 0.15);\n",
              "      filter: drop-shadow(0px 1px 2px rgba(0, 0, 0, 0.3));\n",
              "      fill: #FFFFFF;\n",
              "    }\n",
              "  </style>\n",
              "\n",
              "      <script>\n",
              "        const buttonEl =\n",
              "          document.querySelector('#df-df0e90c7-45f6-48b7-917c-b16181d476f4 button.colab-df-convert');\n",
              "        buttonEl.style.display =\n",
              "          google.colab.kernel.accessAllowed ? 'block' : 'none';\n",
              "\n",
              "        async function convertToInteractive(key) {\n",
              "          const element = document.querySelector('#df-df0e90c7-45f6-48b7-917c-b16181d476f4');\n",
              "          const dataTable =\n",
              "            await google.colab.kernel.invokeFunction('convertToInteractive',\n",
              "                                                     [key], {});\n",
              "          if (!dataTable) return;\n",
              "\n",
              "          const docLinkHtml = 'Like what you see? Visit the ' +\n",
              "            '<a target=\"_blank\" href=https://colab.research.google.com/notebooks/data_table.ipynb>data table notebook</a>'\n",
              "            + ' to learn more about interactive tables.';\n",
              "          element.innerHTML = '';\n",
              "          dataTable['output_type'] = 'display_data';\n",
              "          await google.colab.output.renderOutput(dataTable, element);\n",
              "          const docLink = document.createElement('div');\n",
              "          docLink.innerHTML = docLinkHtml;\n",
              "          element.appendChild(docLink);\n",
              "        }\n",
              "      </script>\n",
              "    </div>\n",
              "  </div>\n",
              "  "
            ]
          },
          "metadata": {},
          "execution_count": 8
        }
      ]
    },
    {
      "cell_type": "code",
      "source": [
        "# splitting dataframe by row index\n",
        "df_test_imgt = data.iloc[:345,:]\n",
        "df_train_imgt = data.iloc[345:,:]"
      ],
      "metadata": {
        "id": "CSX-NREncj_k"
      },
      "execution_count": 9,
      "outputs": []
    },
    {
      "cell_type": "code",
      "source": [
        "import seaborn as sns \n",
        "\n",
        "# Target distribution for training dataset\n",
        "\n",
        "print(df_train_imgt['2_way_label'].value_counts())\n",
        "\n",
        "# count plot on single categorical variable\n",
        "sns.countplot(x ='2_way_label', data = df_train_imgt)"
      ],
      "metadata": {
        "id": "BYnyaVk70ETL",
        "colab": {
          "base_uri": "https://localhost:8080/",
          "height": 348
        },
        "outputId": "fe94e539-3108-4f84-b8ac-1f2b108475bd"
      },
      "execution_count": 10,
      "outputs": [
        {
          "output_type": "stream",
          "name": "stdout",
          "text": [
            "0    1395\n",
            "1    1093\n",
            "Name: 2_way_label, dtype: int64\n"
          ]
        },
        {
          "output_type": "execute_result",
          "data": {
            "text/plain": [
              "<matplotlib.axes._subplots.AxesSubplot at 0x7f246270c550>"
            ]
          },
          "metadata": {},
          "execution_count": 10
        },
        {
          "output_type": "display_data",
          "data": {
            "text/plain": [
              "<Figure size 432x288 with 1 Axes>"
            ],
            "image/png": "[encoded data removed]"
          },
          "metadata": {
            "needs_background": "light"
          }
        }
      ]
    },
    {
      "cell_type": "code",
      "source": [
        "def transformResults(predictions):\n",
        "    print(\"\"\"The output here is of the form float, thus we are converting it to binary output based on the following \n",
        "condition if a value is > .5 we assign it with 1 and if a value is <.5 we assign it with 0\"\"\")\n",
        "    \n",
        "    print(\"\\nConverting the ouput to 1D array, and then transformimg the values based on the above condition\\n\")\n",
        "    predictions = predictions[:, 0]\n",
        "    print(f'First 5 values before conversion : {predictions[:5]}')\n",
        "    \n",
        "    predictions = [1 if val>0.5 else 0 for val in predictions]\n",
        "    print(f'First 5 values after the conversion : {predictions[:5]}')\n",
        "    return predictions"
      ],
      "metadata": {
        "id": "BRPEvcDJttfG"
      },
      "execution_count": 11,
      "outputs": []
    },
    {
      "cell_type": "code",
      "source": [
        "def getResults(y_test, prediction):\n",
        "\n",
        "    prediction = transformResults(prediction)\n",
        "\n",
        "    print(\"\\n========== RESULTS ===========\\n\")\n",
        "    accuracy = accuracy_score(y_test, prediction)\n",
        "    precision = precision_score(y_test, prediction)\n",
        "    f1 = f1_score(y_test, prediction)\n",
        "    recall = recall_score(y_test, prediction)\n",
        "\n",
        "    print(f'Accuracy : {accuracy}\\nPrecision : {precision}\\nF1_score : {f1}\\nRecall : {recall}\\n')\n",
        "    \n",
        "    print(\"===== CONFUSION MATRIX =====\")\n",
        "    cf_matrix = confusion_matrix(y_test, prediction)\n",
        "    print(cf_matrix)\n",
        "    \n",
        "    return accuracy, precision, f1, recall"
      ],
      "metadata": {
        "id": "tvfV1Qlgoecp"
      },
      "execution_count": 12,
      "outputs": []
    },
    {
      "cell_type": "markdown",
      "source": [
        "# Image Classification\n",
        "\n",
        "VGG16 is a convolutional neural network model proposed in the paper \"Very Deep Convolutional Networks for Large-Scale Image Recognition\" by K. Simonyan and A. Zisserman of the University of Oxford. This architecture has layers such as Convolutional2D +ReLU, max pooling, Fully netted + ReLU. \n",
        "\n",
        "Featuresmap of the train and test data is extracted using .predict()  from pre-trained weights of VGG16.This allows to extract as meaning data as possible from data features(images). \n",
        "\n",
        "include_top = False allows us to get features before dense layers, so output shape is 7x7x512. We use these features to train on our dataset by adding 2 Dense layers and softmax activation.\n",
        "\n"
      ],
      "metadata": {
        "id": "Cl6PXu8QcaOT"
      }
    },
    {
      "cell_type": "code",
      "source": [
        "df_train= df_train_imgt[['images','2_way_label']]\n",
        "df_test = df_test_imgt[['images','2_way_label']]\n",
        "df_train"
      ],
      "metadata": {
        "colab": {
          "base_uri": "https://localhost:8080/",
          "height": 419
        },
        "id": "amQ2LxwqbzRj",
        "outputId": "60d1af7f-9943-48ca-fd17-9e49aeb46437"
      },
      "execution_count": 13,
      "outputs": [
        {
          "output_type": "execute_result",
          "data": {
            "text/plain": [
              "                                                 images  2_way_label\n",
              "345   [[[150, 127, 116], [172, 155, 147], [172, 152,...            0\n",
              "346   [[[3, 22, 5], [7, 38, 18], [14, 64, 40], [8, 7...            1\n",
              "347   [[[30, 30, 30], [26, 26, 26], [20, 20, 20], [2...            0\n",
              "348   [[[154, 124, 98], [155, 124, 99], [157, 125, 1...            0\n",
              "349   [[[165, 125, 117], [151, 110, 98], [90, 82, 86...            0\n",
              "...                                                 ...          ...\n",
              "2828  [[[33, 36, 37], [35, 36, 38], [41, 38, 42], [4...            0\n",
              "2829  [[[129, 51, 92], [99, 36, 67], [93, 33, 60], [...            1\n",
              "2830  [[[219, 221, 222], [222, 224, 223], [223, 227,...            0\n",
              "2831  [[[45, 57, 67], [52, 63, 73], [57, 67, 77], [5...            1\n",
              "2832  [[[100, 109, 147], [65, 76, 116], [64, 78, 118...            0\n",
              "\n",
              "[2488 rows x 2 columns]"
            ],
            "text/html": [
              "\n",
              "  <div id=\"df-1522412e-c2b3-44e6-9d45-8edf171ed2f9\">\n",
              "    <div class=\"colab-df-container\">\n",
              "      <div>\n",
              "<style scoped>\n",
              "    .dataframe tbody tr th:only-of-type {\n",
              "        vertical-align: middle;\n",
              "    }\n",
              "\n",
              "    .dataframe tbody tr th {\n",
              "        vertical-align: top;\n",
              "    }\n",
              "\n",
              "    .dataframe thead th {\n",
              "        text-align: right;\n",
              "    }\n",
              "</style>\n",
              "<table border=\"1\" class=\"dataframe\">\n",
              "  <thead>\n",
              "    <tr style=\"text-align: right;\">\n",
              "      <th></th>\n",
              "      <th>images</th>\n",
              "      <th>2_way_label</th>\n",
              "    </tr>\n",
              "  </thead>\n",
              "  <tbody>\n",
              "    <tr>\n",
              "      <th>345</th>\n",
              "      <td>[[[150, 127, 116], [172, 155, 147], [172, 152,...</td>\n",
              "      <td>0</td>\n",
              "    </tr>\n",
              "    <tr>\n",
              "      <th>346</th>\n",
              "      <td>[[[3, 22, 5], [7, 38, 18], [14, 64, 40], [8, 7...</td>\n",
              "      <td>1</td>\n",
              "    </tr>\n",
              "    <tr>\n",
              "      <th>347</th>\n",
              "      <td>[[[30, 30, 30], [26, 26, 26], [20, 20, 20], [2...</td>\n",
              "      <td>0</td>\n",
              "    </tr>\n",
              "    <tr>\n",
              "      <th>348</th>\n",
              "      <td>[[[154, 124, 98], [155, 124, 99], [157, 125, 1...</td>\n",
              "      <td>0</td>\n",
              "    </tr>\n",
              "    <tr>\n",
              "      <th>349</th>\n",
              "      <td>[[[165, 125, 117], [151, 110, 98], [90, 82, 86...</td>\n",
              "      <td>0</td>\n",
              "    </tr>\n",
              "    <tr>\n",
              "      <th>...</th>\n",
              "      <td>...</td>\n",
              "      <td>...</td>\n",
              "    </tr>\n",
              "    <tr>\n",
              "      <th>2828</th>\n",
              "      <td>[[[33, 36, 37], [35, 36, 38], [41, 38, 42], [4...</td>\n",
              "      <td>0</td>\n",
              "    </tr>\n",
              "    <tr>\n",
              "      <th>2829</th>\n",
              "      <td>[[[129, 51, 92], [99, 36, 67], [93, 33, 60], [...</td>\n",
              "      <td>1</td>\n",
              "    </tr>\n",
              "    <tr>\n",
              "      <th>2830</th>\n",
              "      <td>[[[219, 221, 222], [222, 224, 223], [223, 227,...</td>\n",
              "      <td>0</td>\n",
              "    </tr>\n",
              "    <tr>\n",
              "      <th>2831</th>\n",
              "      <td>[[[45, 57, 67], [52, 63, 73], [57, 67, 77], [5...</td>\n",
              "      <td>1</td>\n",
              "    </tr>\n",
              "    <tr>\n",
              "      <th>2832</th>\n",
              "      <td>[[[100, 109, 147], [65, 76, 116], [64, 78, 118...</td>\n",
              "      <td>0</td>\n",
              "    </tr>\n",
              "  </tbody>\n",
              "</table>\n",
              "<p>2488 rows × 2 columns</p>\n",
              "</div>\n",
              "      <button class=\"colab-df-convert\" onclick=\"convertToInteractive('df-1522412e-c2b3-44e6-9d45-8edf171ed2f9')\"\n",
              "              title=\"Convert this dataframe to an interactive table.\"\n",
              "              style=\"display:none;\">\n",
              "        \n",
              "  <svg xmlns=\"http://www.w3.org/2000/svg\" height=\"24px\"viewBox=\"0 0 24 24\"\n",
              "       width=\"24px\">\n",
              "    <path d=\"M0 0h24v24H0V0z\" fill=\"none\"/>\n",
              "    <path d=\"M18.56 5.44l.94 2.06.94-2.06 2.06-.94-2.06-.94-.94-2.06-.94 2.06-2.06.94zm-11 1L8.5 8.5l.94-2.06 2.06-.94-2.06-.94L8.5 2.5l-.94 2.06-2.06.94zm10 10l.94 2.06.94-2.06 2.06-.94-2.06-.94-.94-2.06-.94 2.06-2.06.94z\"/><path d=\"M17.41 7.96l-1.37-1.37c-.4-.4-.92-.59-1.43-.59-.52 0-1.04.2-1.43.59L10.3 9.45l-7.72 7.72c-.78.78-.78 2.05 0 2.83L4 21.41c.39.39.9.59 1.41.59.51 0 1.02-.2 1.41-.59l7.78-7.78 2.81-2.81c.8-.78.8-2.07 0-2.86zM5.41 20L4 18.59l7.72-7.72 1.47 1.35L5.41 20z\"/>\n",
              "  </svg>\n",
              "      </button>\n",
              "      \n",
              "  <style>\n",
              "    .colab-df-container {\n",
              "      display:flex;\n",
              "      flex-wrap:wrap;\n",
              "      gap: 12px;\n",
              "    }\n",
              "\n",
              "    .colab-df-convert {\n",
              "      background-color: #E8F0FE;\n",
              "      border: none;\n",
              "      border-radius: 50%;\n",
              "      cursor: pointer;\n",
              "      display: none;\n",
              "      fill: #1967D2;\n",
              "      height: 32px;\n",
              "      padding: 0 0 0 0;\n",
              "      width: 32px;\n",
              "    }\n",
              "\n",
              "    .colab-df-convert:hover {\n",
              "      background-color: #E2EBFA;\n",
              "      box-shadow: 0px 1px 2px rgba(60, 64, 67, 0.3), 0px 1px 3px 1px rgba(60, 64, 67, 0.15);\n",
              "      fill: #174EA6;\n",
              "    }\n",
              "\n",
              "    [theme=dark] .colab-df-convert {\n",
              "      background-color: #3B4455;\n",
              "      fill: #D2E3FC;\n",
              "    }\n",
              "\n",
              "    [theme=dark] .colab-df-convert:hover {\n",
              "      background-color: #434B5C;\n",
              "      box-shadow: 0px 1px 3px 1px rgba(0, 0, 0, 0.15);\n",
              "      filter: drop-shadow(0px 1px 2px rgba(0, 0, 0, 0.3));\n",
              "      fill: #FFFFFF;\n",
              "    }\n",
              "  </style>\n",
              "\n",
              "      <script>\n",
              "        const buttonEl =\n",
              "          document.querySelector('#df-1522412e-c2b3-44e6-9d45-8edf171ed2f9 button.colab-df-convert');\n",
              "        buttonEl.style.display =\n",
              "          google.colab.kernel.accessAllowed ? 'block' : 'none';\n",
              "\n",
              "        async function convertToInteractive(key) {\n",
              "          const element = document.querySelector('#df-1522412e-c2b3-44e6-9d45-8edf171ed2f9');\n",
              "          const dataTable =\n",
              "            await google.colab.kernel.invokeFunction('convertToInteractive',\n",
              "                                                     [key], {});\n",
              "          if (!dataTable) return;\n",
              "\n",
              "          const docLinkHtml = 'Like what you see? Visit the ' +\n",
              "            '<a target=\"_blank\" href=https://colab.research.google.com/notebooks/data_table.ipynb>data table notebook</a>'\n",
              "            + ' to learn more about interactive tables.';\n",
              "          element.innerHTML = '';\n",
              "          dataTable['output_type'] = 'display_data';\n",
              "          await google.colab.output.renderOutput(dataTable, element);\n",
              "          const docLink = document.createElement('div');\n",
              "          docLink.innerHTML = docLinkHtml;\n",
              "          element.appendChild(docLink);\n",
              "        }\n",
              "      </script>\n",
              "    </div>\n",
              "  </div>\n",
              "  "
            ]
          },
          "metadata": {},
          "execution_count": 13
        }
      ]
    },
    {
      "cell_type": "code",
      "source": [
        "from sklearn.utils import shuffle\n",
        "\n",
        "    \n",
        "def datapartition(dataset,col):\n",
        "    #Split data into a test and training set\n",
        "    X = np.array(dataset[col].tolist())\n",
        "    y = np.array(dataset['2_way_label'])\n",
        "    \n",
        "    if col == 'images':\n",
        "      #scaling the features\n",
        "      X = X/255.0\n",
        "\n",
        "    return X,y\n",
        "    \n",
        "    \n",
        "\n",
        "# split the data after normalizing and reshaping using helper function\n",
        "\n",
        "X_train_img, y_train_img= datapartition(df_train,'images')\n",
        "print(\"Train data size: \", X_train_img.shape, y_train_img.shape)\n",
        "\n",
        "X_test_img, y_test_img= datapartition(df_test,'images')\n",
        "print(\"test data size: \", X_test_img.shape, y_test_img.shape)"
      ],
      "metadata": {
        "colab": {
          "base_uri": "https://localhost:8080/"
        },
        "id": "-r4pHarOcL4Q",
        "outputId": "ef06b1de-bbf8-4fa6-bb6a-75220e137f26"
      },
      "execution_count": 14,
      "outputs": [
        {
          "output_type": "stream",
          "name": "stdout",
          "text": [
            "Train data size:  (2488, 224, 224, 3) (2488,)\n",
            "test data size:  (345, 224, 224, 3) (345,)\n"
          ]
        }
      ]
    },
    {
      "cell_type": "code",
      "source": [
        "import random\n",
        "from keras.applications import vgg16\n",
        "\n",
        "# Pretrained convolutional layers are loaded using the Imagenet weights.\n",
        "# Include_top is set to False, in order to exclude the model's fully-connected layers.\n",
        "\n",
        "\n",
        "conv_base = vgg16.VGG16(weights='imagenet',\n",
        "                  include_top=False,\n",
        "                  input_shape=(224,224,3)\n",
        "                 )\n",
        "\n",
        "conv_base.summary()"
      ],
      "metadata": {
        "id": "Nkq1m982lK3L",
        "colab": {
          "base_uri": "https://localhost:8080/"
        },
        "outputId": "c81381c5-9511-439d-9266-e0aba59c2316"
      },
      "execution_count": 16,
      "outputs": [
        {
          "output_type": "stream",
          "name": "stdout",
          "text": [
            "Downloading data from https://storage.googleapis.com/tensorflow/keras-applications/vgg16/vgg16_weights_tf_dim_ordering_tf_kernels_notop.h5\n",
            "58889256/58889256 [==============================] - 1s 0us/step\n",
            "Model: \"vgg16\"\n",
            "_________________________________________________________________\n",
            " Layer (type)                Output Shape              Param #   \n",
            "=================================================================\n",
            " input_1 (InputLayer)        [(None, 224, 224, 3)]     0         \n",
            "                                                                 \n",
            " block1_conv1 (Conv2D)       (None, 224, 224, 64)      1792      \n",
            "                                                                 \n",
            " block1_conv2 (Conv2D)       (None, 224, 224, 64)      36928     \n",
            "                                                                 \n",
            " block1_pool (MaxPooling2D)  (None, 112, 112, 64)      0         \n",
            "                                                                 \n",
            " block2_conv1 (Conv2D)       (None, 112, 112, 128)     73856     \n",
            "                                                                 \n",
            " block2_conv2 (Conv2D)       (None, 112, 112, 128)     147584    \n",
            "                                                                 \n",
            " block2_pool (MaxPooling2D)  (None, 56, 56, 128)       0         \n",
            "                                                                 \n",
            " block3_conv1 (Conv2D)       (None, 56, 56, 256)       295168    \n",
            "                                                                 \n",
            " block3_conv2 (Conv2D)       (None, 56, 56, 256)       590080    \n",
            "                                                                 \n",
            " block3_conv3 (Conv2D)       (None, 56, 56, 256)       590080    \n",
            "                                                                 \n",
            " block3_pool (MaxPooling2D)  (None, 28, 28, 256)       0         \n",
            "                                                                 \n",
            " block4_conv1 (Conv2D)       (None, 28, 28, 512)       1180160   \n",
            "                                                                 \n",
            " block4_conv2 (Conv2D)       (None, 28, 28, 512)       2359808   \n",
            "                                                                 \n",
            " block4_conv3 (Conv2D)       (None, 28, 28, 512)       2359808   \n",
            "                                                                 \n",
            " block4_pool (MaxPooling2D)  (None, 14, 14, 512)       0         \n",
            "                                                                 \n",
            " block5_conv1 (Conv2D)       (None, 14, 14, 512)       2359808   \n",
            "                                                                 \n",
            " block5_conv2 (Conv2D)       (None, 14, 14, 512)       2359808   \n",
            "                                                                 \n",
            " block5_conv3 (Conv2D)       (None, 14, 14, 512)       2359808   \n",
            "                                                                 \n",
            " block5_pool (MaxPooling2D)  (None, 7, 7, 512)         0         \n",
            "                                                                 \n",
            "=================================================================\n",
            "Total params: 14,714,688\n",
            "Trainable params: 14,714,688\n",
            "Non-trainable params: 0\n",
            "_________________________________________________________________\n"
          ]
        }
      ]
    },
    {
      "cell_type": "code",
      "source": [
        "# Extract training feature map from vgg16 conv_base\n",
        "train_featuremap = conv_base.predict(X_train_img)\n",
        "test_featuremap = conv_base.predict(X_test_img) "
      ],
      "metadata": {
        "colab": {
          "base_uri": "https://localhost:8080/"
        },
        "id": "m0ijBy_v6uWw",
        "outputId": "cfbc1c2d-3079-4409-d71e-6fcdbe56706d"
      },
      "execution_count": 17,
      "outputs": [
        {
          "output_type": "stream",
          "name": "stdout",
          "text": [
            "78/78 [==============================] - 1352s 17s/step\n",
            "11/11 [==============================] - 178s 16s/step\n"
          ]
        }
      ]
    },
    {
      "cell_type": "code",
      "source": [
        "train_features = np.array(train_featuremap)\n",
        "train_features = train_features.reshape((-1,7,7,512))\n",
        "\n",
        "test_features = np.array(test_featuremap)\n",
        "test_features = test_features.reshape((-1,7,7,512))\n",
        "\n",
        "'''\n",
        "reshape_y = 7 * 7 * 512\n",
        "\n",
        "nb_train_samples = train_featuremap.shape[0]\n",
        "nb_test_samples = test_featuremap.shape[0] \n",
        "\n",
        "# Shape data\n",
        "reshape_y = 7 * 7 * 512\n",
        "\n",
        "train_features = np.reshape(train_featuremap, (nb_train_samples, reshape_y))\n",
        "test_features = np.reshape(test_featuremap, (nb_test_samples, reshape_y))\n",
        "'''"
      ],
      "metadata": {
        "colab": {
          "base_uri": "https://localhost:8080/",
          "height": 71
        },
        "id": "Gvwxxqs7EWNU",
        "outputId": "ed426b0b-ad5c-4640-de50-53475d94dbcb"
      },
      "execution_count": 18,
      "outputs": [
        {
          "output_type": "execute_result",
          "data": {
            "text/plain": [
              "'\\nreshape_y = 7 * 7 * 512\\n\\nnb_train_samples = train_featuremap.shape[0]\\nnb_test_samples = test_featuremap.shape[0] \\n\\n# Shape data\\nreshape_y = 7 * 7 * 512\\n\\ntrain_features = np.reshape(train_featuremap, (nb_train_samples, reshape_y))\\ntest_features = np.reshape(test_featuremap, (nb_test_samples, reshape_y))\\n'"
            ],
            "application/vnd.google.colaboratory.intrinsic+json": {
              "type": "string"
            }
          },
          "metadata": {},
          "execution_count": 18
        }
      ]
    },
    {
      "cell_type": "code",
      "source": [
        "from keras.models import Sequential, load_model\n",
        "from keras.callbacks import EarlyStopping\n",
        "from keras.layers import Conv2D, MaxPooling2D\n",
        "from keras.layers import Activation, Dropout, Flatten, Dense, LeakyReLU\n",
        "\n",
        "def create_model(input_img, input_shape):\n",
        "\n",
        "  # Build classifier on top of  VGG16\n",
        "  x = Flatten()(input_img)\n",
        "  x = Dense(64, activation='relu')(x)\n",
        "  x = Dense(128, activation='relu')(x)\n",
        "\n",
        "  return x\n",
        "\n",
        "\n"
      ],
      "metadata": {
        "id": "7lvC-SRj7AcH"
      },
      "execution_count": 24,
      "outputs": []
    },
    {
      "cell_type": "code",
      "source": [
        "# create image input\n",
        "from keras.layers import Input\n",
        "\n",
        "input_shape = (7,7,512)\n",
        "\n",
        "input_img = Input(shape=(7,7,512), name=\"vgg_input\")\n",
        "\n",
        "image_output = create_model(input_img, input_shape)\n",
        "image_output"
      ],
      "metadata": {
        "id": "jETAX-Arm2px",
        "colab": {
          "base_uri": "https://localhost:8080/"
        },
        "outputId": "fd2ababc-086a-47c5-e14c-2c0e8a915d5a"
      },
      "execution_count": 25,
      "outputs": [
        {
          "output_type": "execute_result",
          "data": {
            "text/plain": [
              "<KerasTensor: shape=(None, 128) dtype=float32 (created by layer 'dense_4')>"
            ]
          },
          "metadata": {},
          "execution_count": 25
        }
      ]
    },
    {
      "cell_type": "code",
      "source": [
        "#evaluating model on image data\n",
        "\n",
        "image_output = Dense(16)(image_output)\n",
        "output = Dense(1, name='output_layer', activation='sigmoid')(image_output)\n",
        "\n",
        "# To define the model, pass list of input layers\n",
        "model_cnn_img = Model(inputs=input_img, outputs=output)\n",
        "\n",
        "model_cnn_img.compile(optimizer=optimizers.RMSprop(lr=5e-6),\n",
        "              loss='binary_crossentropy',\n",
        "              metrics=['acc'])\n",
        "\n",
        "# To fit the model, pass a list of inputs arrays\n",
        "model_cnn_img.fit(x=train_features,y=y_train_img,epochs=15,\n",
        "                    batch_size=16,\n",
        "                    validation_split=0.2)"
      ],
      "metadata": {
        "colab": {
          "base_uri": "https://localhost:8080/"
        },
        "id": "5WAmLH47pfIb",
        "outputId": "3a76335d-bce7-40c0-c4ae-e61f25058a24"
      },
      "execution_count": 27,
      "outputs": [
        {
          "output_type": "stream",
          "name": "stdout",
          "text": [
            "Epoch 1/15\n",
            "125/125 [==============================] - 4s 23ms/step - loss: 0.6872 - acc: 0.5653 - val_loss: 0.6847 - val_acc: 0.5361\n",
            "Epoch 2/15\n",
            "125/125 [==============================] - 3s 21ms/step - loss: 0.6520 - acc: 0.6372 - val_loss: 0.6769 - val_acc: 0.5522\n",
            "Epoch 3/15\n",
            "125/125 [==============================] - 3s 22ms/step - loss: 0.6320 - acc: 0.6593 - val_loss: 0.6725 - val_acc: 0.5703\n",
            "Epoch 4/15\n",
            "125/125 [==============================] - 3s 21ms/step - loss: 0.6152 - acc: 0.6834 - val_loss: 0.6710 - val_acc: 0.5622\n",
            "Epoch 5/15\n",
            "125/125 [==============================] - 3s 21ms/step - loss: 0.5996 - acc: 0.6940 - val_loss: 0.6672 - val_acc: 0.5924\n",
            "Epoch 6/15\n",
            "125/125 [==============================] - 3s 21ms/step - loss: 0.5845 - acc: 0.7161 - val_loss: 0.6655 - val_acc: 0.5944\n",
            "Epoch 7/15\n",
            "125/125 [==============================] - 3s 21ms/step - loss: 0.5702 - acc: 0.7211 - val_loss: 0.6640 - val_acc: 0.5884\n",
            "Epoch 8/15\n",
            "125/125 [==============================] - 3s 21ms/step - loss: 0.5564 - acc: 0.7417 - val_loss: 0.6650 - val_acc: 0.5863\n",
            "Epoch 9/15\n",
            "125/125 [==============================] - 3s 25ms/step - loss: 0.5449 - acc: 0.7538 - val_loss: 0.6604 - val_acc: 0.6004\n",
            "Epoch 10/15\n",
            "125/125 [==============================] - 4s 31ms/step - loss: 0.5314 - acc: 0.7663 - val_loss: 0.6665 - val_acc: 0.5823\n",
            "Epoch 11/15\n",
            "125/125 [==============================] - 3s 22ms/step - loss: 0.5195 - acc: 0.7734 - val_loss: 0.6621 - val_acc: 0.5964\n",
            "Epoch 12/15\n",
            "125/125 [==============================] - 3s 21ms/step - loss: 0.5078 - acc: 0.7849 - val_loss: 0.6608 - val_acc: 0.6004\n",
            "Epoch 13/15\n",
            "125/125 [==============================] - 3s 21ms/step - loss: 0.4959 - acc: 0.7940 - val_loss: 0.6598 - val_acc: 0.6165\n",
            "Epoch 14/15\n",
            "125/125 [==============================] - 3s 21ms/step - loss: 0.4836 - acc: 0.8050 - val_loss: 0.6642 - val_acc: 0.5884\n",
            "Epoch 15/15\n",
            "125/125 [==============================] - 3s 21ms/step - loss: 0.4725 - acc: 0.8166 - val_loss: 0.6640 - val_acc: 0.5863\n"
          ]
        },
        {
          "output_type": "execute_result",
          "data": {
            "text/plain": [
              "<keras.callbacks.History at 0x7f2459b394c0>"
            ]
          },
          "metadata": {},
          "execution_count": 27
        }
      ]
    },
    {
      "cell_type": "code",
      "source": [
        "\n",
        "#predictions on test data\n",
        "predictions = model_cnn_img.predict(test_features)\n",
        "print(predictions[:,0])\n",
        "\n",
        "CNN_image_results = getResults(y_test_img, predictions)"
      ],
      "metadata": {
        "id": "iVvVQ0Y-qCMU",
        "colab": {
          "base_uri": "https://localhost:8080/"
        },
        "outputId": "0ecb19fb-ff2b-464e-e00f-5278b7d4ef8a"
      },
      "execution_count": 28,
      "outputs": [
        {
          "output_type": "stream",
          "name": "stdout",
          "text": [
            "11/11 [==============================] - 0s 7ms/step\n",
            "[0.2910454  0.5318058  0.50506514 0.2876656  0.64608485 0.31891373\n",
            " 0.51340485 0.2654705  0.59422076 0.15994652 0.16672252 0.41179967\n",
            " 0.3940989  0.16507174 0.2010499  0.15539625 0.5349463  0.28159624\n",
            " 0.33169165 0.3603062  0.41613576 0.52621    0.23011777 0.21692128\n",
            " 0.35355458 0.25298268 0.4091612  0.4229292  0.46245095 0.50050896\n",
            " 0.22627324 0.19148842 0.21022761 0.2962627  0.31727985 0.506745\n",
            " 0.44677898 0.41797978 0.40777937 0.12007196 0.56344676 0.7083251\n",
            " 0.28801587 0.23180288 0.27710286 0.58617896 0.5871116  0.55615246\n",
            " 0.21444723 0.58727413 0.16266015 0.51767784 0.2628607  0.39948654\n",
            " 0.57932115 0.5010565  0.5024949  0.4519496  0.49758956 0.4086807\n",
            " 0.6052166  0.37148312 0.38980532 0.5752522  0.41461658 0.27982008\n",
            " 0.4824449  0.33415717 0.14345144 0.64485025 0.36075252 0.06020639\n",
            " 0.31794035 0.04287592 0.50726026 0.2589376  0.18804358 0.46090594\n",
            " 0.50865674 0.24741359 0.30369025 0.41207126 0.3932177  0.35078576\n",
            " 0.2736681  0.13400732 0.65226805 0.25409913 0.48270676 0.46561828\n",
            " 0.13276201 0.51880366 0.4149817  0.66095614 0.6280813  0.2877627\n",
            " 0.13605466 0.37116763 0.34439614 0.64482    0.6207912  0.5999551\n",
            " 0.24016213 0.49649155 0.5318058  0.47381988 0.53385967 0.60789436\n",
            " 0.15637581 0.6070618  0.2140612  0.1443052  0.3713435  0.47933733\n",
            " 0.16440326 0.36264163 0.2053639  0.5345989  0.63991594 0.31773135\n",
            " 0.43592757 0.10021149 0.23030639 0.48350614 0.47938675 0.13484249\n",
            " 0.3463332  0.14025822 0.17681782 0.37004477 0.35758382 0.03804466\n",
            " 0.43851346 0.5464015  0.40092057 0.1523344  0.35365546 0.53197956\n",
            " 0.57201964 0.4043376  0.3559283  0.3566132  0.05610164 0.45910388\n",
            " 0.7162729  0.62838906 0.17682347 0.4216223  0.49669495 0.4092217\n",
            " 0.46811315 0.15916319 0.511224   0.24714032 0.30689207 0.58099955\n",
            " 0.52539784 0.5372437  0.17242286 0.43455377 0.50421107 0.32071766\n",
            " 0.38229138 0.6573129  0.338019   0.16431466 0.22029075 0.43499205\n",
            " 0.51360714 0.2339532  0.5095379  0.29010504 0.49159953 0.0865338\n",
            " 0.30049402 0.55430675 0.3318688  0.44715866 0.1875627  0.19246188\n",
            " 0.45968774 0.28108847 0.3707514  0.47963858 0.31600606 0.29841647\n",
            " 0.29094535 0.1511014  0.67823416 0.5194271  0.56893575 0.45037594\n",
            " 0.6834057  0.3743809  0.72839093 0.42171428 0.5169383  0.3278743\n",
            " 0.70399135 0.29252645 0.24570905 0.36282876 0.5660165  0.49938124\n",
            " 0.57859963 0.19303441 0.2794486  0.34234712 0.5546799  0.48501173\n",
            " 0.31081408 0.70562845 0.26812628 0.2674855  0.13400732 0.22913969\n",
            " 0.55304    0.2419582  0.48639658 0.66807467 0.46346718 0.6327521\n",
            " 0.35337198 0.72640544 0.7333818  0.5502593  0.5449272  0.5522823\n",
            " 0.42672622 0.3826775  0.6216198  0.26629105 0.5446325  0.31265572\n",
            " 0.45621878 0.719124   0.13697088 0.5214324  0.1417501  0.5191674\n",
            " 0.52876085 0.29797944 0.37459838 0.4628689  0.46001062 0.737649\n",
            " 0.17123827 0.12765482 0.32187665 0.48442316 0.20590514 0.14783716\n",
            " 0.67008364 0.07825102 0.2225407  0.15801032 0.1368211  0.6338281\n",
            " 0.22739837 0.2508556  0.6268298  0.35298523 0.23795815 0.16144578\n",
            " 0.4339503  0.4593356  0.2661883  0.20905697 0.8024301  0.67897546\n",
            " 0.2696627  0.5180772  0.44133744 0.18144657 0.7366939  0.46017712\n",
            " 0.5509419  0.5138597  0.48590297 0.22233745 0.5631823  0.21227944\n",
            " 0.45605236 0.50928265 0.41079932 0.36051127 0.24410005 0.69262785\n",
            " 0.24156551 0.4894645  0.2008166  0.2853822  0.43789434 0.25333834\n",
            " 0.09668794 0.4318723  0.602574   0.1566638  0.49614257 0.7073001\n",
            " 0.10874098 0.39935023 0.45681646 0.4334363  0.5579584  0.73496795\n",
            " 0.23578753 0.36817867 0.4369815  0.43732893 0.26154667 0.4270765\n",
            " 0.32188836 0.7021635  0.4044908  0.12204798 0.56728137 0.18380041\n",
            " 0.4708804  0.6011735  0.45069018 0.6844571  0.57898706 0.5751255\n",
            " 0.509318   0.21000414 0.5980478  0.3356239  0.700764   0.45091796\n",
            " 0.39638364 0.24306673 0.17600943 0.4014338  0.2679212  0.48580265\n",
            " 0.22105758 0.35278898 0.11661473 0.24575625 0.11188333 0.3987863\n",
            " 0.22278501 0.4183933  0.6979833 ]\n",
            "The output here is of the form float, thus we are converting it to binary output based on the following \n",
            "condition if a value is > .5 we assign it with 1 and if a value is <.5 we assign it with 0\n",
            "\n",
            "Converting the ouput to 1D array, and then transformimg the values based on the above condition\n",
            "\n",
            "First 5 values before conversion : [0.2910454  0.5318058  0.50506514 0.2876656  0.64608485]\n",
            "First 5 values after the conversion : [0, 1, 1, 0, 1]\n",
            "\n",
            "========== RESULTS ===========\n",
            "\n",
            "Accuracy : 0.6260869565217392\n",
            "Precision : 0.5922330097087378\n",
            "F1_score : 0.4860557768924303\n",
            "Recall : 0.41216216216216217\n",
            "\n",
            "===== CONFUSION MATRIX =====\n",
            "[[155  42]\n",
            " [ 87  61]]\n"
          ]
        }
      ]
    },
    {
      "cell_type": "markdown",
      "source": [
        "Method to test the Accuracy, Precision, Recall and F1 Score The following method transforms the output to binary values before calculating the scores"
      ],
      "metadata": {
        "id": "QZMFtNdTofn_"
      }
    },
    {
      "cell_type": "markdown",
      "source": [
        "# Text classification\n",
        "\n",
        "The most basic concept is to train textual input directly. The length of each clean title, on the other hand, may vary. As a result, using recurrent layers rather than only dense layers is preferable.Furthermore, we cannot feed words into neural networks. But, most wide-spread solution is to map each word with a number using text preprocessors.\n",
        "\n",
        "There is an Embedding layer in Keras that associates a vector with each input given vocabulary length. Then we add one LSTM and three Dense layers."
      ],
      "metadata": {
        "id": "ufV0-QpwovmZ"
      }
    },
    {
      "cell_type": "code",
      "source": [
        "df_train= df_train_imgt[['clean_title','2_way_label']]\n",
        "df_test = df_test_imgt[['clean_title','2_way_label']]\n",
        "df_train"
      ],
      "metadata": {
        "id": "FHciPU8Ko1eR",
        "colab": {
          "base_uri": "https://localhost:8080/",
          "height": 419
        },
        "outputId": "890de8ee-e38e-4982-dc99-bababbee39ba"
      },
      "execution_count": 29,
      "outputs": [
        {
          "output_type": "execute_result",
          "data": {
            "text/plain": [
              "                                            clean_title  2_way_label\n",
              "345     how to annoy four groups of fans with one image            0\n",
              "346                                this super happy cat            1\n",
              "347   film poster for kolberg the last big nazi film...            0\n",
              "348                                             cutouts            0\n",
              "349                                   she took the lead            0\n",
              "...                                                 ...          ...\n",
              "2828  this little robot quite content with being a g...            0\n",
              "2829  gog galaxys subtle recruitment ad developer vi...            1\n",
              "2830                       man thinks his job is secure            0\n",
              "2831  thailand to invite tourists to experience mart...            1\n",
              "2832        my girlfriends hair clip looks like a shark            0\n",
              "\n",
              "[2488 rows x 2 columns]"
            ],
            "text/html": [
              "\n",
              "  <div id=\"df-aa790c2e-0be9-470e-8f4d-785a25e823a3\">\n",
              "    <div class=\"colab-df-container\">\n",
              "      <div>\n",
              "<style scoped>\n",
              "    .dataframe tbody tr th:only-of-type {\n",
              "        vertical-align: middle;\n",
              "    }\n",
              "\n",
              "    .dataframe tbody tr th {\n",
              "        vertical-align: top;\n",
              "    }\n",
              "\n",
              "    .dataframe thead th {\n",
              "        text-align: right;\n",
              "    }\n",
              "</style>\n",
              "<table border=\"1\" class=\"dataframe\">\n",
              "  <thead>\n",
              "    <tr style=\"text-align: right;\">\n",
              "      <th></th>\n",
              "      <th>clean_title</th>\n",
              "      <th>2_way_label</th>\n",
              "    </tr>\n",
              "  </thead>\n",
              "  <tbody>\n",
              "    <tr>\n",
              "      <th>345</th>\n",
              "      <td>how to annoy four groups of fans with one image</td>\n",
              "      <td>0</td>\n",
              "    </tr>\n",
              "    <tr>\n",
              "      <th>346</th>\n",
              "      <td>this super happy cat</td>\n",
              "      <td>1</td>\n",
              "    </tr>\n",
              "    <tr>\n",
              "      <th>347</th>\n",
              "      <td>film poster for kolberg the last big nazi film...</td>\n",
              "      <td>0</td>\n",
              "    </tr>\n",
              "    <tr>\n",
              "      <th>348</th>\n",
              "      <td>cutouts</td>\n",
              "      <td>0</td>\n",
              "    </tr>\n",
              "    <tr>\n",
              "      <th>349</th>\n",
              "      <td>she took the lead</td>\n",
              "      <td>0</td>\n",
              "    </tr>\n",
              "    <tr>\n",
              "      <th>...</th>\n",
              "      <td>...</td>\n",
              "      <td>...</td>\n",
              "    </tr>\n",
              "    <tr>\n",
              "      <th>2828</th>\n",
              "      <td>this little robot quite content with being a g...</td>\n",
              "      <td>0</td>\n",
              "    </tr>\n",
              "    <tr>\n",
              "      <th>2829</th>\n",
              "      <td>gog galaxys subtle recruitment ad developer vi...</td>\n",
              "      <td>1</td>\n",
              "    </tr>\n",
              "    <tr>\n",
              "      <th>2830</th>\n",
              "      <td>man thinks his job is secure</td>\n",
              "      <td>0</td>\n",
              "    </tr>\n",
              "    <tr>\n",
              "      <th>2831</th>\n",
              "      <td>thailand to invite tourists to experience mart...</td>\n",
              "      <td>1</td>\n",
              "    </tr>\n",
              "    <tr>\n",
              "      <th>2832</th>\n",
              "      <td>my girlfriends hair clip looks like a shark</td>\n",
              "      <td>0</td>\n",
              "    </tr>\n",
              "  </tbody>\n",
              "</table>\n",
              "<p>2488 rows × 2 columns</p>\n",
              "</div>\n",
              "      <button class=\"colab-df-convert\" onclick=\"convertToInteractive('df-aa790c2e-0be9-470e-8f4d-785a25e823a3')\"\n",
              "              title=\"Convert this dataframe to an interactive table.\"\n",
              "              style=\"display:none;\">\n",
              "        \n",
              "  <svg xmlns=\"http://www.w3.org/2000/svg\" height=\"24px\"viewBox=\"0 0 24 24\"\n",
              "       width=\"24px\">\n",
              "    <path d=\"M0 0h24v24H0V0z\" fill=\"none\"/>\n",
              "    <path d=\"M18.56 5.44l.94 2.06.94-2.06 2.06-.94-2.06-.94-.94-2.06-.94 2.06-2.06.94zm-11 1L8.5 8.5l.94-2.06 2.06-.94-2.06-.94L8.5 2.5l-.94 2.06-2.06.94zm10 10l.94 2.06.94-2.06 2.06-.94-2.06-.94-.94-2.06-.94 2.06-2.06.94z\"/><path d=\"M17.41 7.96l-1.37-1.37c-.4-.4-.92-.59-1.43-.59-.52 0-1.04.2-1.43.59L10.3 9.45l-7.72 7.72c-.78.78-.78 2.05 0 2.83L4 21.41c.39.39.9.59 1.41.59.51 0 1.02-.2 1.41-.59l7.78-7.78 2.81-2.81c.8-.78.8-2.07 0-2.86zM5.41 20L4 18.59l7.72-7.72 1.47 1.35L5.41 20z\"/>\n",
              "  </svg>\n",
              "      </button>\n",
              "      \n",
              "  <style>\n",
              "    .colab-df-container {\n",
              "      display:flex;\n",
              "      flex-wrap:wrap;\n",
              "      gap: 12px;\n",
              "    }\n",
              "\n",
              "    .colab-df-convert {\n",
              "      background-color: #E8F0FE;\n",
              "      border: none;\n",
              "      border-radius: 50%;\n",
              "      cursor: pointer;\n",
              "      display: none;\n",
              "      fill: #1967D2;\n",
              "      height: 32px;\n",
              "      padding: 0 0 0 0;\n",
              "      width: 32px;\n",
              "    }\n",
              "\n",
              "    .colab-df-convert:hover {\n",
              "      background-color: #E2EBFA;\n",
              "      box-shadow: 0px 1px 2px rgba(60, 64, 67, 0.3), 0px 1px 3px 1px rgba(60, 64, 67, 0.15);\n",
              "      fill: #174EA6;\n",
              "    }\n",
              "\n",
              "    [theme=dark] .colab-df-convert {\n",
              "      background-color: #3B4455;\n",
              "      fill: #D2E3FC;\n",
              "    }\n",
              "\n",
              "    [theme=dark] .colab-df-convert:hover {\n",
              "      background-color: #434B5C;\n",
              "      box-shadow: 0px 1px 3px 1px rgba(0, 0, 0, 0.15);\n",
              "      filter: drop-shadow(0px 1px 2px rgba(0, 0, 0, 0.3));\n",
              "      fill: #FFFFFF;\n",
              "    }\n",
              "  </style>\n",
              "\n",
              "      <script>\n",
              "        const buttonEl =\n",
              "          document.querySelector('#df-aa790c2e-0be9-470e-8f4d-785a25e823a3 button.colab-df-convert');\n",
              "        buttonEl.style.display =\n",
              "          google.colab.kernel.accessAllowed ? 'block' : 'none';\n",
              "\n",
              "        async function convertToInteractive(key) {\n",
              "          const element = document.querySelector('#df-aa790c2e-0be9-470e-8f4d-785a25e823a3');\n",
              "          const dataTable =\n",
              "            await google.colab.kernel.invokeFunction('convertToInteractive',\n",
              "                                                     [key], {});\n",
              "          if (!dataTable) return;\n",
              "\n",
              "          const docLinkHtml = 'Like what you see? Visit the ' +\n",
              "            '<a target=\"_blank\" href=https://colab.research.google.com/notebooks/data_table.ipynb>data table notebook</a>'\n",
              "            + ' to learn more about interactive tables.';\n",
              "          element.innerHTML = '';\n",
              "          dataTable['output_type'] = 'display_data';\n",
              "          await google.colab.output.renderOutput(dataTable, element);\n",
              "          const docLink = document.createElement('div');\n",
              "          docLink.innerHTML = docLinkHtml;\n",
              "          element.appendChild(docLink);\n",
              "        }\n",
              "      </script>\n",
              "    </div>\n",
              "  </div>\n",
              "  "
            ]
          },
          "metadata": {},
          "execution_count": 29
        }
      ]
    },
    {
      "cell_type": "code",
      "source": [
        "from sklearn.utils import shuffle\n",
        "\n",
        "def xy_data(data):\n",
        "\n",
        "  data = shuffle(data)\n",
        "\n",
        "  data.reset_index(inplace=True, drop=True)\n",
        "\n",
        "  x_features = data['clean_title']\n",
        "  \n",
        "  y = data['2_way_label']\n",
        "  \n",
        "  display(x_features.head())\n",
        "  display(y.head())\n",
        "\n",
        "  return x_features, y\n",
        "\n",
        "X_train_t, y_train_t = xy_data(df_train)\n",
        " \n",
        "X_test_t, y_test_t = xy_data(df_test)"
      ],
      "metadata": {
        "id": "Iq-3oJ9vogFj",
        "colab": {
          "base_uri": "https://localhost:8080/",
          "height": 425
        },
        "outputId": "c92d5ab5-ee4f-4049-8543-931068823d62"
      },
      "execution_count": 45,
      "outputs": [
        {
          "output_type": "display_data",
          "data": {
            "text/plain": [
              "0          aw is paying to put mini ads in mens beards\n",
              "1             per fetish request in comments camel toe\n",
              "2    lets celebrate uprising day yugoslavcroatian p...\n",
              "3                         my cornetto had two wrappers\n",
              "4                                            interview\n",
              "Name: clean_title, dtype: object"
            ]
          },
          "metadata": {}
        },
        {
          "output_type": "display_data",
          "data": {
            "text/plain": [
              "0    1\n",
              "1    0\n",
              "2    0\n",
              "3    1\n",
              "4    0\n",
              "Name: 2_way_label, dtype: int64"
            ]
          },
          "metadata": {}
        },
        {
          "output_type": "display_data",
          "data": {
            "text/plain": [
              "0                         i cant unsee the creepy face\n",
              "1           youll never guess who owns go tribe phrase\n",
              "2               christopher columbus discovers america\n",
              "3                               to meow or not to meow\n",
              "4    this music stand from a school my dad used to ...\n",
              "Name: clean_title, dtype: object"
            ]
          },
          "metadata": {}
        },
        {
          "output_type": "display_data",
          "data": {
            "text/plain": [
              "0    0\n",
              "1    0\n",
              "2    0\n",
              "3    0\n",
              "4    1\n",
              "Name: 2_way_label, dtype: int64"
            ]
          },
          "metadata": {}
        }
      ]
    },
    {
      "cell_type": "code",
      "source": [
        "from keras.preprocessing.text import Tokenizer\n",
        "\n",
        "from keras_preprocessing.sequence import pad_sequences\n",
        "\n",
        "tokenizer = Tokenizer()\n",
        "tokenizer.fit_on_texts(X_train_t)\n",
        "\n",
        "X_train_t = tokenizer.texts_to_sequences(X_train_t)\n",
        "X_test_t = tokenizer.texts_to_sequences(X_test_t)\n",
        "\n",
        "vocab_size = len(tokenizer.word_index) + 1\n",
        "\n",
        "maxlen = 300\n",
        "\n",
        "X_train_t = pad_sequences(X_train_t, padding='post', maxlen=maxlen)\n",
        "X_test_t= pad_sequences(X_test_t, padding='post', maxlen=maxlen)"
      ],
      "metadata": {
        "id": "UcIX-Lx0o_hP"
      },
      "execution_count": 46,
      "outputs": []
    },
    {
      "cell_type": "code",
      "source": [
        "cd '/content/drive/MyDrive/project/'"
      ],
      "metadata": {
        "id": "aplHTtkXClKr",
        "colab": {
          "base_uri": "https://localhost:8080/"
        },
        "outputId": "2797c4eb-a6fd-46be-c173-ff8d657e7c8b"
      },
      "execution_count": 47,
      "outputs": [
        {
          "output_type": "stream",
          "name": "stdout",
          "text": [
            "/content/drive/MyDrive/project\n"
          ]
        }
      ]
    },
    {
      "cell_type": "code",
      "source": [
        "\n",
        "embeddings_dictionary = dict()\n",
        "\n",
        "glove_file = open('glove.6B.100d.txt', encoding=\"utf8\")\n",
        "\n",
        "for line in glove_file:\n",
        "    records = line.split()\n",
        "    word = records[0]\n",
        "    vector_dimensions = np.asarray(records[1:], dtype='float32')\n",
        "    embeddings_dictionary[word] = vector_dimensions\n",
        "glove_file.close()\n",
        "\n",
        "embedding_matrix = np.zeros((vocab_size, 100))\n",
        "for word, index in tokenizer.word_index.items():\n",
        "    embedding_vector = embeddings_dictionary.get(word)\n",
        "    if embedding_vector is not None:\n",
        "        embedding_matrix[index] = embedding_vector"
      ],
      "metadata": {
        "id": "evkG3yJb_HS1"
      },
      "execution_count": 48,
      "outputs": []
    },
    {
      "cell_type": "code",
      "source": [
        "from keras.layers import Flatten, GlobalMaxPooling1D, Conv1D\n",
        "from keras.layers import Embedding\n",
        "from keras.layers import Bidirectional\n",
        "\n",
        "def getBidirectionalModel(text_input):\n",
        "    # Input for variable-length sequences of integers\n",
        "    # Embedding layer\n",
        "    x = Embedding(vocab_size, 100, weights=[embedding_matrix], trainable=False)(text_input)\n",
        "    x = Conv1D(128, 5, activation='relu')(x)\n",
        "    # Add maxpooling layers\n",
        "    x = Dense(64, activation='relu')(x)\n",
        "    x = GlobalMaxPooling1D()(x)\n",
        "    x = Flatten()(x)\n",
        "\n",
        "    return x\n",
        "# create image input\n",
        "from keras.layers import Input\n",
        "\n",
        "text_input = Input(shape=(maxlen,))\n",
        "\n",
        "text_output = getBidirectionalModel(text_input)"
      ],
      "metadata": {
        "id": "tAGuUyIjC7fV"
      },
      "execution_count": 63,
      "outputs": []
    },
    {
      "cell_type": "code",
      "source": [
        "from keras.layers import Dense\n",
        "\n",
        "dense = Dense(16, activation='relu')(text_output)\n",
        "output = Dense(1, name='output_layer', activation='sigmoid')(dense)\n",
        "\n",
        "# To define the model, pass list of input layers\n",
        "model_cnn_text = Model(inputs=text_input, outputs=output)\n",
        "model_cnn_text.compile(optimizer='adam',\n",
        "              loss='binary_crossentropy',\n",
        "              metrics=['acc'])\n",
        "\n",
        "# To fit the model, pass a list of inputs arrays\n",
        "model_cnn_text.fit(x=X_train_t,y=y_train_t,epochs=5,\n",
        "                    batch_size=16,\n",
        "                    validation_split=0.2)"
      ],
      "metadata": {
        "id": "vqUUi38IpCgz",
        "colab": {
          "base_uri": "https://localhost:8080/"
        },
        "outputId": "662b5456-db55-4715-8411-66faa91f0952"
      },
      "execution_count": 64,
      "outputs": [
        {
          "output_type": "stream",
          "name": "stdout",
          "text": [
            "Epoch 1/5\n",
            "125/125 [==============================] - 8s 55ms/step - loss: 0.5763 - acc: 0.7090 - val_loss: 0.5126 - val_acc: 0.7691\n",
            "Epoch 2/5\n",
            "125/125 [==============================] - 7s 53ms/step - loss: 0.3987 - acc: 0.8402 - val_loss: 0.6490 - val_acc: 0.6807\n",
            "Epoch 3/5\n",
            "125/125 [==============================] - 7s 53ms/step - loss: 0.2695 - acc: 0.9060 - val_loss: 0.4936 - val_acc: 0.7771\n",
            "Epoch 4/5\n",
            "125/125 [==============================] - 7s 52ms/step - loss: 0.1482 - acc: 0.9608 - val_loss: 0.5253 - val_acc: 0.7771\n",
            "Epoch 5/5\n",
            "125/125 [==============================] - 7s 53ms/step - loss: 0.0711 - acc: 0.9864 - val_loss: 0.5623 - val_acc: 0.7811\n"
          ]
        },
        {
          "output_type": "execute_result",
          "data": {
            "text/plain": [
              "<keras.callbacks.History at 0x7f245c46b3d0>"
            ]
          },
          "metadata": {},
          "execution_count": 64
        }
      ]
    },
    {
      "cell_type": "code",
      "source": [
        "#predictions on test data\n",
        "predictions = model_cnn_text.predict(X_test_t)\n",
        "\n",
        "CNN_text_results = getResults(y_test_t, predictions)"
      ],
      "metadata": {
        "id": "9rawce4aq-nL",
        "colab": {
          "base_uri": "https://localhost:8080/"
        },
        "outputId": "6c02da91-a74f-488f-8b61-473519c48e1c"
      },
      "execution_count": 65,
      "outputs": [
        {
          "output_type": "stream",
          "name": "stdout",
          "text": [
            "11/11 [==============================] - 1s 39ms/step\n",
            "The output here is of the form float, thus we are converting it to binary output based on the following \n",
            "condition if a value is > .5 we assign it with 1 and if a value is <.5 we assign it with 0\n",
            "\n",
            "Converting the ouput to 1D array, and then transformimg the values based on the above condition\n",
            "\n",
            "First 5 values before conversion : [0.03989056 0.00312041 0.25872022 0.00945204 0.9644907 ]\n",
            "First 5 values after the conversion : [0, 0, 0, 0, 1]\n",
            "\n",
            "========== RESULTS ===========\n",
            "\n",
            "Accuracy : 0.7391304347826086\n",
            "Precision : 0.7416666666666667\n",
            "F1_score : 0.664179104477612\n",
            "Recall : 0.6013513513513513\n",
            "\n",
            "===== CONFUSION MATRIX =====\n",
            "[[166  31]\n",
            " [ 59  89]]\n"
          ]
        }
      ]
    },
    {
      "cell_type": "markdown",
      "source": [
        "\n",
        "# Multimodal Classification\n",
        "\n",
        "Finally, the results of VGG16 show that images alone are insufficient for news classification. This is due to the image content. When we look at images, we notice that there aren't enough features to identify the respective category.\n",
        "\n",
        "Pre-trained embeddings and CNN models perform better than our base learner approaches. As a result, CNN + VGG16 and GLoVe+BI-LSTM multimodal architectures were trained."
      ],
      "metadata": {
        "id": "djatSTlro9p1"
      }
    },
    {
      "cell_type": "code",
      "source": [
        "from keras.layers import Dense, Concatenate\n",
        "\n",
        "# Concatenate the features\n",
        "concatenate_layer = Concatenate(name='concatenation')([text_output, image_output]) \n",
        "\n",
        "dense = Dense(16)(concatenate_layer)\n",
        "output = Dense(1, name='output_layer', activation='sigmoid')(dense)\n",
        "\n",
        "# To define the model, pass list of input layers\n",
        "model_cnn = Model(inputs=[ text_input, input_img], outputs=output)\n",
        "model_cnn.compile(optimizer=\"adam\",\n",
        "              loss='binary_crossentropy',\n",
        "              metrics=['acc'])\n",
        "\n",
        "# To fit the model, pass a list of inputs arrays\n",
        "history = model_cnn.fit(x=[ X_train_t, train_features], y=y_train_t,epochs=5,\n",
        "                    batch_size=16,\n",
        "                    validation_split=0.3)"
      ],
      "metadata": {
        "id": "cSfhlKXWEAc1",
        "colab": {
          "base_uri": "https://localhost:8080/"
        },
        "outputId": "a1194e3d-a39d-4b7d-8b41-b7227a6af5ba"
      },
      "execution_count": 72,
      "outputs": [
        {
          "output_type": "stream",
          "name": "stdout",
          "text": [
            "Epoch 1/5\n",
            "109/109 [==============================] - 9s 70ms/step - loss: 0.2917 - acc: 0.8909 - val_loss: 0.4274 - val_acc: 0.8447\n",
            "Epoch 2/5\n",
            "109/109 [==============================] - 9s 86ms/step - loss: 0.0290 - acc: 1.0000 - val_loss: 0.4919 - val_acc: 0.8394\n",
            "Epoch 3/5\n",
            "109/109 [==============================] - 7s 66ms/step - loss: 0.0093 - acc: 1.0000 - val_loss: 0.5486 - val_acc: 0.8380\n",
            "Epoch 4/5\n",
            "109/109 [==============================] - 7s 67ms/step - loss: 0.0047 - acc: 1.0000 - val_loss: 0.5999 - val_acc: 0.8327\n",
            "Epoch 5/5\n",
            "109/109 [==============================] - 9s 86ms/step - loss: 0.0028 - acc: 1.0000 - val_loss: 0.6327 - val_acc: 0.8327\n"
          ]
        }
      ]
    },
    {
      "cell_type": "code",
      "source": [
        "#predictions on test data\n",
        "predictions = model_cnn.predict([ X_test_t, test_features])\n",
        "\n",
        "CNN_multimodal_results = getResults(y_test_t, predictions)"
      ],
      "metadata": {
        "id": "L49QafRZuWY8",
        "colab": {
          "base_uri": "https://localhost:8080/"
        },
        "outputId": "3a487842-f2ea-46b6-9317-31e37de95ec6"
      },
      "execution_count": 71,
      "outputs": [
        {
          "output_type": "stream",
          "name": "stdout",
          "text": [
            "11/11 [==============================] - 1s 36ms/step\n",
            "The output here is of the form float, thus we are converting it to binary output based on the following \n",
            "condition if a value is > .5 we assign it with 1 and if a value is <.5 we assign it with 0\n",
            "\n",
            "Converting the ouput to 1D array, and then transformimg the values based on the above condition\n",
            "\n",
            "First 5 values before conversion : [1.1926038e-03 2.9455751e-04 9.2804901e-02 1.8150012e-04 9.5913249e-01]\n",
            "First 5 values after the conversion : [0, 0, 0, 0, 1]\n",
            "\n",
            "========== RESULTS ===========\n",
            "\n",
            "Accuracy : 0.7536231884057971\n",
            "Precision : 0.7787610619469026\n",
            "F1_score : 0.6743295019157088\n",
            "Recall : 0.5945945945945946\n",
            "\n",
            "===== CONFUSION MATRIX =====\n",
            "[[172  25]\n",
            " [ 60  88]]\n"
          ]
        }
      ]
    },
    {
      "cell_type": "code",
      "source": [
        "# create dataframe with results from above models\n",
        "\n",
        "columns = ['Modality','Accuracy','Precision','F1-score','Recall']\n",
        "\n",
        "df_results = pd.DataFrame(columns =columns)\n",
        "\n",
        "def results_data(scores, df, modality):\n",
        "\n",
        "  # generating data to tabulate results\n",
        "  scores =list(scores) \n",
        "  scores.insert(0,modality)\n",
        "\n",
        "  #append the score to dataframe\n",
        "  df = df.append(pd.DataFrame(np.array(scores).reshape(1,-1), columns=list(df)), ignore_index=True)\n",
        "\n",
        "  return df\n",
        "\n",
        "\n",
        "df_results = results_data(CNN_image_results, df_results, 'visual modality' )\n",
        "\n",
        "df_results = results_data(CNN_text_results, df_results, 'textual modality' )\n",
        "\n",
        "df_results = results_data(CNN_multimodal_results, df_results, 'visual + textual modality' )\n"
      ],
      "metadata": {
        "id": "3YXQMEwTadyw"
      },
      "execution_count": 73,
      "outputs": []
    },
    {
      "cell_type": "markdown",
      "source": [
        "**Discussion**\n",
        "\n",
        "Although we obtained good results, the performance is 90% because of the inconsistent data source. Furthermore, due to a lack of computational resources, more advanced models such as ResNet could not be used for image processing. However, it is clear that image features degrade the performance of the better performing text models.\n",
        "\n",
        "But it is clearly seen that the multimodal classification is performing far better than image or text classification models."
      ],
      "metadata": {
        "id": "Npi4t6HijsfY"
      }
    },
    {
      "cell_type": "code",
      "source": [
        "df_results"
      ],
      "metadata": {
        "colab": {
          "base_uri": "https://localhost:8080/",
          "height": 142
        },
        "id": "bxDBuPdkfhtG",
        "outputId": "d749f304-9772-4769-9699-ab766645722e"
      },
      "execution_count": 74,
      "outputs": [
        {
          "output_type": "execute_result",
          "data": {
            "text/plain": [
              "                    Modality            Accuracy           Precision  \\\n",
              "0            visual modality  0.6260869565217392  0.5922330097087378   \n",
              "1           textual modality  0.7391304347826086  0.7416666666666667   \n",
              "2  visual + textual modality  0.7536231884057971  0.7787610619469026   \n",
              "\n",
              "             F1-score               Recall  \n",
              "0  0.4860557768924303  0.41216216216216217  \n",
              "1   0.664179104477612   0.6013513513513513  \n",
              "2  0.6743295019157088   0.5945945945945946  "
            ],
            "text/html": [
              "\n",
              "  <div id=\"df-82e2ce85-3f80-4c9e-b667-39ac4bbf7642\">\n",
              "    <div class=\"colab-df-container\">\n",
              "      <div>\n",
              "<style scoped>\n",
              "    .dataframe tbody tr th:only-of-type {\n",
              "        vertical-align: middle;\n",
              "    }\n",
              "\n",
              "    .dataframe tbody tr th {\n",
              "        vertical-align: top;\n",
              "    }\n",
              "\n",
              "    .dataframe thead th {\n",
              "        text-align: right;\n",
              "    }\n",
              "</style>\n",
              "<table border=\"1\" class=\"dataframe\">\n",
              "  <thead>\n",
              "    <tr style=\"text-align: right;\">\n",
              "      <th></th>\n",
              "      <th>Modality</th>\n",
              "      <th>Accuracy</th>\n",
              "      <th>Precision</th>\n",
              "      <th>F1-score</th>\n",
              "      <th>Recall</th>\n",
              "    </tr>\n",
              "  </thead>\n",
              "  <tbody>\n",
              "    <tr>\n",
              "      <th>0</th>\n",
              "      <td>visual modality</td>\n",
              "      <td>0.6260869565217392</td>\n",
              "      <td>0.5922330097087378</td>\n",
              "      <td>0.4860557768924303</td>\n",
              "      <td>0.41216216216216217</td>\n",
              "    </tr>\n",
              "    <tr>\n",
              "      <th>1</th>\n",
              "      <td>textual modality</td>\n",
              "      <td>0.7391304347826086</td>\n",
              "      <td>0.7416666666666667</td>\n",
              "      <td>0.664179104477612</td>\n",
              "      <td>0.6013513513513513</td>\n",
              "    </tr>\n",
              "    <tr>\n",
              "      <th>2</th>\n",
              "      <td>visual + textual modality</td>\n",
              "      <td>0.7536231884057971</td>\n",
              "      <td>0.7787610619469026</td>\n",
              "      <td>0.6743295019157088</td>\n",
              "      <td>0.5945945945945946</td>\n",
              "    </tr>\n",
              "  </tbody>\n",
              "</table>\n",
              "</div>\n",
              "      <button class=\"colab-df-convert\" onclick=\"convertToInteractive('df-82e2ce85-3f80-4c9e-b667-39ac4bbf7642')\"\n",
              "              title=\"Convert this dataframe to an interactive table.\"\n",
              "              style=\"display:none;\">\n",
              "        \n",
              "  <svg xmlns=\"http://www.w3.org/2000/svg\" height=\"24px\"viewBox=\"0 0 24 24\"\n",
              "       width=\"24px\">\n",
              "    <path d=\"M0 0h24v24H0V0z\" fill=\"none\"/>\n",
              "    <path d=\"M18.56 5.44l.94 2.06.94-2.06 2.06-.94-2.06-.94-.94-2.06-.94 2.06-2.06.94zm-11 1L8.5 8.5l.94-2.06 2.06-.94-2.06-.94L8.5 2.5l-.94 2.06-2.06.94zm10 10l.94 2.06.94-2.06 2.06-.94-2.06-.94-.94-2.06-.94 2.06-2.06.94z\"/><path d=\"M17.41 7.96l-1.37-1.37c-.4-.4-.92-.59-1.43-.59-.52 0-1.04.2-1.43.59L10.3 9.45l-7.72 7.72c-.78.78-.78 2.05 0 2.83L4 21.41c.39.39.9.59 1.41.59.51 0 1.02-.2 1.41-.59l7.78-7.78 2.81-2.81c.8-.78.8-2.07 0-2.86zM5.41 20L4 18.59l7.72-7.72 1.47 1.35L5.41 20z\"/>\n",
              "  </svg>\n",
              "      </button>\n",
              "      \n",
              "  <style>\n",
              "    .colab-df-container {\n",
              "      display:flex;\n",
              "      flex-wrap:wrap;\n",
              "      gap: 12px;\n",
              "    }\n",
              "\n",
              "    .colab-df-convert {\n",
              "      background-color: #E8F0FE;\n",
              "      border: none;\n",
              "      border-radius: 50%;\n",
              "      cursor: pointer;\n",
              "      display: none;\n",
              "      fill: #1967D2;\n",
              "      height: 32px;\n",
              "      padding: 0 0 0 0;\n",
              "      width: 32px;\n",
              "    }\n",
              "\n",
              "    .colab-df-convert:hover {\n",
              "      background-color: #E2EBFA;\n",
              "      box-shadow: 0px 1px 2px rgba(60, 64, 67, 0.3), 0px 1px 3px 1px rgba(60, 64, 67, 0.15);\n",
              "      fill: #174EA6;\n",
              "    }\n",
              "\n",
              "    [theme=dark] .colab-df-convert {\n",
              "      background-color: #3B4455;\n",
              "      fill: #D2E3FC;\n",
              "    }\n",
              "\n",
              "    [theme=dark] .colab-df-convert:hover {\n",
              "      background-color: #434B5C;\n",
              "      box-shadow: 0px 1px 3px 1px rgba(0, 0, 0, 0.15);\n",
              "      filter: drop-shadow(0px 1px 2px rgba(0, 0, 0, 0.3));\n",
              "      fill: #FFFFFF;\n",
              "    }\n",
              "  </style>\n",
              "\n",
              "      <script>\n",
              "        const buttonEl =\n",
              "          document.querySelector('#df-82e2ce85-3f80-4c9e-b667-39ac4bbf7642 button.colab-df-convert');\n",
              "        buttonEl.style.display =\n",
              "          google.colab.kernel.accessAllowed ? 'block' : 'none';\n",
              "\n",
              "        async function convertToInteractive(key) {\n",
              "          const element = document.querySelector('#df-82e2ce85-3f80-4c9e-b667-39ac4bbf7642');\n",
              "          const dataTable =\n",
              "            await google.colab.kernel.invokeFunction('convertToInteractive',\n",
              "                                                     [key], {});\n",
              "          if (!dataTable) return;\n",
              "\n",
              "          const docLinkHtml = 'Like what you see? Visit the ' +\n",
              "            '<a target=\"_blank\" href=https://colab.research.google.com/notebooks/data_table.ipynb>data table notebook</a>'\n",
              "            + ' to learn more about interactive tables.';\n",
              "          element.innerHTML = '';\n",
              "          dataTable['output_type'] = 'display_data';\n",
              "          await google.colab.output.renderOutput(dataTable, element);\n",
              "          const docLink = document.createElement('div');\n",
              "          docLink.innerHTML = docLinkHtml;\n",
              "          element.appendChild(docLink);\n",
              "        }\n",
              "      </script>\n",
              "    </div>\n",
              "  </div>\n",
              "  "
            ]
          },
          "metadata": {},
          "execution_count": 74
        }
      ]
    },
    {
      "cell_type": "code",
      "source": [],
      "metadata": {
        "id": "iMyoqSFxg7qV"
      },
      "execution_count": null,
      "outputs": []
    }
  ]
}