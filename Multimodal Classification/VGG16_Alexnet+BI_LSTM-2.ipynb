{
  "nbformat": 4,
  "nbformat_minor": 0,
  "metadata": {
    "colab": {
      "provenance": []
    },
    "kernelspec": {
      "name": "python3",
      "display_name": "Python 3"
    },
    "language_info": {
      "name": "python"
    }
  },
  "cells": [
    {
      "cell_type": "code",
      "execution_count": 156,
      "metadata": {
        "id": "WvDzf9kRiGE1"
      },
      "outputs": [],
      "source": [
        "# necessary packages\n",
        "import tensorflow as tf\n",
        "import pickle\n",
        "\n",
        "import pandas as pd \n",
        "import numpy as np\n",
        "\n",
        "import os\n",
        "import sys\n",
        "\n",
        "import warnings\n",
        "warnings.filterwarnings('ignore')\n",
        "\n",
        "from matplotlib import pyplot as plt\n",
        "%matplotlib inline\n",
        "\n",
        "import keras\n",
        "from keras import optimizers\n",
        "from keras.utils import to_categorical\n",
        "from keras.layers import Input, Dense, Flatten, Dropout, Conv2D, MaxPooling2D, Activation, concatenate\n",
        "from keras.models import Model\n",
        "from keras.callbacks import ModelCheckpoint\n",
        "\n",
        "\n",
        "from sklearn.metrics import accuracy_score, f1_score, precision_score, recall_score\n",
        "from sklearn.metrics import confusion_matrix\n"
      ]
    },
    {
      "cell_type": "code",
      "source": [
        "from google.colab import drive\n",
        "\n",
        "drive.mount('/content/drive')"
      ],
      "metadata": {
        "colab": {
          "base_uri": "https://localhost:8080/"
        },
        "id": "cG1smqmBiNjs",
        "outputId": "133a7a2e-db8e-4dda-f071-0762ce55fc92"
      },
      "execution_count": 157,
      "outputs": [
        {
          "output_type": "stream",
          "name": "stdout",
          "text": [
            "Drive already mounted at /content/drive; to attempt to forcibly remount, call drive.mount(\"/content/drive\", force_remount=True).\n"
          ]
        }
      ]
    },
    {
      "cell_type": "code",
      "source": [
        "cd '/content/drive/MyDrive/project/'"
      ],
      "metadata": {
        "colab": {
          "base_uri": "https://localhost:8080/"
        },
        "id": "KvDXF8tiiRp4",
        "outputId": "ac91b537-6b70-47f0-d515-aa8b398e67ea"
      },
      "execution_count": 158,
      "outputs": [
        {
          "output_type": "stream",
          "name": "stdout",
          "text": [
            "/content/drive/MyDrive/project\n"
          ]
        }
      ]
    },
    {
      "cell_type": "code",
      "source": [
        "def transformResults(predictions):\n",
        "    print(\"\"\"The output here is of the form float, thus we are converting it to binary output based on the following \n",
        "condition if a value is > .5 we assign it with 1 and if a value is <.5 we assign it with 0\"\"\")\n",
        "    \n",
        "    print(\"\\nConverting the ouput to 1D array, and then transformimg the values based on the above condition\\n\")\n",
        "    predictions = predictions[:, 0]\n",
        "    print(f'First 5 values before conversion : {predictions[:5]}')\n",
        "    \n",
        "    predictions = [1 if val>0.5 else 0 for val in predictions]\n",
        "    print(f'First 5 values after the conversion : {predictions[:5]}')\n",
        "    return predictions"
      ],
      "metadata": {
        "id": "wz2uNZrLnuS9"
      },
      "execution_count": 159,
      "outputs": []
    },
    {
      "cell_type": "code",
      "source": [
        "def getResults(y_test, prediction):\n",
        "\n",
        "    prediction = transformResults(prediction)\n",
        "\n",
        "    print(\"\\n========== RESULTS ===========\\n\")\n",
        "    accuracy = accuracy_score(y_test, prediction)\n",
        "    precision = precision_score(y_test, prediction)\n",
        "    f1 = f1_score(y_test, prediction)\n",
        "    recall = recall_score(y_test, prediction)\n",
        "\n",
        "    print(f'Accuracy : {accuracy}\\nPrecision : {precision}\\nF1_score : {f1}\\nRecall : {recall}\\n')\n",
        "    \n",
        "    print(\"===== CONFUSION MATRIX =====\")\n",
        "    cf_matrix = confusion_matrix(y_test, prediction)\n",
        "    print(cf_matrix)\n",
        "    \n",
        "    return accuracy, precision, f1, recall"
      ],
      "metadata": {
        "id": "fw8yjUxMqMy0"
      },
      "execution_count": 160,
      "outputs": []
    },
    {
      "cell_type": "code",
      "source": [
        "def results_plot(result):\n",
        "  #Model performance\n",
        "  accuracy = result.history['acc']\n",
        "  val_accuracy = result.history['val_acc']\n",
        "  loss = result.history['loss']\n",
        "  val_loss = result.history['val_loss']\n",
        "\n",
        "  epochs = range(5)\n",
        "\n",
        "  plt.figure(figsize=(15, 5))\n",
        "  plt.subplot(1, 2, 1)\n",
        "  plt.plot(epochs, accuracy, label='Training Accuracy')\n",
        "  plt.plot(epochs, val_accuracy, label='Validation Accuracy')\n",
        "  plt.legend(loc='lower right')\n",
        "  plt.title('Model Accuracy')\n",
        "  plt.subplot(1, 2, 2)\n",
        "  plt.plot(epochs, loss, label='Training Loss')\n",
        "  plt.plot(epochs, val_loss, label='Validation Loss')\n",
        "  plt.legend(loc='upper right')\n",
        "  plt.title('Model Loss')\n",
        "  plt.show()"
      ],
      "metadata": {
        "id": "LqTU-Diqt5S3"
      },
      "execution_count": 161,
      "outputs": []
    },
    {
      "cell_type": "markdown",
      "source": [
        "# Image Features"
      ],
      "metadata": {
        "id": "4pAjpjy7il_h"
      }
    },
    {
      "cell_type": "code",
      "source": [
        "#loading train and test data\n",
        "\n",
        "with open('train_featuremap.pkl', 'rb') as df_file:\n",
        "       train_featuremap = pickle.load( df_file)\n",
        "\n",
        "with open('test_featuremap.pkl', 'rb') as df_file:\n",
        "       test_featuremap = pickle.load( df_file)\n"
      ],
      "metadata": {
        "id": "KlK-1Zl8lwce"
      },
      "execution_count": 162,
      "outputs": []
    },
    {
      "cell_type": "code",
      "source": [
        "#loading labels\n",
        "with open('train_labels.pkl', 'rb') as df_file:\n",
        "       train_labels = pickle.load( df_file)\n",
        "\n",
        "with open('test_labels.pkl', 'rb') as df_file:\n",
        "       test_labels = pickle.load( df_file)"
      ],
      "metadata": {
        "id": "C9K_CPNhmrdG"
      },
      "execution_count": 163,
      "outputs": []
    },
    {
      "cell_type": "code",
      "source": [
        "# reshape the feature map\n",
        "\n",
        "train_features = np.array(train_featuremap)\n",
        "train_features = train_features.reshape((-1,7,7,512))\n",
        "\n",
        "test_features = np.array(test_featuremap)\n",
        "test_features = test_features.reshape((-1,7,7,512))\n"
      ],
      "metadata": {
        "id": "0GAu27AdqSKv"
      },
      "execution_count": 164,
      "outputs": []
    },
    {
      "cell_type": "code",
      "source": [
        "\n",
        "from keras.models import Sequential, load_model\n",
        "from keras.callbacks import EarlyStopping\n",
        "from keras.layers import Conv2D, MaxPooling2D\n",
        "from keras.layers import Activation, Dropout, Flatten, Dense, LeakyReLU\n",
        "\n",
        "def create_model(input_img, input_shape):\n",
        "\n",
        "  # Build classifier on top of  VGG19\n",
        "  model = Conv2D(32, (3, 3), padding='same', input_shape=input_shape)(input_img)\n",
        "  model = LeakyReLU(alpha=0.1)(model)\n",
        "  model = MaxPooling2D((2, 2),padding='same')(model)\n",
        "  model = Dropout(0.25)(model)\n",
        "  \n",
        "  model = Conv2D(64, (3, 3), padding='same')(model)\n",
        "  model = LeakyReLU(alpha=0.1)(model)\n",
        "  model = MaxPooling2D(pool_size=(2, 2),padding='same')(model)\n",
        "  model = Dropout(0.25)(model)\n",
        "    \n",
        "  model = Conv2D(128, (3, 3), padding='same')(model)\n",
        "  model = LeakyReLU(alpha=0.1)(model)\n",
        "  x = Flatten()(model)\n",
        "  x = Dense(128, activation='relu')(x)\n",
        "\n",
        "  return x"
      ],
      "metadata": {
        "id": "ZUp1CR3JtHuc"
      },
      "execution_count": 165,
      "outputs": []
    },
    {
      "cell_type": "code",
      "source": [
        "# create image input\n",
        "from keras.layers import Input\n",
        "\n",
        "input_shape = (7,7,512)\n",
        "\n",
        "input_img = Input(shape=(7,7,512), name=\"vgg_input\")\n",
        "\n",
        "image_output = create_model(input_img, input_shape)\n",
        "image_output"
      ],
      "metadata": {
        "colab": {
          "base_uri": "https://localhost:8080/"
        },
        "id": "4jjRVm4ttzUP",
        "outputId": "a08d1326-e53e-42c0-efe0-487d1f65a599"
      },
      "execution_count": 166,
      "outputs": [
        {
          "output_type": "execute_result",
          "data": {
            "text/plain": [
              "<KerasTensor: shape=(None, 128) dtype=float32 (created by layer 'dense_31')>"
            ]
          },
          "metadata": {},
          "execution_count": 166
        }
      ]
    },
    {
      "cell_type": "code",
      "source": [
        "#evaluating model on image data\n",
        "\n",
        "image_output = Dense(16)(image_output)\n",
        "output = Dense(1, name='output_layer', activation='sigmoid')(image_output)\n",
        "\n",
        "# To define the model, pass list of input layers\n",
        "model_cnn_img = Model(inputs=input_img, outputs=output)\n",
        "\n",
        "model_cnn_img.compile(optimizer=optimizers.RMSprop(lr=1e-3),\n",
        "              loss='binary_crossentropy',\n",
        "              metrics=['acc'])\n",
        "\n",
        "# To fit the model, pass a list of inputs arrays\n",
        "history = model_cnn_img.fit(x=train_features,y=train_labels,epochs=5,\n",
        "                    batch_size=16,\n",
        "                    validation_split=0.2)"
      ],
      "metadata": {
        "colab": {
          "base_uri": "https://localhost:8080/"
        },
        "id": "QYYYM84et2Au",
        "outputId": "4daa0dfd-7438-427b-aeea-d73c7017ba25"
      },
      "execution_count": 167,
      "outputs": [
        {
          "output_type": "stream",
          "name": "stdout",
          "text": [
            "Epoch 1/5\n",
            "207/207 [==============================] - 8s 34ms/step - loss: 0.6852 - acc: 0.5893 - val_loss: 0.6523 - val_acc: 0.6196\n",
            "Epoch 2/5\n",
            "207/207 [==============================] - 7s 34ms/step - loss: 0.6568 - acc: 0.6141 - val_loss: 0.6412 - val_acc: 0.6401\n",
            "Epoch 3/5\n",
            "207/207 [==============================] - 7s 32ms/step - loss: 0.6348 - acc: 0.6422 - val_loss: 0.6284 - val_acc: 0.6461\n",
            "Epoch 4/5\n",
            "207/207 [==============================] - 7s 32ms/step - loss: 0.5985 - acc: 0.6718 - val_loss: 0.6313 - val_acc: 0.6522\n",
            "Epoch 5/5\n",
            "207/207 [==============================] - 7s 34ms/step - loss: 0.5672 - acc: 0.7050 - val_loss: 0.6479 - val_acc: 0.6353\n"
          ]
        }
      ]
    },
    {
      "cell_type": "code",
      "source": [
        "results_plot(history)"
      ],
      "metadata": {
        "colab": {
          "base_uri": "https://localhost:8080/",
          "height": 315
        },
        "id": "7T-2nYhuvE6q",
        "outputId": "64ed2c4a-96dc-42d9-ee86-871fcc615fb2"
      },
      "execution_count": 168,
      "outputs": [
        {
          "output_type": "display_data",
          "data": {
            "text/plain": [
              "<Figure size 1080x360 with 2 Axes>"
            ],
            "image/png": "[encoded data removed]"
          },
          "metadata": {
            "needs_background": "light"
          }
        }
      ]
    },
    {
      "cell_type": "code",
      "source": [
        "#predictions on test data\n",
        "predictions = model_cnn_img.predict(test_features)\n",
        "\n",
        "CNN_image_results = getResults(test_labels, predictions)"
      ],
      "metadata": {
        "colab": {
          "base_uri": "https://localhost:8080/"
        },
        "id": "uVe9vLtQzzED",
        "outputId": "091c887c-e95a-469f-c275-4e8ff98df897"
      },
      "execution_count": 169,
      "outputs": [
        {
          "output_type": "stream",
          "name": "stdout",
          "text": [
            "30/30 [==============================] - 1s 18ms/step\n",
            "The output here is of the form float, thus we are converting it to binary output based on the following \n",
            "condition if a value is > .5 we assign it with 1 and if a value is <.5 we assign it with 0\n",
            "\n",
            "Converting the ouput to 1D array, and then transformimg the values based on the above condition\n",
            "\n",
            "First 5 values before conversion : [0.05593283 0.25464746 0.54037404 0.4334172  0.52597207]\n",
            "First 5 values after the conversion : [0, 0, 1, 0, 1]\n",
            "\n",
            "========== RESULTS ===========\n",
            "\n",
            "Accuracy : 0.6201058201058202\n",
            "Precision : 0.5478260869565217\n",
            "F1_score : 0.5128900949796472\n",
            "Recall : 0.48214285714285715\n",
            "\n",
            "===== CONFUSION MATRIX =====\n",
            "[[397 156]\n",
            " [203 189]]\n"
          ]
        }
      ]
    },
    {
      "cell_type": "markdown",
      "source": [
        "# Text Features"
      ],
      "metadata": {
        "id": "VU9lH9G8vbK0"
      }
    },
    {
      "cell_type": "code",
      "source": [
        "#loading train and test data\n",
        "\n",
        "with open('train_features_text.pkl', 'rb') as df_file:\n",
        "       X_train_t = pickle.load( df_file)\n",
        "\n",
        "with open('test_features_text.pkl', 'rb') as df_file:\n",
        "       X_test_t = pickle.load( df_file)"
      ],
      "metadata": {
        "id": "ekGegD2Ox5ma"
      },
      "execution_count": 170,
      "outputs": []
    },
    {
      "cell_type": "code",
      "source": [
        "from keras.preprocessing.text import Tokenizer\n",
        "\n",
        "from keras_preprocessing.sequence import pad_sequences\n",
        "\n",
        "tokenizer = Tokenizer()\n",
        "tokenizer.fit_on_texts(X_train_t)\n",
        "\n",
        "X_train_t = tokenizer.texts_to_sequences(X_train_t)\n",
        "X_test_t = tokenizer.texts_to_sequences(X_test_t)\n",
        "\n",
        "vocab_size = len(tokenizer.word_index) + 1\n",
        "\n",
        "maxlen = 50\n",
        "\n",
        "X_train_t = pad_sequences(X_train_t, padding='post', maxlen=maxlen)\n",
        "X_test_t= pad_sequences(X_test_t, padding='post', maxlen=maxlen)"
      ],
      "metadata": {
        "id": "DkdR-nNHyrD_"
      },
      "execution_count": 171,
      "outputs": []
    },
    {
      "cell_type": "code",
      "source": [
        "cd '/content/drive/MyDrive/project/'"
      ],
      "metadata": {
        "colab": {
          "base_uri": "https://localhost:8080/"
        },
        "id": "6ODgptWfvJLp",
        "outputId": "192be1a5-8bee-45d4-dcfb-daff520f7ab5"
      },
      "execution_count": 172,
      "outputs": [
        {
          "output_type": "stream",
          "name": "stdout",
          "text": [
            "/content/drive/MyDrive/project\n"
          ]
        }
      ]
    },
    {
      "cell_type": "code",
      "source": [
        "from keras.preprocessing.text import Tokenizer\n",
        "\n",
        "embeddings_dictionary = dict()\n",
        "\n",
        "glove_file = open('glove.6B.100d.txt', encoding=\"utf8\")\n",
        "\n",
        "for line in glove_file:\n",
        "    records = line.split()\n",
        "    word = records[0]\n",
        "    vector_dimensions = np.asarray(records[1:], dtype='float32')\n",
        "    embeddings_dictionary[word] = vector_dimensions\n",
        "glove_file.close()\n",
        "\n",
        "embedding_matrix = np.zeros((vocab_size, 100))\n",
        "for word, index in tokenizer.word_index.items():\n",
        "    embedding_vector = embeddings_dictionary.get(word)\n",
        "    if embedding_vector is not None:\n",
        "        embedding_matrix[index] = embedding_vector"
      ],
      "metadata": {
        "id": "tIM6TlWKv3k_"
      },
      "execution_count": 173,
      "outputs": []
    },
    {
      "cell_type": "code",
      "source": [
        "from keras.layers import Flatten, GlobalMaxPooling1D, Conv1D\n",
        "from keras.layers import Embedding\n",
        "from keras.layers import Bidirectional,LSTM\n",
        "\n",
        "def getBidirectionalModel(text_input):\n",
        "    # Input for variable-length sequences of integers\n",
        "    # Embedding layer\n",
        "    x = Embedding(vocab_size, 100, weights=[embedding_matrix], trainable=False)(text_input)\n",
        "\n",
        "    # Add bidirectional LSTMs\n",
        "    x = Bidirectional(LSTM(128, return_sequences=True))(x)\n",
        "    x = Bidirectional(LSTM(128))(x)\n",
        "    \n",
        "    return x\n",
        "# create image input\n",
        "from keras.layers import Input\n",
        "\n",
        "text_input = Input(shape=(maxlen,))\n",
        "\n",
        "text_output = getBidirectionalModel(text_input)"
      ],
      "metadata": {
        "id": "KOp0MHjdvih2"
      },
      "execution_count": 174,
      "outputs": []
    },
    {
      "cell_type": "code",
      "source": [
        "from keras.layers import Dense\n",
        "\n",
        "dense = Dense(16, activation='relu')(text_output)\n",
        "output = Dense(1, name='output_layer', activation='sigmoid')(dense)\n",
        "\n",
        "# To define the model, pass list of input layers\n",
        "model_cnn_text = Model(inputs=text_input, outputs=output)\n",
        "model_cnn_text.compile(optimizer='adam',\n",
        "              loss='binary_crossentropy',\n",
        "              metrics=['acc'])\n",
        "\n",
        "# To fit the model, pass a list of inputs arrays\n",
        "history = model_cnn_text.fit(x=X_train_t,y=train_labels,epochs=5,\n",
        "                    batch_size=16,\n",
        "                    validation_split=0.2)"
      ],
      "metadata": {
        "colab": {
          "base_uri": "https://localhost:8080/"
        },
        "id": "l6aQ3EvMxki4",
        "outputId": "0f2a4139-1055-4530-dc9f-caa81d7dbcc8"
      },
      "execution_count": 175,
      "outputs": [
        {
          "output_type": "stream",
          "name": "stdout",
          "text": [
            "Epoch 1/5\n",
            "207/207 [==============================] - 56s 238ms/step - loss: 0.5504 - acc: 0.7244 - val_loss: 0.4975 - val_acc: 0.7536\n",
            "Epoch 2/5\n",
            "207/207 [==============================] - 47s 228ms/step - loss: 0.4870 - acc: 0.7667 - val_loss: 0.4953 - val_acc: 0.7669\n",
            "Epoch 3/5\n",
            "207/207 [==============================] - 47s 229ms/step - loss: 0.4505 - acc: 0.7909 - val_loss: 0.4893 - val_acc: 0.7826\n",
            "Epoch 4/5\n",
            "207/207 [==============================] - 51s 247ms/step - loss: 0.4036 - acc: 0.8163 - val_loss: 0.4735 - val_acc: 0.7923\n",
            "Epoch 5/5\n",
            "207/207 [==============================] - 48s 232ms/step - loss: 0.3534 - acc: 0.8438 - val_loss: 0.4938 - val_acc: 0.7802\n"
          ]
        }
      ]
    },
    {
      "cell_type": "code",
      "source": [
        "results_plot(history)"
      ],
      "metadata": {
        "colab": {
          "base_uri": "https://localhost:8080/",
          "height": 315
        },
        "id": "PVm0m0OsyJ1o",
        "outputId": "312d7e9e-2ea2-4eec-8ad2-f50388641427"
      },
      "execution_count": 176,
      "outputs": [
        {
          "output_type": "display_data",
          "data": {
            "text/plain": [
              "<Figure size 1080x360 with 2 Axes>"
            ],
            "image/png": "[encoded data removed]"
          },
          "metadata": {
            "needs_background": "light"
          }
        }
      ]
    },
    {
      "cell_type": "code",
      "source": [
        "#predictions on test data\n",
        "predictions = model_cnn_text.predict(X_test_t)\n",
        "\n",
        "CNN_image_results = getResults(test_labels, predictions)"
      ],
      "metadata": {
        "colab": {
          "base_uri": "https://localhost:8080/"
        },
        "id": "8LpwniJI0LHj",
        "outputId": "a0843c00-788b-4c3a-bc79-f380a477f6df"
      },
      "execution_count": 177,
      "outputs": [
        {
          "output_type": "stream",
          "name": "stdout",
          "text": [
            "30/30 [==============================] - 5s 108ms/step\n",
            "The output here is of the form float, thus we are converting it to binary output based on the following \n",
            "condition if a value is > .5 we assign it with 1 and if a value is <.5 we assign it with 0\n",
            "\n",
            "Converting the ouput to 1D array, and then transformimg the values based on the above condition\n",
            "\n",
            "First 5 values before conversion : [0.02484048 0.01766008 0.6210623  0.21634296 0.95780754]\n",
            "First 5 values after the conversion : [0, 0, 1, 0, 1]\n",
            "\n",
            "========== RESULTS ===========\n",
            "\n",
            "Accuracy : 0.7703703703703704\n",
            "Precision : 0.7551020408163265\n",
            "F1_score : 0.7047619047619047\n",
            "Recall : 0.6607142857142857\n",
            "\n",
            "===== CONFUSION MATRIX =====\n",
            "[[469  84]\n",
            " [133 259]]\n"
          ]
        }
      ]
    },
    {
      "cell_type": "markdown",
      "source": [
        "# Image + Text Features"
      ],
      "metadata": {
        "id": "Rmj8LhY-znix"
      }
    },
    {
      "cell_type": "code",
      "source": [
        "from keras.layers import Dense, Concatenate\n",
        "\n",
        "# Concatenate the features\n",
        "concatenate_layer = Concatenate(name='concatenation')([text_output, image_output]) \n",
        "output = Dense(1, name='output_layer', activation='sigmoid')(concatenate_layer)\n",
        "\n",
        "# To define the model, pass list of input layers\n",
        "model_cnn = Model(inputs=[ text_input, input_img], outputs=output)\n",
        "model_cnn.compile(optimizer=optimizers.RMSprop(lr=1e-5),\n",
        "              loss='binary_crossentropy',\n",
        "              metrics=['acc'])\n",
        "\n",
        "# To fit the model, pass a list of inputs arrays\n",
        "history = model_cnn.fit(x=[ X_train_t, train_features], y=train_labels,epochs=5,\n",
        "                    batch_size=16,\n",
        "                    validation_split=0.2)"
      ],
      "metadata": {
        "colab": {
          "base_uri": "https://localhost:8080/"
        },
        "id": "cHnAONRrztPA",
        "outputId": "67de62a4-8f49-485b-af8b-958ab75d5d31"
      },
      "execution_count": 178,
      "outputs": [
        {
          "output_type": "stream",
          "name": "stdout",
          "text": [
            "Epoch 1/5\n",
            "207/207 [==============================] - 67s 273ms/step - loss: 0.5218 - acc: 0.8731 - val_loss: 0.5495 - val_acc: 0.7778\n",
            "Epoch 2/5\n",
            "207/207 [==============================] - 55s 266ms/step - loss: 0.4114 - acc: 0.8882 - val_loss: 0.5089 - val_acc: 0.7778\n",
            "Epoch 3/5\n",
            "207/207 [==============================] - 54s 263ms/step - loss: 0.3478 - acc: 0.8843 - val_loss: 0.4965 - val_acc: 0.7742\n",
            "Epoch 4/5\n",
            "207/207 [==============================] - 54s 263ms/step - loss: 0.3104 - acc: 0.8876 - val_loss: 0.4945 - val_acc: 0.7814\n",
            "Epoch 5/5\n",
            "207/207 [==============================] - 54s 260ms/step - loss: 0.2870 - acc: 0.8894 - val_loss: 0.4972 - val_acc: 0.7850\n"
          ]
        }
      ]
    },
    {
      "cell_type": "code",
      "source": [
        "#predictions on test data\n",
        "predictions = model_cnn.predict([ X_test_t, test_features])\n",
        "\n",
        "CNN_multimodal_results = getResults(test_labels,\n",
        "                                    predictions)"
      ],
      "metadata": {
        "colab": {
          "base_uri": "https://localhost:8080/"
        },
        "id": "UfE9fHUf0kIi",
        "outputId": "62c43a3a-b6d4-4a71-ce6f-b57884ae1e83"
      },
      "execution_count": 179,
      "outputs": [
        {
          "output_type": "stream",
          "name": "stdout",
          "text": [
            "30/30 [==============================] - 5s 121ms/step\n",
            "The output here is of the form float, thus we are converting it to binary output based on the following \n",
            "condition if a value is > .5 we assign it with 1 and if a value is <.5 we assign it with 0\n",
            "\n",
            "Converting the ouput to 1D array, and then transformimg the values based on the above condition\n",
            "\n",
            "First 5 values before conversion : [0.01417413 0.021551   0.7582079  0.24927858 0.9162687 ]\n",
            "First 5 values after the conversion : [0, 0, 1, 0, 1]\n",
            "\n",
            "========== RESULTS ===========\n",
            "\n",
            "Accuracy : 0.7671957671957672\n",
            "Precision : 0.7559523809523809\n",
            "F1_score : 0.6978021978021978\n",
            "Recall : 0.6479591836734694\n",
            "\n",
            "===== CONFUSION MATRIX =====\n",
            "[[471  82]\n",
            " [138 254]]\n"
          ]
        }
      ]
    },
    {
      "cell_type": "code",
      "source": [
        "results_plot(history)"
      ],
      "metadata": {
        "colab": {
          "base_uri": "https://localhost:8080/",
          "height": 315
        },
        "id": "MU5ac6eX1Ln9",
        "outputId": "83cb03b9-e1c8-4553-a2b6-86c52960ae78"
      },
      "execution_count": 180,
      "outputs": [
        {
          "output_type": "display_data",
          "data": {
            "text/plain": [
              "<Figure size 1080x360 with 2 Axes>"
            ],
            "image/png": "[encoded data removed]"
          },
          "metadata": {
            "needs_background": "light"
          }
        }
      ]
    },
    {
      "cell_type": "code",
      "source": [],
      "metadata": {
        "id": "2uv3t3TB5DYh"
      },
      "execution_count": 180,
      "outputs": []
    }
  ]
}