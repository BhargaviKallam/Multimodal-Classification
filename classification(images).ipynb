{
  "nbformat": 4,
  "nbformat_minor": 0,
  "metadata": {
    "colab": {
      "provenance": []
    },
    "kernelspec": {
      "name": "python3",
      "display_name": "Python 3"
    },
    "language_info": {
      "name": "python"
    }
  },
  "cells": [
    {
      "cell_type": "code",
      "execution_count": null,
      "metadata": {
        "id": "DifqVApavO9J"
      },
      "outputs": [],
      "source": [
        "\n",
        "# necessary packages\n",
        "import tensorflow as tf\n",
        "import pickle\n",
        "\n",
        "import pandas as pd \n",
        "import numpy as np\n",
        "\n",
        "import os\n",
        "import sys\n",
        "\n",
        "import warnings\n",
        "warnings.filterwarnings('ignore')\n",
        "\n",
        "import os\n",
        "import skimage\n",
        "import matplotlib.pyplot as plt  \n",
        "import cv2\n",
        "\n",
        "\n",
        "from sklearn.model_selection import train_test_split\n",
        "from sklearn.linear_model import LogisticRegression\n",
        "from sklearn.metrics import accuracy_score"
      ]
    },
    {
      "cell_type": "code",
      "source": [
        "from google.colab import drive\n",
        "\n",
        "drive.mount('/content/drive')"
      ],
      "metadata": {
        "colab": {
          "base_uri": "https://localhost:8080/"
        },
        "id": "7cHt3QUGvS_E",
        "outputId": "dd32c4db-d473-46be-85fd-2703b54ecc6f"
      },
      "execution_count": null,
      "outputs": [
        {
          "output_type": "stream",
          "name": "stdout",
          "text": [
            "Drive already mounted at /content/drive; to attempt to forcibly remount, call drive.mount(\"/content/drive\", force_remount=True).\n"
          ]
        }
      ]
    },
    {
      "cell_type": "code",
      "source": [
        "import cv2\n",
        "import os\n",
        "import numpy as np\n",
        "\n",
        "def load_images_from_folder(folder):\n",
        "    images = []\n",
        "    image_name = []\n",
        "    for filename in os.listdir(folder):\n",
        "        img = cv2.imread(os.path.join(folder,filename))\n",
        "\n",
        "        if img is not None:\n",
        "            img=cv2.resize(img,(224,224),interpolation=cv2.INTER_AREA)\n",
        "            images.append(img)\n",
        "            filename = filename.replace('.jpg', '')\n",
        "            image_name.append(filename)\n",
        "    return images, image_name\n",
        "\n",
        "images_lst, image_names = load_images_from_folder('/content/drive/MyDrive/project/all_samples /images/gray_img_train')"
      ],
      "metadata": {
        "id": "l6gK3uOyC2M7"
      },
      "execution_count": null,
      "outputs": []
    },
    {
      "cell_type": "code",
      "source": [
        "np.array(images_lst).shape"
      ],
      "metadata": {
        "colab": {
          "base_uri": "https://localhost:8080/"
        },
        "id": "-JsXwQHAD_we",
        "outputId": "eeec489e-1391-43a9-9cb3-877c8afc5852"
      },
      "execution_count": null,
      "outputs": [
        {
          "output_type": "execute_result",
          "data": {
            "text/plain": [
              "(3225, 224, 224, 3)"
            ]
          },
          "metadata": {},
          "execution_count": 4
        }
      ]
    },
    {
      "cell_type": "code",
      "source": [
        "train_data = pd.read_csv('/content/drive/MyDrive/project/all_samples /df_text')\n",
        "train_data"
      ],
      "metadata": {
        "colab": {
          "base_uri": "https://localhost:8080/",
          "height": 419
        },
        "id": "gDS-nU6AEOPJ",
        "outputId": "482a7d7e-b5fc-4d59-d940-c19aedeac37f"
      },
      "execution_count": null,
      "outputs": [
        {
          "output_type": "execute_result",
          "data": {
            "text/plain": [
              "                                             clean_title          id  labels\n",
              "0                                               rex roar  b4afd746dd       0\n",
              "1                                      other discussions  ff802e9957       1\n",
              "2                            keeping an eye on the class  8aa68d331f       0\n",
              "3                                       fixed it for you  a1e3054072       0\n",
              "4      til of hitchbot a robot designed to turn its b...  55bba1a2ba       0\n",
              "...                                                  ...         ...     ...\n",
              "59349  the german army sharing technologies with ital...  d1cd731d4a       0\n",
              "59350  hero dog award goes to a cat for saving boy fr...  a34aea68c7       1\n",
              "59351                                  best costume ever  6d7d1d7f93       0\n",
              "59352                              malik wolfe monarchal  790c7d2522       0\n",
              "59353                       ice skater drops his partner  1c03d8fdb0       0\n",
              "\n",
              "[59354 rows x 3 columns]"
            ],
            "text/html": [
              "\n",
              "  <div id=\"df-a052ddc5-e95c-4b49-881c-3d99a07604f5\">\n",
              "    <div class=\"colab-df-container\">\n",
              "      <div>\n",
              "<style scoped>\n",
              "    .dataframe tbody tr th:only-of-type {\n",
              "        vertical-align: middle;\n",
              "    }\n",
              "\n",
              "    .dataframe tbody tr th {\n",
              "        vertical-align: top;\n",
              "    }\n",
              "\n",
              "    .dataframe thead th {\n",
              "        text-align: right;\n",
              "    }\n",
              "</style>\n",
              "<table border=\"1\" class=\"dataframe\">\n",
              "  <thead>\n",
              "    <tr style=\"text-align: right;\">\n",
              "      <th></th>\n",
              "      <th>clean_title</th>\n",
              "      <th>id</th>\n",
              "      <th>labels</th>\n",
              "    </tr>\n",
              "  </thead>\n",
              "  <tbody>\n",
              "    <tr>\n",
              "      <th>0</th>\n",
              "      <td>rex roar</td>\n",
              "      <td>b4afd746dd</td>\n",
              "      <td>0</td>\n",
              "    </tr>\n",
              "    <tr>\n",
              "      <th>1</th>\n",
              "      <td>other discussions</td>\n",
              "      <td>ff802e9957</td>\n",
              "      <td>1</td>\n",
              "    </tr>\n",
              "    <tr>\n",
              "      <th>2</th>\n",
              "      <td>keeping an eye on the class</td>\n",
              "      <td>8aa68d331f</td>\n",
              "      <td>0</td>\n",
              "    </tr>\n",
              "    <tr>\n",
              "      <th>3</th>\n",
              "      <td>fixed it for you</td>\n",
              "      <td>a1e3054072</td>\n",
              "      <td>0</td>\n",
              "    </tr>\n",
              "    <tr>\n",
              "      <th>4</th>\n",
              "      <td>til of hitchbot a robot designed to turn its b...</td>\n",
              "      <td>55bba1a2ba</td>\n",
              "      <td>0</td>\n",
              "    </tr>\n",
              "    <tr>\n",
              "      <th>...</th>\n",
              "      <td>...</td>\n",
              "      <td>...</td>\n",
              "      <td>...</td>\n",
              "    </tr>\n",
              "    <tr>\n",
              "      <th>59349</th>\n",
              "      <td>the german army sharing technologies with ital...</td>\n",
              "      <td>d1cd731d4a</td>\n",
              "      <td>0</td>\n",
              "    </tr>\n",
              "    <tr>\n",
              "      <th>59350</th>\n",
              "      <td>hero dog award goes to a cat for saving boy fr...</td>\n",
              "      <td>a34aea68c7</td>\n",
              "      <td>1</td>\n",
              "    </tr>\n",
              "    <tr>\n",
              "      <th>59351</th>\n",
              "      <td>best costume ever</td>\n",
              "      <td>6d7d1d7f93</td>\n",
              "      <td>0</td>\n",
              "    </tr>\n",
              "    <tr>\n",
              "      <th>59352</th>\n",
              "      <td>malik wolfe monarchal</td>\n",
              "      <td>790c7d2522</td>\n",
              "      <td>0</td>\n",
              "    </tr>\n",
              "    <tr>\n",
              "      <th>59353</th>\n",
              "      <td>ice skater drops his partner</td>\n",
              "      <td>1c03d8fdb0</td>\n",
              "      <td>0</td>\n",
              "    </tr>\n",
              "  </tbody>\n",
              "</table>\n",
              "<p>59354 rows × 3 columns</p>\n",
              "</div>\n",
              "      <button class=\"colab-df-convert\" onclick=\"convertToInteractive('df-a052ddc5-e95c-4b49-881c-3d99a07604f5')\"\n",
              "              title=\"Convert this dataframe to an interactive table.\"\n",
              "              style=\"display:none;\">\n",
              "        \n",
              "  <svg xmlns=\"http://www.w3.org/2000/svg\" height=\"24px\"viewBox=\"0 0 24 24\"\n",
              "       width=\"24px\">\n",
              "    <path d=\"M0 0h24v24H0V0z\" fill=\"none\"/>\n",
              "    <path d=\"M18.56 5.44l.94 2.06.94-2.06 2.06-.94-2.06-.94-.94-2.06-.94 2.06-2.06.94zm-11 1L8.5 8.5l.94-2.06 2.06-.94-2.06-.94L8.5 2.5l-.94 2.06-2.06.94zm10 10l.94 2.06.94-2.06 2.06-.94-2.06-.94-.94-2.06-.94 2.06-2.06.94z\"/><path d=\"M17.41 7.96l-1.37-1.37c-.4-.4-.92-.59-1.43-.59-.52 0-1.04.2-1.43.59L10.3 9.45l-7.72 7.72c-.78.78-.78 2.05 0 2.83L4 21.41c.39.39.9.59 1.41.59.51 0 1.02-.2 1.41-.59l7.78-7.78 2.81-2.81c.8-.78.8-2.07 0-2.86zM5.41 20L4 18.59l7.72-7.72 1.47 1.35L5.41 20z\"/>\n",
              "  </svg>\n",
              "      </button>\n",
              "      \n",
              "  <style>\n",
              "    .colab-df-container {\n",
              "      display:flex;\n",
              "      flex-wrap:wrap;\n",
              "      gap: 12px;\n",
              "    }\n",
              "\n",
              "    .colab-df-convert {\n",
              "      background-color: #E8F0FE;\n",
              "      border: none;\n",
              "      border-radius: 50%;\n",
              "      cursor: pointer;\n",
              "      display: none;\n",
              "      fill: #1967D2;\n",
              "      height: 32px;\n",
              "      padding: 0 0 0 0;\n",
              "      width: 32px;\n",
              "    }\n",
              "\n",
              "    .colab-df-convert:hover {\n",
              "      background-color: #E2EBFA;\n",
              "      box-shadow: 0px 1px 2px rgba(60, 64, 67, 0.3), 0px 1px 3px 1px rgba(60, 64, 67, 0.15);\n",
              "      fill: #174EA6;\n",
              "    }\n",
              "\n",
              "    [theme=dark] .colab-df-convert {\n",
              "      background-color: #3B4455;\n",
              "      fill: #D2E3FC;\n",
              "    }\n",
              "\n",
              "    [theme=dark] .colab-df-convert:hover {\n",
              "      background-color: #434B5C;\n",
              "      box-shadow: 0px 1px 3px 1px rgba(0, 0, 0, 0.15);\n",
              "      filter: drop-shadow(0px 1px 2px rgba(0, 0, 0, 0.3));\n",
              "      fill: #FFFFFF;\n",
              "    }\n",
              "  </style>\n",
              "\n",
              "      <script>\n",
              "        const buttonEl =\n",
              "          document.querySelector('#df-a052ddc5-e95c-4b49-881c-3d99a07604f5 button.colab-df-convert');\n",
              "        buttonEl.style.display =\n",
              "          google.colab.kernel.accessAllowed ? 'block' : 'none';\n",
              "\n",
              "        async function convertToInteractive(key) {\n",
              "          const element = document.querySelector('#df-a052ddc5-e95c-4b49-881c-3d99a07604f5');\n",
              "          const dataTable =\n",
              "            await google.colab.kernel.invokeFunction('convertToInteractive',\n",
              "                                                     [key], {});\n",
              "          if (!dataTable) return;\n",
              "\n",
              "          const docLinkHtml = 'Like what you see? Visit the ' +\n",
              "            '<a target=\"_blank\" href=https://colab.research.google.com/notebooks/data_table.ipynb>data table notebook</a>'\n",
              "            + ' to learn more about interactive tables.';\n",
              "          element.innerHTML = '';\n",
              "          dataTable['output_type'] = 'display_data';\n",
              "          await google.colab.output.renderOutput(dataTable, element);\n",
              "          const docLink = document.createElement('div');\n",
              "          docLink.innerHTML = docLinkHtml;\n",
              "          element.appendChild(docLink);\n",
              "        }\n",
              "      </script>\n",
              "    </div>\n",
              "  </div>\n",
              "  "
            ]
          },
          "metadata": {},
          "execution_count": 5
        }
      ]
    },
    {
      "cell_type": "code",
      "source": [
        "import pandas as pd\n",
        "\n",
        "df_images = pd.DataFrame ({ 'images': images_lst, 'id': image_names}, columns = ['images','id'])\n",
        "\n",
        "from operator import index\n",
        "\n",
        "df_images = pd.merge(df_images, train_data , on='id')"
      ],
      "metadata": {
        "id": "6SEyasM4HU2l"
      },
      "execution_count": null,
      "outputs": []
    },
    {
      "cell_type": "code",
      "source": [
        "df_images = df_images[['images','labels']]\n",
        "df_images"
      ],
      "metadata": {
        "colab": {
          "base_uri": "https://localhost:8080/",
          "height": 419
        },
        "id": "9IM6_oIxHgZB",
        "outputId": "f688c846-c31a-4564-f585-2bdff77e5f4d"
      },
      "execution_count": null,
      "outputs": [
        {
          "output_type": "execute_result",
          "data": {
            "text/plain": [
              "                                                 images  labels\n",
              "0     [[[205, 205, 205], [217, 217, 217], [214, 214,...       1\n",
              "1     [[[113, 113, 113], [119, 119, 119], [126, 126,...       0\n",
              "2     [[[80, 80, 80], [81, 81, 81], [81, 81, 81], [8...       0\n",
              "3     [[[70, 70, 70], [70, 70, 70], [71, 71, 71], [7...       0\n",
              "4     [[[113, 113, 113], [113, 113, 113], [114, 114,...       0\n",
              "...                                                 ...     ...\n",
              "3220  [[[134, 134, 134], [121, 121, 121], [114, 114,...       1\n",
              "3221  [[[30, 30, 30], [26, 26, 26], [27, 27, 27], [2...       0\n",
              "3222  [[[89, 89, 89], [84, 84, 84], [67, 67, 67], [5...       0\n",
              "3223  [[[158, 158, 158], [151, 151, 151], [142, 142,...       0\n",
              "3224  [[[176, 176, 176], [184, 184, 184], [169, 169,...       1\n",
              "\n",
              "[3225 rows x 2 columns]"
            ],
            "text/html": [
              "\n",
              "  <div id=\"df-72f27fec-5ac6-40e6-bbe4-611931db02ec\">\n",
              "    <div class=\"colab-df-container\">\n",
              "      <div>\n",
              "<style scoped>\n",
              "    .dataframe tbody tr th:only-of-type {\n",
              "        vertical-align: middle;\n",
              "    }\n",
              "\n",
              "    .dataframe tbody tr th {\n",
              "        vertical-align: top;\n",
              "    }\n",
              "\n",
              "    .dataframe thead th {\n",
              "        text-align: right;\n",
              "    }\n",
              "</style>\n",
              "<table border=\"1\" class=\"dataframe\">\n",
              "  <thead>\n",
              "    <tr style=\"text-align: right;\">\n",
              "      <th></th>\n",
              "      <th>images</th>\n",
              "      <th>labels</th>\n",
              "    </tr>\n",
              "  </thead>\n",
              "  <tbody>\n",
              "    <tr>\n",
              "      <th>0</th>\n",
              "      <td>[[[205, 205, 205], [217, 217, 217], [214, 214,...</td>\n",
              "      <td>1</td>\n",
              "    </tr>\n",
              "    <tr>\n",
              "      <th>1</th>\n",
              "      <td>[[[113, 113, 113], [119, 119, 119], [126, 126,...</td>\n",
              "      <td>0</td>\n",
              "    </tr>\n",
              "    <tr>\n",
              "      <th>2</th>\n",
              "      <td>[[[80, 80, 80], [81, 81, 81], [81, 81, 81], [8...</td>\n",
              "      <td>0</td>\n",
              "    </tr>\n",
              "    <tr>\n",
              "      <th>3</th>\n",
              "      <td>[[[70, 70, 70], [70, 70, 70], [71, 71, 71], [7...</td>\n",
              "      <td>0</td>\n",
              "    </tr>\n",
              "    <tr>\n",
              "      <th>4</th>\n",
              "      <td>[[[113, 113, 113], [113, 113, 113], [114, 114,...</td>\n",
              "      <td>0</td>\n",
              "    </tr>\n",
              "    <tr>\n",
              "      <th>...</th>\n",
              "      <td>...</td>\n",
              "      <td>...</td>\n",
              "    </tr>\n",
              "    <tr>\n",
              "      <th>3220</th>\n",
              "      <td>[[[134, 134, 134], [121, 121, 121], [114, 114,...</td>\n",
              "      <td>1</td>\n",
              "    </tr>\n",
              "    <tr>\n",
              "      <th>3221</th>\n",
              "      <td>[[[30, 30, 30], [26, 26, 26], [27, 27, 27], [2...</td>\n",
              "      <td>0</td>\n",
              "    </tr>\n",
              "    <tr>\n",
              "      <th>3222</th>\n",
              "      <td>[[[89, 89, 89], [84, 84, 84], [67, 67, 67], [5...</td>\n",
              "      <td>0</td>\n",
              "    </tr>\n",
              "    <tr>\n",
              "      <th>3223</th>\n",
              "      <td>[[[158, 158, 158], [151, 151, 151], [142, 142,...</td>\n",
              "      <td>0</td>\n",
              "    </tr>\n",
              "    <tr>\n",
              "      <th>3224</th>\n",
              "      <td>[[[176, 176, 176], [184, 184, 184], [169, 169,...</td>\n",
              "      <td>1</td>\n",
              "    </tr>\n",
              "  </tbody>\n",
              "</table>\n",
              "<p>3225 rows × 2 columns</p>\n",
              "</div>\n",
              "      <button class=\"colab-df-convert\" onclick=\"convertToInteractive('df-72f27fec-5ac6-40e6-bbe4-611931db02ec')\"\n",
              "              title=\"Convert this dataframe to an interactive table.\"\n",
              "              style=\"display:none;\">\n",
              "        \n",
              "  <svg xmlns=\"http://www.w3.org/2000/svg\" height=\"24px\"viewBox=\"0 0 24 24\"\n",
              "       width=\"24px\">\n",
              "    <path d=\"M0 0h24v24H0V0z\" fill=\"none\"/>\n",
              "    <path d=\"M18.56 5.44l.94 2.06.94-2.06 2.06-.94-2.06-.94-.94-2.06-.94 2.06-2.06.94zm-11 1L8.5 8.5l.94-2.06 2.06-.94-2.06-.94L8.5 2.5l-.94 2.06-2.06.94zm10 10l.94 2.06.94-2.06 2.06-.94-2.06-.94-.94-2.06-.94 2.06-2.06.94z\"/><path d=\"M17.41 7.96l-1.37-1.37c-.4-.4-.92-.59-1.43-.59-.52 0-1.04.2-1.43.59L10.3 9.45l-7.72 7.72c-.78.78-.78 2.05 0 2.83L4 21.41c.39.39.9.59 1.41.59.51 0 1.02-.2 1.41-.59l7.78-7.78 2.81-2.81c.8-.78.8-2.07 0-2.86zM5.41 20L4 18.59l7.72-7.72 1.47 1.35L5.41 20z\"/>\n",
              "  </svg>\n",
              "      </button>\n",
              "      \n",
              "  <style>\n",
              "    .colab-df-container {\n",
              "      display:flex;\n",
              "      flex-wrap:wrap;\n",
              "      gap: 12px;\n",
              "    }\n",
              "\n",
              "    .colab-df-convert {\n",
              "      background-color: #E8F0FE;\n",
              "      border: none;\n",
              "      border-radius: 50%;\n",
              "      cursor: pointer;\n",
              "      display: none;\n",
              "      fill: #1967D2;\n",
              "      height: 32px;\n",
              "      padding: 0 0 0 0;\n",
              "      width: 32px;\n",
              "    }\n",
              "\n",
              "    .colab-df-convert:hover {\n",
              "      background-color: #E2EBFA;\n",
              "      box-shadow: 0px 1px 2px rgba(60, 64, 67, 0.3), 0px 1px 3px 1px rgba(60, 64, 67, 0.15);\n",
              "      fill: #174EA6;\n",
              "    }\n",
              "\n",
              "    [theme=dark] .colab-df-convert {\n",
              "      background-color: #3B4455;\n",
              "      fill: #D2E3FC;\n",
              "    }\n",
              "\n",
              "    [theme=dark] .colab-df-convert:hover {\n",
              "      background-color: #434B5C;\n",
              "      box-shadow: 0px 1px 3px 1px rgba(0, 0, 0, 0.15);\n",
              "      filter: drop-shadow(0px 1px 2px rgba(0, 0, 0, 0.3));\n",
              "      fill: #FFFFFF;\n",
              "    }\n",
              "  </style>\n",
              "\n",
              "      <script>\n",
              "        const buttonEl =\n",
              "          document.querySelector('#df-72f27fec-5ac6-40e6-bbe4-611931db02ec button.colab-df-convert');\n",
              "        buttonEl.style.display =\n",
              "          google.colab.kernel.accessAllowed ? 'block' : 'none';\n",
              "\n",
              "        async function convertToInteractive(key) {\n",
              "          const element = document.querySelector('#df-72f27fec-5ac6-40e6-bbe4-611931db02ec');\n",
              "          const dataTable =\n",
              "            await google.colab.kernel.invokeFunction('convertToInteractive',\n",
              "                                                     [key], {});\n",
              "          if (!dataTable) return;\n",
              "\n",
              "          const docLinkHtml = 'Like what you see? Visit the ' +\n",
              "            '<a target=\"_blank\" href=https://colab.research.google.com/notebooks/data_table.ipynb>data table notebook</a>'\n",
              "            + ' to learn more about interactive tables.';\n",
              "          element.innerHTML = '';\n",
              "          dataTable['output_type'] = 'display_data';\n",
              "          await google.colab.output.renderOutput(dataTable, element);\n",
              "          const docLink = document.createElement('div');\n",
              "          docLink.innerHTML = docLinkHtml;\n",
              "          element.appendChild(docLink);\n",
              "        }\n",
              "      </script>\n",
              "    </div>\n",
              "  </div>\n",
              "  "
            ]
          },
          "metadata": {},
          "execution_count": 7
        }
      ]
    },
    {
      "cell_type": "markdown",
      "source": [
        "Gray scale - \n",
        "\n",
        "Grayscale refers to a situation in which each pixel in a digital image solely contains information about the light's intensity. Usually, just the range from deepest black to brightest white is visible in such photos. In other words, the only colours present in the image are black, white, and grey, the latter of which includes several shades.\n",
        "\n",
        "It facilitates the simplification of algorithms and also removes the difficulties associated with computational requirements. For individuals who are unfamiliar with image processing, it allows for simpler learning."
      ],
      "metadata": {
        "id": "-AMkAKPFkvBM"
      }
    },
    {
      "cell_type": "code",
      "source": [
        "def gray_scale(img):\n",
        "  gray = img[:,:,0]\n",
        "  return gray\n",
        "\n",
        "# Using lambda function\n",
        "df_images['images'] = df_images['images'].apply(lambda row : gray_scale(row))\n",
        "print(df_images.head(5))"
      ],
      "metadata": {
        "colab": {
          "base_uri": "https://localhost:8080/"
        },
        "id": "RylNQsp2VUUb",
        "outputId": "3da039b8-405c-41f5-db10-43d9cc53772d"
      },
      "execution_count": null,
      "outputs": [
        {
          "output_type": "stream",
          "name": "stdout",
          "text": [
            "                                              images  labels\n",
            "0  [[205, 217, 214, 219, 220, 217, 209, 212, 203,...       1\n",
            "1  [[113, 119, 126, 133, 137, 142, 144, 143, 137,...       0\n",
            "2  [[80, 81, 81, 81, 82, 82, 81, 81, 81, 81, 81, ...       0\n",
            "3  [[70, 70, 71, 71, 72, 72, 72, 72, 72, 72, 72, ...       0\n",
            "4  [[113, 113, 114, 114, 115, 115, 114, 114, 114,...       0\n"
          ]
        }
      ]
    },
    {
      "cell_type": "code",
      "source": [
        "from sklearn.utils import shuffle\n",
        "def reshapes(z):\n",
        "    nsamples, nx, ny = z.shape\n",
        "    z = z.reshape((nsamples,nx*ny))\n",
        "    return z\n",
        "    \n",
        "def datapartition(dataset):\n",
        "    #Split data into a test and training set\n",
        "    X = np.array(dataset['images'].tolist())\n",
        "    y = np.array(dataset['labels'])\n",
        "    \n",
        "    #scaling the features\n",
        "    X = X/255.0    \n",
        "    X = reshapes(X)\n",
        "    \n",
        "    # test is now 20% of the initial data set\n",
        "    # train is now 80% of the initial data set\n",
        "    X_train, X_test, y_train, y_test = train_test_split(X, y, test_size=0.2,stratify = y, random_state=9)\n",
        "  \n",
        "    print(\"Train data size: \", X_train.shape, y_train.shape)\n",
        "    \n",
        "    return X_train, X_test, y_train, y_test"
      ],
      "metadata": {
        "id": "dBILJcuIHjKY"
      },
      "execution_count": null,
      "outputs": []
    },
    {
      "cell_type": "code",
      "source": [
        "X_train, X_test, y_train, y_test = datapartition(df_images)"
      ],
      "metadata": {
        "colab": {
          "base_uri": "https://localhost:8080/"
        },
        "id": "ZznCGDiNT6sM",
        "outputId": "dc84fc2e-5d16-4497-9f74-940f9bfb68d1"
      },
      "execution_count": null,
      "outputs": [
        {
          "output_type": "stream",
          "name": "stdout",
          "text": [
            "Train data size:  (2580, 50176) (2580,)\n"
          ]
        }
      ]
    },
    {
      "cell_type": "code",
      "source": [
        "# validation metrics and calculating accuracy,precision,recall, F1-score from confusion matrix\n",
        "\n",
        "from sklearn.metrics import classification_report,confusion_matrix,plot_roc_curve\n",
        "import seaborn as sns\n",
        "\n",
        "data={\"metrics\":[\"accuracy\",\"precision\",\"recall\",\"f1score\",\"mean_absolute_error\",\"mean_squared_error\"]}\n",
        "metrics_df = pd.DataFrame(data,columns=[\"metrics\"])\n",
        "\n",
        "def metricsdf(X_test,y_test,model,name): \n",
        "    \n",
        "    score=[]\n",
        "    \n",
        "    predictions = model.predict(X_test)\n",
        "    \n",
        "    cm = confusion_matrix(y_test, predictions)\n",
        "    print(cm)\n",
        "    # outcome values order in sklearn\n",
        "    tp, fn, fp, tn = confusion_matrix(y_test,predictions).reshape(-1)\n",
        "    print('\\nOutcome values tp, fn, fp, tn : \\n', tp, fn, fp, tn)\n",
        "    \n",
        "    accuracy = (tp+tn)/(tn+tp+fp+fn)\n",
        "    print(\"\\nAccuracy = \",round(accuracy,2))\n",
        "\n",
        "    precision = (tp)/(tp+fp)\n",
        "    print(\"precision = \",precision)\n",
        "    \n",
        "    recall = (tp)/(tp+fn)\n",
        "    print(\"recall = \",recall)\n",
        "    \n",
        "    f1score = 2*((precision*recall)/(precision+recall))\n",
        "    print(\"f1score = \",f1score)\n",
        "    \n",
        "    mae_dt = metrics.mean_absolute_error(y_test, predictions)\n",
        "    mse_dt = metrics.mean_squared_error(y_test, predictions)\n",
        "    \n",
        "    print(\"\\nmean_absolute_error = \",mae_dt)\n",
        "    print(\"mean_squared_error = \",mse_dt)\n",
        "    \n",
        "    score.extend([accuracy,precision,recall,f1score,mae_dt,mse_dt])\n",
        "    metrics_df[name] = score\n",
        "    "
      ],
      "metadata": {
        "id": "zyMAByS8aV8e"
      },
      "execution_count": null,
      "outputs": []
    },
    {
      "cell_type": "markdown",
      "source": [
        "Receiver Operating Characteristic (ROC) -\n",
        "\n",
        "An efficient way to assess the effectiveness of diagnostic tests is to use the receiver operating characteristic (ROC) curve, which is defined as a plot of test sensitivity as the y coordinate vs its 1-specificity or false positive rate (FPR) as the x coordinate."
      ],
      "metadata": {
        "id": "B3rEGq9rlKQC"
      }
    },
    {
      "cell_type": "code",
      "source": [
        "\n",
        "from sklearn import metrics\n",
        "\n",
        "def ROCurvedf(X_test_dt_raw, y_test_dt_raw,classifier_raw):\n",
        "    # Plot ROC curve for raw data input\n",
        "    print(\"Raw data input ROC Curve\")\n",
        "\n",
        "    fig, (ax) = plt.subplots(figsize = (5,5))\n",
        "    probs = classifier_raw.predict_proba(X_test_dt_raw)\n",
        "    preds = probs[:,1]\n",
        "    fprxgb, tprxgb, thresholdxgb = metrics.roc_curve(y_test_dt_raw, preds)\n",
        "    roc_aucxgb = metrics.auc(fprxgb, tprxgb)\n",
        "    ax.plot(fprxgb, tprxgb, 'b', label = 'AUC = %0.2f' % roc_aucxgb)\n",
        "    ax.plot([0, 1], [0, 1],'r--')\n",
        "    ax.set_title('Receiver Operating Characteristic',fontsize=10)\n",
        "    ax.set_ylabel('True Positive Rate',fontsize=20)\n",
        "    ax.set_xlabel('False Positive Rate',fontsize=15)\n",
        "    ax.legend(loc = 'lower right', prop={'size': 16})\n",
        "\n"
      ],
      "metadata": {
        "id": "qjBfDDsyal3q"
      },
      "execution_count": null,
      "outputs": []
    },
    {
      "cell_type": "code",
      "source": [
        "from sklearn.model_selection import cross_val_score\n",
        "from sklearn.model_selection import KFold\n",
        "from sklearn.model_selection import RepeatedKFold\n",
        "from sklearn.metrics import classification_report, accuracy_score, make_scorer\n",
        "\n",
        "# Importing Logestic regression from Linear model\n",
        "from sklearn.linear_model import LogisticRegression\n",
        "\n",
        "data={\"Kfold\":[\"Cv-1\",\"Cv-2\",\"Cv-3\",\"Cv-4\",\"Cv-5\"]}\n",
        "table_acc=pd.DataFrame(data,columns=[\"Kfold\"])\n",
        "\n",
        "cv=RepeatedKFold(n_splits=5,n_repeats=1,random_state=1)\n",
        "\n",
        "\n",
        "classifiers = [ \n",
        "    LogisticRegression(max_iter = 1000,penalty='l2',tol=0.001, solver='liblinear',class_weight=\"balanced\",random_state=12)\n",
        "    ]\n",
        "\n",
        "def main(X_train,y,model):\n",
        "    \n",
        "    for clf in classifiers:\n",
        "        name = (clf.__class__.__name__) + (model) \n",
        "        print(\"\\nModel classifier = \",name)\n",
        "        print('\\n****Results****')\n",
        "        clfN=cross_val_score(clf, X_train, y, cv=cv)\n",
        "        table_acc[name]=clfN\n",
        "        print(\"\\nTen-fold cross validation score\\n\\n\",clfN)\n",
        "        acc=clfN.mean()\n",
        "        print(\"\\nMean Accuracy - \",acc) \n",
        "        print(\"\\n------------------------------------------------------------------------------------------\\n\")\n",
        "\n"
      ],
      "metadata": {
        "id": "3CwnbPsUWtQF"
      },
      "execution_count": null,
      "outputs": []
    },
    {
      "cell_type": "markdown",
      "source": [
        "# Binary classification\n",
        "Basically,It is classification of the two groups into thier respectives on basis of classification rule.\n",
        "\n",
        "Here, I'm using logistic regression(solver = \"liblinear\") as my model classifier for the data samples.\n",
        "\n",
        "K-fold cross validation\n",
        "\n",
        "A single k-fold cross-validation run may produce a noisy estimate of model performance. Different data splits may produce very different results. Simply repeating the cross-validation procedure multiple times and reporting the mean result across all folds from all runs is all that is required. This average result will be a more accurate estimate.\n",
        "\n",
        "Here, I used 5- fold cross validation which is more reasonable with small datasets. Then created a dataframe for the all cross-validation accracies for each fold and thier mean , standard deviation."
      ],
      "metadata": {
        "id": "ISkj30JoWn8y"
      }
    },
    {
      "cell_type": "code",
      "source": [
        "\n",
        "from sklearn.model_selection import train_test_split\n",
        "\n",
        "def testdf(X_train,y_train,X_test,y_test,model):\n",
        "    \n",
        "    for clf in classifiers:\n",
        "        name = (clf.__class__.__name__) + (model) \n",
        "        print(\"\\n\\nModel classifier =  \",name)\n",
        "        \n",
        "        #print(\"\\nSample image\\n\",randomsample(X_test,y_test))\n",
        "        print('\\n****Results****\\n')\n",
        "        clf_fit = clf.fit(X_train, y_train)\n",
        "        \n",
        "        print(\"\\nClassification and metrics based on test data-\\n\")\n",
        "        metricsdf(X_test,y_test,clf_fit,name)\n",
        "        print(\"\\n------------------------------------------------------------------------------\\n\\n\")\n",
        "        \n",
        "        ROCurvedf(X_test,y_test,clf_fit)  "
      ],
      "metadata": {
        "id": "RVoQuXanarR2"
      },
      "execution_count": null,
      "outputs": []
    },
    {
      "cell_type": "code",
      "source": [
        "main(X_train,y_train,\" - lr\")\n"
      ],
      "metadata": {
        "colab": {
          "base_uri": "https://localhost:8080/"
        },
        "id": "rAjM1bbAW4-b",
        "outputId": "71ce89e0-0604-4dde-a050-2ed00ed8ffa6"
      },
      "execution_count": null,
      "outputs": [
        {
          "output_type": "stream",
          "name": "stdout",
          "text": [
            "\n",
            "Model classifier =  LogisticRegressionLogestic regression\n",
            "\n",
            "****Results****\n",
            "\n",
            "Ten-fold cross validation score\n",
            "\n",
            " [0.59496124 0.6124031  0.58139535 0.57945736 0.59108527]\n",
            "\n",
            "Mean Accuracy -  0.5918604651162791\n",
            "\n",
            "------------------------------------------------------------------------------------------\n",
            "\n"
          ]
        }
      ]
    },
    {
      "cell_type": "code",
      "source": [
        "Cv_scores=table_acc.copy()\n",
        "Cv_scores.loc['mean'] = Cv_scores.mean()\n",
        "Cv_scores.loc['stdev'] = Cv_scores.std()\n",
        "Cv_scores=Cv_scores.round(decimals=4)\n",
        "Cv_scores"
      ],
      "metadata": {
        "colab": {
          "base_uri": "https://localhost:8080/",
          "height": 266
        },
        "id": "s-EAF3PSXEwv",
        "outputId": "58644d24-4d79-4c1e-c096-4693072ae1a6"
      },
      "execution_count": null,
      "outputs": [
        {
          "output_type": "execute_result",
          "data": {
            "text/plain": [
              "      Kfold  LogisticRegressionLogestic regression\n",
              "0      Cv-1                                 0.5950\n",
              "1      Cv-2                                 0.6124\n",
              "2      Cv-3                                 0.5814\n",
              "3      Cv-4                                 0.5795\n",
              "4      Cv-5                                 0.5911\n",
              "mean    NaN                                 0.5919\n",
              "stdev   NaN                                 0.0118"
            ],
            "text/html": [
              "\n",
              "  <div id=\"df-886cc6ee-a2e2-4589-9855-32d4ae774ce3\">\n",
              "    <div class=\"colab-df-container\">\n",
              "      <div>\n",
              "<style scoped>\n",
              "    .dataframe tbody tr th:only-of-type {\n",
              "        vertical-align: middle;\n",
              "    }\n",
              "\n",
              "    .dataframe tbody tr th {\n",
              "        vertical-align: top;\n",
              "    }\n",
              "\n",
              "    .dataframe thead th {\n",
              "        text-align: right;\n",
              "    }\n",
              "</style>\n",
              "<table border=\"1\" class=\"dataframe\">\n",
              "  <thead>\n",
              "    <tr style=\"text-align: right;\">\n",
              "      <th></th>\n",
              "      <th>Kfold</th>\n",
              "      <th>LogisticRegressionLogestic regression</th>\n",
              "    </tr>\n",
              "  </thead>\n",
              "  <tbody>\n",
              "    <tr>\n",
              "      <th>0</th>\n",
              "      <td>Cv-1</td>\n",
              "      <td>0.5950</td>\n",
              "    </tr>\n",
              "    <tr>\n",
              "      <th>1</th>\n",
              "      <td>Cv-2</td>\n",
              "      <td>0.6124</td>\n",
              "    </tr>\n",
              "    <tr>\n",
              "      <th>2</th>\n",
              "      <td>Cv-3</td>\n",
              "      <td>0.5814</td>\n",
              "    </tr>\n",
              "    <tr>\n",
              "      <th>3</th>\n",
              "      <td>Cv-4</td>\n",
              "      <td>0.5795</td>\n",
              "    </tr>\n",
              "    <tr>\n",
              "      <th>4</th>\n",
              "      <td>Cv-5</td>\n",
              "      <td>0.5911</td>\n",
              "    </tr>\n",
              "    <tr>\n",
              "      <th>mean</th>\n",
              "      <td>NaN</td>\n",
              "      <td>0.5919</td>\n",
              "    </tr>\n",
              "    <tr>\n",
              "      <th>stdev</th>\n",
              "      <td>NaN</td>\n",
              "      <td>0.0118</td>\n",
              "    </tr>\n",
              "  </tbody>\n",
              "</table>\n",
              "</div>\n",
              "      <button class=\"colab-df-convert\" onclick=\"convertToInteractive('df-886cc6ee-a2e2-4589-9855-32d4ae774ce3')\"\n",
              "              title=\"Convert this dataframe to an interactive table.\"\n",
              "              style=\"display:none;\">\n",
              "        \n",
              "  <svg xmlns=\"http://www.w3.org/2000/svg\" height=\"24px\"viewBox=\"0 0 24 24\"\n",
              "       width=\"24px\">\n",
              "    <path d=\"M0 0h24v24H0V0z\" fill=\"none\"/>\n",
              "    <path d=\"M18.56 5.44l.94 2.06.94-2.06 2.06-.94-2.06-.94-.94-2.06-.94 2.06-2.06.94zm-11 1L8.5 8.5l.94-2.06 2.06-.94-2.06-.94L8.5 2.5l-.94 2.06-2.06.94zm10 10l.94 2.06.94-2.06 2.06-.94-2.06-.94-.94-2.06-.94 2.06-2.06.94z\"/><path d=\"M17.41 7.96l-1.37-1.37c-.4-.4-.92-.59-1.43-.59-.52 0-1.04.2-1.43.59L10.3 9.45l-7.72 7.72c-.78.78-.78 2.05 0 2.83L4 21.41c.39.39.9.59 1.41.59.51 0 1.02-.2 1.41-.59l7.78-7.78 2.81-2.81c.8-.78.8-2.07 0-2.86zM5.41 20L4 18.59l7.72-7.72 1.47 1.35L5.41 20z\"/>\n",
              "  </svg>\n",
              "      </button>\n",
              "      \n",
              "  <style>\n",
              "    .colab-df-container {\n",
              "      display:flex;\n",
              "      flex-wrap:wrap;\n",
              "      gap: 12px;\n",
              "    }\n",
              "\n",
              "    .colab-df-convert {\n",
              "      background-color: #E8F0FE;\n",
              "      border: none;\n",
              "      border-radius: 50%;\n",
              "      cursor: pointer;\n",
              "      display: none;\n",
              "      fill: #1967D2;\n",
              "      height: 32px;\n",
              "      padding: 0 0 0 0;\n",
              "      width: 32px;\n",
              "    }\n",
              "\n",
              "    .colab-df-convert:hover {\n",
              "      background-color: #E2EBFA;\n",
              "      box-shadow: 0px 1px 2px rgba(60, 64, 67, 0.3), 0px 1px 3px 1px rgba(60, 64, 67, 0.15);\n",
              "      fill: #174EA6;\n",
              "    }\n",
              "\n",
              "    [theme=dark] .colab-df-convert {\n",
              "      background-color: #3B4455;\n",
              "      fill: #D2E3FC;\n",
              "    }\n",
              "\n",
              "    [theme=dark] .colab-df-convert:hover {\n",
              "      background-color: #434B5C;\n",
              "      box-shadow: 0px 1px 3px 1px rgba(0, 0, 0, 0.15);\n",
              "      filter: drop-shadow(0px 1px 2px rgba(0, 0, 0, 0.3));\n",
              "      fill: #FFFFFF;\n",
              "    }\n",
              "  </style>\n",
              "\n",
              "      <script>\n",
              "        const buttonEl =\n",
              "          document.querySelector('#df-886cc6ee-a2e2-4589-9855-32d4ae774ce3 button.colab-df-convert');\n",
              "        buttonEl.style.display =\n",
              "          google.colab.kernel.accessAllowed ? 'block' : 'none';\n",
              "\n",
              "        async function convertToInteractive(key) {\n",
              "          const element = document.querySelector('#df-886cc6ee-a2e2-4589-9855-32d4ae774ce3');\n",
              "          const dataTable =\n",
              "            await google.colab.kernel.invokeFunction('convertToInteractive',\n",
              "                                                     [key], {});\n",
              "          if (!dataTable) return;\n",
              "\n",
              "          const docLinkHtml = 'Like what you see? Visit the ' +\n",
              "            '<a target=\"_blank\" href=https://colab.research.google.com/notebooks/data_table.ipynb>data table notebook</a>'\n",
              "            + ' to learn more about interactive tables.';\n",
              "          element.innerHTML = '';\n",
              "          dataTable['output_type'] = 'display_data';\n",
              "          await google.colab.output.renderOutput(dataTable, element);\n",
              "          const docLink = document.createElement('div');\n",
              "          docLink.innerHTML = docLinkHtml;\n",
              "          element.appendChild(docLink);\n",
              "        }\n",
              "      </script>\n",
              "    </div>\n",
              "  </div>\n",
              "  "
            ]
          },
          "metadata": {},
          "execution_count": 17
        }
      ]
    },
    {
      "cell_type": "code",
      "source": [
        "testdf(X_train,y_train,X_test,y_test,\"- lr\")"
      ],
      "metadata": {
        "colab": {
          "base_uri": "https://localhost:8080/",
          "height": 812
        },
        "id": "Bq0DwugBa5Lg",
        "outputId": "5f53f24f-5f26-4ba0-e8b1-bc190149dea7"
      },
      "execution_count": null,
      "outputs": [
        {
          "output_type": "stream",
          "name": "stdout",
          "text": [
            "\n",
            "\n",
            "Model classifier =   LogisticRegression- lr\n",
            "\n",
            "****Results****\n",
            "\n",
            "\n",
            "Classification and metrics based on test data-\n",
            "\n",
            "[[339 144]\n",
            " [116  46]]\n",
            "\n",
            "Outcome values tp, fn, fp, tn : \n",
            " 339 144 116 46\n",
            "\n",
            "Accuracy =  0.6\n",
            "precision =  0.7450549450549451\n",
            "recall =  0.7018633540372671\n",
            "f1score =  0.722814498933902\n",
            "\n",
            "mean_absolute_error =  0.40310077519379844\n",
            "mean_squared_error =  0.40310077519379844\n",
            "\n",
            "------------------------------------------------------------------------------\n",
            "\n",
            "\n",
            "Raw data input ROC Curve\n"
          ]
        },
        {
          "output_type": "display_data",
          "data": {
            "text/plain": [
              "<Figure size 360x360 with 1 Axes>"
            ],
            "image/png": "[encoded data removed]"
          },
          "metadata": {
            "needs_background": "light"
          }
        }
      ]
    },
    {
      "cell_type": "markdown",
      "source": [
        "# Sampling data - Base model\n"
      ],
      "metadata": {
        "id": "-GfEJa6pzGMK"
      }
    },
    {
      "cell_type": "code",
      "source": [
        "#OVER-SAMPLING using SMOTE.\n",
        "\n",
        "from imblearn.over_sampling import SMOTE\n",
        "from collections import Counter\n",
        "\n",
        "def oversampling(X, y):\n",
        "    ros = SMOTE(random_state=42)\n",
        "    X, y = ros.fit_resample(X, y)\n",
        "    \n",
        "    print(Counter(y).items())\n",
        "    return X, y \n",
        "\n",
        "def sampling(X_train, y_train):\n",
        "  # sampling data\n",
        "  X_train, y_train = oversampling(X_train, y_train)\n",
        "    \n",
        "  print('\\nResample dataset shape - ', Counter(y_train))\n",
        "    \n",
        "  X_train, y_train = shuffle(X_train, y_train)\n",
        "\n",
        "  return X_train, y_train"
      ],
      "metadata": {
        "id": "l2KkvbAYbLr0"
      },
      "execution_count": null,
      "outputs": []
    },
    {
      "cell_type": "code",
      "source": [
        "X_train, y_train = sampling(X_train, y_train)"
      ],
      "metadata": {
        "colab": {
          "base_uri": "https://localhost:8080/"
        },
        "id": "Ph9PDQ9AeN99",
        "outputId": "4d6ba39c-8622-492b-b095-6036e9b69afa"
      },
      "execution_count": null,
      "outputs": [
        {
          "output_type": "stream",
          "name": "stdout",
          "text": [
            "dict_items([(0, 1933), (1, 1933)])\n",
            "\n",
            "Resample dataset shape -  Counter({0: 1933, 1: 1933})\n"
          ]
        }
      ]
    },
    {
      "cell_type": "code",
      "source": [
        "main(X_train,y_train,\" - sampling lr\")"
      ],
      "metadata": {
        "colab": {
          "base_uri": "https://localhost:8080/"
        },
        "id": "qCR7DD4mfDm4",
        "outputId": "772fafdb-9817-4da1-ce9d-a55672528589"
      },
      "execution_count": null,
      "outputs": [
        {
          "output_type": "stream",
          "name": "stdout",
          "text": [
            "\n",
            "Model classifier =  LogisticRegression - sampling lr\n",
            "\n",
            "****Results****\n",
            "\n",
            "Ten-fold cross validation score\n",
            "\n",
            " [0.8126615  0.79689521 0.80853816 0.81112549 0.7774903 ]\n",
            "\n",
            "Mean Accuracy -  0.8013421315656641\n",
            "\n",
            "------------------------------------------------------------------------------------------\n",
            "\n"
          ]
        }
      ]
    },
    {
      "cell_type": "code",
      "source": [
        "Cv_scores=table_acc.copy()\n",
        "Cv_scores.loc['mean'] = Cv_scores.mean()\n",
        "Cv_scores.loc['stdev'] = Cv_scores.std()\n",
        "Cv_scores=Cv_scores.round(decimals=4)\n",
        "Cv_scores"
      ],
      "metadata": {
        "colab": {
          "base_uri": "https://localhost:8080/",
          "height": 310
        },
        "id": "YorM1CoFfMlA",
        "outputId": "0bd345e8-77ff-4bd4-fe2d-1766c5b5f400"
      },
      "execution_count": null,
      "outputs": [
        {
          "output_type": "execute_result",
          "data": {
            "text/plain": [
              "      Kfold  LogisticRegressionLogestic regression  \\\n",
              "0      Cv-1                                 0.5950   \n",
              "1      Cv-2                                 0.6124   \n",
              "2      Cv-3                                 0.5814   \n",
              "3      Cv-4                                 0.5795   \n",
              "4      Cv-5                                 0.5911   \n",
              "mean    NaN                                 0.5919   \n",
              "stdev   NaN                                 0.0118   \n",
              "\n",
              "       LogisticRegression - sampling lr  \n",
              "0                                0.8127  \n",
              "1                                0.7969  \n",
              "2                                0.8085  \n",
              "3                                0.8111  \n",
              "4                                0.7775  \n",
              "mean                             0.8013  \n",
              "stdev                            0.0131  "
            ],
            "text/html": [
              "\n",
              "  <div id=\"df-cf19ada2-8e2a-42f4-a66d-92e259b91ce3\">\n",
              "    <div class=\"colab-df-container\">\n",
              "      <div>\n",
              "<style scoped>\n",
              "    .dataframe tbody tr th:only-of-type {\n",
              "        vertical-align: middle;\n",
              "    }\n",
              "\n",
              "    .dataframe tbody tr th {\n",
              "        vertical-align: top;\n",
              "    }\n",
              "\n",
              "    .dataframe thead th {\n",
              "        text-align: right;\n",
              "    }\n",
              "</style>\n",
              "<table border=\"1\" class=\"dataframe\">\n",
              "  <thead>\n",
              "    <tr style=\"text-align: right;\">\n",
              "      <th></th>\n",
              "      <th>Kfold</th>\n",
              "      <th>LogisticRegressionLogestic regression</th>\n",
              "      <th>LogisticRegression - sampling lr</th>\n",
              "    </tr>\n",
              "  </thead>\n",
              "  <tbody>\n",
              "    <tr>\n",
              "      <th>0</th>\n",
              "      <td>Cv-1</td>\n",
              "      <td>0.5950</td>\n",
              "      <td>0.8127</td>\n",
              "    </tr>\n",
              "    <tr>\n",
              "      <th>1</th>\n",
              "      <td>Cv-2</td>\n",
              "      <td>0.6124</td>\n",
              "      <td>0.7969</td>\n",
              "    </tr>\n",
              "    <tr>\n",
              "      <th>2</th>\n",
              "      <td>Cv-3</td>\n",
              "      <td>0.5814</td>\n",
              "      <td>0.8085</td>\n",
              "    </tr>\n",
              "    <tr>\n",
              "      <th>3</th>\n",
              "      <td>Cv-4</td>\n",
              "      <td>0.5795</td>\n",
              "      <td>0.8111</td>\n",
              "    </tr>\n",
              "    <tr>\n",
              "      <th>4</th>\n",
              "      <td>Cv-5</td>\n",
              "      <td>0.5911</td>\n",
              "      <td>0.7775</td>\n",
              "    </tr>\n",
              "    <tr>\n",
              "      <th>mean</th>\n",
              "      <td>NaN</td>\n",
              "      <td>0.5919</td>\n",
              "      <td>0.8013</td>\n",
              "    </tr>\n",
              "    <tr>\n",
              "      <th>stdev</th>\n",
              "      <td>NaN</td>\n",
              "      <td>0.0118</td>\n",
              "      <td>0.0131</td>\n",
              "    </tr>\n",
              "  </tbody>\n",
              "</table>\n",
              "</div>\n",
              "      <button class=\"colab-df-convert\" onclick=\"convertToInteractive('df-cf19ada2-8e2a-42f4-a66d-92e259b91ce3')\"\n",
              "              title=\"Convert this dataframe to an interactive table.\"\n",
              "              style=\"display:none;\">\n",
              "        \n",
              "  <svg xmlns=\"http://www.w3.org/2000/svg\" height=\"24px\"viewBox=\"0 0 24 24\"\n",
              "       width=\"24px\">\n",
              "    <path d=\"M0 0h24v24H0V0z\" fill=\"none\"/>\n",
              "    <path d=\"M18.56 5.44l.94 2.06.94-2.06 2.06-.94-2.06-.94-.94-2.06-.94 2.06-2.06.94zm-11 1L8.5 8.5l.94-2.06 2.06-.94-2.06-.94L8.5 2.5l-.94 2.06-2.06.94zm10 10l.94 2.06.94-2.06 2.06-.94-2.06-.94-.94-2.06-.94 2.06-2.06.94z\"/><path d=\"M17.41 7.96l-1.37-1.37c-.4-.4-.92-.59-1.43-.59-.52 0-1.04.2-1.43.59L10.3 9.45l-7.72 7.72c-.78.78-.78 2.05 0 2.83L4 21.41c.39.39.9.59 1.41.59.51 0 1.02-.2 1.41-.59l7.78-7.78 2.81-2.81c.8-.78.8-2.07 0-2.86zM5.41 20L4 18.59l7.72-7.72 1.47 1.35L5.41 20z\"/>\n",
              "  </svg>\n",
              "      </button>\n",
              "      \n",
              "  <style>\n",
              "    .colab-df-container {\n",
              "      display:flex;\n",
              "      flex-wrap:wrap;\n",
              "      gap: 12px;\n",
              "    }\n",
              "\n",
              "    .colab-df-convert {\n",
              "      background-color: #E8F0FE;\n",
              "      border: none;\n",
              "      border-radius: 50%;\n",
              "      cursor: pointer;\n",
              "      display: none;\n",
              "      fill: #1967D2;\n",
              "      height: 32px;\n",
              "      padding: 0 0 0 0;\n",
              "      width: 32px;\n",
              "    }\n",
              "\n",
              "    .colab-df-convert:hover {\n",
              "      background-color: #E2EBFA;\n",
              "      box-shadow: 0px 1px 2px rgba(60, 64, 67, 0.3), 0px 1px 3px 1px rgba(60, 64, 67, 0.15);\n",
              "      fill: #174EA6;\n",
              "    }\n",
              "\n",
              "    [theme=dark] .colab-df-convert {\n",
              "      background-color: #3B4455;\n",
              "      fill: #D2E3FC;\n",
              "    }\n",
              "\n",
              "    [theme=dark] .colab-df-convert:hover {\n",
              "      background-color: #434B5C;\n",
              "      box-shadow: 0px 1px 3px 1px rgba(0, 0, 0, 0.15);\n",
              "      filter: drop-shadow(0px 1px 2px rgba(0, 0, 0, 0.3));\n",
              "      fill: #FFFFFF;\n",
              "    }\n",
              "  </style>\n",
              "\n",
              "      <script>\n",
              "        const buttonEl =\n",
              "          document.querySelector('#df-cf19ada2-8e2a-42f4-a66d-92e259b91ce3 button.colab-df-convert');\n",
              "        buttonEl.style.display =\n",
              "          google.colab.kernel.accessAllowed ? 'block' : 'none';\n",
              "\n",
              "        async function convertToInteractive(key) {\n",
              "          const element = document.querySelector('#df-cf19ada2-8e2a-42f4-a66d-92e259b91ce3');\n",
              "          const dataTable =\n",
              "            await google.colab.kernel.invokeFunction('convertToInteractive',\n",
              "                                                     [key], {});\n",
              "          if (!dataTable) return;\n",
              "\n",
              "          const docLinkHtml = 'Like what you see? Visit the ' +\n",
              "            '<a target=\"_blank\" href=https://colab.research.google.com/notebooks/data_table.ipynb>data table notebook</a>'\n",
              "            + ' to learn more about interactive tables.';\n",
              "          element.innerHTML = '';\n",
              "          dataTable['output_type'] = 'display_data';\n",
              "          await google.colab.output.renderOutput(dataTable, element);\n",
              "          const docLink = document.createElement('div');\n",
              "          docLink.innerHTML = docLinkHtml;\n",
              "          element.appendChild(docLink);\n",
              "        }\n",
              "      </script>\n",
              "    </div>\n",
              "  </div>\n",
              "  "
            ]
          },
          "metadata": {},
          "execution_count": 25
        }
      ]
    },
    {
      "cell_type": "code",
      "source": [
        "testdf(X_train,y_train,X_test,y_test,\"- sampling lr\")"
      ],
      "metadata": {
        "colab": {
          "base_uri": "https://localhost:8080/",
          "height": 812
        },
        "id": "KIopjaOQkCib",
        "outputId": "0f521887-d1a0-491c-9468-ed1682af85f7"
      },
      "execution_count": null,
      "outputs": [
        {
          "output_type": "stream",
          "name": "stdout",
          "text": [
            "\n",
            "\n",
            "Model classifier =   LogisticRegression- sampling lr\n",
            "\n",
            "****Results****\n",
            "\n",
            "\n",
            "Classification and metrics based on test data-\n",
            "\n",
            "[[341 142]\n",
            " [113  49]]\n",
            "\n",
            "Outcome values tp, fn, fp, tn : \n",
            " 341 142 113 49\n",
            "\n",
            "Accuracy =  0.6\n",
            "precision =  0.751101321585903\n",
            "recall =  0.7060041407867494\n",
            "f1score =  0.7278548559231589\n",
            "\n",
            "mean_absolute_error =  0.3953488372093023\n",
            "mean_squared_error =  0.3953488372093023\n",
            "\n",
            "------------------------------------------------------------------------------\n",
            "\n",
            "\n",
            "Raw data input ROC Curve\n"
          ]
        },
        {
          "output_type": "display_data",
          "data": {
            "text/plain": [
              "<Figure size 360x360 with 1 Axes>"
            ],
            "image/png": "[encoded data removed]"
          },
          "metadata": {
            "needs_background": "light"
          }
        }
      ]
    },
    {
      "cell_type": "code",
      "source": [],
      "metadata": {
        "id": "5-BhnJc8kKuo"
      },
      "execution_count": null,
      "outputs": []
    },
    {
      "cell_type": "markdown",
      "source": [
        "#Deep neural network model using CNN layers\n",
        "\n",
        "Feature extraction process of CNN\n",
        "\n",
        "Dense layers learn global patterns in their input feature space, whereas convolution layers learn local patterns by narrow windows of feature map. This is the key distinction between a densely linked layer and a convolution layer.\n",
        "\n",
        "The three basic operations that comprise CNN's feature extraction are as follows.\n",
        "\n",
        "Filter: an image for a perticular feature (Convolution)\n",
        "Detect: feature within the filtered image (ReLU)\n",
        "Condense: image to enhance the features (Maxpooling)\n"
      ],
      "metadata": {
        "id": "x12l-2dGncgi"
      }
    },
    {
      "cell_type": "code",
      "source": [
        "import tensorflow as tf"
      ],
      "metadata": {
        "id": "WHCWXkFrnhlM"
      },
      "execution_count": null,
      "outputs": []
    },
    {
      "cell_type": "code",
      "source": [
        "def datasplit(dataset):\n",
        "    #Split data into a test and training set\n",
        "    X = np.array(dataset['images'].tolist())\n",
        "    y = np.array(dataset['labels'])\n",
        "    \n",
        "    #scaling the features\n",
        "    X = X/255.0\n",
        "    \n",
        "    # test is now 20% of the initial data set\n",
        "    # train is now 80% of the initial data set\n",
        "    X_train, X_test, y_train, y_test = train_test_split(X, y, test_size=0.2,stratify = y, random_state=9)\n",
        "  \n",
        "    print(\"Train data size: \", X_train.shape, y_train.shape)\n",
        "    \n",
        "    return X_train, X_test, y_train, y_test\n",
        "\n",
        "X_train, X_test, y_train, y_test = datasplit(df_images)"
      ],
      "metadata": {
        "colab": {
          "base_uri": "https://localhost:8080/"
        },
        "id": "_6KgtoFooeS1",
        "outputId": "ea215c3f-8f63-4ed7-8388-5e8867c97470"
      },
      "execution_count": null,
      "outputs": [
        {
          "output_type": "stream",
          "name": "stdout",
          "text": [
            "Train data size:  (2580, 224, 224, 3) (2580,)\n"
          ]
        }
      ]
    },
    {
      "cell_type": "markdown",
      "source": [
        "CNN2D layer arguments:\n",
        "\n",
        "tf.keras.layers.Conv2D( filters, kernel_size, strides=(1, 1), padding='valid', data_format=None, dilation_rate=(1, 1), groups=1, activation=None, use_bias=True, kernel_initializer='glorot_uniform', bias_initializer='zeros', kernel_regularizer=None, bias_regularizer=None, activity_regularizer=None, kernel_constraint=None, bias_constraint=None, **kwargs )\n",
        "Integer filters with dimensional output spaces (i.e. the number of output filters in the convolution) \n",
        "\n",
        "filters - Integer filters with dimensional output spaces (i.e. the number of output filters in the convolution) \n",
        "\n",
        "kernel size - The height and breadth of the 2D convolution window are specified by the integer kernel size, which can also be a tuple or list of two numbers. To express the same value for each spatial dimension, a single integer may be used. \n",
        "\n",
        "strides - An integer or tuple/list of two numbers that specifies the height and width of the convolution's strides. To express the same value for each spatial dimension, a single integer may be used. Any stride value less than 1 is incompatible with any dilation rate value less than 1.\n",
        "\n",
        "padding - either \"valid\" or \"the same\" (case-insensitive). Valid indicates there is no padding. \"Same\" causes zeros to be evenly spaced to the left and right or up and down of the input. When strides=1 and padding=\"same,\" the output is the same size as the input. \n",
        "\n",
        "activation - Use the activation function to activate. No activation is applied if you don't provide anything."
      ],
      "metadata": {
        "id": "M0gTYrPIinaL"
      }
    },
    {
      "cell_type": "code",
      "source": [
        "model = tf.keras.models.Sequential()\n",
        "model.add(tf.keras.layers.Conv2D(64,(3,3),activation = 'relu',input_shape = (224,224,1)))\n",
        "model.add(tf.keras.layers.MaxPool2D(2,2))\n",
        "model.add(tf.keras.layers.Flatten())\n",
        "model.add(tf.keras.layers.Dense(128, activation = tf.nn.relu))\n",
        "model.add(tf.keras.layers.Dense(10, activation = tf.nn.softmax))  # we can also write this as activation = 'softmax'\n",
        "model.compile(optimizer='adam',loss='sparse_categorical_crossentropy',metrics=['accuracy'])\n",
        "# NN has 2 hidden layers   \n"
      ],
      "metadata": {
        "id": "uWBfgPWEsapf"
      },
      "execution_count": null,
      "outputs": []
    },
    {
      "cell_type": "code",
      "source": [
        "def train_model(x_train,y_train,x_test,y_test,model):\n",
        "    '''\n",
        "    function which trains the model and returns the number of epochs as welll as accuracy \n",
        "    '''\n",
        "    class Call_back(tf.keras.callbacks.Callback):\n",
        "        def on_epoch_end(self,epoch,logs={}):\n",
        "            if(logs.get('accuracy')>0.99):\n",
        "                print('Desired Accuracy Reached.Stopping the Training.')\n",
        "                self.model.stop_training = True\n",
        "    \n",
        "    callback = Call_back()\n",
        "                \n",
        "\n",
        "    \n",
        "    # model fitting\n",
        "    history = model.fit(x_train,y_train,epochs =10,validation_split = 0.2,callbacks = [callback])\n",
        "\n",
        "    metrics = model.evaluate(x_test,y_test)\n",
        "\n",
        "    return metrics, history"
      ],
      "metadata": {
        "id": "qQuO1_cno3kz"
      },
      "execution_count": null,
      "outputs": []
    },
    {
      "cell_type": "code",
      "source": [
        "metrics, history = train_model(X_train,y_train,X_test,y_test,model)"
      ],
      "metadata": {
        "colab": {
          "base_uri": "https://localhost:8080/"
        },
        "id": "hWFXGHdzo9ye",
        "outputId": "6047ce23-e2fb-41ed-ba5e-4ba4c2033479"
      },
      "execution_count": null,
      "outputs": [
        {
          "output_type": "stream",
          "name": "stdout",
          "text": [
            "Epoch 1/10\n",
            "65/65 [==============================] - 150s 2s/step - loss: 5.9932 - accuracy: 0.6153 - val_loss: 0.5795 - val_accuracy: 0.7694\n",
            "Epoch 2/10\n",
            "65/65 [==============================] - 132s 2s/step - loss: 0.5564 - accuracy: 0.7418 - val_loss: 0.6107 - val_accuracy: 0.7655\n",
            "Epoch 3/10\n",
            "65/65 [==============================] - 129s 2s/step - loss: 0.4699 - accuracy: 0.7980 - val_loss: 0.5944 - val_accuracy: 0.7694\n",
            "Epoch 4/10\n",
            "65/65 [==============================] - 133s 2s/step - loss: 0.3097 - accuracy: 0.8876 - val_loss: 0.7276 - val_accuracy: 0.7442\n",
            "Epoch 5/10\n",
            "65/65 [==============================] - 128s 2s/step - loss: 0.2029 - accuracy: 0.9496 - val_loss: 0.8595 - val_accuracy: 0.7442\n",
            "Epoch 6/10\n",
            "65/65 [==============================] - 132s 2s/step - loss: 0.1552 - accuracy: 0.9709 - val_loss: 0.9273 - val_accuracy: 0.7132\n",
            "Epoch 7/10\n",
            "65/65 [==============================] - 135s 2s/step - loss: 0.1303 - accuracy: 0.9767 - val_loss: 0.9499 - val_accuracy: 0.7093\n",
            "Epoch 8/10\n",
            "65/65 [==============================] - 129s 2s/step - loss: 0.0804 - accuracy: 0.9855 - val_loss: 1.0268 - val_accuracy: 0.7190\n",
            "Epoch 9/10\n",
            "65/65 [==============================] - 135s 2s/step - loss: 0.0687 - accuracy: 0.9884 - val_loss: 1.0209 - val_accuracy: 0.7132\n",
            "Epoch 10/10\n",
            "65/65 [==============================] - 129s 2s/step - loss: 0.0906 - accuracy: 0.9864 - val_loss: 1.2669 - val_accuracy: 0.7345\n",
            "21/21 [==============================] - 8s 398ms/step - loss: 1.2022 - accuracy: 0.7271\n"
          ]
        }
      ]
    },
    {
      "cell_type": "code",
      "source": [
        "def plot_loss_accuracy(history):\n",
        "\n",
        "    # create object of arrays of accuracy and loss\n",
        "    acc = history.history['accuracy']\n",
        "    val_acc = history.history['val_accuracy']\n",
        "    loss = history.history['loss']\n",
        "    val_loss = history.history['val_loss']\n",
        "    \n",
        "    # number of epochs in our model\n",
        "    epochs = range(1 ,len(acc) + 1)\n",
        "    \n",
        "    # call matplolib figure object and plot loss and accuracy curves\n",
        "    plt.figure(figsize=(15,6))\n",
        "    \n",
        "    plt.subplot(121)\n",
        "    plt.plot(epochs, acc, 'bo', label='Training acc')\n",
        "    plt.plot(epochs, val_acc, 'b', label='Validation acc')\n",
        "    plt.title(\"Training and validation accuracy\", fontsize=15)\n",
        "    plt.xlabel('epochs', fontsize=14)\n",
        "    plt.ylabel(\"accuracy\", fontsize=14)\n",
        "    plt.legend()\n",
        "    \n",
        "    plt.subplot(122)\n",
        "    plt.plot(epochs, loss, 'bo', label='Training loss')\n",
        "    plt.plot(epochs, val_loss, 'b', label='Validation loss')\n",
        "    plt.title(\"Training and validation loss\", fontsize=15)\n",
        "    plt.xlabel('epochs', fontsize=14)\n",
        "    plt.ylabel(\"loss\", fontsize=14)\n",
        "    plt.legend()\n",
        "    \n",
        "    plt.show()\n",
        "\n",
        "\n",
        "# call the function to plot the curves\n",
        "plot_loss_accuracy(history)"
      ],
      "metadata": {
        "colab": {
          "base_uri": "https://localhost:8080/",
          "height": 336
        },
        "id": "mzECAfbjzncC",
        "outputId": "774ac60f-3869-4a35-b9ca-aaed4554eec5"
      },
      "execution_count": null,
      "outputs": [
        {
          "output_type": "display_data",
          "data": {
            "text/plain": [
              "<Figure size 1080x432 with 2 Axes>"
            ],
            "image/png": "[encoded data removed]"
          },
          "metadata": {
            "needs_background": "light"
          }
        }
      ]
    },
    {
      "cell_type": "markdown",
      "source": [
        "# Transfer Learning - \n",
        "\n",
        "Transfer learning is a strategy where we take a model that has been trained for one machine learning task and use it as a springboard for another. This method is utilised in numerous deep learning fields, such as image classification, natural language processing, It is quite valuable to be able to apply a trained model to another task.\n",
        "\n",
        "Model training using pre-trained convolutional base VGG16"
      ],
      "metadata": {
        "id": "vASpwc5s_b1I"
      }
    },
    {
      "cell_type": "code",
      "source": [
        "# next up model using pretrained model vgg16 to improve accuracy to 85-90% and machine visualization\n",
        "# initializing convolutional base of vgg16\n",
        "\n",
        "import random\n",
        "from keras.applications import vgg16\n",
        "\n",
        "# Pretrained convolutional layers are loaded using the Imagenet weights.\n",
        "# Include_top is set to False, in order to exclude the model's fully-connected layers.\n",
        "\n",
        "\n",
        "conv_base = vgg16.VGG16(weights='imagenet',\n",
        "                  include_top=False,\n",
        "                  input_shape=(224,224,3)\n",
        "                 )\n",
        "\n",
        "conv_base.summary()\n"
      ],
      "metadata": {
        "colab": {
          "base_uri": "https://localhost:8080/"
        },
        "id": "ad6EX5h2_drN",
        "outputId": "010eb595-b900-4b0e-9eac-7375d1a54a03"
      },
      "execution_count": null,
      "outputs": [
        {
          "output_type": "stream",
          "name": "stdout",
          "text": [
            "Downloading data from https://storage.googleapis.com/tensorflow/keras-applications/vgg16/vgg16_weights_tf_dim_ordering_tf_kernels_notop.h5\n",
            "58889256/58889256 [==============================] - 1s 0us/step\n",
            "Model: \"vgg16\"\n",
            "_________________________________________________________________\n",
            " Layer (type)                Output Shape              Param #   \n",
            "=================================================================\n",
            " input_1 (InputLayer)        [(None, 224, 224, 3)]     0         \n",
            "                                                                 \n",
            " block1_conv1 (Conv2D)       (None, 224, 224, 64)      1792      \n",
            "                                                                 \n",
            " block1_conv2 (Conv2D)       (None, 224, 224, 64)      36928     \n",
            "                                                                 \n",
            " block1_pool (MaxPooling2D)  (None, 112, 112, 64)      0         \n",
            "                                                                 \n",
            " block2_conv1 (Conv2D)       (None, 112, 112, 128)     73856     \n",
            "                                                                 \n",
            " block2_conv2 (Conv2D)       (None, 112, 112, 128)     147584    \n",
            "                                                                 \n",
            " block2_pool (MaxPooling2D)  (None, 56, 56, 128)       0         \n",
            "                                                                 \n",
            " block3_conv1 (Conv2D)       (None, 56, 56, 256)       295168    \n",
            "                                                                 \n",
            " block3_conv2 (Conv2D)       (None, 56, 56, 256)       590080    \n",
            "                                                                 \n",
            " block3_conv3 (Conv2D)       (None, 56, 56, 256)       590080    \n",
            "                                                                 \n",
            " block3_pool (MaxPooling2D)  (None, 28, 28, 256)       0         \n",
            "                                                                 \n",
            " block4_conv1 (Conv2D)       (None, 28, 28, 512)       1180160   \n",
            "                                                                 \n",
            " block4_conv2 (Conv2D)       (None, 28, 28, 512)       2359808   \n",
            "                                                                 \n",
            " block4_conv3 (Conv2D)       (None, 28, 28, 512)       2359808   \n",
            "                                                                 \n",
            " block4_pool (MaxPooling2D)  (None, 14, 14, 512)       0         \n",
            "                                                                 \n",
            " block5_conv1 (Conv2D)       (None, 14, 14, 512)       2359808   \n",
            "                                                                 \n",
            " block5_conv2 (Conv2D)       (None, 14, 14, 512)       2359808   \n",
            "                                                                 \n",
            " block5_conv3 (Conv2D)       (None, 14, 14, 512)       2359808   \n",
            "                                                                 \n",
            " block5_pool (MaxPooling2D)  (None, 7, 7, 512)         0         \n",
            "                                                                 \n",
            "=================================================================\n",
            "Total params: 14,714,688\n",
            "Trainable params: 14,714,688\n",
            "Non-trainable params: 0\n",
            "_________________________________________________________________\n"
          ]
        }
      ]
    },
    {
      "cell_type": "markdown",
      "source": [
        "Feature extraction strategy -\n",
        "\n",
        "With this method, we use the architecture of the pre-trained model to create a new dataset from our input photographs. The model's \"top portion\" won't be imported; just the Convolutional and Pooling layers will be imported (the Fully-Connected layer). Now process the images through the VGG16 convolutional layers to create a Feature Stack comprising the recognised visual features. The three-dimensional feature stack can now easily be flattened into a NumPy array so that it is ready for any modelling you decide to undertake."
      ],
      "metadata": {
        "id": "J2V-ULZcl6h3"
      }
    },
    {
      "cell_type": "code",
      "source": [
        "# Extract training feature map from vgg16 conv_base\n",
        "train_featuremap = conv_base.predict(X_train)\n",
        "test_featuremap = conv_base.predict(X_test) "
      ],
      "metadata": {
        "colab": {
          "base_uri": "https://localhost:8080/"
        },
        "id": "E6ZKev7N_iLB",
        "outputId": "64aecde2-df33-4e2c-cc16-e81ce1b7417f"
      },
      "execution_count": null,
      "outputs": [
        {
          "output_type": "stream",
          "name": "stdout",
          "text": [
            "81/81 [==============================] - 1389s 17s/step\n",
            "21/21 [==============================] - 349s 16s/step\n"
          ]
        }
      ]
    },
    {
      "cell_type": "code",
      "source": [
        "\n",
        "# print the shape of output tensors from convolutionla base -vgg16\n",
        "train_featuremap.shape, test_featuremap.shape\n"
      ],
      "metadata": {
        "colab": {
          "base_uri": "https://localhost:8080/"
        },
        "id": "rc1ZbygN_046",
        "outputId": "e4c39375-e920-4a10-ceac-fdf28c347bbf"
      },
      "execution_count": null,
      "outputs": [
        {
          "output_type": "execute_result",
          "data": {
            "text/plain": [
              "((2580, 7, 7, 512), (645, 7, 7, 512))"
            ]
          },
          "metadata": {},
          "execution_count": 12
        }
      ]
    },
    {
      "cell_type": "code",
      "source": [
        "# train the model by adding dense layers on top of extracted features\n",
        "from tensorflow import keras\n",
        "from keras import layers\n",
        "from keras import models\n",
        "from keras import optimizers\n",
        "from keras.models import load_model\n",
        "import keras.callbacks\n",
        "from keras.callbacks import ModelCheckpoint\n",
        "\n",
        "model2 = tf.keras.models.Sequential()\n",
        "model2.add(layers.Flatten(input_shape=(7,7,512)))\n",
        "model2.add(layers.Dense(10, activation='relu'))\n",
        "model2.add(layers.Dropout(0.4))\n",
        "model2.add(layers.Dense(1, activation='softmax'))\n",
        "model2.summary()\n"
      ],
      "metadata": {
        "colab": {
          "base_uri": "https://localhost:8080/"
        },
        "id": "OnwFdBHAK8-E",
        "outputId": "7863e7f7-de98-43ee-fbad-78f5f4f4f3c3"
      },
      "execution_count": null,
      "outputs": [
        {
          "output_type": "stream",
          "name": "stdout",
          "text": [
            "Model: \"sequential_4\"\n",
            "_________________________________________________________________\n",
            " Layer (type)                Output Shape              Param #   \n",
            "=================================================================\n",
            " flatten_3 (Flatten)         (None, 25088)             0         \n",
            "                                                                 \n",
            " dense_6 (Dense)             (None, 10)                250890    \n",
            "                                                                 \n",
            " dropout_2 (Dropout)         (None, 10)                0         \n",
            "                                                                 \n",
            " dense_7 (Dense)             (None, 1)                 11        \n",
            "                                                                 \n",
            "=================================================================\n",
            "Total params: 250,901\n",
            "Trainable params: 250,901\n",
            "Non-trainable params: 0\n",
            "_________________________________________________________________\n"
          ]
        }
      ]
    },
    {
      "cell_type": "code",
      "source": [
        "# compile the model with 'RMSprop' optimizer\n",
        "model2.compile(loss='categorical_crossentropy',\n",
        "             optimizer= tf.keras.optimizers.RMSprop(learning_rate=2e-5),\n",
        "             metrics=['accuracy']\n",
        "             )\n",
        "\n",
        "# SETUP A EARLY STOPPING CALL and model check point API\n",
        "earlystopping = keras.callbacks.EarlyStopping(monitor='val_loss',\n",
        "                                              patience=5,\n",
        "                                              verbose=1,\n",
        "                                              mode='min'\n",
        "                                              )\n",
        "checkpointer = ModelCheckpoint(filepath='bestvalue', verbose=0, save_best_only=True)\n",
        "callback_list = [checkpointer, earlystopping]\n"
      ],
      "metadata": {
        "id": "rDQp3CyXLCk8"
      },
      "execution_count": null,
      "outputs": []
    },
    {
      "cell_type": "code",
      "source": [
        "\n",
        "# fit the model to datr and save the model statistics to result instance\n",
        "result = model2.fit(train_featuremap, y_train,\n",
        "                   epochs=30,\n",
        "                   validation_data=(test_featuremap, y_test),\n",
        "                   callbacks=callback_list\n",
        "                   )\n",
        "\n",
        "# print the final test accuracy and loss\n",
        "tst_loss, tst_acc = model2.evaluate(test_featuremap, y_test, verbose=0)\n",
        "print(\"Test loss and accuracy of model2:\", tst_loss, tst_acc)\n"
      ],
      "metadata": {
        "colab": {
          "base_uri": "https://localhost:8080/"
        },
        "id": "Y8DDqv55QKl5",
        "outputId": "ea03f785-d9ef-49b3-fedf-2010375d6998"
      },
      "execution_count": null,
      "outputs": [
        {
          "output_type": "stream",
          "name": "stdout",
          "text": [
            "Epoch 1/30\n",
            "81/81 [==============================] - 1s 18ms/step - loss: 0.0000e+00 - accuracy: 0.2508 - val_loss: 0.0000e+00 - val_accuracy: 0.2512\n",
            "Epoch 2/30\n",
            "81/81 [==============================] - 2s 23ms/step - loss: 0.0000e+00 - accuracy: 0.2508 - val_loss: 0.0000e+00 - val_accuracy: 0.2512\n",
            "Epoch 3/30\n",
            "81/81 [==============================] - 2s 24ms/step - loss: 0.0000e+00 - accuracy: 0.2508 - val_loss: 0.0000e+00 - val_accuracy: 0.2512\n",
            "Epoch 4/30\n",
            "81/81 [==============================] - 2s 21ms/step - loss: 0.0000e+00 - accuracy: 0.2508 - val_loss: 0.0000e+00 - val_accuracy: 0.2512\n",
            "Epoch 5/30\n",
            "81/81 [==============================] - 1s 17ms/step - loss: 0.0000e+00 - accuracy: 0.2508 - val_loss: 0.0000e+00 - val_accuracy: 0.2512\n",
            "Epoch 6/30\n",
            "81/81 [==============================] - 1s 17ms/step - loss: 0.0000e+00 - accuracy: 0.2508 - val_loss: 0.0000e+00 - val_accuracy: 0.2512\n",
            "Epoch 6: early stopping\n",
            "Test loss and accuracy of model2: 0.0 0.2511627972126007\n"
          ]
        }
      ]
    },
    {
      "cell_type": "markdown",
      "source": [
        "# VGG19 CNN\n",
        "In order to improve upon the baseline CNN, I use VGG19, which is an advanced network with pretrained layers and a better understanding of what defines an image in terms of shape, color, and structure. VGG19 is very deep and has been trained on millions of diverse images with complex classification tasks.\n",
        "\n",
        "VGG19 consists of 19 layers:\n",
        "\n",
        "16 convolution layers\n",
        "5 MaxPool layers\n",
        "1 SoftMax layer\n",
        "3 fully connected layers\n",
        "I extract the general structure of VGG19, freeze its initial layers and append a small dense network to it."
      ],
      "metadata": {
        "id": "rqbYULZXhXOw"
      }
    },
    {
      "cell_type": "code",
      "source": [
        "# load the model\n",
        "from keras.applications.vgg19 import VGG19\n",
        "\n",
        "\n",
        "# Build VGG16 structure\n",
        "cnn_base = VGG19(weights='imagenet',\n",
        "                  include_top=False,\n",
        "                  input_shape=(224, 224, 3))\n",
        "print('VGG19 Loaded')\n",
        "print(cnn_base.summary())"
      ],
      "metadata": {
        "colab": {
          "base_uri": "https://localhost:8080/"
        },
        "id": "4v046wa-QM13",
        "outputId": "b415eeed-432c-4162-ebc6-b04d252be821"
      },
      "execution_count": null,
      "outputs": [
        {
          "output_type": "stream",
          "name": "stdout",
          "text": [
            "VGG19 Loaded\n",
            "Model: \"vgg19\"\n",
            "_________________________________________________________________\n",
            " Layer (type)                Output Shape              Param #   \n",
            "=================================================================\n",
            " input_4 (InputLayer)        [(None, 224, 224, 3)]     0         \n",
            "                                                                 \n",
            " block1_conv1 (Conv2D)       (None, 224, 224, 64)      1792      \n",
            "                                                                 \n",
            " block1_conv2 (Conv2D)       (None, 224, 224, 64)      36928     \n",
            "                                                                 \n",
            " block1_pool (MaxPooling2D)  (None, 112, 112, 64)      0         \n",
            "                                                                 \n",
            " block2_conv1 (Conv2D)       (None, 112, 112, 128)     73856     \n",
            "                                                                 \n",
            " block2_conv2 (Conv2D)       (None, 112, 112, 128)     147584    \n",
            "                                                                 \n",
            " block2_pool (MaxPooling2D)  (None, 56, 56, 128)       0         \n",
            "                                                                 \n",
            " block3_conv1 (Conv2D)       (None, 56, 56, 256)       295168    \n",
            "                                                                 \n",
            " block3_conv2 (Conv2D)       (None, 56, 56, 256)       590080    \n",
            "                                                                 \n",
            " block3_conv3 (Conv2D)       (None, 56, 56, 256)       590080    \n",
            "                                                                 \n",
            " block3_conv4 (Conv2D)       (None, 56, 56, 256)       590080    \n",
            "                                                                 \n",
            " block3_pool (MaxPooling2D)  (None, 28, 28, 256)       0         \n",
            "                                                                 \n",
            " block4_conv1 (Conv2D)       (None, 28, 28, 512)       1180160   \n",
            "                                                                 \n",
            " block4_conv2 (Conv2D)       (None, 28, 28, 512)       2359808   \n",
            "                                                                 \n",
            " block4_conv3 (Conv2D)       (None, 28, 28, 512)       2359808   \n",
            "                                                                 \n",
            " block4_conv4 (Conv2D)       (None, 28, 28, 512)       2359808   \n",
            "                                                                 \n",
            " block4_pool (MaxPooling2D)  (None, 14, 14, 512)       0         \n",
            "                                                                 \n",
            " block5_conv1 (Conv2D)       (None, 14, 14, 512)       2359808   \n",
            "                                                                 \n",
            " block5_conv2 (Conv2D)       (None, 14, 14, 512)       2359808   \n",
            "                                                                 \n",
            " block5_conv3 (Conv2D)       (None, 14, 14, 512)       2359808   \n",
            "                                                                 \n",
            " block5_conv4 (Conv2D)       (None, 14, 14, 512)       2359808   \n",
            "                                                                 \n",
            " block5_pool (MaxPooling2D)  (None, 7, 7, 512)         0         \n",
            "                                                                 \n",
            "=================================================================\n",
            "Total params: 20,024,384\n",
            "Trainable params: 20,024,384\n",
            "Non-trainable params: 0\n",
            "_________________________________________________________________\n",
            "None\n"
          ]
        }
      ]
    },
    {
      "cell_type": "markdown",
      "source": [
        "Model VGG - 2 Dense"
      ],
      "metadata": {
        "id": "Qiq3ZNn4hy0m"
      }
    },
    {
      "cell_type": "code",
      "source": [
        "from keras.models import Sequential, load_model\n",
        "from keras.callbacks import EarlyStopping\n",
        "from keras.layers import Conv2D, MaxPooling2D\n",
        "from keras.layers import Activation, Dropout, Flatten, Dense\n",
        "\n",
        "\n",
        "reshape_y = 7 * 7 * 512\n",
        "\n",
        "nb_train_samples = 2580 \n",
        "nb_test_samples = 645 \n",
        "\n",
        "# Shape data\n",
        "reshape_y = 7 * 7 * 512\n",
        "train_features = np.reshape(train_featuremap, (nb_train_samples, reshape_y))\n",
        "test_features = np.reshape(test_featuremap, (nb_test_samples, reshape_y))\n",
        "\n",
        "# Build classifier on top of  VGG19\n",
        "model1 = Sequential()\n",
        "\n",
        "# Add dense layers on top of VGG19 \n",
        "# 1\n",
        "model1.add(Dense(256, activation='relu', input_dim=reshape_y))\n",
        "# 2\n",
        "model1.add(Dense(1, activation='sigmoid'))\n",
        "\n",
        "# Compile\n",
        "model1.compile(optimizer=optimizers.RMSprop(lr=1e-4),\n",
        "              loss='binary_crossentropy',\n",
        "              metrics=['acc'])\n",
        "\n",
        "history = model1.fit(train_features, y_train,\n",
        "                    epochs=20,\n",
        "                    batch_size=16,\n",
        "                    validation_data=(test_features, y_test))"
      ],
      "metadata": {
        "colab": {
          "base_uri": "https://localhost:8080/"
        },
        "id": "xTZt2xM-b9o-",
        "outputId": "b151dc4f-446a-4dde-d02c-68e4f177b3fd"
      },
      "execution_count": null,
      "outputs": [
        {
          "output_type": "stream",
          "name": "stdout",
          "text": [
            "Epoch 1/20\n",
            "162/162 [==============================] - 18s 98ms/step - loss: 0.6248 - acc: 0.7209 - val_loss: 0.5679 - val_acc: 0.7442\n",
            "Epoch 2/20\n",
            "162/162 [==============================] - 16s 101ms/step - loss: 0.5427 - acc: 0.7500 - val_loss: 1.0069 - val_acc: 0.3116\n",
            "Epoch 3/20\n",
            "162/162 [==============================] - 15s 94ms/step - loss: 0.4983 - acc: 0.7554 - val_loss: 0.7113 - val_acc: 0.5085\n",
            "Epoch 4/20\n",
            "162/162 [==============================] - 16s 97ms/step - loss: 0.4413 - acc: 0.7911 - val_loss: 0.6344 - val_acc: 0.7411\n",
            "Epoch 5/20\n",
            "162/162 [==============================] - 15s 92ms/step - loss: 0.3911 - acc: 0.8186 - val_loss: 1.4813 - val_acc: 0.2899\n",
            "Epoch 6/20\n",
            "162/162 [==============================] - 11s 68ms/step - loss: 0.3576 - acc: 0.8469 - val_loss: 0.9447 - val_acc: 0.7457\n",
            "Epoch 7/20\n",
            "162/162 [==============================] - 11s 70ms/step - loss: 0.3035 - acc: 0.8756 - val_loss: 0.6962 - val_acc: 0.7116\n",
            "Epoch 8/20\n",
            "162/162 [==============================] - 11s 70ms/step - loss: 0.2593 - acc: 0.9004 - val_loss: 0.7286 - val_acc: 0.7039\n",
            "Epoch 9/20\n",
            "162/162 [==============================] - 12s 77ms/step - loss: 0.2285 - acc: 0.9143 - val_loss: 0.7437 - val_acc: 0.6868\n",
            "Epoch 10/20\n",
            "162/162 [==============================] - 10s 65ms/step - loss: 0.1918 - acc: 0.9357 - val_loss: 0.8625 - val_acc: 0.5736\n",
            "Epoch 11/20\n",
            "162/162 [==============================] - 11s 70ms/step - loss: 0.1618 - acc: 0.9481 - val_loss: 0.9394 - val_acc: 0.7364\n",
            "Epoch 12/20\n",
            "162/162 [==============================] - 11s 67ms/step - loss: 0.1405 - acc: 0.9636 - val_loss: 0.8549 - val_acc: 0.6403\n",
            "Epoch 13/20\n",
            "162/162 [==============================] - 11s 67ms/step - loss: 0.1166 - acc: 0.9713 - val_loss: 1.0439 - val_acc: 0.7364\n",
            "Epoch 14/20\n",
            "162/162 [==============================] - 11s 67ms/step - loss: 0.0989 - acc: 0.9775 - val_loss: 1.0936 - val_acc: 0.5519\n",
            "Epoch 15/20\n",
            "162/162 [==============================] - 11s 68ms/step - loss: 0.0802 - acc: 0.9826 - val_loss: 0.9834 - val_acc: 0.6388\n",
            "Epoch 16/20\n",
            "162/162 [==============================] - 11s 68ms/step - loss: 0.0716 - acc: 0.9872 - val_loss: 1.0193 - val_acc: 0.6667\n",
            "Epoch 17/20\n",
            "162/162 [==============================] - 13s 81ms/step - loss: 0.0596 - acc: 0.9888 - val_loss: 1.2731 - val_acc: 0.7426\n",
            "Epoch 18/20\n",
            "162/162 [==============================] - 11s 70ms/step - loss: 0.0526 - acc: 0.9868 - val_loss: 1.1984 - val_acc: 0.7008\n",
            "Epoch 19/20\n",
            "162/162 [==============================] - 11s 69ms/step - loss: 0.0455 - acc: 0.9911 - val_loss: 1.2568 - val_acc: 0.7240\n",
            "Epoch 20/20\n",
            "162/162 [==============================] - 11s 67ms/step - loss: 0.0435 - acc: 0.9915 - val_loss: 1.2200 - val_acc: 0.6605\n"
          ]
        }
      ]
    },
    {
      "cell_type": "code",
      "source": [
        "\n",
        "# Print training history\n",
        "pd.DataFrame(history.history).plot(figsize=(5, 5))\n",
        "plt.title('Pre-Trained Training Performance')\n",
        "plt.xlabel('Epoch')\n",
        "plt.ylabel('Metric')\n",
        "plt.show()\n"
      ],
      "metadata": {
        "colab": {
          "base_uri": "https://localhost:8080/",
          "height": 350
        },
        "id": "euk2XugjfGYV",
        "outputId": "1da272b9-28b6-4c99-c280-200d9c272a62"
      },
      "execution_count": null,
      "outputs": [
        {
          "output_type": "display_data",
          "data": {
            "text/plain": [
              "<Figure size 360x360 with 1 Axes>"
            ],
            "image/png": "[encoded data removed]"
          },
          "metadata": {
            "needs_background": "light"
          }
        }
      ]
    },
    {
      "cell_type": "markdown",
      "source": [
        "Model VGG - 3 Dense 1 Dropout"
      ],
      "metadata": {
        "id": "9qrcFlx6ihD1"
      }
    },
    {
      "cell_type": "code",
      "source": [
        "# Deeper VGG19 network\n",
        "model2 = Sequential()\n",
        "# 1\n",
        "model2.add(Dense(256, activation='relu', input_dim=train_features.shape[1]))\n",
        "# 2\n",
        "model2.add(Dropout(0.2))\n",
        "# 3\n",
        "model2.add(Dense(64, activation='relu'))\n",
        "# 4\n",
        "model2.add(Dense(1, activation='sigmoid'))\n",
        "\n",
        "model2.compile(optimizer=optimizers.RMSprop(lr=1e-4),\n",
        "              loss='binary_crossentropy',\n",
        "              metrics=['acc'])\n",
        "\n",
        "history = model2.fit(train_features, y_train,\n",
        "                    epochs=15,\n",
        "                    batch_size=124,\n",
        "                    validation_data=(test_features, y_test))\n"
      ],
      "metadata": {
        "colab": {
          "base_uri": "https://localhost:8080/"
        },
        "id": "MuzhC82lh0uN",
        "outputId": "08c3b0c1-23e9-461a-f24b-7a26aef8064e"
      },
      "execution_count": null,
      "outputs": [
        {
          "output_type": "stream",
          "name": "stdout",
          "text": [
            "Epoch 1/15\n",
            "21/21 [==============================] - 4s 138ms/step - loss: 0.5959 - acc: 0.7349 - val_loss: 0.5671 - val_acc: 0.7488\n",
            "Epoch 2/15\n",
            "21/21 [==============================] - 3s 131ms/step - loss: 0.5578 - acc: 0.7492 - val_loss: 0.5785 - val_acc: 0.7488\n",
            "Epoch 3/15\n",
            "21/21 [==============================] - 3s 133ms/step - loss: 0.5487 - acc: 0.7484 - val_loss: 0.5559 - val_acc: 0.7488\n",
            "Epoch 4/15\n",
            "21/21 [==============================] - 3s 135ms/step - loss: 0.5358 - acc: 0.7430 - val_loss: 0.5540 - val_acc: 0.7488\n",
            "Epoch 5/15\n",
            "21/21 [==============================] - 3s 132ms/step - loss: 0.5122 - acc: 0.7585 - val_loss: 0.6011 - val_acc: 0.7473\n",
            "Epoch 6/15\n",
            "21/21 [==============================] - 3s 132ms/step - loss: 0.5007 - acc: 0.7636 - val_loss: 0.5841 - val_acc: 0.7473\n",
            "Epoch 7/15\n",
            "21/21 [==============================] - 3s 132ms/step - loss: 0.5003 - acc: 0.7539 - val_loss: 0.5740 - val_acc: 0.7473\n",
            "Epoch 8/15\n",
            "21/21 [==============================] - 4s 185ms/step - loss: 0.4664 - acc: 0.7845 - val_loss: 0.5630 - val_acc: 0.7473\n",
            "Epoch 9/15\n",
            "21/21 [==============================] - 3s 134ms/step - loss: 0.4300 - acc: 0.8043 - val_loss: 0.5852 - val_acc: 0.6961\n",
            "Epoch 10/15\n",
            "21/21 [==============================] - 3s 132ms/step - loss: 0.4097 - acc: 0.8252 - val_loss: 0.5865 - val_acc: 0.7426\n",
            "Epoch 11/15\n",
            "21/21 [==============================] - 3s 131ms/step - loss: 0.3929 - acc: 0.8384 - val_loss: 0.5931 - val_acc: 0.7240\n",
            "Epoch 12/15\n",
            "21/21 [==============================] - 3s 137ms/step - loss: 0.4026 - acc: 0.8174 - val_loss: 0.5884 - val_acc: 0.7225\n",
            "Epoch 13/15\n",
            "21/21 [==============================] - 4s 170ms/step - loss: 0.3489 - acc: 0.8519 - val_loss: 0.6334 - val_acc: 0.6589\n",
            "Epoch 14/15\n",
            "21/21 [==============================] - 3s 136ms/step - loss: 0.3369 - acc: 0.8628 - val_loss: 0.9125 - val_acc: 0.7488\n",
            "Epoch 15/15\n",
            "21/21 [==============================] - 3s 131ms/step - loss: 0.3326 - acc: 0.8694 - val_loss: 0.7345 - val_acc: 0.5457\n"
          ]
        }
      ]
    },
    {
      "cell_type": "code",
      "source": [
        "count = 2\n",
        "\n",
        "pd.DataFrame(history.history).plot(figsize=(5, 5))\n",
        "plt.title(f'Pre-Trained Training Performance: Model {count}')\n",
        "plt.xlabel('Epoch')\n",
        "plt.ylabel('Metric')\n",
        "count += 1\n",
        "plt.show()"
      ],
      "metadata": {
        "colab": {
          "base_uri": "https://localhost:8080/",
          "height": 350
        },
        "id": "Q83Qu_pni1Ag",
        "outputId": "6966dc1a-7ac0-4ec9-f0d6-ac8bbf8fb407"
      },
      "execution_count": null,
      "outputs": [
        {
          "output_type": "display_data",
          "data": {
            "text/plain": [
              "<Figure size 360x360 with 1 Axes>"
            ],
            "image/png": "[encoded data removed]"
          },
          "metadata": {
            "needs_background": "light"
          }
        }
      ]
    },
    {
      "cell_type": "markdown",
      "source": [
        "Model VGG - 2 Dense 1 Dropout (lr=1e-2)"
      ],
      "metadata": {
        "id": "3f7cxVXPlJiG"
      }
    },
    {
      "cell_type": "code",
      "source": [
        "# Reduce learning rate to 1e-2\n",
        "model3 = Sequential()\n",
        "# 1\n",
        "model3.add(Dense(256, activation='relu', input_dim=train_features.shape[1]))\n",
        "# 2\n",
        "model3.add(Dropout(0.2))\n",
        "# 3\n",
        "model3.add(Dense(64, activation='relu'))\n",
        "# 4\n",
        "model3.add(Dense(1, activation='sigmoid'))\n",
        "\n",
        "model3.compile(optimizer=optimizers.RMSprop(lr=1e-2),\n",
        "              loss='binary_crossentropy',\n",
        "              metrics=['acc'])\n",
        "\n",
        "history = model3.fit(train_features, y_train,\n",
        "                    epochs=20,\n",
        "                    batch_size=16,\n",
        "                    validation_data=(test_features, y_test))\n"
      ],
      "metadata": {
        "colab": {
          "base_uri": "https://localhost:8080/"
        },
        "id": "KwHK9ZXBk7i6",
        "outputId": "05e0f43c-4c62-4e1a-a54f-5651c9be1855"
      },
      "execution_count": null,
      "outputs": [
        {
          "output_type": "stream",
          "name": "stdout",
          "text": [
            "Epoch 1/20\n",
            "162/162 [==============================] - 12s 71ms/step - loss: 5.1960 - acc: 0.7136 - val_loss: 1.5160 - val_acc: 0.7488\n",
            "Epoch 2/20\n",
            "162/162 [==============================] - 12s 72ms/step - loss: 0.7226 - acc: 0.7391 - val_loss: 0.5696 - val_acc: 0.7488\n",
            "Epoch 3/20\n",
            "162/162 [==============================] - 11s 70ms/step - loss: 0.6345 - acc: 0.7446 - val_loss: 0.5647 - val_acc: 0.7488\n",
            "Epoch 4/20\n",
            "162/162 [==============================] - 11s 70ms/step - loss: 0.6250 - acc: 0.7477 - val_loss: 0.5645 - val_acc: 0.7488\n",
            "Epoch 5/20\n",
            "162/162 [==============================] - 11s 69ms/step - loss: 0.5812 - acc: 0.7488 - val_loss: 1.1041 - val_acc: 0.7488\n",
            "Epoch 6/20\n",
            "162/162 [==============================] - 11s 66ms/step - loss: 0.6117 - acc: 0.7488 - val_loss: 0.5638 - val_acc: 0.7488\n",
            "Epoch 7/20\n",
            "162/162 [==============================] - 11s 66ms/step - loss: 0.5918 - acc: 0.7442 - val_loss: 0.5641 - val_acc: 0.7488\n",
            "Epoch 8/20\n",
            "162/162 [==============================] - 11s 67ms/step - loss: 0.6048 - acc: 0.7426 - val_loss: 0.5636 - val_acc: 0.7488\n",
            "Epoch 9/20\n",
            "162/162 [==============================] - 11s 67ms/step - loss: 0.5863 - acc: 0.7492 - val_loss: 0.5637 - val_acc: 0.7488\n",
            "Epoch 10/20\n",
            "162/162 [==============================] - 11s 69ms/step - loss: 0.5951 - acc: 0.7465 - val_loss: 0.5637 - val_acc: 0.7488\n",
            "Epoch 11/20\n",
            "162/162 [==============================] - 11s 68ms/step - loss: 0.5752 - acc: 0.7469 - val_loss: 0.5636 - val_acc: 0.7488\n",
            "Epoch 12/20\n",
            "162/162 [==============================] - 11s 68ms/step - loss: 0.6322 - acc: 0.7473 - val_loss: 0.5634 - val_acc: 0.7488\n",
            "Epoch 13/20\n",
            "162/162 [==============================] - 11s 66ms/step - loss: 0.5731 - acc: 0.7484 - val_loss: 0.5614 - val_acc: 0.7488\n",
            "Epoch 14/20\n",
            "162/162 [==============================] - 11s 65ms/step - loss: 0.5817 - acc: 0.7469 - val_loss: 0.5632 - val_acc: 0.7488\n",
            "Epoch 15/20\n",
            "162/162 [==============================] - 11s 66ms/step - loss: 0.6047 - acc: 0.7419 - val_loss: 0.5680 - val_acc: 0.7488\n",
            "Epoch 16/20\n",
            "162/162 [==============================] - 11s 67ms/step - loss: 0.5973 - acc: 0.7481 - val_loss: 0.5599 - val_acc: 0.7488\n",
            "Epoch 17/20\n",
            "162/162 [==============================] - 11s 66ms/step - loss: 0.5840 - acc: 0.7422 - val_loss: 0.5705 - val_acc: 0.7488\n",
            "Epoch 18/20\n",
            "162/162 [==============================] - 11s 66ms/step - loss: 0.5691 - acc: 0.7469 - val_loss: 0.5639 - val_acc: 0.7473\n",
            "Epoch 19/20\n",
            "162/162 [==============================] - 11s 67ms/step - loss: 0.5592 - acc: 0.7488 - val_loss: 0.5640 - val_acc: 0.7488\n",
            "Epoch 20/20\n",
            "162/162 [==============================] - 11s 67ms/step - loss: 0.5680 - acc: 0.7477 - val_loss: 0.5654 - val_acc: 0.7488\n"
          ]
        }
      ]
    },
    {
      "cell_type": "code",
      "source": [
        "\n",
        "pd.DataFrame(history.history).plot(figsize=(5, 5))\n",
        "plt.title(f'Pre-Trained Training Performance: Model {count}')\n",
        "plt.xlabel('Epoch')\n",
        "plt.ylabel('Metric')\n",
        "count += 1\n",
        "plt.show()"
      ],
      "metadata": {
        "colab": {
          "base_uri": "https://localhost:8080/",
          "height": 350
        },
        "id": "53Mnko3blTWa",
        "outputId": "8b468224-cc51-4339-8c44-3d6ebd32c4d4"
      },
      "execution_count": null,
      "outputs": [
        {
          "output_type": "display_data",
          "data": {
            "text/plain": [
              "<Figure size 360x360 with 1 Axes>"
            ],
            "image/png": "[encoded data removed]"
          },
          "metadata": {
            "needs_background": "light"
          }
        }
      ]
    },
    {
      "cell_type": "markdown",
      "source": [
        "Model VGG - Adam"
      ],
      "metadata": {
        "id": "q5aSVnoOmoGK"
      }
    },
    {
      "cell_type": "code",
      "source": [
        "# Try adam optimizer\n",
        "model4 = Sequential()\n",
        "# 1\n",
        "model4.add(Dense(256, activation='relu', input_dim=train_features.shape[1]))\n",
        "# 2\n",
        "model4.add(Dropout(0.2))\n",
        "# 3\n",
        "model4.add(Dense(64, activation='relu'))\n",
        "# 4\n",
        "model4.add(Dense(1, activation='sigmoid'))\n",
        "\n",
        "model4.compile(optimizer='adam',\n",
        "              loss='binary_crossentropy',\n",
        "              metrics=['acc'])\n",
        "\n",
        "history = model4.fit(train_features, y_train,\n",
        "                    epochs=20,\n",
        "                    batch_size=16,\n",
        "                    validation_data=(test_features, y_test))"
      ],
      "metadata": {
        "colab": {
          "base_uri": "https://localhost:8080/"
        },
        "id": "51bnHtKXlhyd",
        "outputId": "40162e2f-7cbe-47a0-a187-a0baecfda1f6"
      },
      "execution_count": null,
      "outputs": [
        {
          "output_type": "stream",
          "name": "stdout",
          "text": [
            "Epoch 1/20\n",
            "162/162 [==============================] - 7s 42ms/step - loss: 0.7346 - acc: 0.7035 - val_loss: 0.5702 - val_acc: 0.7488\n",
            "Epoch 2/20\n",
            "162/162 [==============================] - 6s 40ms/step - loss: 0.5688 - acc: 0.7380 - val_loss: 0.6076 - val_acc: 0.7488\n",
            "Epoch 3/20\n",
            "162/162 [==============================] - 7s 41ms/step - loss: 0.5392 - acc: 0.7450 - val_loss: 0.6853 - val_acc: 0.7488\n",
            "Epoch 4/20\n",
            "162/162 [==============================] - 7s 41ms/step - loss: 0.5066 - acc: 0.7585 - val_loss: 0.5602 - val_acc: 0.7473\n",
            "Epoch 5/20\n",
            "162/162 [==============================] - 6s 39ms/step - loss: 0.4656 - acc: 0.7764 - val_loss: 0.7003 - val_acc: 0.7488\n",
            "Epoch 6/20\n",
            "162/162 [==============================] - 6s 40ms/step - loss: 0.4098 - acc: 0.8105 - val_loss: 0.6455 - val_acc: 0.7488\n",
            "Epoch 7/20\n",
            "162/162 [==============================] - 6s 39ms/step - loss: 0.3707 - acc: 0.8248 - val_loss: 0.9044 - val_acc: 0.7411\n",
            "Epoch 8/20\n",
            "162/162 [==============================] - 6s 39ms/step - loss: 0.3479 - acc: 0.8364 - val_loss: 0.8113 - val_acc: 0.7457\n",
            "Epoch 9/20\n",
            "162/162 [==============================] - 7s 41ms/step - loss: 0.2996 - acc: 0.8636 - val_loss: 0.6904 - val_acc: 0.6744\n",
            "Epoch 10/20\n",
            "162/162 [==============================] - 6s 39ms/step - loss: 0.2154 - acc: 0.9066 - val_loss: 0.8519 - val_acc: 0.7209\n",
            "Epoch 11/20\n",
            "162/162 [==============================] - 6s 40ms/step - loss: 0.3059 - acc: 0.8694 - val_loss: 1.1525 - val_acc: 0.7442\n",
            "Epoch 12/20\n",
            "162/162 [==============================] - 6s 39ms/step - loss: 0.2188 - acc: 0.9070 - val_loss: 1.0527 - val_acc: 0.7023\n",
            "Epoch 13/20\n",
            "162/162 [==============================] - 6s 39ms/step - loss: 0.2165 - acc: 0.9105 - val_loss: 1.2068 - val_acc: 0.7209\n",
            "Epoch 14/20\n",
            "162/162 [==============================] - 7s 40ms/step - loss: 0.1487 - acc: 0.9345 - val_loss: 1.2221 - val_acc: 0.7349\n",
            "Epoch 15/20\n",
            "162/162 [==============================] - 6s 38ms/step - loss: 0.1205 - acc: 0.9570 - val_loss: 1.3009 - val_acc: 0.7039\n",
            "Epoch 16/20\n",
            "162/162 [==============================] - 6s 39ms/step - loss: 0.1223 - acc: 0.9473 - val_loss: 1.5151 - val_acc: 0.7349\n",
            "Epoch 17/20\n",
            "162/162 [==============================] - 6s 39ms/step - loss: 0.1252 - acc: 0.9543 - val_loss: 1.3761 - val_acc: 0.6915\n",
            "Epoch 18/20\n",
            "162/162 [==============================] - 7s 41ms/step - loss: 0.0981 - acc: 0.9566 - val_loss: 1.7285 - val_acc: 0.7225\n",
            "Epoch 19/20\n",
            "162/162 [==============================] - 6s 39ms/step - loss: 0.1183 - acc: 0.9492 - val_loss: 1.7263 - val_acc: 0.7101\n",
            "Epoch 20/20\n",
            "162/162 [==============================] - 7s 42ms/step - loss: 0.1550 - acc: 0.9298 - val_loss: 1.2964 - val_acc: 0.7070\n"
          ]
        }
      ]
    },
    {
      "cell_type": "code",
      "source": [
        "pd.DataFrame(history.history).plot(figsize=(5, 5))\n",
        "plt.title(f'Pre-Trained Training Performance: Model {count}')\n",
        "plt.xlabel('Epoch')\n",
        "plt.ylabel('Metric')\n",
        "count += 1\n",
        "plt.show()"
      ],
      "metadata": {
        "colab": {
          "base_uri": "https://localhost:8080/",
          "height": 350
        },
        "id": "BsD6aIv5ms7O",
        "outputId": "4bbe5369-1730-4196-c61c-593ce7fe84dc"
      },
      "execution_count": null,
      "outputs": [
        {
          "output_type": "display_data",
          "data": {
            "text/plain": [
              "<Figure size 360x360 with 1 Axes>"
            ],
            "image/png": "[encoded data removed]"
          },
          "metadata": {
            "needs_background": "light"
          }
        }
      ]
    },
    {
      "cell_type": "code",
      "source": [
        "# Shallower network\n",
        "model5 = Sequential()\n",
        "# 1\n",
        "model5.add(Dense(256, activation='relu', input_dim=train_features.shape[1]))\n",
        "# 2\n",
        "model5.add(Dropout(0.2))\n",
        "# 3\n",
        "model5.add(Dense(1, activation='sigmoid'))\n",
        "\n",
        "model5.compile(optimizer=optimizers.RMSprop(lr=5e-6),\n",
        "              loss='binary_crossentropy',\n",
        "              metrics=['acc'])\n",
        "\n",
        "history = model5.fit(train_features, y_train,\n",
        "                    epochs=25,\n",
        "                    batch_size=16,\n",
        "                    validation_data=(test_features, y_test))\n"
      ],
      "metadata": {
        "colab": {
          "base_uri": "https://localhost:8080/"
        },
        "id": "JRmfCN0qm0-r",
        "outputId": "9326feea-6461-49b6-9e1f-896d455a2860"
      },
      "execution_count": null,
      "outputs": [
        {
          "output_type": "stream",
          "name": "stdout",
          "text": [
            "Epoch 1/25\n",
            "162/162 [==============================] - 13s 70ms/step - loss: 0.5858 - acc: 0.7345 - val_loss: 0.5686 - val_acc: 0.7488\n",
            "Epoch 2/25\n",
            "162/162 [==============================] - 11s 66ms/step - loss: 0.5545 - acc: 0.7496 - val_loss: 0.5653 - val_acc: 0.7473\n",
            "Epoch 3/25\n",
            "162/162 [==============================] - 11s 67ms/step - loss: 0.5418 - acc: 0.7508 - val_loss: 0.5708 - val_acc: 0.7473\n",
            "Epoch 4/25\n",
            "162/162 [==============================] - 11s 66ms/step - loss: 0.5264 - acc: 0.7508 - val_loss: 0.5658 - val_acc: 0.7411\n",
            "Epoch 5/25\n",
            "162/162 [==============================] - 11s 66ms/step - loss: 0.5119 - acc: 0.7570 - val_loss: 0.5721 - val_acc: 0.7318\n",
            "Epoch 6/25\n",
            "162/162 [==============================] - 11s 66ms/step - loss: 0.5007 - acc: 0.7612 - val_loss: 0.5684 - val_acc: 0.7426\n",
            "Epoch 7/25\n",
            "162/162 [==============================] - 11s 66ms/step - loss: 0.4885 - acc: 0.7620 - val_loss: 0.5657 - val_acc: 0.7395\n",
            "Epoch 8/25\n",
            "162/162 [==============================] - 11s 66ms/step - loss: 0.4765 - acc: 0.7717 - val_loss: 0.5711 - val_acc: 0.7395\n",
            "Epoch 9/25\n",
            "162/162 [==============================] - 11s 66ms/step - loss: 0.4680 - acc: 0.7698 - val_loss: 0.5667 - val_acc: 0.7411\n",
            "Epoch 10/25\n",
            "162/162 [==============================] - 12s 74ms/step - loss: 0.4600 - acc: 0.7733 - val_loss: 0.5704 - val_acc: 0.7411\n",
            "Epoch 11/25\n",
            "162/162 [==============================] - 11s 66ms/step - loss: 0.4426 - acc: 0.7895 - val_loss: 0.5706 - val_acc: 0.7411\n",
            "Epoch 12/25\n",
            "162/162 [==============================] - 11s 68ms/step - loss: 0.4396 - acc: 0.7837 - val_loss: 0.5727 - val_acc: 0.7395\n",
            "Epoch 13/25\n",
            "162/162 [==============================] - 11s 68ms/step - loss: 0.4278 - acc: 0.7969 - val_loss: 0.5725 - val_acc: 0.7457\n",
            "Epoch 14/25\n",
            "162/162 [==============================] - 11s 67ms/step - loss: 0.4180 - acc: 0.8078 - val_loss: 0.5790 - val_acc: 0.7426\n",
            "Epoch 15/25\n",
            "162/162 [==============================] - 11s 68ms/step - loss: 0.4082 - acc: 0.8120 - val_loss: 0.5757 - val_acc: 0.7364\n",
            "Epoch 16/25\n",
            "162/162 [==============================] - 11s 65ms/step - loss: 0.4003 - acc: 0.8167 - val_loss: 0.5825 - val_acc: 0.7442\n",
            "Epoch 17/25\n",
            "162/162 [==============================] - 11s 66ms/step - loss: 0.3894 - acc: 0.8202 - val_loss: 0.5885 - val_acc: 0.7426\n",
            "Epoch 18/25\n",
            "162/162 [==============================] - 11s 68ms/step - loss: 0.3842 - acc: 0.8322 - val_loss: 0.6148 - val_acc: 0.7380\n",
            "Epoch 19/25\n",
            "162/162 [==============================] - 11s 68ms/step - loss: 0.3763 - acc: 0.8349 - val_loss: 0.5885 - val_acc: 0.7457\n",
            "Epoch 20/25\n",
            "162/162 [==============================] - 12s 72ms/step - loss: 0.3636 - acc: 0.8430 - val_loss: 0.5826 - val_acc: 0.7395\n",
            "Epoch 21/25\n",
            "162/162 [==============================] - 11s 66ms/step - loss: 0.3593 - acc: 0.8496 - val_loss: 0.5846 - val_acc: 0.7364\n",
            "Epoch 22/25\n",
            "162/162 [==============================] - 11s 66ms/step - loss: 0.3493 - acc: 0.8558 - val_loss: 0.5963 - val_acc: 0.7411\n",
            "Epoch 23/25\n",
            "162/162 [==============================] - 11s 66ms/step - loss: 0.3452 - acc: 0.8628 - val_loss: 0.5876 - val_acc: 0.7442\n",
            "Epoch 24/25\n",
            "162/162 [==============================] - 11s 66ms/step - loss: 0.3361 - acc: 0.8616 - val_loss: 0.5937 - val_acc: 0.7364\n",
            "Epoch 25/25\n",
            "162/162 [==============================] - 11s 66ms/step - loss: 0.3289 - acc: 0.8787 - val_loss: 0.5974 - val_acc: 0.7411\n"
          ]
        }
      ]
    },
    {
      "cell_type": "code",
      "source": [
        "pd.DataFrame(history.history).plot(figsize=(5, 5))\n",
        "plt.title(f'Pre-Trained Training Performance: Model {count}')\n",
        "plt.xlabel('Epoch')\n",
        "plt.ylabel('Metric')\n",
        "count += 1\n",
        "plt.show()"
      ],
      "metadata": {
        "colab": {
          "base_uri": "https://localhost:8080/",
          "height": 350
        },
        "id": "pjaZaHpfng0j",
        "outputId": "7833b528-75fd-41e3-9026-cfa021dcdfce"
      },
      "execution_count": null,
      "outputs": [
        {
          "output_type": "display_data",
          "data": {
            "text/plain": [
              "<Figure size 360x360 with 1 Axes>"
            ],
            "image/png": "[encoded data removed]"
          },
          "metadata": {
            "needs_background": "light"
          }
        }
      ]
    },
    {
      "cell_type": "code",
      "source": [
        "# Plot confusion matrix\n",
        "import itertools\n",
        "\n",
        "def plot_confusion_matrix(cm,\n",
        "                          target_names,\n",
        "                          title='Confusion Matrix',\n",
        "                          cmap=None,\n",
        "                          normalize=False):\n",
        "   \n",
        "    \n",
        "    # Accuracy score\n",
        "    accuracy = np.trace(cm) / float(np.sum(cm))\n",
        "    misclass = 1 - accuracy\n",
        "\n",
        "    # Colormap gradient\n",
        "    if cmap is None:\n",
        "        cmap = plt.get_cmap('Blues')\n",
        "\n",
        "    plt.figure(figsize=(8, 6))\n",
        "    plt.imshow(cm, interpolation='nearest', cmap=cmap)\n",
        "    plt.title(title)\n",
        "    plt.colorbar()\n",
        "\n",
        "    # Show classification classes\n",
        "    if target_names is not None:\n",
        "        tick_marks = np.arange(len(target_names))\n",
        "        plt.xticks(tick_marks, target_names, rotation=45)\n",
        "        plt.yticks(tick_marks, target_names)\n",
        "\n",
        "    # Plot raw numbers or proportions\n",
        "    if normalize:\n",
        "        cm = cm.astype('float') / cm.sum(axis=1)[:, np.newaxis]\n",
        "\n",
        "    thresh = cm.max() / 1.5 if normalize else cm.max() / 2\n",
        "   \n",
        "    # Text settings\n",
        "    for i, j in itertools.product(range(cm.shape[0]), range(cm.shape[1])):\n",
        "        if normalize:\n",
        "            plt.text(j, i, \"{:0.4f}\".format(cm[i, j]),\n",
        "                     horizontalalignment=\"center\",\n",
        "                     color=\"white\" if cm[i, j] > thresh else \"black\")\n",
        "        else:\n",
        "            plt.text(j, i, \"{:,}\".format(cm[i, j]),\n",
        "                     horizontalalignment=\"center\",\n",
        "                     color=\"white\" if cm[i, j] > thresh else \"black\")\n",
        "\n",
        "    plt.tight_layout()\n",
        "    plt.ylabel('True label')\n",
        "    plt.xlabel('Predicted label\\naccuracy={:0.4f}; misclass={:0.4f}'.format(accuracy, misclass))\n",
        "    plt.show()\n",
        "\n",
        "# Predict probabilities\n",
        "y_pred = model5.predict(test_features)\n",
        "y_score = np.array([int(x > 0.5) for x in y_pred])\n",
        "cm = confusion_matrix(y_test, y_score)\n",
        "plot_confusion_matrix(cm, ['false', 'true'])\n"
      ],
      "metadata": {
        "colab": {
          "base_uri": "https://localhost:8080/",
          "height": 484
        },
        "id": "nMrtrWpHpRq9",
        "outputId": "fa621243-e710-4603-8834-9c3dfeb9cad6"
      },
      "execution_count": null,
      "outputs": [
        {
          "output_type": "stream",
          "name": "stdout",
          "text": [
            "21/21 [==============================] - 0s 18ms/step\n"
          ]
        },
        {
          "output_type": "display_data",
          "data": {
            "text/plain": [
              "<Figure size 576x432 with 2 Axes>"
            ],
            "image/png": "[encoded data removed]"
          },
          "metadata": {
            "needs_background": "light"
          }
        }
      ]
    },
    {
      "cell_type": "code",
      "source": [],
      "metadata": {
        "id": "wBOf_sQrrDvK"
      },
      "execution_count": null,
      "outputs": []
    }
  ]
}